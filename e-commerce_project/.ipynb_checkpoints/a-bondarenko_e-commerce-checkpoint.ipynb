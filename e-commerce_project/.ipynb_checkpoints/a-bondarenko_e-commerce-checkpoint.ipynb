{
 "cells": [
  {
   "cell_type": "markdown",
   "id": "aa9dbf0e",
   "metadata": {},
   "source": [
    "# Проект E-commerce\n",
    "Продакт-менеджер попросил нас проанализировать совершенные покупки и ответить на следующие вопросы:\n",
    "\n",
    "1. Сколько у нас пользователей, которые совершили покупку только один раз?\n",
    "\n",
    "2. Сколько заказов в месяц в среднем не доставляется по разным причинам? Вывести детализацию по причинам.\n",
    "\n",
    "3. По каждому товару определить, в какой день недели товар чаще всего покупается.\n",
    "\n",
    "4. Сколько покупок у каждого из пользователей в среднем в неделю (по месяцам)? Нужно учесть, что внутри месяца может быть нецелое количество недель. Например, в июне 2020 года 4,28 недели.\n",
    "\n",
    "5. Провести [когортный анализ](https://vc.ru/productstar/134090-chto-takoe-kogortnyy-analiz) пользователей с помощью pandas. В период с января по декабрь нужно выявить когорту с самым высоким retention на *третий* месяц.\n",
    "\n",
    "6. Построить [RFM-сегментацию](https://guillaume-martin.github.io/rfm-segmentation-with-python.html) пользователей, чтобы качественно оценить свою аудиторию. В кластеризации можно выбрать следующие метрики: R – время от последней покупки пользователя до текущей даты, F – суммарное количество покупок у пользователя за всё время, M – сумма покупок за всё время. Для каждого RFM-сегмента нужно вывести границы метрик recency, frequency и monetary для интерпретации этих кластеров.\n",
    "\n",
    "Для решения задачи необходимо провести предварительное исследование данных и сформулировать, что должно считаться покупкой. Обосновать свой выбор можно с помощью фактов оплат, статусов заказов и других имеющихся данных."
   ]
  },
  {
   "cell_type": "markdown",
   "id": "c26ac063",
   "metadata": {},
   "source": [
    "## Библиотеки и глобальные настройки"
   ]
  },
  {
   "cell_type": "code",
   "execution_count": 1,
   "id": "bd4cc07e",
   "metadata": {},
   "outputs": [],
   "source": [
    "from pathlib import Path\n",
    "\n",
    "import pandas as pd\n",
    "import numpy as np\n",
    "\n",
    "import seaborn as sns\n",
    "import matplotlib.pyplot as plt\n",
    "from matplotlib.colors import LogNorm\n",
    "%matplotlib inline\n",
    "import plotly.express as px"
   ]
  },
  {
   "cell_type": "code",
   "execution_count": 2,
   "id": "b53abd2c",
   "metadata": {},
   "outputs": [],
   "source": [
    "sns.set(rc={'figure.figsize': (16, 8)}, \n",
    "        style=\"whitegrid\")"
   ]
  },
  {
   "cell_type": "markdown",
   "id": "aca2017e",
   "metadata": {},
   "source": [
    "## Предварительное исследование данных"
   ]
  },
  {
   "cell_type": "markdown",
   "id": "ac0a8743",
   "metadata": {},
   "source": [
    "### customers\n",
    "Таблица с уникальными идентификаторами пользователей\n",
    " - `customer_id` — позаказный идентификатор пользователя\n",
    " - `customer_unique_id` —  уникальный идентификатор пользователя  (аналог номера паспорта)\n",
    " - `customer_zip_code_prefix` —  почтовый индекс пользователя\n",
    " - `customer_city` —  город доставки пользователя\n",
    " - `customer_state` —  штат доставки пользователя"
   ]
  },
  {
   "cell_type": "code",
   "execution_count": 3,
   "id": "f2a3b78e",
   "metadata": {},
   "outputs": [],
   "source": [
    "path = Path(Path.cwd(), 'data_for_ecommerce_project', 'olist_customers_dataset.csv')\n",
    "customers = pd.read_csv(path)"
   ]
  },
  {
   "cell_type": "markdown",
   "id": "0bbacfc9",
   "metadata": {},
   "source": [
    "Посмотрим на:\n",
    "- размер таблицы\n",
    "- наполнение датафрейма и типы данных \n",
    "- наличие пропущенных значений и дубликатов\n",
    "- количество уникальных значений\n",
    "- описательную статистику"
   ]
  },
  {
   "cell_type": "code",
   "execution_count": 4,
   "id": "a1127b32",
   "metadata": {},
   "outputs": [
    {
     "data": {
      "text/html": [
       "<div>\n",
       "<style scoped>\n",
       "    .dataframe tbody tr th:only-of-type {\n",
       "        vertical-align: middle;\n",
       "    }\n",
       "\n",
       "    .dataframe tbody tr th {\n",
       "        vertical-align: top;\n",
       "    }\n",
       "\n",
       "    .dataframe thead th {\n",
       "        text-align: right;\n",
       "    }\n",
       "</style>\n",
       "<table border=\"1\" class=\"dataframe\">\n",
       "  <thead>\n",
       "    <tr style=\"text-align: right;\">\n",
       "      <th></th>\n",
       "      <th>customer_id</th>\n",
       "      <th>customer_unique_id</th>\n",
       "      <th>customer_zip_code_prefix</th>\n",
       "      <th>customer_city</th>\n",
       "      <th>customer_state</th>\n",
       "    </tr>\n",
       "  </thead>\n",
       "  <tbody>\n",
       "    <tr>\n",
       "      <th>0</th>\n",
       "      <td>06b8999e2fba1a1fbc88172c00ba8bc7</td>\n",
       "      <td>861eff4711a542e4b93843c6dd7febb0</td>\n",
       "      <td>14409</td>\n",
       "      <td>franca</td>\n",
       "      <td>SP</td>\n",
       "    </tr>\n",
       "    <tr>\n",
       "      <th>1</th>\n",
       "      <td>18955e83d337fd6b2def6b18a428ac77</td>\n",
       "      <td>290c77bc529b7ac935b93aa66c333dc3</td>\n",
       "      <td>9790</td>\n",
       "      <td>sao bernardo do campo</td>\n",
       "      <td>SP</td>\n",
       "    </tr>\n",
       "    <tr>\n",
       "      <th>2</th>\n",
       "      <td>4e7b3e00288586ebd08712fdd0374a03</td>\n",
       "      <td>060e732b5b29e8181a18229c7b0b2b5e</td>\n",
       "      <td>1151</td>\n",
       "      <td>sao paulo</td>\n",
       "      <td>SP</td>\n",
       "    </tr>\n",
       "    <tr>\n",
       "      <th>3</th>\n",
       "      <td>b2b6027bc5c5109e529d4dc6358b12c3</td>\n",
       "      <td>259dac757896d24d7702b9acbbff3f3c</td>\n",
       "      <td>8775</td>\n",
       "      <td>mogi das cruzes</td>\n",
       "      <td>SP</td>\n",
       "    </tr>\n",
       "    <tr>\n",
       "      <th>4</th>\n",
       "      <td>4f2d8ab171c80ec8364f7c12e35b23ad</td>\n",
       "      <td>345ecd01c38d18a9036ed96c73b8d066</td>\n",
       "      <td>13056</td>\n",
       "      <td>campinas</td>\n",
       "      <td>SP</td>\n",
       "    </tr>\n",
       "  </tbody>\n",
       "</table>\n",
       "</div>"
      ],
      "text/plain": [
       "                        customer_id                customer_unique_id  \\\n",
       "0  06b8999e2fba1a1fbc88172c00ba8bc7  861eff4711a542e4b93843c6dd7febb0   \n",
       "1  18955e83d337fd6b2def6b18a428ac77  290c77bc529b7ac935b93aa66c333dc3   \n",
       "2  4e7b3e00288586ebd08712fdd0374a03  060e732b5b29e8181a18229c7b0b2b5e   \n",
       "3  b2b6027bc5c5109e529d4dc6358b12c3  259dac757896d24d7702b9acbbff3f3c   \n",
       "4  4f2d8ab171c80ec8364f7c12e35b23ad  345ecd01c38d18a9036ed96c73b8d066   \n",
       "\n",
       "   customer_zip_code_prefix          customer_city customer_state  \n",
       "0                     14409                 franca             SP  \n",
       "1                      9790  sao bernardo do campo             SP  \n",
       "2                      1151              sao paulo             SP  \n",
       "3                      8775        mogi das cruzes             SP  \n",
       "4                     13056               campinas             SP  "
      ]
     },
     "execution_count": 4,
     "metadata": {},
     "output_type": "execute_result"
    }
   ],
   "source": [
    "customers.head()"
   ]
  },
  {
   "cell_type": "code",
   "execution_count": 5,
   "id": "6fd96aff",
   "metadata": {},
   "outputs": [
    {
     "data": {
      "text/plain": [
       "customer_id                 object\n",
       "customer_unique_id          object\n",
       "customer_zip_code_prefix     int64\n",
       "customer_city               object\n",
       "customer_state              object\n",
       "dtype: object"
      ]
     },
     "execution_count": 5,
     "metadata": {},
     "output_type": "execute_result"
    }
   ],
   "source": [
    "customers.dtypes"
   ]
  },
  {
   "cell_type": "code",
   "execution_count": 6,
   "id": "b55266fc",
   "metadata": {},
   "outputs": [
    {
     "data": {
      "text/plain": [
       "(99441, 5)"
      ]
     },
     "execution_count": 6,
     "metadata": {},
     "output_type": "execute_result"
    }
   ],
   "source": [
    "customers.shape"
   ]
  },
  {
   "cell_type": "code",
   "execution_count": 7,
   "id": "262d3a42",
   "metadata": {},
   "outputs": [
    {
     "data": {
      "text/plain": [
       "customer_id                 0\n",
       "customer_unique_id          0\n",
       "customer_zip_code_prefix    0\n",
       "customer_city               0\n",
       "customer_state              0\n",
       "dtype: int64"
      ]
     },
     "execution_count": 7,
     "metadata": {},
     "output_type": "execute_result"
    }
   ],
   "source": [
    "customers.isna().sum()"
   ]
  },
  {
   "cell_type": "code",
   "execution_count": 8,
   "id": "29f42174",
   "metadata": {
    "scrolled": true
   },
   "outputs": [
    {
     "data": {
      "text/plain": [
       "customer_id                 99441\n",
       "customer_unique_id          96096\n",
       "customer_zip_code_prefix    14994\n",
       "customer_city                4119\n",
       "customer_state                 27\n",
       "dtype: int64"
      ]
     },
     "execution_count": 8,
     "metadata": {},
     "output_type": "execute_result"
    }
   ],
   "source": [
    "customers.nunique()"
   ]
  },
  {
   "cell_type": "code",
   "execution_count": 9,
   "id": "9b47a337",
   "metadata": {},
   "outputs": [
    {
     "data": {
      "text/html": [
       "<div>\n",
       "<style scoped>\n",
       "    .dataframe tbody tr th:only-of-type {\n",
       "        vertical-align: middle;\n",
       "    }\n",
       "\n",
       "    .dataframe tbody tr th {\n",
       "        vertical-align: top;\n",
       "    }\n",
       "\n",
       "    .dataframe thead th {\n",
       "        text-align: right;\n",
       "    }\n",
       "</style>\n",
       "<table border=\"1\" class=\"dataframe\">\n",
       "  <thead>\n",
       "    <tr style=\"text-align: right;\">\n",
       "      <th></th>\n",
       "      <th>customer_id</th>\n",
       "      <th>customer_unique_id</th>\n",
       "      <th>customer_zip_code_prefix</th>\n",
       "      <th>customer_city</th>\n",
       "      <th>customer_state</th>\n",
       "    </tr>\n",
       "  </thead>\n",
       "  <tbody>\n",
       "  </tbody>\n",
       "</table>\n",
       "</div>"
      ],
      "text/plain": [
       "Empty DataFrame\n",
       "Columns: [customer_id, customer_unique_id, customer_zip_code_prefix, customer_city, customer_state]\n",
       "Index: []"
      ]
     },
     "execution_count": 9,
     "metadata": {},
     "output_type": "execute_result"
    }
   ],
   "source": [
    "customers.loc[customers.duplicated()]"
   ]
  },
  {
   "cell_type": "markdown",
   "id": "b1beb222",
   "metadata": {},
   "source": [
    "Дубликатов нет, поэтому в Out пусто"
   ]
  },
  {
   "cell_type": "code",
   "execution_count": 10,
   "id": "8073529b",
   "metadata": {
    "scrolled": true
   },
   "outputs": [
    {
     "data": {
      "text/html": [
       "<div>\n",
       "<style scoped>\n",
       "    .dataframe tbody tr th:only-of-type {\n",
       "        vertical-align: middle;\n",
       "    }\n",
       "\n",
       "    .dataframe tbody tr th {\n",
       "        vertical-align: top;\n",
       "    }\n",
       "\n",
       "    .dataframe thead th {\n",
       "        text-align: right;\n",
       "    }\n",
       "</style>\n",
       "<table border=\"1\" class=\"dataframe\">\n",
       "  <thead>\n",
       "    <tr style=\"text-align: right;\">\n",
       "      <th></th>\n",
       "      <th>customer_id</th>\n",
       "      <th>customer_unique_id</th>\n",
       "      <th>customer_zip_code_prefix</th>\n",
       "      <th>customer_city</th>\n",
       "      <th>customer_state</th>\n",
       "    </tr>\n",
       "  </thead>\n",
       "  <tbody>\n",
       "    <tr>\n",
       "      <th>count</th>\n",
       "      <td>99441</td>\n",
       "      <td>99441</td>\n",
       "      <td>99441.000000</td>\n",
       "      <td>99441</td>\n",
       "      <td>99441</td>\n",
       "    </tr>\n",
       "    <tr>\n",
       "      <th>unique</th>\n",
       "      <td>99441</td>\n",
       "      <td>96096</td>\n",
       "      <td>NaN</td>\n",
       "      <td>4119</td>\n",
       "      <td>27</td>\n",
       "    </tr>\n",
       "    <tr>\n",
       "      <th>top</th>\n",
       "      <td>06b8999e2fba1a1fbc88172c00ba8bc7</td>\n",
       "      <td>8d50f5eadf50201ccdcedfb9e2ac8455</td>\n",
       "      <td>NaN</td>\n",
       "      <td>sao paulo</td>\n",
       "      <td>SP</td>\n",
       "    </tr>\n",
       "    <tr>\n",
       "      <th>freq</th>\n",
       "      <td>1</td>\n",
       "      <td>17</td>\n",
       "      <td>NaN</td>\n",
       "      <td>15540</td>\n",
       "      <td>41746</td>\n",
       "    </tr>\n",
       "    <tr>\n",
       "      <th>mean</th>\n",
       "      <td>NaN</td>\n",
       "      <td>NaN</td>\n",
       "      <td>35137.474583</td>\n",
       "      <td>NaN</td>\n",
       "      <td>NaN</td>\n",
       "    </tr>\n",
       "    <tr>\n",
       "      <th>std</th>\n",
       "      <td>NaN</td>\n",
       "      <td>NaN</td>\n",
       "      <td>29797.938996</td>\n",
       "      <td>NaN</td>\n",
       "      <td>NaN</td>\n",
       "    </tr>\n",
       "    <tr>\n",
       "      <th>min</th>\n",
       "      <td>NaN</td>\n",
       "      <td>NaN</td>\n",
       "      <td>1003.000000</td>\n",
       "      <td>NaN</td>\n",
       "      <td>NaN</td>\n",
       "    </tr>\n",
       "    <tr>\n",
       "      <th>25%</th>\n",
       "      <td>NaN</td>\n",
       "      <td>NaN</td>\n",
       "      <td>11347.000000</td>\n",
       "      <td>NaN</td>\n",
       "      <td>NaN</td>\n",
       "    </tr>\n",
       "    <tr>\n",
       "      <th>50%</th>\n",
       "      <td>NaN</td>\n",
       "      <td>NaN</td>\n",
       "      <td>24416.000000</td>\n",
       "      <td>NaN</td>\n",
       "      <td>NaN</td>\n",
       "    </tr>\n",
       "    <tr>\n",
       "      <th>75%</th>\n",
       "      <td>NaN</td>\n",
       "      <td>NaN</td>\n",
       "      <td>58900.000000</td>\n",
       "      <td>NaN</td>\n",
       "      <td>NaN</td>\n",
       "    </tr>\n",
       "    <tr>\n",
       "      <th>max</th>\n",
       "      <td>NaN</td>\n",
       "      <td>NaN</td>\n",
       "      <td>99990.000000</td>\n",
       "      <td>NaN</td>\n",
       "      <td>NaN</td>\n",
       "    </tr>\n",
       "  </tbody>\n",
       "</table>\n",
       "</div>"
      ],
      "text/plain": [
       "                             customer_id                customer_unique_id  \\\n",
       "count                              99441                             99441   \n",
       "unique                             99441                             96096   \n",
       "top     06b8999e2fba1a1fbc88172c00ba8bc7  8d50f5eadf50201ccdcedfb9e2ac8455   \n",
       "freq                                   1                                17   \n",
       "mean                                 NaN                               NaN   \n",
       "std                                  NaN                               NaN   \n",
       "min                                  NaN                               NaN   \n",
       "25%                                  NaN                               NaN   \n",
       "50%                                  NaN                               NaN   \n",
       "75%                                  NaN                               NaN   \n",
       "max                                  NaN                               NaN   \n",
       "\n",
       "        customer_zip_code_prefix customer_city customer_state  \n",
       "count               99441.000000         99441          99441  \n",
       "unique                       NaN          4119             27  \n",
       "top                          NaN     sao paulo             SP  \n",
       "freq                         NaN         15540          41746  \n",
       "mean                35137.474583           NaN            NaN  \n",
       "std                 29797.938996           NaN            NaN  \n",
       "min                  1003.000000           NaN            NaN  \n",
       "25%                 11347.000000           NaN            NaN  \n",
       "50%                 24416.000000           NaN            NaN  \n",
       "75%                 58900.000000           NaN            NaN  \n",
       "max                 99990.000000           NaN            NaN  "
      ]
     },
     "execution_count": 10,
     "metadata": {},
     "output_type": "execute_result"
    }
   ],
   "source": [
    "customers.describe(include='all')"
   ]
  },
  {
   "cell_type": "markdown",
   "id": "637c233f",
   "metadata": {},
   "source": [
    "На всякий случай посмотрим на количество юзеров с несколькими и единственными профилями"
   ]
  },
  {
   "cell_type": "code",
   "execution_count": 11,
   "id": "61494a07",
   "metadata": {
    "scrolled": true
   },
   "outputs": [
    {
     "data": {
      "text/plain": [
       "2997"
      ]
     },
     "execution_count": 11,
     "metadata": {},
     "output_type": "execute_result"
    }
   ],
   "source": [
    "multiple_accounts = customers \\\n",
    "    .groupby('customer_unique_id') \\\n",
    "    .agg({'customer_id': 'count'}) \\\n",
    "    .sort_values('customer_id', ascending=False) \\\n",
    "    .query(\"customer_id > 1\") \\\n",
    "    .reset_index()\n",
    "\n",
    "multiple_accounts.shape[0]"
   ]
  },
  {
   "cell_type": "code",
   "execution_count": 12,
   "id": "f5a4e8f4",
   "metadata": {},
   "outputs": [
    {
     "data": {
      "text/plain": [
       "93099"
      ]
     },
     "execution_count": 12,
     "metadata": {},
     "output_type": "execute_result"
    }
   ],
   "source": [
    "single_account = customers \\\n",
    "    .groupby('customer_unique_id') \\\n",
    "    .agg({'customer_id': 'count'}) \\\n",
    "    .sort_values('customer_id', ascending=False) \\\n",
    "    .query(\"customer_id == 1\") \\\n",
    "    .reset_index()\n",
    "\n",
    "single_account.shape[0]"
   ]
  },
  {
   "cell_type": "markdown",
   "id": "83e0c669",
   "metadata": {},
   "source": [
    "#### Вывод\n",
    "- пропущенных значений и дубликатов нет, все типы данных правильно определены\n",
    "- большинство аккаунтов указали в качестве города доставки san paulo\n",
    "- уникальных юзеров у нас 96096. Из них:\n",
    "    - 93099 имеют единственный аккаунт\n",
    "    - 2997 имеют больше 2 аккаунтов. Рекорд — 17 аккаунтов на уникальный id\n",
    "    - это не окончательные цифры — юзеры могут отсеяться после мёрджа с другими датафреймами"
   ]
  },
  {
   "cell_type": "markdown",
   "id": "c7e1e24c",
   "metadata": {},
   "source": [
    "### orders\n",
    "Таблица заказов\n",
    "\n",
    "- `order_id` —  уникальный идентификатор заказа (номер чека)\n",
    "- `customer_id` —  позаказный идентификатор пользователя\n",
    "- **`order_status`** —  статус заказа\n",
    "    - `created` —  создан\n",
    "    - `approved` —  подтверждён\n",
    "    - `invoiced` —  выставлен счёт\n",
    "    - `processing` —  в процессе сборки заказа\n",
    "    - `shipped` —  отгружен со склада\n",
    "    - `delivered` —  доставлен пользователю\n",
    "    - `unavailable` —  недоступен\n",
    "    - `canceled` —  отменён\n",
    "- `order_purchase_timestamp` —  время создания заказа\n",
    "- `order_approved_at` —  время подтверждения оплаты заказа\n",
    "- `order_delivered_carrier_date` —  время передачи заказа в логистическую службу\n",
    "- `order_delivered_customer_date` —  время доставки заказа\n",
    "- `order_estimated_delivery_date` —  обещанная дата доставки"
   ]
  },
  {
   "cell_type": "code",
   "execution_count": 13,
   "id": "15510540",
   "metadata": {},
   "outputs": [],
   "source": [
    "path = Path(Path.cwd(), 'data_for_ecommerce_project', 'olist_orders_dataset.csv')\n",
    "orders = pd.read_csv(path)"
   ]
  },
  {
   "cell_type": "markdown",
   "id": "5b8a0f3d",
   "metadata": {},
   "source": [
    "То же самое — смотрим на типы данных, NaN, дубли и т. д."
   ]
  },
  {
   "cell_type": "code",
   "execution_count": 14,
   "id": "ff065641",
   "metadata": {
    "scrolled": true
   },
   "outputs": [
    {
     "data": {
      "text/html": [
       "<div>\n",
       "<style scoped>\n",
       "    .dataframe tbody tr th:only-of-type {\n",
       "        vertical-align: middle;\n",
       "    }\n",
       "\n",
       "    .dataframe tbody tr th {\n",
       "        vertical-align: top;\n",
       "    }\n",
       "\n",
       "    .dataframe thead th {\n",
       "        text-align: right;\n",
       "    }\n",
       "</style>\n",
       "<table border=\"1\" class=\"dataframe\">\n",
       "  <thead>\n",
       "    <tr style=\"text-align: right;\">\n",
       "      <th></th>\n",
       "      <th>order_id</th>\n",
       "      <th>customer_id</th>\n",
       "      <th>order_status</th>\n",
       "      <th>order_purchase_timestamp</th>\n",
       "      <th>order_approved_at</th>\n",
       "      <th>order_delivered_carrier_date</th>\n",
       "      <th>order_delivered_customer_date</th>\n",
       "      <th>order_estimated_delivery_date</th>\n",
       "    </tr>\n",
       "  </thead>\n",
       "  <tbody>\n",
       "    <tr>\n",
       "      <th>0</th>\n",
       "      <td>e481f51cbdc54678b7cc49136f2d6af7</td>\n",
       "      <td>9ef432eb6251297304e76186b10a928d</td>\n",
       "      <td>delivered</td>\n",
       "      <td>2017-10-02 10:56:33</td>\n",
       "      <td>2017-10-02 11:07:15</td>\n",
       "      <td>2017-10-04 19:55:00</td>\n",
       "      <td>2017-10-10 21:25:13</td>\n",
       "      <td>2017-10-18 00:00:00</td>\n",
       "    </tr>\n",
       "    <tr>\n",
       "      <th>1</th>\n",
       "      <td>53cdb2fc8bc7dce0b6741e2150273451</td>\n",
       "      <td>b0830fb4747a6c6d20dea0b8c802d7ef</td>\n",
       "      <td>delivered</td>\n",
       "      <td>2018-07-24 20:41:37</td>\n",
       "      <td>2018-07-26 03:24:27</td>\n",
       "      <td>2018-07-26 14:31:00</td>\n",
       "      <td>2018-08-07 15:27:45</td>\n",
       "      <td>2018-08-13 00:00:00</td>\n",
       "    </tr>\n",
       "    <tr>\n",
       "      <th>2</th>\n",
       "      <td>47770eb9100c2d0c44946d9cf07ec65d</td>\n",
       "      <td>41ce2a54c0b03bf3443c3d931a367089</td>\n",
       "      <td>delivered</td>\n",
       "      <td>2018-08-08 08:38:49</td>\n",
       "      <td>2018-08-08 08:55:23</td>\n",
       "      <td>2018-08-08 13:50:00</td>\n",
       "      <td>2018-08-17 18:06:29</td>\n",
       "      <td>2018-09-04 00:00:00</td>\n",
       "    </tr>\n",
       "    <tr>\n",
       "      <th>3</th>\n",
       "      <td>949d5b44dbf5de918fe9c16f97b45f8a</td>\n",
       "      <td>f88197465ea7920adcdbec7375364d82</td>\n",
       "      <td>delivered</td>\n",
       "      <td>2017-11-18 19:28:06</td>\n",
       "      <td>2017-11-18 19:45:59</td>\n",
       "      <td>2017-11-22 13:39:59</td>\n",
       "      <td>2017-12-02 00:28:42</td>\n",
       "      <td>2017-12-15 00:00:00</td>\n",
       "    </tr>\n",
       "    <tr>\n",
       "      <th>4</th>\n",
       "      <td>ad21c59c0840e6cb83a9ceb5573f8159</td>\n",
       "      <td>8ab97904e6daea8866dbdbc4fb7aad2c</td>\n",
       "      <td>delivered</td>\n",
       "      <td>2018-02-13 21:18:39</td>\n",
       "      <td>2018-02-13 22:20:29</td>\n",
       "      <td>2018-02-14 19:46:34</td>\n",
       "      <td>2018-02-16 18:17:02</td>\n",
       "      <td>2018-02-26 00:00:00</td>\n",
       "    </tr>\n",
       "  </tbody>\n",
       "</table>\n",
       "</div>"
      ],
      "text/plain": [
       "                           order_id                       customer_id  \\\n",
       "0  e481f51cbdc54678b7cc49136f2d6af7  9ef432eb6251297304e76186b10a928d   \n",
       "1  53cdb2fc8bc7dce0b6741e2150273451  b0830fb4747a6c6d20dea0b8c802d7ef   \n",
       "2  47770eb9100c2d0c44946d9cf07ec65d  41ce2a54c0b03bf3443c3d931a367089   \n",
       "3  949d5b44dbf5de918fe9c16f97b45f8a  f88197465ea7920adcdbec7375364d82   \n",
       "4  ad21c59c0840e6cb83a9ceb5573f8159  8ab97904e6daea8866dbdbc4fb7aad2c   \n",
       "\n",
       "  order_status order_purchase_timestamp    order_approved_at  \\\n",
       "0    delivered      2017-10-02 10:56:33  2017-10-02 11:07:15   \n",
       "1    delivered      2018-07-24 20:41:37  2018-07-26 03:24:27   \n",
       "2    delivered      2018-08-08 08:38:49  2018-08-08 08:55:23   \n",
       "3    delivered      2017-11-18 19:28:06  2017-11-18 19:45:59   \n",
       "4    delivered      2018-02-13 21:18:39  2018-02-13 22:20:29   \n",
       "\n",
       "  order_delivered_carrier_date order_delivered_customer_date  \\\n",
       "0          2017-10-04 19:55:00           2017-10-10 21:25:13   \n",
       "1          2018-07-26 14:31:00           2018-08-07 15:27:45   \n",
       "2          2018-08-08 13:50:00           2018-08-17 18:06:29   \n",
       "3          2017-11-22 13:39:59           2017-12-02 00:28:42   \n",
       "4          2018-02-14 19:46:34           2018-02-16 18:17:02   \n",
       "\n",
       "  order_estimated_delivery_date  \n",
       "0           2017-10-18 00:00:00  \n",
       "1           2018-08-13 00:00:00  \n",
       "2           2018-09-04 00:00:00  \n",
       "3           2017-12-15 00:00:00  \n",
       "4           2018-02-26 00:00:00  "
      ]
     },
     "execution_count": 14,
     "metadata": {},
     "output_type": "execute_result"
    }
   ],
   "source": [
    "orders.head()"
   ]
  },
  {
   "cell_type": "code",
   "execution_count": 15,
   "id": "238fdf02",
   "metadata": {},
   "outputs": [
    {
     "data": {
      "text/plain": [
       "(99441, 8)"
      ]
     },
     "execution_count": 15,
     "metadata": {},
     "output_type": "execute_result"
    }
   ],
   "source": [
    "orders.shape"
   ]
  },
  {
   "cell_type": "markdown",
   "id": "5c859531",
   "metadata": {},
   "source": [
    "Количество строк такое же, как и в `customers`"
   ]
  },
  {
   "cell_type": "code",
   "execution_count": 16,
   "id": "ddb8c592",
   "metadata": {},
   "outputs": [
    {
     "data": {
      "text/plain": [
       "order_id                         object\n",
       "customer_id                      object\n",
       "order_status                     object\n",
       "order_purchase_timestamp         object\n",
       "order_approved_at                object\n",
       "order_delivered_carrier_date     object\n",
       "order_delivered_customer_date    object\n",
       "order_estimated_delivery_date    object\n",
       "dtype: object"
      ]
     },
     "execution_count": 16,
     "metadata": {},
     "output_type": "execute_result"
    }
   ],
   "source": [
    "orders.dtypes"
   ]
  },
  {
   "cell_type": "markdown",
   "id": "9e33f861",
   "metadata": {},
   "source": [
    "Даты не распарсились как `datetime`, поэтому сразу поправлю"
   ]
  },
  {
   "cell_type": "code",
   "execution_count": 17,
   "id": "03bb1a4a",
   "metadata": {},
   "outputs": [
    {
     "data": {
      "text/plain": [
       "order_id                                 object\n",
       "customer_id                              object\n",
       "order_status                             object\n",
       "order_purchase_timestamp         datetime64[ns]\n",
       "order_approved_at                datetime64[ns]\n",
       "order_delivered_carrier_date     datetime64[ns]\n",
       "order_delivered_customer_date    datetime64[ns]\n",
       "order_estimated_delivery_date    datetime64[ns]\n",
       "dtype: object"
      ]
     },
     "execution_count": 17,
     "metadata": {},
     "output_type": "execute_result"
    }
   ],
   "source": [
    "orders[orders.columns[3:8]] = orders[orders.columns[3:8]].apply(lambda col: pd.to_datetime(col, errors='coerce'))\n",
    "orders.dtypes"
   ]
  },
  {
   "cell_type": "code",
   "execution_count": 18,
   "id": "52986dd7",
   "metadata": {
    "scrolled": true
   },
   "outputs": [
    {
     "data": {
      "text/plain": [
       "order_id                         99441\n",
       "customer_id                      99441\n",
       "order_status                         8\n",
       "order_purchase_timestamp         98875\n",
       "order_approved_at                90733\n",
       "order_delivered_carrier_date     81018\n",
       "order_delivered_customer_date    95664\n",
       "order_estimated_delivery_date      459\n",
       "dtype: int64"
      ]
     },
     "execution_count": 18,
     "metadata": {},
     "output_type": "execute_result"
    }
   ],
   "source": [
    "orders.nunique()"
   ]
  },
  {
   "cell_type": "markdown",
   "id": "29fee858",
   "metadata": {},
   "source": [
    "Найдём первую и последнюю дату созданных заказов, чтобы понять за какой период у нас выгрузка"
   ]
  },
  {
   "cell_type": "code",
   "execution_count": 19,
   "id": "75358413",
   "metadata": {
    "scrolled": true
   },
   "outputs": [
    {
     "data": {
      "text/plain": [
       "min   2016-09-04 21:15:19\n",
       "max   2018-10-17 17:30:18\n",
       "Name: order_purchase_timestamp, dtype: datetime64[ns]"
      ]
     },
     "execution_count": 19,
     "metadata": {},
     "output_type": "execute_result"
    }
   ],
   "source": [
    "orders.order_purchase_timestamp.agg(['min', 'max'])"
   ]
  },
  {
   "cell_type": "markdown",
   "id": "87059384",
   "metadata": {},
   "source": [
    "Потом я подумал и решил найти минимальные и максимальные даты по всем колонкам с таким типом данных"
   ]
  },
  {
   "cell_type": "code",
   "execution_count": 20,
   "id": "cb40d874",
   "metadata": {
    "scrolled": true
   },
   "outputs": [
    {
     "data": {
      "text/html": [
       "<div>\n",
       "<style scoped>\n",
       "    .dataframe tbody tr th:only-of-type {\n",
       "        vertical-align: middle;\n",
       "    }\n",
       "\n",
       "    .dataframe tbody tr th {\n",
       "        vertical-align: top;\n",
       "    }\n",
       "\n",
       "    .dataframe thead th {\n",
       "        text-align: right;\n",
       "    }\n",
       "</style>\n",
       "<table border=\"1\" class=\"dataframe\">\n",
       "  <thead>\n",
       "    <tr style=\"text-align: right;\">\n",
       "      <th></th>\n",
       "      <th>min</th>\n",
       "      <th>max</th>\n",
       "    </tr>\n",
       "  </thead>\n",
       "  <tbody>\n",
       "    <tr>\n",
       "      <th>order_purchase_timestamp</th>\n",
       "      <td>2016-09-04 21:15:19</td>\n",
       "      <td>2018-10-17 17:30:18</td>\n",
       "    </tr>\n",
       "    <tr>\n",
       "      <th>order_approved_at</th>\n",
       "      <td>2016-09-15 12:16:38</td>\n",
       "      <td>2018-09-03 17:40:06</td>\n",
       "    </tr>\n",
       "    <tr>\n",
       "      <th>order_delivered_carrier_date</th>\n",
       "      <td>2016-10-08 10:34:01</td>\n",
       "      <td>2018-09-11 19:48:28</td>\n",
       "    </tr>\n",
       "    <tr>\n",
       "      <th>order_delivered_customer_date</th>\n",
       "      <td>2016-10-11 13:46:32</td>\n",
       "      <td>2018-10-17 13:22:46</td>\n",
       "    </tr>\n",
       "    <tr>\n",
       "      <th>order_estimated_delivery_date</th>\n",
       "      <td>2016-09-30 00:00:00</td>\n",
       "      <td>2018-11-12 00:00:00</td>\n",
       "    </tr>\n",
       "  </tbody>\n",
       "</table>\n",
       "</div>"
      ],
      "text/plain": [
       "                                               min                  max\n",
       "order_purchase_timestamp       2016-09-04 21:15:19  2018-10-17 17:30:18\n",
       "order_approved_at              2016-09-15 12:16:38  2018-09-03 17:40:06\n",
       "order_delivered_carrier_date   2016-10-08 10:34:01  2018-09-11 19:48:28\n",
       "order_delivered_customer_date  2016-10-11 13:46:32  2018-10-17 13:22:46\n",
       "order_estimated_delivery_date  2016-09-30 00:00:00  2018-11-12 00:00:00"
      ]
     },
     "execution_count": 20,
     "metadata": {},
     "output_type": "execute_result"
    }
   ],
   "source": [
    "orders.describe().T[['min', 'max']]"
   ]
  },
  {
   "cell_type": "code",
   "execution_count": 21,
   "id": "820e9967",
   "metadata": {},
   "outputs": [
    {
     "data": {
      "text/html": [
       "<div>\n",
       "<style scoped>\n",
       "    .dataframe tbody tr th:only-of-type {\n",
       "        vertical-align: middle;\n",
       "    }\n",
       "\n",
       "    .dataframe tbody tr th {\n",
       "        vertical-align: top;\n",
       "    }\n",
       "\n",
       "    .dataframe thead th {\n",
       "        text-align: right;\n",
       "    }\n",
       "</style>\n",
       "<table border=\"1\" class=\"dataframe\">\n",
       "  <thead>\n",
       "    <tr style=\"text-align: right;\">\n",
       "      <th></th>\n",
       "      <th>order_id</th>\n",
       "      <th>customer_id</th>\n",
       "      <th>order_status</th>\n",
       "      <th>order_purchase_timestamp</th>\n",
       "      <th>order_approved_at</th>\n",
       "      <th>order_delivered_carrier_date</th>\n",
       "      <th>order_delivered_customer_date</th>\n",
       "      <th>order_estimated_delivery_date</th>\n",
       "    </tr>\n",
       "  </thead>\n",
       "  <tbody>\n",
       "  </tbody>\n",
       "</table>\n",
       "</div>"
      ],
      "text/plain": [
       "Empty DataFrame\n",
       "Columns: [order_id, customer_id, order_status, order_purchase_timestamp, order_approved_at, order_delivered_carrier_date, order_delivered_customer_date, order_estimated_delivery_date]\n",
       "Index: []"
      ]
     },
     "execution_count": 21,
     "metadata": {},
     "output_type": "execute_result"
    }
   ],
   "source": [
    "orders.loc[orders.duplicated()]"
   ]
  },
  {
   "cell_type": "markdown",
   "id": "f948133d",
   "metadata": {},
   "source": [
    "Дубликатов снова нет"
   ]
  },
  {
   "cell_type": "code",
   "execution_count": 22,
   "id": "2fb9f9b5",
   "metadata": {
    "scrolled": true
   },
   "outputs": [
    {
     "data": {
      "text/plain": [
       "order_id                            0\n",
       "customer_id                         0\n",
       "order_status                        0\n",
       "order_purchase_timestamp            0\n",
       "order_approved_at                 160\n",
       "order_delivered_carrier_date     1783\n",
       "order_delivered_customer_date    2965\n",
       "order_estimated_delivery_date       0\n",
       "dtype: int64"
      ]
     },
     "execution_count": 22,
     "metadata": {},
     "output_type": "execute_result"
    }
   ],
   "source": [
    "orders.isna().sum()"
   ]
  },
  {
   "cell_type": "markdown",
   "id": "ea3103a8",
   "metadata": {},
   "source": [
    "Пропуски нашлилсь. Посмотрим на каких этапах доставки у нас теряются данные по датам"
   ]
  },
  {
   "cell_type": "code",
   "execution_count": 23,
   "id": "39b11bb8",
   "metadata": {
    "scrolled": true
   },
   "outputs": [
    {
     "data": {
      "text/html": [
       "<div>\n",
       "<style scoped>\n",
       "    .dataframe tbody tr th:only-of-type {\n",
       "        vertical-align: middle;\n",
       "    }\n",
       "\n",
       "    .dataframe tbody tr th {\n",
       "        vertical-align: top;\n",
       "    }\n",
       "\n",
       "    .dataframe thead th {\n",
       "        text-align: right;\n",
       "    }\n",
       "</style>\n",
       "<table border=\"1\" class=\"dataframe\">\n",
       "  <thead>\n",
       "    <tr style=\"text-align: right;\">\n",
       "      <th></th>\n",
       "      <th>order_purchase_timestamp</th>\n",
       "      <th>order_approved_at</th>\n",
       "      <th>order_delivered_carrier_date</th>\n",
       "      <th>order_delivered_customer_date</th>\n",
       "      <th>order_estimated_delivery_date</th>\n",
       "    </tr>\n",
       "    <tr>\n",
       "      <th>order_status</th>\n",
       "      <th></th>\n",
       "      <th></th>\n",
       "      <th></th>\n",
       "      <th></th>\n",
       "      <th></th>\n",
       "    </tr>\n",
       "  </thead>\n",
       "  <tbody>\n",
       "    <tr>\n",
       "      <th>approved</th>\n",
       "      <td>2</td>\n",
       "      <td>2</td>\n",
       "      <td>0</td>\n",
       "      <td>0</td>\n",
       "      <td>2</td>\n",
       "    </tr>\n",
       "    <tr>\n",
       "      <th>canceled</th>\n",
       "      <td>625</td>\n",
       "      <td>484</td>\n",
       "      <td>75</td>\n",
       "      <td>6</td>\n",
       "      <td>625</td>\n",
       "    </tr>\n",
       "    <tr>\n",
       "      <th>created</th>\n",
       "      <td>5</td>\n",
       "      <td>0</td>\n",
       "      <td>0</td>\n",
       "      <td>0</td>\n",
       "      <td>5</td>\n",
       "    </tr>\n",
       "    <tr>\n",
       "      <th>delivered</th>\n",
       "      <td>96478</td>\n",
       "      <td>96464</td>\n",
       "      <td>96476</td>\n",
       "      <td>96470</td>\n",
       "      <td>96478</td>\n",
       "    </tr>\n",
       "    <tr>\n",
       "      <th>invoiced</th>\n",
       "      <td>314</td>\n",
       "      <td>314</td>\n",
       "      <td>0</td>\n",
       "      <td>0</td>\n",
       "      <td>314</td>\n",
       "    </tr>\n",
       "    <tr>\n",
       "      <th>processing</th>\n",
       "      <td>301</td>\n",
       "      <td>301</td>\n",
       "      <td>0</td>\n",
       "      <td>0</td>\n",
       "      <td>301</td>\n",
       "    </tr>\n",
       "    <tr>\n",
       "      <th>shipped</th>\n",
       "      <td>1107</td>\n",
       "      <td>1107</td>\n",
       "      <td>1107</td>\n",
       "      <td>0</td>\n",
       "      <td>1107</td>\n",
       "    </tr>\n",
       "    <tr>\n",
       "      <th>unavailable</th>\n",
       "      <td>609</td>\n",
       "      <td>609</td>\n",
       "      <td>0</td>\n",
       "      <td>0</td>\n",
       "      <td>609</td>\n",
       "    </tr>\n",
       "  </tbody>\n",
       "</table>\n",
       "</div>"
      ],
      "text/plain": [
       "              order_purchase_timestamp  order_approved_at  \\\n",
       "order_status                                                \n",
       "approved                             2                  2   \n",
       "canceled                           625                484   \n",
       "created                              5                  0   \n",
       "delivered                        96478              96464   \n",
       "invoiced                           314                314   \n",
       "processing                         301                301   \n",
       "shipped                           1107               1107   \n",
       "unavailable                        609                609   \n",
       "\n",
       "              order_delivered_carrier_date  order_delivered_customer_date  \\\n",
       "order_status                                                                \n",
       "approved                                 0                              0   \n",
       "canceled                                75                              6   \n",
       "created                                  0                              0   \n",
       "delivered                            96476                          96470   \n",
       "invoiced                                 0                              0   \n",
       "processing                               0                              0   \n",
       "shipped                               1107                              0   \n",
       "unavailable                              0                              0   \n",
       "\n",
       "              order_estimated_delivery_date  \n",
       "order_status                                 \n",
       "approved                                  2  \n",
       "canceled                                625  \n",
       "created                                   5  \n",
       "delivered                             96478  \n",
       "invoiced                                314  \n",
       "processing                              301  \n",
       "shipped                                1107  \n",
       "unavailable                             609  "
      ]
     },
     "execution_count": 23,
     "metadata": {},
     "output_type": "execute_result"
    }
   ],
   "source": [
    "orders.groupby('order_status')[orders.columns[3:8]].count()"
   ]
  },
  {
   "cell_type": "markdown",
   "id": "71a303d8",
   "metadata": {},
   "source": [
    "У нас одинакое количество значений в `order_purchase_timestamp` и `order_estimated_delivery_date`. Исследуем этот факт чуть позже, а сейчас посчитаем количество пропусков"
   ]
  },
  {
   "cell_type": "code",
   "execution_count": 24,
   "id": "2ada1d14",
   "metadata": {
    "scrolled": true
   },
   "outputs": [
    {
     "data": {
      "text/html": [
       "<div>\n",
       "<style scoped>\n",
       "    .dataframe tbody tr th:only-of-type {\n",
       "        vertical-align: middle;\n",
       "    }\n",
       "\n",
       "    .dataframe tbody tr th {\n",
       "        vertical-align: top;\n",
       "    }\n",
       "\n",
       "    .dataframe thead th {\n",
       "        text-align: right;\n",
       "    }\n",
       "</style>\n",
       "<table border=\"1\" class=\"dataframe\">\n",
       "  <thead>\n",
       "    <tr style=\"text-align: right;\">\n",
       "      <th></th>\n",
       "      <th>order_purchase_timestamp</th>\n",
       "      <th>order_approved_at</th>\n",
       "      <th>order_delivered_carrier_date</th>\n",
       "      <th>order_delivered_customer_date</th>\n",
       "      <th>order_estimated_delivery_date</th>\n",
       "    </tr>\n",
       "    <tr>\n",
       "      <th>order_status</th>\n",
       "      <th></th>\n",
       "      <th></th>\n",
       "      <th></th>\n",
       "      <th></th>\n",
       "      <th></th>\n",
       "    </tr>\n",
       "  </thead>\n",
       "  <tbody>\n",
       "    <tr>\n",
       "      <th>approved</th>\n",
       "      <td>0</td>\n",
       "      <td>0</td>\n",
       "      <td>2</td>\n",
       "      <td>2</td>\n",
       "      <td>0</td>\n",
       "    </tr>\n",
       "    <tr>\n",
       "      <th>canceled</th>\n",
       "      <td>0</td>\n",
       "      <td>141</td>\n",
       "      <td>550</td>\n",
       "      <td>619</td>\n",
       "      <td>0</td>\n",
       "    </tr>\n",
       "    <tr>\n",
       "      <th>created</th>\n",
       "      <td>0</td>\n",
       "      <td>5</td>\n",
       "      <td>5</td>\n",
       "      <td>5</td>\n",
       "      <td>0</td>\n",
       "    </tr>\n",
       "    <tr>\n",
       "      <th>delivered</th>\n",
       "      <td>0</td>\n",
       "      <td>14</td>\n",
       "      <td>2</td>\n",
       "      <td>8</td>\n",
       "      <td>0</td>\n",
       "    </tr>\n",
       "    <tr>\n",
       "      <th>invoiced</th>\n",
       "      <td>0</td>\n",
       "      <td>0</td>\n",
       "      <td>314</td>\n",
       "      <td>314</td>\n",
       "      <td>0</td>\n",
       "    </tr>\n",
       "    <tr>\n",
       "      <th>processing</th>\n",
       "      <td>0</td>\n",
       "      <td>0</td>\n",
       "      <td>301</td>\n",
       "      <td>301</td>\n",
       "      <td>0</td>\n",
       "    </tr>\n",
       "    <tr>\n",
       "      <th>shipped</th>\n",
       "      <td>0</td>\n",
       "      <td>0</td>\n",
       "      <td>0</td>\n",
       "      <td>1107</td>\n",
       "      <td>0</td>\n",
       "    </tr>\n",
       "    <tr>\n",
       "      <th>unavailable</th>\n",
       "      <td>0</td>\n",
       "      <td>0</td>\n",
       "      <td>609</td>\n",
       "      <td>609</td>\n",
       "      <td>0</td>\n",
       "    </tr>\n",
       "  </tbody>\n",
       "</table>\n",
       "</div>"
      ],
      "text/plain": [
       "              order_purchase_timestamp  order_approved_at  \\\n",
       "order_status                                                \n",
       "approved                             0                  0   \n",
       "canceled                             0                141   \n",
       "created                              0                  5   \n",
       "delivered                            0                 14   \n",
       "invoiced                             0                  0   \n",
       "processing                           0                  0   \n",
       "shipped                              0                  0   \n",
       "unavailable                          0                  0   \n",
       "\n",
       "              order_delivered_carrier_date  order_delivered_customer_date  \\\n",
       "order_status                                                                \n",
       "approved                                 2                              2   \n",
       "canceled                               550                            619   \n",
       "created                                  5                              5   \n",
       "delivered                                2                              8   \n",
       "invoiced                               314                            314   \n",
       "processing                             301                            301   \n",
       "shipped                                  0                           1107   \n",
       "unavailable                            609                            609   \n",
       "\n",
       "              order_estimated_delivery_date  \n",
       "order_status                                 \n",
       "approved                                  0  \n",
       "canceled                                  0  \n",
       "created                                   0  \n",
       "delivered                                 0  \n",
       "invoiced                                  0  \n",
       "processing                                0  \n",
       "shipped                                   0  \n",
       "unavailable                               0  "
      ]
     },
     "execution_count": 24,
     "metadata": {},
     "output_type": "execute_result"
    }
   ],
   "source": [
    "orders.groupby('order_status')[orders.columns[3:8]].apply(lambda x: x.isna().sum())"
   ]
  },
  {
   "cell_type": "markdown",
   "id": "a9e30279",
   "metadata": {},
   "source": [
    "В первую очередь меня заинтересовали заказы: \n",
    " - в статусе `delivered`, но без даты доставки\n",
    " - в статусе `canceled`, но с датой доставки\n",
    " \n",
    " Сейчас посмотрю на них, а мысли напишу в выводе"
   ]
  },
  {
   "cell_type": "code",
   "execution_count": 25,
   "id": "07127eeb",
   "metadata": {},
   "outputs": [
    {
     "data": {
      "text/html": [
       "<div>\n",
       "<style scoped>\n",
       "    .dataframe tbody tr th:only-of-type {\n",
       "        vertical-align: middle;\n",
       "    }\n",
       "\n",
       "    .dataframe tbody tr th {\n",
       "        vertical-align: top;\n",
       "    }\n",
       "\n",
       "    .dataframe thead th {\n",
       "        text-align: right;\n",
       "    }\n",
       "</style>\n",
       "<table border=\"1\" class=\"dataframe\">\n",
       "  <thead>\n",
       "    <tr style=\"text-align: right;\">\n",
       "      <th></th>\n",
       "      <th>order_id</th>\n",
       "      <th>customer_id</th>\n",
       "      <th>order_status</th>\n",
       "      <th>order_purchase_timestamp</th>\n",
       "      <th>order_approved_at</th>\n",
       "      <th>order_delivered_carrier_date</th>\n",
       "      <th>order_delivered_customer_date</th>\n",
       "      <th>order_estimated_delivery_date</th>\n",
       "    </tr>\n",
       "  </thead>\n",
       "  <tbody>\n",
       "    <tr>\n",
       "      <th>3002</th>\n",
       "      <td>2d1e2d5bf4dc7227b3bfebb81328c15f</td>\n",
       "      <td>ec05a6d8558c6455f0cbbd8a420ad34f</td>\n",
       "      <td>delivered</td>\n",
       "      <td>2017-11-28 17:44:07</td>\n",
       "      <td>2017-11-28 17:56:40</td>\n",
       "      <td>2017-11-30 18:12:23</td>\n",
       "      <td>NaT</td>\n",
       "      <td>2017-12-18</td>\n",
       "    </tr>\n",
       "    <tr>\n",
       "      <th>20618</th>\n",
       "      <td>f5dd62b788049ad9fc0526e3ad11a097</td>\n",
       "      <td>5e89028e024b381dc84a13a3570decb4</td>\n",
       "      <td>delivered</td>\n",
       "      <td>2018-06-20 06:58:43</td>\n",
       "      <td>2018-06-20 07:19:05</td>\n",
       "      <td>2018-06-25 08:05:00</td>\n",
       "      <td>NaT</td>\n",
       "      <td>2018-07-16</td>\n",
       "    </tr>\n",
       "    <tr>\n",
       "      <th>43834</th>\n",
       "      <td>2ebdfc4f15f23b91474edf87475f108e</td>\n",
       "      <td>29f0540231702fda0cfdee0a310f11aa</td>\n",
       "      <td>delivered</td>\n",
       "      <td>2018-07-01 17:05:11</td>\n",
       "      <td>2018-07-01 17:15:12</td>\n",
       "      <td>2018-07-03 13:57:00</td>\n",
       "      <td>NaT</td>\n",
       "      <td>2018-07-30</td>\n",
       "    </tr>\n",
       "    <tr>\n",
       "      <th>79263</th>\n",
       "      <td>e69f75a717d64fc5ecdfae42b2e8e086</td>\n",
       "      <td>cfda40ca8dd0a5d486a9635b611b398a</td>\n",
       "      <td>delivered</td>\n",
       "      <td>2018-07-01 22:05:55</td>\n",
       "      <td>2018-07-01 22:15:14</td>\n",
       "      <td>2018-07-03 13:57:00</td>\n",
       "      <td>NaT</td>\n",
       "      <td>2018-07-30</td>\n",
       "    </tr>\n",
       "    <tr>\n",
       "      <th>82868</th>\n",
       "      <td>0d3268bad9b086af767785e3f0fc0133</td>\n",
       "      <td>4f1d63d35fb7c8999853b2699f5c7649</td>\n",
       "      <td>delivered</td>\n",
       "      <td>2018-07-01 21:14:02</td>\n",
       "      <td>2018-07-01 21:29:54</td>\n",
       "      <td>2018-07-03 09:28:00</td>\n",
       "      <td>NaT</td>\n",
       "      <td>2018-07-24</td>\n",
       "    </tr>\n",
       "    <tr>\n",
       "      <th>92643</th>\n",
       "      <td>2d858f451373b04fb5c984a1cc2defaf</td>\n",
       "      <td>e08caf668d499a6d643dafd7c5cc498a</td>\n",
       "      <td>delivered</td>\n",
       "      <td>2017-05-25 23:22:43</td>\n",
       "      <td>2017-05-25 23:30:16</td>\n",
       "      <td>NaT</td>\n",
       "      <td>NaT</td>\n",
       "      <td>2017-06-23</td>\n",
       "    </tr>\n",
       "    <tr>\n",
       "      <th>97647</th>\n",
       "      <td>ab7c89dc1bf4a1ead9d6ec1ec8968a84</td>\n",
       "      <td>dd1b84a7286eb4524d52af4256c0ba24</td>\n",
       "      <td>delivered</td>\n",
       "      <td>2018-06-08 12:09:39</td>\n",
       "      <td>2018-06-08 12:36:39</td>\n",
       "      <td>2018-06-12 14:10:00</td>\n",
       "      <td>NaT</td>\n",
       "      <td>2018-06-26</td>\n",
       "    </tr>\n",
       "    <tr>\n",
       "      <th>98038</th>\n",
       "      <td>20edc82cf5400ce95e1afacc25798b31</td>\n",
       "      <td>28c37425f1127d887d7337f284080a0f</td>\n",
       "      <td>delivered</td>\n",
       "      <td>2018-06-27 16:09:12</td>\n",
       "      <td>2018-06-27 16:29:30</td>\n",
       "      <td>2018-07-03 19:26:00</td>\n",
       "      <td>NaT</td>\n",
       "      <td>2018-07-19</td>\n",
       "    </tr>\n",
       "  </tbody>\n",
       "</table>\n",
       "</div>"
      ],
      "text/plain": [
       "                               order_id                       customer_id  \\\n",
       "3002   2d1e2d5bf4dc7227b3bfebb81328c15f  ec05a6d8558c6455f0cbbd8a420ad34f   \n",
       "20618  f5dd62b788049ad9fc0526e3ad11a097  5e89028e024b381dc84a13a3570decb4   \n",
       "43834  2ebdfc4f15f23b91474edf87475f108e  29f0540231702fda0cfdee0a310f11aa   \n",
       "79263  e69f75a717d64fc5ecdfae42b2e8e086  cfda40ca8dd0a5d486a9635b611b398a   \n",
       "82868  0d3268bad9b086af767785e3f0fc0133  4f1d63d35fb7c8999853b2699f5c7649   \n",
       "92643  2d858f451373b04fb5c984a1cc2defaf  e08caf668d499a6d643dafd7c5cc498a   \n",
       "97647  ab7c89dc1bf4a1ead9d6ec1ec8968a84  dd1b84a7286eb4524d52af4256c0ba24   \n",
       "98038  20edc82cf5400ce95e1afacc25798b31  28c37425f1127d887d7337f284080a0f   \n",
       "\n",
       "      order_status order_purchase_timestamp   order_approved_at  \\\n",
       "3002     delivered      2017-11-28 17:44:07 2017-11-28 17:56:40   \n",
       "20618    delivered      2018-06-20 06:58:43 2018-06-20 07:19:05   \n",
       "43834    delivered      2018-07-01 17:05:11 2018-07-01 17:15:12   \n",
       "79263    delivered      2018-07-01 22:05:55 2018-07-01 22:15:14   \n",
       "82868    delivered      2018-07-01 21:14:02 2018-07-01 21:29:54   \n",
       "92643    delivered      2017-05-25 23:22:43 2017-05-25 23:30:16   \n",
       "97647    delivered      2018-06-08 12:09:39 2018-06-08 12:36:39   \n",
       "98038    delivered      2018-06-27 16:09:12 2018-06-27 16:29:30   \n",
       "\n",
       "      order_delivered_carrier_date order_delivered_customer_date  \\\n",
       "3002           2017-11-30 18:12:23                           NaT   \n",
       "20618          2018-06-25 08:05:00                           NaT   \n",
       "43834          2018-07-03 13:57:00                           NaT   \n",
       "79263          2018-07-03 13:57:00                           NaT   \n",
       "82868          2018-07-03 09:28:00                           NaT   \n",
       "92643                          NaT                           NaT   \n",
       "97647          2018-06-12 14:10:00                           NaT   \n",
       "98038          2018-07-03 19:26:00                           NaT   \n",
       "\n",
       "      order_estimated_delivery_date  \n",
       "3002                     2017-12-18  \n",
       "20618                    2018-07-16  \n",
       "43834                    2018-07-30  \n",
       "79263                    2018-07-30  \n",
       "82868                    2018-07-24  \n",
       "92643                    2017-06-23  \n",
       "97647                    2018-06-26  \n",
       "98038                    2018-07-19  "
      ]
     },
     "execution_count": 25,
     "metadata": {},
     "output_type": "execute_result"
    }
   ],
   "source": [
    "orders.query(\"order_status == 'delivered' & order_delivered_customer_date.isna()\")"
   ]
  },
  {
   "cell_type": "code",
   "execution_count": 26,
   "id": "18050ba7",
   "metadata": {},
   "outputs": [
    {
     "data": {
      "text/html": [
       "<div>\n",
       "<style scoped>\n",
       "    .dataframe tbody tr th:only-of-type {\n",
       "        vertical-align: middle;\n",
       "    }\n",
       "\n",
       "    .dataframe tbody tr th {\n",
       "        vertical-align: top;\n",
       "    }\n",
       "\n",
       "    .dataframe thead th {\n",
       "        text-align: right;\n",
       "    }\n",
       "</style>\n",
       "<table border=\"1\" class=\"dataframe\">\n",
       "  <thead>\n",
       "    <tr style=\"text-align: right;\">\n",
       "      <th></th>\n",
       "      <th>order_id</th>\n",
       "      <th>customer_id</th>\n",
       "      <th>order_status</th>\n",
       "      <th>order_purchase_timestamp</th>\n",
       "      <th>order_approved_at</th>\n",
       "      <th>order_delivered_carrier_date</th>\n",
       "      <th>order_delivered_customer_date</th>\n",
       "      <th>order_estimated_delivery_date</th>\n",
       "    </tr>\n",
       "  </thead>\n",
       "  <tbody>\n",
       "    <tr>\n",
       "      <th>2921</th>\n",
       "      <td>1950d777989f6a877539f53795b4c3c3</td>\n",
       "      <td>1bccb206de9f0f25adc6871a1bcf77b2</td>\n",
       "      <td>canceled</td>\n",
       "      <td>2018-02-19 19:48:52</td>\n",
       "      <td>2018-02-19 20:56:05</td>\n",
       "      <td>2018-02-20 19:57:13</td>\n",
       "      <td>2018-03-21 22:03:51</td>\n",
       "      <td>2018-03-09</td>\n",
       "    </tr>\n",
       "    <tr>\n",
       "      <th>8791</th>\n",
       "      <td>dabf2b0e35b423f94618bf965fcb7514</td>\n",
       "      <td>5cdec0bb8cbdf53ffc8fdc212cd247c6</td>\n",
       "      <td>canceled</td>\n",
       "      <td>2016-10-09 00:56:52</td>\n",
       "      <td>2016-10-09 13:36:58</td>\n",
       "      <td>2016-10-13 13:36:59</td>\n",
       "      <td>2016-10-16 14:36:59</td>\n",
       "      <td>2016-11-30</td>\n",
       "    </tr>\n",
       "    <tr>\n",
       "      <th>58266</th>\n",
       "      <td>770d331c84e5b214bd9dc70a10b829d0</td>\n",
       "      <td>6c57e6119369185e575b36712766b0ef</td>\n",
       "      <td>canceled</td>\n",
       "      <td>2016-10-07 14:52:30</td>\n",
       "      <td>2016-10-07 15:07:10</td>\n",
       "      <td>2016-10-11 15:07:11</td>\n",
       "      <td>2016-10-14 15:07:11</td>\n",
       "      <td>2016-11-29</td>\n",
       "    </tr>\n",
       "    <tr>\n",
       "      <th>59332</th>\n",
       "      <td>8beb59392e21af5eb9547ae1a9938d06</td>\n",
       "      <td>bf609b5741f71697f65ce3852c5d2623</td>\n",
       "      <td>canceled</td>\n",
       "      <td>2016-10-08 20:17:50</td>\n",
       "      <td>2016-10-09 14:34:30</td>\n",
       "      <td>2016-10-14 22:45:26</td>\n",
       "      <td>2016-10-19 18:47:43</td>\n",
       "      <td>2016-11-30</td>\n",
       "    </tr>\n",
       "    <tr>\n",
       "      <th>92636</th>\n",
       "      <td>65d1e226dfaeb8cdc42f665422522d14</td>\n",
       "      <td>70fc57eeae292675927697fe03ad3ff5</td>\n",
       "      <td>canceled</td>\n",
       "      <td>2016-10-03 21:01:41</td>\n",
       "      <td>2016-10-04 10:18:57</td>\n",
       "      <td>2016-10-25 12:14:28</td>\n",
       "      <td>2016-11-08 10:58:34</td>\n",
       "      <td>2016-11-25</td>\n",
       "    </tr>\n",
       "    <tr>\n",
       "      <th>94399</th>\n",
       "      <td>2c45c33d2f9cb8ff8b1c86cc28c11c30</td>\n",
       "      <td>de4caa97afa80c8eeac2ff4c8da5b72e</td>\n",
       "      <td>canceled</td>\n",
       "      <td>2016-10-09 15:39:56</td>\n",
       "      <td>2016-10-10 10:40:49</td>\n",
       "      <td>2016-10-14 10:40:50</td>\n",
       "      <td>2016-11-09 14:53:50</td>\n",
       "      <td>2016-12-08</td>\n",
       "    </tr>\n",
       "  </tbody>\n",
       "</table>\n",
       "</div>"
      ],
      "text/plain": [
       "                               order_id                       customer_id  \\\n",
       "2921   1950d777989f6a877539f53795b4c3c3  1bccb206de9f0f25adc6871a1bcf77b2   \n",
       "8791   dabf2b0e35b423f94618bf965fcb7514  5cdec0bb8cbdf53ffc8fdc212cd247c6   \n",
       "58266  770d331c84e5b214bd9dc70a10b829d0  6c57e6119369185e575b36712766b0ef   \n",
       "59332  8beb59392e21af5eb9547ae1a9938d06  bf609b5741f71697f65ce3852c5d2623   \n",
       "92636  65d1e226dfaeb8cdc42f665422522d14  70fc57eeae292675927697fe03ad3ff5   \n",
       "94399  2c45c33d2f9cb8ff8b1c86cc28c11c30  de4caa97afa80c8eeac2ff4c8da5b72e   \n",
       "\n",
       "      order_status order_purchase_timestamp   order_approved_at  \\\n",
       "2921      canceled      2018-02-19 19:48:52 2018-02-19 20:56:05   \n",
       "8791      canceled      2016-10-09 00:56:52 2016-10-09 13:36:58   \n",
       "58266     canceled      2016-10-07 14:52:30 2016-10-07 15:07:10   \n",
       "59332     canceled      2016-10-08 20:17:50 2016-10-09 14:34:30   \n",
       "92636     canceled      2016-10-03 21:01:41 2016-10-04 10:18:57   \n",
       "94399     canceled      2016-10-09 15:39:56 2016-10-10 10:40:49   \n",
       "\n",
       "      order_delivered_carrier_date order_delivered_customer_date  \\\n",
       "2921           2018-02-20 19:57:13           2018-03-21 22:03:51   \n",
       "8791           2016-10-13 13:36:59           2016-10-16 14:36:59   \n",
       "58266          2016-10-11 15:07:11           2016-10-14 15:07:11   \n",
       "59332          2016-10-14 22:45:26           2016-10-19 18:47:43   \n",
       "92636          2016-10-25 12:14:28           2016-11-08 10:58:34   \n",
       "94399          2016-10-14 10:40:50           2016-11-09 14:53:50   \n",
       "\n",
       "      order_estimated_delivery_date  \n",
       "2921                     2018-03-09  \n",
       "8791                     2016-11-30  \n",
       "58266                    2016-11-29  \n",
       "59332                    2016-11-30  \n",
       "92636                    2016-11-25  \n",
       "94399                    2016-12-08  "
      ]
     },
     "execution_count": 26,
     "metadata": {},
     "output_type": "execute_result"
    }
   ],
   "source": [
    "orders.query(\"order_status == 'canceled' & order_delivered_customer_date.notna()\")"
   ]
  },
  {
   "cell_type": "markdown",
   "id": "652f1f08",
   "metadata": {},
   "source": [
    "Посчитаем разницу `order_purchase_timestamp` и `order_estimated_delivery_date`. Причины:\n",
    "1. Проверить, есть ли какая-то прямая взаимосвязь между этими датами\n",
    "2. Посмотреть на распределение разницы между датой создания заказа и ожидаемой доставки\n",
    "3. Попробовать найти какие-то аномалии"
   ]
  },
  {
   "cell_type": "code",
   "execution_count": 27,
   "id": "51069690",
   "metadata": {
    "scrolled": true
   },
   "outputs": [
    {
     "data": {
      "text/html": [
       "<div>\n",
       "<style scoped>\n",
       "    .dataframe tbody tr th:only-of-type {\n",
       "        vertical-align: middle;\n",
       "    }\n",
       "\n",
       "    .dataframe tbody tr th {\n",
       "        vertical-align: top;\n",
       "    }\n",
       "\n",
       "    .dataframe thead th {\n",
       "        text-align: right;\n",
       "    }\n",
       "</style>\n",
       "<table border=\"1\" class=\"dataframe\">\n",
       "  <thead>\n",
       "    <tr style=\"text-align: right;\">\n",
       "      <th></th>\n",
       "      <th>order_id</th>\n",
       "      <th>customer_id</th>\n",
       "      <th>order_status</th>\n",
       "      <th>order_purchase_timestamp</th>\n",
       "      <th>order_approved_at</th>\n",
       "      <th>order_delivered_carrier_date</th>\n",
       "      <th>order_delivered_customer_date</th>\n",
       "      <th>order_estimated_delivery_date</th>\n",
       "      <th>estimated_date_diff</th>\n",
       "    </tr>\n",
       "  </thead>\n",
       "  <tbody>\n",
       "    <tr>\n",
       "      <th>4541</th>\n",
       "      <td>2e7a8482f6fb09756ca50c10d7bfc047</td>\n",
       "      <td>08c5351a6aca1c1589a38f244edeee9d</td>\n",
       "      <td>shipped</td>\n",
       "      <td>2016-09-04 21:15:19</td>\n",
       "      <td>2016-10-07 13:18:03</td>\n",
       "      <td>2016-10-18 13:14:51</td>\n",
       "      <td>NaT</td>\n",
       "      <td>2016-10-20</td>\n",
       "      <td>45</td>\n",
       "    </tr>\n",
       "    <tr>\n",
       "      <th>4396</th>\n",
       "      <td>e5fa5a7210941f7d56d0208e4e071d35</td>\n",
       "      <td>683c54fc24d40ee9f8a6fc179fd9856c</td>\n",
       "      <td>canceled</td>\n",
       "      <td>2016-09-05 00:15:34</td>\n",
       "      <td>2016-10-07 13:17:15</td>\n",
       "      <td>NaT</td>\n",
       "      <td>NaT</td>\n",
       "      <td>2016-10-28</td>\n",
       "      <td>52</td>\n",
       "    </tr>\n",
       "    <tr>\n",
       "      <th>10071</th>\n",
       "      <td>809a282bbd5dbcabb6f2f724fca862ec</td>\n",
       "      <td>622e13439d6b5a0b486c435618b2679e</td>\n",
       "      <td>canceled</td>\n",
       "      <td>2016-09-13 15:24:19</td>\n",
       "      <td>2016-10-07 13:16:46</td>\n",
       "      <td>NaT</td>\n",
       "      <td>NaT</td>\n",
       "      <td>2016-09-30</td>\n",
       "      <td>16</td>\n",
       "    </tr>\n",
       "    <tr>\n",
       "      <th>30710</th>\n",
       "      <td>bfbd0f9bdef84302105ad712db648a6c</td>\n",
       "      <td>86dc2ffce2dfff336de2f386a786e574</td>\n",
       "      <td>delivered</td>\n",
       "      <td>2016-09-15 12:16:38</td>\n",
       "      <td>2016-09-15 12:16:38</td>\n",
       "      <td>2016-11-07 17:11:53</td>\n",
       "      <td>2016-11-09 07:47:38</td>\n",
       "      <td>2016-10-04</td>\n",
       "      <td>18</td>\n",
       "    </tr>\n",
       "    <tr>\n",
       "      <th>83078</th>\n",
       "      <td>71303d7e93b399f5bcd537d124c0bcfa</td>\n",
       "      <td>b106b360fe2ef8849fbbd056f777b4d5</td>\n",
       "      <td>canceled</td>\n",
       "      <td>2016-10-02 22:07:52</td>\n",
       "      <td>2016-10-06 15:50:56</td>\n",
       "      <td>NaT</td>\n",
       "      <td>NaT</td>\n",
       "      <td>2016-10-25</td>\n",
       "      <td>22</td>\n",
       "    </tr>\n",
       "  </tbody>\n",
       "</table>\n",
       "</div>"
      ],
      "text/plain": [
       "                               order_id                       customer_id  \\\n",
       "4541   2e7a8482f6fb09756ca50c10d7bfc047  08c5351a6aca1c1589a38f244edeee9d   \n",
       "4396   e5fa5a7210941f7d56d0208e4e071d35  683c54fc24d40ee9f8a6fc179fd9856c   \n",
       "10071  809a282bbd5dbcabb6f2f724fca862ec  622e13439d6b5a0b486c435618b2679e   \n",
       "30710  bfbd0f9bdef84302105ad712db648a6c  86dc2ffce2dfff336de2f386a786e574   \n",
       "83078  71303d7e93b399f5bcd537d124c0bcfa  b106b360fe2ef8849fbbd056f777b4d5   \n",
       "\n",
       "      order_status order_purchase_timestamp   order_approved_at  \\\n",
       "4541       shipped      2016-09-04 21:15:19 2016-10-07 13:18:03   \n",
       "4396      canceled      2016-09-05 00:15:34 2016-10-07 13:17:15   \n",
       "10071     canceled      2016-09-13 15:24:19 2016-10-07 13:16:46   \n",
       "30710    delivered      2016-09-15 12:16:38 2016-09-15 12:16:38   \n",
       "83078     canceled      2016-10-02 22:07:52 2016-10-06 15:50:56   \n",
       "\n",
       "      order_delivered_carrier_date order_delivered_customer_date  \\\n",
       "4541           2016-10-18 13:14:51                           NaT   \n",
       "4396                           NaT                           NaT   \n",
       "10071                          NaT                           NaT   \n",
       "30710          2016-11-07 17:11:53           2016-11-09 07:47:38   \n",
       "83078                          NaT                           NaT   \n",
       "\n",
       "      order_estimated_delivery_date  estimated_date_diff  \n",
       "4541                     2016-10-20                   45  \n",
       "4396                     2016-10-28                   52  \n",
       "10071                    2016-09-30                   16  \n",
       "30710                    2016-10-04                   18  \n",
       "83078                    2016-10-25                   22  "
      ]
     },
     "execution_count": 27,
     "metadata": {},
     "output_type": "execute_result"
    }
   ],
   "source": [
    "orders = orders.sort_values(by='order_purchase_timestamp')\n",
    "orders['estimated_date_diff'] = pd.to_timedelta(orders.order_estimated_delivery_date - orders.order_purchase_timestamp).dt.days\n",
    "orders.head()"
   ]
  },
  {
   "cell_type": "code",
   "execution_count": 28,
   "id": "09b8816a",
   "metadata": {},
   "outputs": [
    {
     "data": {
      "text/plain": [
       "104"
      ]
     },
     "execution_count": 28,
     "metadata": {},
     "output_type": "execute_result"
    }
   ],
   "source": [
    "orders.estimated_date_diff.nunique()"
   ]
  },
  {
   "cell_type": "markdown",
   "id": "2352cc88",
   "metadata": {},
   "source": [
    "Изначально я предполагал, что мы просто прибавляем какое-то фиксированное количество дней к дате создания заказа. Однако, судя по количеству уникальных значений, на какой-то общий паттерн не особо тянет. Алгоритм расчёта даты ожидаемой доставки очевидно сложнее"
   ]
  },
  {
   "cell_type": "markdown",
   "id": "475da7a8",
   "metadata": {},
   "source": [
    "Посмотрим на то, в какой срок мы чаще всего ожидаем доставку, и построим график"
   ]
  },
  {
   "cell_type": "code",
   "execution_count": 29,
   "id": "9b0ce8e2",
   "metadata": {},
   "outputs": [
    {
     "data": {
      "text/html": [
       "<div>\n",
       "<style scoped>\n",
       "    .dataframe tbody tr th:only-of-type {\n",
       "        vertical-align: middle;\n",
       "    }\n",
       "\n",
       "    .dataframe tbody tr th {\n",
       "        vertical-align: top;\n",
       "    }\n",
       "\n",
       "    .dataframe thead th {\n",
       "        text-align: right;\n",
       "    }\n",
       "</style>\n",
       "<table border=\"1\" class=\"dataframe\">\n",
       "  <thead>\n",
       "    <tr style=\"text-align: right;\">\n",
       "      <th></th>\n",
       "      <th>estimated_date_diff</th>\n",
       "      <th>frequency</th>\n",
       "    </tr>\n",
       "  </thead>\n",
       "  <tbody>\n",
       "    <tr>\n",
       "      <th>0</th>\n",
       "      <td>1</td>\n",
       "      <td>1</td>\n",
       "    </tr>\n",
       "    <tr>\n",
       "      <th>1</th>\n",
       "      <td>2</td>\n",
       "      <td>201</td>\n",
       "    </tr>\n",
       "    <tr>\n",
       "      <th>2</th>\n",
       "      <td>3</td>\n",
       "      <td>151</td>\n",
       "    </tr>\n",
       "    <tr>\n",
       "      <th>3</th>\n",
       "      <td>4</td>\n",
       "      <td>334</td>\n",
       "    </tr>\n",
       "    <tr>\n",
       "      <th>4</th>\n",
       "      <td>5</td>\n",
       "      <td>304</td>\n",
       "    </tr>\n",
       "  </tbody>\n",
       "</table>\n",
       "</div>"
      ],
      "text/plain": [
       "   estimated_date_diff  frequency\n",
       "0                    1          1\n",
       "1                    2        201\n",
       "2                    3        151\n",
       "3                    4        334\n",
       "4                    5        304"
      ]
     },
     "execution_count": 29,
     "metadata": {},
     "output_type": "execute_result"
    }
   ],
   "source": [
    "estimated_distr = orders.groupby('estimated_date_diff') \\\n",
    "    .agg({'order_estimated_delivery_date': 'count'}) \\\n",
    "    .sort_values(by='estimated_date_diff') \\\n",
    "    .rename(columns={'order_estimated_delivery_date': 'frequency'}) \\\n",
    "    .reset_index()\n",
    "\n",
    "estimated_distr.head()"
   ]
  },
  {
   "cell_type": "code",
   "execution_count": 30,
   "id": "127d46a2",
   "metadata": {},
   "outputs": [
    {
     "data": {
      "image/png": "[encoded data removed]",
      "text/plain": [
       "<Figure size 1600x800 with 1 Axes>"
      ]
     },
     "metadata": {},
     "output_type": "display_data"
    }
   ],
   "source": [
    "ax = sns.barplot(data=estimated_distr, x='estimated_date_diff', y='frequency')\n",
    "ax.set_xticks(ax.get_xticks())\n",
    "ax.set_xticklabels(ax.get_xticklabels(), rotation=90);"
   ]
  },
  {
   "cell_type": "markdown",
   "id": "8e5875f6",
   "metadata": {},
   "source": [
    "В принципе, можно было и не заморачиваться с группировкой и агрегацией, а просто построить гистограмму. Так что пусть тоже будет"
   ]
  },
  {
   "cell_type": "code",
   "execution_count": 31,
   "id": "e29cf016",
   "metadata": {},
   "outputs": [
    {
     "data": {
      "text/plain": [
       "<Axes: xlabel='estimated_date_diff', ylabel='Count'>"
      ]
     },
     "execution_count": 31,
     "metadata": {},
     "output_type": "execute_result"
    },
    {
     "data": {
      "image/png": "[encoded data removed]",
      "text/plain": [
       "<Figure size 1600x800 with 1 Axes>"
      ]
     },
     "metadata": {},
     "output_type": "display_data"
    }
   ],
   "source": [
    "sns.histplot(data=orders, x='estimated_date_diff')"
   ]
  },
  {
   "cell_type": "markdown",
   "id": "3fbd010b",
   "metadata": {},
   "source": [
    "Красивости я будут наводить в графиках для заданий. Сейчас же моя задача предварительно и быстро оценить данные. Чаще всего мы обещаем доставку в период 10-40 дней, однако есть выбросы и больше 100 дней. Пока на этом остановлюсь — к датам доставки вернусь уже после мёрджа датафреймов"
   ]
  },
  {
   "cell_type": "markdown",
   "id": "b8d664db",
   "metadata": {},
   "source": [
    "Проверим, нет ли заказов, у которых ожидаемый срок доставки выходит за период нашей выгрузки"
   ]
  },
  {
   "cell_type": "code",
   "execution_count": 32,
   "id": "c7e779d1",
   "metadata": {},
   "outputs": [
    {
     "data": {
      "text/html": [
       "<div>\n",
       "<style scoped>\n",
       "    .dataframe tbody tr th:only-of-type {\n",
       "        vertical-align: middle;\n",
       "    }\n",
       "\n",
       "    .dataframe tbody tr th {\n",
       "        vertical-align: top;\n",
       "    }\n",
       "\n",
       "    .dataframe thead th {\n",
       "        text-align: right;\n",
       "    }\n",
       "</style>\n",
       "<table border=\"1\" class=\"dataframe\">\n",
       "  <thead>\n",
       "    <tr style=\"text-align: right;\">\n",
       "      <th></th>\n",
       "      <th>order_id</th>\n",
       "      <th>customer_id</th>\n",
       "      <th>order_status</th>\n",
       "      <th>order_purchase_timestamp</th>\n",
       "      <th>order_approved_at</th>\n",
       "      <th>order_delivered_carrier_date</th>\n",
       "      <th>order_delivered_customer_date</th>\n",
       "      <th>order_estimated_delivery_date</th>\n",
       "      <th>estimated_date_diff</th>\n",
       "    </tr>\n",
       "  </thead>\n",
       "  <tbody>\n",
       "    <tr>\n",
       "      <th>82521</th>\n",
       "      <td>0ba4f7e89d304a02edca85087abfd14c</td>\n",
       "      <td>b5c1c56fe1ec3cec6893b98d90a339bd</td>\n",
       "      <td>delivered</td>\n",
       "      <td>2018-08-13 22:51:49</td>\n",
       "      <td>2018-08-13 23:04:09</td>\n",
       "      <td>2018-08-22 14:04:00</td>\n",
       "      <td>2018-08-30 23:38:26</td>\n",
       "      <td>2018-10-25</td>\n",
       "      <td>72</td>\n",
       "    </tr>\n",
       "    <tr>\n",
       "      <th>65880</th>\n",
       "      <td>70c5ccc21360b2f9c8f0a0decfb4e41d</td>\n",
       "      <td>d4217fcb991f5bc95ee2f5d7fd903cad</td>\n",
       "      <td>delivered</td>\n",
       "      <td>2018-08-14 19:46:25</td>\n",
       "      <td>2018-08-14 19:55:29</td>\n",
       "      <td>2018-08-16 16:26:00</td>\n",
       "      <td>2018-08-29 19:02:39</td>\n",
       "      <td>2018-10-23</td>\n",
       "      <td>69</td>\n",
       "    </tr>\n",
       "    <tr>\n",
       "      <th>37003</th>\n",
       "      <td>869997fbe01f39d184956b5c6bccfdbe</td>\n",
       "      <td>55c9dad94ec1a2ba57998bdb376c230a</td>\n",
       "      <td>canceled</td>\n",
       "      <td>2018-09-26 08:40:15</td>\n",
       "      <td>NaT</td>\n",
       "      <td>NaT</td>\n",
       "      <td>NaT</td>\n",
       "      <td>2018-10-25</td>\n",
       "      <td>28</td>\n",
       "    </tr>\n",
       "    <tr>\n",
       "      <th>88500</th>\n",
       "      <td>616fa7d4871b87832197b2a137a115d2</td>\n",
       "      <td>bf6181a85bbb4115736c0a8db1a53be3</td>\n",
       "      <td>canceled</td>\n",
       "      <td>2018-10-01 15:30:09</td>\n",
       "      <td>NaT</td>\n",
       "      <td>NaT</td>\n",
       "      <td>NaT</td>\n",
       "      <td>2018-10-23</td>\n",
       "      <td>21</td>\n",
       "    </tr>\n",
       "    <tr>\n",
       "      <th>68373</th>\n",
       "      <td>b059ee4de278302d550a3035c4cdb740</td>\n",
       "      <td>856336203359aa6a61bf3826f7d84c49</td>\n",
       "      <td>canceled</td>\n",
       "      <td>2018-10-16 20:16:02</td>\n",
       "      <td>NaT</td>\n",
       "      <td>NaT</td>\n",
       "      <td>NaT</td>\n",
       "      <td>2018-11-12</td>\n",
       "      <td>26</td>\n",
       "    </tr>\n",
       "    <tr>\n",
       "      <th>60938</th>\n",
       "      <td>10a045cdf6a5650c21e9cfeb60384c16</td>\n",
       "      <td>a4b417188addbc05b26b72d5e44837a1</td>\n",
       "      <td>canceled</td>\n",
       "      <td>2018-10-17 17:30:18</td>\n",
       "      <td>NaT</td>\n",
       "      <td>NaT</td>\n",
       "      <td>NaT</td>\n",
       "      <td>2018-10-30</td>\n",
       "      <td>12</td>\n",
       "    </tr>\n",
       "  </tbody>\n",
       "</table>\n",
       "</div>"
      ],
      "text/plain": [
       "                               order_id                       customer_id  \\\n",
       "82521  0ba4f7e89d304a02edca85087abfd14c  b5c1c56fe1ec3cec6893b98d90a339bd   \n",
       "65880  70c5ccc21360b2f9c8f0a0decfb4e41d  d4217fcb991f5bc95ee2f5d7fd903cad   \n",
       "37003  869997fbe01f39d184956b5c6bccfdbe  55c9dad94ec1a2ba57998bdb376c230a   \n",
       "88500  616fa7d4871b87832197b2a137a115d2  bf6181a85bbb4115736c0a8db1a53be3   \n",
       "68373  b059ee4de278302d550a3035c4cdb740  856336203359aa6a61bf3826f7d84c49   \n",
       "60938  10a045cdf6a5650c21e9cfeb60384c16  a4b417188addbc05b26b72d5e44837a1   \n",
       "\n",
       "      order_status order_purchase_timestamp   order_approved_at  \\\n",
       "82521    delivered      2018-08-13 22:51:49 2018-08-13 23:04:09   \n",
       "65880    delivered      2018-08-14 19:46:25 2018-08-14 19:55:29   \n",
       "37003     canceled      2018-09-26 08:40:15                 NaT   \n",
       "88500     canceled      2018-10-01 15:30:09                 NaT   \n",
       "68373     canceled      2018-10-16 20:16:02                 NaT   \n",
       "60938     canceled      2018-10-17 17:30:18                 NaT   \n",
       "\n",
       "      order_delivered_carrier_date order_delivered_customer_date  \\\n",
       "82521          2018-08-22 14:04:00           2018-08-30 23:38:26   \n",
       "65880          2018-08-16 16:26:00           2018-08-29 19:02:39   \n",
       "37003                          NaT                           NaT   \n",
       "88500                          NaT                           NaT   \n",
       "68373                          NaT                           NaT   \n",
       "60938                          NaT                           NaT   \n",
       "\n",
       "      order_estimated_delivery_date  estimated_date_diff  \n",
       "82521                    2018-10-25                   72  \n",
       "65880                    2018-10-23                   69  \n",
       "37003                    2018-10-25                   28  \n",
       "88500                    2018-10-23                   21  \n",
       "68373                    2018-11-12                   26  \n",
       "60938                    2018-10-30                   12  "
      ]
     },
     "execution_count": 32,
     "metadata": {},
     "output_type": "execute_result"
    }
   ],
   "source": [
    "max_purchase_time = orders.order_purchase_timestamp.max()\n",
    "orders.query(\"order_estimated_delivery_date >= @max_purchase_time\")"
   ]
  },
  {
   "cell_type": "markdown",
   "id": "8aa8bc82",
   "metadata": {},
   "source": [
    "Все либо доставлены, либо отменены"
   ]
  },
  {
   "cell_type": "markdown",
   "id": "55b87c05",
   "metadata": {},
   "source": [
    "Неплохо бы исследовать наш датафрейм на предмет массовых потерь данных в определённые моменты времени. Если в какой-то день будет много `NaN`, то есть смысл копнуть его детальнее"
   ]
  },
  {
   "cell_type": "code",
   "execution_count": 33,
   "id": "5cf8df16",
   "metadata": {
    "scrolled": true
   },
   "outputs": [
    {
     "data": {
      "text/html": [
       "<div>\n",
       "<style scoped>\n",
       "    .dataframe tbody tr th:only-of-type {\n",
       "        vertical-align: middle;\n",
       "    }\n",
       "\n",
       "    .dataframe tbody tr th {\n",
       "        vertical-align: top;\n",
       "    }\n",
       "\n",
       "    .dataframe thead th {\n",
       "        text-align: right;\n",
       "    }\n",
       "</style>\n",
       "<table border=\"1\" class=\"dataframe\">\n",
       "  <thead>\n",
       "    <tr style=\"text-align: right;\">\n",
       "      <th></th>\n",
       "      <th>order_id</th>\n",
       "    </tr>\n",
       "    <tr>\n",
       "      <th>order_purchase_timestamp</th>\n",
       "      <th></th>\n",
       "    </tr>\n",
       "  </thead>\n",
       "  <tbody>\n",
       "    <tr>\n",
       "      <th>2017-07-07 21:17:36</th>\n",
       "      <td>2</td>\n",
       "    </tr>\n",
       "    <tr>\n",
       "      <th>2017-11-03 22:26:44</th>\n",
       "      <td>2</td>\n",
       "    </tr>\n",
       "    <tr>\n",
       "      <th>2017-01-08 19:27:22</th>\n",
       "      <td>2</td>\n",
       "    </tr>\n",
       "    <tr>\n",
       "      <th>2016-09-04 21:15:19</th>\n",
       "      <td>1</td>\n",
       "    </tr>\n",
       "    <tr>\n",
       "      <th>2018-02-09 17:34:55</th>\n",
       "      <td>1</td>\n",
       "    </tr>\n",
       "    <tr>\n",
       "      <th>...</th>\n",
       "      <td>...</td>\n",
       "    </tr>\n",
       "    <tr>\n",
       "      <th>2017-08-21 21:25:31</th>\n",
       "      <td>1</td>\n",
       "    </tr>\n",
       "    <tr>\n",
       "      <th>2017-08-22 09:50:59</th>\n",
       "      <td>1</td>\n",
       "    </tr>\n",
       "    <tr>\n",
       "      <th>2017-08-22 16:01:44</th>\n",
       "      <td>1</td>\n",
       "    </tr>\n",
       "    <tr>\n",
       "      <th>2017-08-22 19:54:54</th>\n",
       "      <td>1</td>\n",
       "    </tr>\n",
       "    <tr>\n",
       "      <th>2018-10-17 17:30:18</th>\n",
       "      <td>1</td>\n",
       "    </tr>\n",
       "  </tbody>\n",
       "</table>\n",
       "<p>2977 rows × 1 columns</p>\n",
       "</div>"
      ],
      "text/plain": [
       "                          order_id\n",
       "order_purchase_timestamp          \n",
       "2017-07-07 21:17:36              2\n",
       "2017-11-03 22:26:44              2\n",
       "2017-01-08 19:27:22              2\n",
       "2016-09-04 21:15:19              1\n",
       "2018-02-09 17:34:55              1\n",
       "...                            ...\n",
       "2017-08-21 21:25:31              1\n",
       "2017-08-22 09:50:59              1\n",
       "2017-08-22 16:01:44              1\n",
       "2017-08-22 19:54:54              1\n",
       "2018-10-17 17:30:18              1\n",
       "\n",
       "[2977 rows x 1 columns]"
      ]
     },
     "execution_count": 33,
     "metadata": {},
     "output_type": "execute_result"
    }
   ],
   "source": [
    "orders \\\n",
    "    .query(\"order_approved_at.isna() | order_delivered_carrier_date.isna() | order_delivered_customer_date.isna()\") \\\n",
    "    .groupby('order_purchase_timestamp') \\\n",
    "    .agg({'order_id': 'count'}) \\\n",
    "    .sort_values(by='order_id', ascending=False)"
   ]
  },
  {
   "cell_type": "markdown",
   "id": "b478dd3d",
   "metadata": {},
   "source": [
    "Ничего крупного не нашлось. Для самоуспокоения гляну на три первых даты"
   ]
  },
  {
   "cell_type": "code",
   "execution_count": 34,
   "id": "e83acd51",
   "metadata": {
    "scrolled": true
   },
   "outputs": [
    {
     "data": {
      "text/html": [
       "<div>\n",
       "<style scoped>\n",
       "    .dataframe tbody tr th:only-of-type {\n",
       "        vertical-align: middle;\n",
       "    }\n",
       "\n",
       "    .dataframe tbody tr th {\n",
       "        vertical-align: top;\n",
       "    }\n",
       "\n",
       "    .dataframe thead th {\n",
       "        text-align: right;\n",
       "    }\n",
       "</style>\n",
       "<table border=\"1\" class=\"dataframe\">\n",
       "  <thead>\n",
       "    <tr style=\"text-align: right;\">\n",
       "      <th></th>\n",
       "      <th>order_id</th>\n",
       "      <th>customer_id</th>\n",
       "      <th>order_status</th>\n",
       "      <th>order_purchase_timestamp</th>\n",
       "      <th>order_approved_at</th>\n",
       "      <th>order_delivered_carrier_date</th>\n",
       "      <th>order_delivered_customer_date</th>\n",
       "      <th>order_estimated_delivery_date</th>\n",
       "      <th>estimated_date_diff</th>\n",
       "    </tr>\n",
       "  </thead>\n",
       "  <tbody>\n",
       "    <tr>\n",
       "      <th>12751</th>\n",
       "      <td>46936461f0c4e3c80b9289ce5fc1682a</td>\n",
       "      <td>f6295486d5e27c0de0101b3f1b63b6d1</td>\n",
       "      <td>shipped</td>\n",
       "      <td>2017-01-08 19:27:22</td>\n",
       "      <td>2017-01-08 19:45:02</td>\n",
       "      <td>2017-01-11 09:34:18</td>\n",
       "      <td>NaT</td>\n",
       "      <td>2017-02-21</td>\n",
       "      <td>43</td>\n",
       "    </tr>\n",
       "    <tr>\n",
       "      <th>94965</th>\n",
       "      <td>195416246665b8268100ef5fde9722b4</td>\n",
       "      <td>b14e4569fdc3353689f16abb8b57dadc</td>\n",
       "      <td>shipped</td>\n",
       "      <td>2017-01-08 19:27:22</td>\n",
       "      <td>2017-01-08 19:45:02</td>\n",
       "      <td>2017-01-11 09:34:18</td>\n",
       "      <td>NaT</td>\n",
       "      <td>2017-02-22</td>\n",
       "      <td>44</td>\n",
       "    </tr>\n",
       "    <tr>\n",
       "      <th>53328</th>\n",
       "      <td>f889a5a0b44adc29c5465b99395ac3c1</td>\n",
       "      <td>b78ba44ee52b74b9dbe30c8a533d23df</td>\n",
       "      <td>unavailable</td>\n",
       "      <td>2017-07-07 21:17:36</td>\n",
       "      <td>2017-07-07 21:30:11</td>\n",
       "      <td>NaT</td>\n",
       "      <td>NaT</td>\n",
       "      <td>2017-07-27</td>\n",
       "      <td>19</td>\n",
       "    </tr>\n",
       "    <tr>\n",
       "      <th>39998</th>\n",
       "      <td>33d8795f04dd631f3480d7aaf90da3dc</td>\n",
       "      <td>b11ea459107d514dd45bce81c0ab4e74</td>\n",
       "      <td>unavailable</td>\n",
       "      <td>2017-07-07 21:17:36</td>\n",
       "      <td>2017-07-07 21:30:13</td>\n",
       "      <td>NaT</td>\n",
       "      <td>NaT</td>\n",
       "      <td>2017-07-27</td>\n",
       "      <td>19</td>\n",
       "    </tr>\n",
       "    <tr>\n",
       "      <th>69479</th>\n",
       "      <td>a3ef7e4271c9088cf2d3de8305ef2355</td>\n",
       "      <td>a4839648ce5d1a83c99e4383f58de2e1</td>\n",
       "      <td>unavailable</td>\n",
       "      <td>2017-11-03 22:26:44</td>\n",
       "      <td>2017-11-03 22:45:51</td>\n",
       "      <td>NaT</td>\n",
       "      <td>NaT</td>\n",
       "      <td>2017-11-24</td>\n",
       "      <td>20</td>\n",
       "    </tr>\n",
       "    <tr>\n",
       "      <th>47089</th>\n",
       "      <td>19bbda1f882b3aeddba973e935519905</td>\n",
       "      <td>e874220095cbbc1cca6c70cc3c6ab8b8</td>\n",
       "      <td>unavailable</td>\n",
       "      <td>2017-11-03 22:26:44</td>\n",
       "      <td>2017-11-03 22:45:46</td>\n",
       "      <td>NaT</td>\n",
       "      <td>NaT</td>\n",
       "      <td>2017-11-24</td>\n",
       "      <td>20</td>\n",
       "    </tr>\n",
       "  </tbody>\n",
       "</table>\n",
       "</div>"
      ],
      "text/plain": [
       "                               order_id                       customer_id  \\\n",
       "12751  46936461f0c4e3c80b9289ce5fc1682a  f6295486d5e27c0de0101b3f1b63b6d1   \n",
       "94965  195416246665b8268100ef5fde9722b4  b14e4569fdc3353689f16abb8b57dadc   \n",
       "53328  f889a5a0b44adc29c5465b99395ac3c1  b78ba44ee52b74b9dbe30c8a533d23df   \n",
       "39998  33d8795f04dd631f3480d7aaf90da3dc  b11ea459107d514dd45bce81c0ab4e74   \n",
       "69479  a3ef7e4271c9088cf2d3de8305ef2355  a4839648ce5d1a83c99e4383f58de2e1   \n",
       "47089  19bbda1f882b3aeddba973e935519905  e874220095cbbc1cca6c70cc3c6ab8b8   \n",
       "\n",
       "      order_status order_purchase_timestamp   order_approved_at  \\\n",
       "12751      shipped      2017-01-08 19:27:22 2017-01-08 19:45:02   \n",
       "94965      shipped      2017-01-08 19:27:22 2017-01-08 19:45:02   \n",
       "53328  unavailable      2017-07-07 21:17:36 2017-07-07 21:30:11   \n",
       "39998  unavailable      2017-07-07 21:17:36 2017-07-07 21:30:13   \n",
       "69479  unavailable      2017-11-03 22:26:44 2017-11-03 22:45:51   \n",
       "47089  unavailable      2017-11-03 22:26:44 2017-11-03 22:45:46   \n",
       "\n",
       "      order_delivered_carrier_date order_delivered_customer_date  \\\n",
       "12751          2017-01-11 09:34:18                           NaT   \n",
       "94965          2017-01-11 09:34:18                           NaT   \n",
       "53328                          NaT                           NaT   \n",
       "39998                          NaT                           NaT   \n",
       "69479                          NaT                           NaT   \n",
       "47089                          NaT                           NaT   \n",
       "\n",
       "      order_estimated_delivery_date  estimated_date_diff  \n",
       "12751                    2017-02-21                   43  \n",
       "94965                    2017-02-22                   44  \n",
       "53328                    2017-07-27                   19  \n",
       "39998                    2017-07-27                   19  \n",
       "69479                    2017-11-24                   20  \n",
       "47089                    2017-11-24                   20  "
      ]
     },
     "execution_count": 34,
     "metadata": {},
     "output_type": "execute_result"
    }
   ],
   "source": [
    "first_dates = pd.to_datetime([\n",
    "    '2017-07-07 21:17:36', \n",
    "    '2017-11-03 22:26:44', \n",
    "    '2017-01-08 19:27:22'\n",
    "])\n",
    "\n",
    "orders.loc[orders['order_purchase_timestamp'].isin(first_dates)]"
   ]
  },
  {
   "cell_type": "markdown",
   "id": "51ffaf46",
   "metadata": {},
   "source": [
    "Теперь копну в сторону статуса `unavailable`. Снова буду искать массовые тенденции и аномальные дни. Чтобы облегчить себе жизнь, сразу отсеку дни, где таких статусов меньше трёх"
   ]
  },
  {
   "cell_type": "code",
   "execution_count": 35,
   "id": "c7c27ad8",
   "metadata": {
    "scrolled": true
   },
   "outputs": [
    {
     "data": {
      "text/html": [
       "<div>\n",
       "<style scoped>\n",
       "    .dataframe tbody tr th:only-of-type {\n",
       "        vertical-align: middle;\n",
       "    }\n",
       "\n",
       "    .dataframe tbody tr th {\n",
       "        vertical-align: top;\n",
       "    }\n",
       "\n",
       "    .dataframe thead th {\n",
       "        text-align: right;\n",
       "    }\n",
       "</style>\n",
       "<table border=\"1\" class=\"dataframe\">\n",
       "  <thead>\n",
       "    <tr style=\"text-align: right;\">\n",
       "      <th></th>\n",
       "      <th>estimated_date_diff</th>\n",
       "    </tr>\n",
       "    <tr>\n",
       "      <th>order_purchase_timestamp</th>\n",
       "      <th></th>\n",
       "    </tr>\n",
       "  </thead>\n",
       "  <tbody>\n",
       "    <tr>\n",
       "      <th>2017-11-24</th>\n",
       "      <td>10</td>\n",
       "    </tr>\n",
       "    <tr>\n",
       "      <th>2017-11-17</th>\n",
       "      <td>8</td>\n",
       "    </tr>\n",
       "    <tr>\n",
       "      <th>2017-02-01</th>\n",
       "      <td>6</td>\n",
       "    </tr>\n",
       "    <tr>\n",
       "      <th>2017-12-06</th>\n",
       "      <td>6</td>\n",
       "    </tr>\n",
       "    <tr>\n",
       "      <th>2017-12-04</th>\n",
       "      <td>6</td>\n",
       "    </tr>\n",
       "    <tr>\n",
       "      <th>2017-03-06</th>\n",
       "      <td>6</td>\n",
       "    </tr>\n",
       "    <tr>\n",
       "      <th>2017-11-23</th>\n",
       "      <td>6</td>\n",
       "    </tr>\n",
       "    <tr>\n",
       "      <th>2017-07-06</th>\n",
       "      <td>6</td>\n",
       "    </tr>\n",
       "    <tr>\n",
       "      <th>2017-09-29</th>\n",
       "      <td>5</td>\n",
       "    </tr>\n",
       "    <tr>\n",
       "      <th>2017-12-05</th>\n",
       "      <td>5</td>\n",
       "    </tr>\n",
       "    <tr>\n",
       "      <th>2017-11-03</th>\n",
       "      <td>5</td>\n",
       "    </tr>\n",
       "    <tr>\n",
       "      <th>2017-10-30</th>\n",
       "      <td>5</td>\n",
       "    </tr>\n",
       "    <tr>\n",
       "      <th>2017-10-17</th>\n",
       "      <td>5</td>\n",
       "    </tr>\n",
       "    <tr>\n",
       "      <th>2017-10-10</th>\n",
       "      <td>5</td>\n",
       "    </tr>\n",
       "    <tr>\n",
       "      <th>2017-07-17</th>\n",
       "      <td>5</td>\n",
       "    </tr>\n",
       "    <tr>\n",
       "      <th>2017-02-08</th>\n",
       "      <td>5</td>\n",
       "    </tr>\n",
       "    <tr>\n",
       "      <th>2017-02-14</th>\n",
       "      <td>5</td>\n",
       "    </tr>\n",
       "    <tr>\n",
       "      <th>2017-08-13</th>\n",
       "      <td>4</td>\n",
       "    </tr>\n",
       "    <tr>\n",
       "      <th>2017-11-29</th>\n",
       "      <td>4</td>\n",
       "    </tr>\n",
       "    <tr>\n",
       "      <th>2018-02-09</th>\n",
       "      <td>4</td>\n",
       "    </tr>\n",
       "    <tr>\n",
       "      <th>2018-01-22</th>\n",
       "      <td>4</td>\n",
       "    </tr>\n",
       "    <tr>\n",
       "      <th>2018-01-21</th>\n",
       "      <td>4</td>\n",
       "    </tr>\n",
       "    <tr>\n",
       "      <th>2018-01-12</th>\n",
       "      <td>4</td>\n",
       "    </tr>\n",
       "    <tr>\n",
       "      <th>2017-12-08</th>\n",
       "      <td>4</td>\n",
       "    </tr>\n",
       "    <tr>\n",
       "      <th>2017-02-11</th>\n",
       "      <td>4</td>\n",
       "    </tr>\n",
       "    <tr>\n",
       "      <th>2017-03-02</th>\n",
       "      <td>4</td>\n",
       "    </tr>\n",
       "    <tr>\n",
       "      <th>2017-09-24</th>\n",
       "      <td>4</td>\n",
       "    </tr>\n",
       "    <tr>\n",
       "      <th>2017-06-07</th>\n",
       "      <td>4</td>\n",
       "    </tr>\n",
       "    <tr>\n",
       "      <th>2017-06-29</th>\n",
       "      <td>4</td>\n",
       "    </tr>\n",
       "    <tr>\n",
       "      <th>2017-11-11</th>\n",
       "      <td>4</td>\n",
       "    </tr>\n",
       "    <tr>\n",
       "      <th>2017-07-05</th>\n",
       "      <td>4</td>\n",
       "    </tr>\n",
       "    <tr>\n",
       "      <th>2017-07-07</th>\n",
       "      <td>4</td>\n",
       "    </tr>\n",
       "    <tr>\n",
       "      <th>2017-07-12</th>\n",
       "      <td>4</td>\n",
       "    </tr>\n",
       "    <tr>\n",
       "      <th>2017-02-06</th>\n",
       "      <td>4</td>\n",
       "    </tr>\n",
       "    <tr>\n",
       "      <th>2017-10-06</th>\n",
       "      <td>4</td>\n",
       "    </tr>\n",
       "    <tr>\n",
       "      <th>2018-07-30</th>\n",
       "      <td>4</td>\n",
       "    </tr>\n",
       "  </tbody>\n",
       "</table>\n",
       "</div>"
      ],
      "text/plain": [
       "                          estimated_date_diff\n",
       "order_purchase_timestamp                     \n",
       "2017-11-24                                 10\n",
       "2017-11-17                                  8\n",
       "2017-02-01                                  6\n",
       "2017-12-06                                  6\n",
       "2017-12-04                                  6\n",
       "2017-03-06                                  6\n",
       "2017-11-23                                  6\n",
       "2017-07-06                                  6\n",
       "2017-09-29                                  5\n",
       "2017-12-05                                  5\n",
       "2017-11-03                                  5\n",
       "2017-10-30                                  5\n",
       "2017-10-17                                  5\n",
       "2017-10-10                                  5\n",
       "2017-07-17                                  5\n",
       "2017-02-08                                  5\n",
       "2017-02-14                                  5\n",
       "2017-08-13                                  4\n",
       "2017-11-29                                  4\n",
       "2018-02-09                                  4\n",
       "2018-01-22                                  4\n",
       "2018-01-21                                  4\n",
       "2018-01-12                                  4\n",
       "2017-12-08                                  4\n",
       "2017-02-11                                  4\n",
       "2017-03-02                                  4\n",
       "2017-09-24                                  4\n",
       "2017-06-07                                  4\n",
       "2017-06-29                                  4\n",
       "2017-11-11                                  4\n",
       "2017-07-05                                  4\n",
       "2017-07-07                                  4\n",
       "2017-07-12                                  4\n",
       "2017-02-06                                  4\n",
       "2017-10-06                                  4\n",
       "2018-07-30                                  4"
      ]
     },
     "execution_count": 35,
     "metadata": {},
     "output_type": "execute_result"
    }
   ],
   "source": [
    "orders \\\n",
    "    .query(\"order_status == 'unavailable'\") \\\n",
    "    .set_index('order_purchase_timestamp') \\\n",
    "    .resample(rule=\"D\") \\\n",
    "    .agg({'estimated_date_diff': 'count'}) \\\n",
    "    .query(\"estimated_date_diff > 3\") \\\n",
    "    .sort_values(by='estimated_date_diff', ascending=False)"
   ]
  },
  {
   "cell_type": "markdown",
   "id": "72efaee7",
   "metadata": {},
   "source": [
    "Посмотрю сколько у нас заказов 24 ноября, чтобы правильно оценить ситуацию"
   ]
  },
  {
   "cell_type": "code",
   "execution_count": 36,
   "id": "a823ddf7",
   "metadata": {
    "scrolled": true
   },
   "outputs": [
    {
     "data": {
      "text/plain": [
       "1176"
      ]
     },
     "execution_count": 36,
     "metadata": {},
     "output_type": "execute_result"
    }
   ],
   "source": [
    "orders.query(\"order_purchase_timestamp >= '2017-11-24' & order_purchase_timestamp < '2017-11-25'\").shape[0]"
   ]
  },
  {
   "cell_type": "markdown",
   "id": "a2078673",
   "metadata": {},
   "source": [
    "В этот день у нас куча заказов, так что 10 штук с `unavailable` на массовость не тянут. Ну хорошо, посмотрим второе место по частоте — 17 ноября 2017 года"
   ]
  },
  {
   "cell_type": "code",
   "execution_count": 37,
   "id": "5f50df22",
   "metadata": {},
   "outputs": [
    {
     "data": {
      "text/plain": [
       "197"
      ]
     },
     "execution_count": 37,
     "metadata": {},
     "output_type": "execute_result"
    }
   ],
   "source": [
    "orders.query(\"order_purchase_timestamp >= '2017-11-17' & order_purchase_timestamp < '2017-11-18'\").shape[0]"
   ]
  },
  {
   "cell_type": "markdown",
   "id": "b9307c17",
   "metadata": {},
   "source": [
    "Суть та же, так что смысла дальше смотреть в этом направлении не вижу. На этом остановимся и перейдём к итогам анализа"
   ]
  },
  {
   "cell_type": "markdown",
   "id": "0fe3802c",
   "metadata": {},
   "source": [
    "#### Вывод\n",
    "Общие тезисы\n",
    " - будем считатать, что `order_delivered_customer_date` подтягивается автоматически из отслеживания по заказу, а не проставляется юзером на сайте или в приложении при реальном получении\n",
    " - как только заказ попадает в систему, то ему сразу назначается ориентировочная дата доставки. У нас нет потерь в `order_estimated_delivery_date` + на наличие ожидаемой даты доставки никак не влияет смена статуса (даже для отменённых заказов эти сроки есть)\n",
    "    - дата доставки расчитывается не прибавлением фиксированного промежутка времени к `order_purchase_timestamp`, а более сложным алгоритмом\n",
    " - уникальных значений `customer_id` столько же, сколько и в таблице `customers`\n",
    " - чаще всего мы обещаем доставку в период 10-40 дней, однако есть выбросы и больше 100 дней\n",
    " - дни с массовой потерей значений не нашли\n",
    "\n",
    "Недоставка\n",
    "- Если ожидаемый срок доставки заказа **больше** последней даты создания заказа в датафрейме и он не отменён, то мы не можем считать такие заказы недоставленными. Они вполне могли бы ехать к юзеру на момент выгрузки данных. У нас всего 6 заказов, которые прошли фильтр: все либо доставлены, либо отменены, так что здесь всё чисто\n",
    "- не совсем понятна природа статуса `unavailable`, но будем считать, что эти посылки либо попали в логистический ад, либо не могли быть доставлены по конкретному адресу (проверим это позже)\n",
    "- 8 заказов получили статус `delivered`, однако даты доставки нет = можем считать **недоставленными**\n",
    "- 6 заказов в статусе `canceled` всё равно были получены пользователями. Варианты:\n",
    "    - отмены действительно были инициированы, система их проигнорировала и пустила заказы в работу\n",
    "    - заказ отменили в тот момент, когда он уже находился в пути и его нельзя было развернуть в силу особенностей логистики\n",
    "    - заказы отменили уже после доставки. Рефанды ведь бывают не только по доставке, но и, например, из-за плохого качества товара :)\n",
    "    - статус `canceled` для этих заказов проставился из-за сбоя или их отменили по ошибке опять же после доставки\n",
    "    - Мой выбор: пока предварительно буду считать такие заказы **доставленными**, если не будет других факторов, которые мы исследуем позже\n",
    "- В итоге, **можно считать недоставленными все заказы, которые не имеют `order_delivered_customer_date`**\n",
    "\n",
    "Детально углубляться в то, что же точно считать недоставкой, я буду при ответе на второй вопрос. Скорее всего, это **не все** её условия."
   ]
  },
  {
   "cell_type": "markdown",
   "id": "f985c5d7",
   "metadata": {},
   "source": [
    "### order_items\n",
    "Товарные позиции, входящие в заказы\n",
    "\n",
    " - `order_id` —  уникальный идентификатор заказа (номер чека)\n",
    " - `order_item_id` —  идентификатор товара внутри одного заказа\n",
    " - `product_id` —  ид товара (аналог штрихкода)\n",
    " - `seller_id` — ид производителя товара\n",
    " - `shipping_limit_date` —  максимальная дата доставки продавцом для передачи заказа партнеру по логистике\n",
    " - `price` —  цена за единицу товара\n",
    " - `freight_value` — вес товара\n",
    "\n",
    "Пример структуры данных можно визуализировать по `order_id == 00143d0f86d6fbd9f9b38ab440ac16f5`"
   ]
  },
  {
   "cell_type": "code",
   "execution_count": 38,
   "id": "a5d453f5",
   "metadata": {},
   "outputs": [],
   "source": [
    "path = Path(Path.cwd(), 'data_for_ecommerce_project', 'olist_order_items_dataset.csv')\n",
    "order_items = pd.read_csv(path, parse_dates=['shipping_limit_date'])"
   ]
  },
  {
   "cell_type": "markdown",
   "id": "7833976f",
   "metadata": {},
   "source": [
    "Снова смотрим на основные параметры датафрейма — типы данных, пропуски, описательную статистику и иже с ними"
   ]
  },
  {
   "cell_type": "code",
   "execution_count": 39,
   "id": "8d1428c2",
   "metadata": {
    "scrolled": true
   },
   "outputs": [
    {
     "data": {
      "text/html": [
       "<div>\n",
       "<style scoped>\n",
       "    .dataframe tbody tr th:only-of-type {\n",
       "        vertical-align: middle;\n",
       "    }\n",
       "\n",
       "    .dataframe tbody tr th {\n",
       "        vertical-align: top;\n",
       "    }\n",
       "\n",
       "    .dataframe thead th {\n",
       "        text-align: right;\n",
       "    }\n",
       "</style>\n",
       "<table border=\"1\" class=\"dataframe\">\n",
       "  <thead>\n",
       "    <tr style=\"text-align: right;\">\n",
       "      <th></th>\n",
       "      <th>order_id</th>\n",
       "      <th>order_item_id</th>\n",
       "      <th>product_id</th>\n",
       "      <th>seller_id</th>\n",
       "      <th>shipping_limit_date</th>\n",
       "      <th>price</th>\n",
       "      <th>freight_value</th>\n",
       "    </tr>\n",
       "  </thead>\n",
       "  <tbody>\n",
       "    <tr>\n",
       "      <th>0</th>\n",
       "      <td>00010242fe8c5a6d1ba2dd792cb16214</td>\n",
       "      <td>1</td>\n",
       "      <td>4244733e06e7ecb4970a6e2683c13e61</td>\n",
       "      <td>48436dade18ac8b2bce089ec2a041202</td>\n",
       "      <td>2017-09-19 09:45:35</td>\n",
       "      <td>58.90</td>\n",
       "      <td>13.29</td>\n",
       "    </tr>\n",
       "    <tr>\n",
       "      <th>1</th>\n",
       "      <td>00018f77f2f0320c557190d7a144bdd3</td>\n",
       "      <td>1</td>\n",
       "      <td>e5f2d52b802189ee658865ca93d83a8f</td>\n",
       "      <td>dd7ddc04e1b6c2c614352b383efe2d36</td>\n",
       "      <td>2017-05-03 11:05:13</td>\n",
       "      <td>239.90</td>\n",
       "      <td>19.93</td>\n",
       "    </tr>\n",
       "    <tr>\n",
       "      <th>2</th>\n",
       "      <td>000229ec398224ef6ca0657da4fc703e</td>\n",
       "      <td>1</td>\n",
       "      <td>c777355d18b72b67abbeef9df44fd0fd</td>\n",
       "      <td>5b51032eddd242adc84c38acab88f23d</td>\n",
       "      <td>2018-01-18 14:48:30</td>\n",
       "      <td>199.00</td>\n",
       "      <td>17.87</td>\n",
       "    </tr>\n",
       "    <tr>\n",
       "      <th>3</th>\n",
       "      <td>00024acbcdf0a6daa1e931b038114c75</td>\n",
       "      <td>1</td>\n",
       "      <td>7634da152a4610f1595efa32f14722fc</td>\n",
       "      <td>9d7a1d34a5052409006425275ba1c2b4</td>\n",
       "      <td>2018-08-15 10:10:18</td>\n",
       "      <td>12.99</td>\n",
       "      <td>12.79</td>\n",
       "    </tr>\n",
       "    <tr>\n",
       "      <th>4</th>\n",
       "      <td>00042b26cf59d7ce69dfabb4e55b4fd9</td>\n",
       "      <td>1</td>\n",
       "      <td>ac6c3623068f30de03045865e4e10089</td>\n",
       "      <td>df560393f3a51e74553ab94004ba5c87</td>\n",
       "      <td>2017-02-13 13:57:51</td>\n",
       "      <td>199.90</td>\n",
       "      <td>18.14</td>\n",
       "    </tr>\n",
       "  </tbody>\n",
       "</table>\n",
       "</div>"
      ],
      "text/plain": [
       "                           order_id  order_item_id  \\\n",
       "0  00010242fe8c5a6d1ba2dd792cb16214              1   \n",
       "1  00018f77f2f0320c557190d7a144bdd3              1   \n",
       "2  000229ec398224ef6ca0657da4fc703e              1   \n",
       "3  00024acbcdf0a6daa1e931b038114c75              1   \n",
       "4  00042b26cf59d7ce69dfabb4e55b4fd9              1   \n",
       "\n",
       "                         product_id                         seller_id  \\\n",
       "0  4244733e06e7ecb4970a6e2683c13e61  48436dade18ac8b2bce089ec2a041202   \n",
       "1  e5f2d52b802189ee658865ca93d83a8f  dd7ddc04e1b6c2c614352b383efe2d36   \n",
       "2  c777355d18b72b67abbeef9df44fd0fd  5b51032eddd242adc84c38acab88f23d   \n",
       "3  7634da152a4610f1595efa32f14722fc  9d7a1d34a5052409006425275ba1c2b4   \n",
       "4  ac6c3623068f30de03045865e4e10089  df560393f3a51e74553ab94004ba5c87   \n",
       "\n",
       "  shipping_limit_date   price  freight_value  \n",
       "0 2017-09-19 09:45:35   58.90          13.29  \n",
       "1 2017-05-03 11:05:13  239.90          19.93  \n",
       "2 2018-01-18 14:48:30  199.00          17.87  \n",
       "3 2018-08-15 10:10:18   12.99          12.79  \n",
       "4 2017-02-13 13:57:51  199.90          18.14  "
      ]
     },
     "execution_count": 39,
     "metadata": {},
     "output_type": "execute_result"
    }
   ],
   "source": [
    "order_items.head()"
   ]
  },
  {
   "cell_type": "code",
   "execution_count": 40,
   "id": "e673a082",
   "metadata": {},
   "outputs": [
    {
     "data": {
      "text/plain": [
       "order_id                       object\n",
       "order_item_id                   int64\n",
       "product_id                     object\n",
       "seller_id                      object\n",
       "shipping_limit_date    datetime64[ns]\n",
       "price                         float64\n",
       "freight_value                 float64\n",
       "dtype: object"
      ]
     },
     "execution_count": 40,
     "metadata": {},
     "output_type": "execute_result"
    }
   ],
   "source": [
    "order_items.dtypes"
   ]
  },
  {
   "cell_type": "markdown",
   "id": "79449ab6",
   "metadata": {},
   "source": [
    "Изначально колонка `shipping_limit_date` была с типом `object`. Решил сразу правильно её спарсить в `read_csv`"
   ]
  },
  {
   "cell_type": "markdown",
   "id": "c1a96e16",
   "metadata": {},
   "source": [
    "Посмотрим на структуру отдельного заказа"
   ]
  },
  {
   "cell_type": "code",
   "execution_count": 41,
   "id": "f24016df",
   "metadata": {},
   "outputs": [
    {
     "data": {
      "text/html": [
       "<div>\n",
       "<style scoped>\n",
       "    .dataframe tbody tr th:only-of-type {\n",
       "        vertical-align: middle;\n",
       "    }\n",
       "\n",
       "    .dataframe tbody tr th {\n",
       "        vertical-align: top;\n",
       "    }\n",
       "\n",
       "    .dataframe thead th {\n",
       "        text-align: right;\n",
       "    }\n",
       "</style>\n",
       "<table border=\"1\" class=\"dataframe\">\n",
       "  <thead>\n",
       "    <tr style=\"text-align: right;\">\n",
       "      <th></th>\n",
       "      <th>order_id</th>\n",
       "      <th>order_item_id</th>\n",
       "      <th>product_id</th>\n",
       "      <th>seller_id</th>\n",
       "      <th>shipping_limit_date</th>\n",
       "      <th>price</th>\n",
       "      <th>freight_value</th>\n",
       "    </tr>\n",
       "  </thead>\n",
       "  <tbody>\n",
       "    <tr>\n",
       "      <th>32</th>\n",
       "      <td>00143d0f86d6fbd9f9b38ab440ac16f5</td>\n",
       "      <td>1</td>\n",
       "      <td>e95ee6822b66ac6058e2e4aff656071a</td>\n",
       "      <td>a17f621c590ea0fab3d5d883e1630ec6</td>\n",
       "      <td>2017-10-20 16:07:52</td>\n",
       "      <td>21.33</td>\n",
       "      <td>15.1</td>\n",
       "    </tr>\n",
       "    <tr>\n",
       "      <th>33</th>\n",
       "      <td>00143d0f86d6fbd9f9b38ab440ac16f5</td>\n",
       "      <td>2</td>\n",
       "      <td>e95ee6822b66ac6058e2e4aff656071a</td>\n",
       "      <td>a17f621c590ea0fab3d5d883e1630ec6</td>\n",
       "      <td>2017-10-20 16:07:52</td>\n",
       "      <td>21.33</td>\n",
       "      <td>15.1</td>\n",
       "    </tr>\n",
       "    <tr>\n",
       "      <th>34</th>\n",
       "      <td>00143d0f86d6fbd9f9b38ab440ac16f5</td>\n",
       "      <td>3</td>\n",
       "      <td>e95ee6822b66ac6058e2e4aff656071a</td>\n",
       "      <td>a17f621c590ea0fab3d5d883e1630ec6</td>\n",
       "      <td>2017-10-20 16:07:52</td>\n",
       "      <td>21.33</td>\n",
       "      <td>15.1</td>\n",
       "    </tr>\n",
       "  </tbody>\n",
       "</table>\n",
       "</div>"
      ],
      "text/plain": [
       "                            order_id  order_item_id  \\\n",
       "32  00143d0f86d6fbd9f9b38ab440ac16f5              1   \n",
       "33  00143d0f86d6fbd9f9b38ab440ac16f5              2   \n",
       "34  00143d0f86d6fbd9f9b38ab440ac16f5              3   \n",
       "\n",
       "                          product_id                         seller_id  \\\n",
       "32  e95ee6822b66ac6058e2e4aff656071a  a17f621c590ea0fab3d5d883e1630ec6   \n",
       "33  e95ee6822b66ac6058e2e4aff656071a  a17f621c590ea0fab3d5d883e1630ec6   \n",
       "34  e95ee6822b66ac6058e2e4aff656071a  a17f621c590ea0fab3d5d883e1630ec6   \n",
       "\n",
       "   shipping_limit_date  price  freight_value  \n",
       "32 2017-10-20 16:07:52  21.33           15.1  \n",
       "33 2017-10-20 16:07:52  21.33           15.1  \n",
       "34 2017-10-20 16:07:52  21.33           15.1  "
      ]
     },
     "execution_count": 41,
     "metadata": {},
     "output_type": "execute_result"
    }
   ],
   "source": [
    "order_items.query(\"order_id == '00143d0f86d6fbd9f9b38ab440ac16f5'\")"
   ]
  },
  {
   "cell_type": "code",
   "execution_count": 42,
   "id": "03de3a72",
   "metadata": {},
   "outputs": [
    {
     "data": {
      "text/plain": [
       "(112650, 7)"
      ]
     },
     "execution_count": 42,
     "metadata": {},
     "output_type": "execute_result"
    }
   ],
   "source": [
    "order_items.shape"
   ]
  },
  {
   "cell_type": "code",
   "execution_count": 43,
   "id": "49738478",
   "metadata": {
    "scrolled": true
   },
   "outputs": [
    {
     "data": {
      "text/html": [
       "<div>\n",
       "<style scoped>\n",
       "    .dataframe tbody tr th:only-of-type {\n",
       "        vertical-align: middle;\n",
       "    }\n",
       "\n",
       "    .dataframe tbody tr th {\n",
       "        vertical-align: top;\n",
       "    }\n",
       "\n",
       "    .dataframe thead th {\n",
       "        text-align: right;\n",
       "    }\n",
       "</style>\n",
       "<table border=\"1\" class=\"dataframe\">\n",
       "  <thead>\n",
       "    <tr style=\"text-align: right;\">\n",
       "      <th></th>\n",
       "      <th>order_id</th>\n",
       "      <th>customer_id</th>\n",
       "      <th>order_status</th>\n",
       "      <th>order_purchase_timestamp</th>\n",
       "      <th>order_approved_at</th>\n",
       "      <th>order_delivered_carrier_date</th>\n",
       "      <th>order_delivered_customer_date</th>\n",
       "      <th>order_estimated_delivery_date</th>\n",
       "      <th>estimated_date_diff</th>\n",
       "    </tr>\n",
       "  </thead>\n",
       "  <tbody>\n",
       "    <tr>\n",
       "      <th>4541</th>\n",
       "      <td>2e7a8482f6fb09756ca50c10d7bfc047</td>\n",
       "      <td>08c5351a6aca1c1589a38f244edeee9d</td>\n",
       "      <td>shipped</td>\n",
       "      <td>2016-09-04 21:15:19</td>\n",
       "      <td>2016-10-07 13:18:03</td>\n",
       "      <td>2016-10-18 13:14:51</td>\n",
       "      <td>NaT</td>\n",
       "      <td>2016-10-20</td>\n",
       "      <td>45</td>\n",
       "    </tr>\n",
       "    <tr>\n",
       "      <th>4396</th>\n",
       "      <td>e5fa5a7210941f7d56d0208e4e071d35</td>\n",
       "      <td>683c54fc24d40ee9f8a6fc179fd9856c</td>\n",
       "      <td>canceled</td>\n",
       "      <td>2016-09-05 00:15:34</td>\n",
       "      <td>2016-10-07 13:17:15</td>\n",
       "      <td>NaT</td>\n",
       "      <td>NaT</td>\n",
       "      <td>2016-10-28</td>\n",
       "      <td>52</td>\n",
       "    </tr>\n",
       "    <tr>\n",
       "      <th>10071</th>\n",
       "      <td>809a282bbd5dbcabb6f2f724fca862ec</td>\n",
       "      <td>622e13439d6b5a0b486c435618b2679e</td>\n",
       "      <td>canceled</td>\n",
       "      <td>2016-09-13 15:24:19</td>\n",
       "      <td>2016-10-07 13:16:46</td>\n",
       "      <td>NaT</td>\n",
       "      <td>NaT</td>\n",
       "      <td>2016-09-30</td>\n",
       "      <td>16</td>\n",
       "    </tr>\n",
       "    <tr>\n",
       "      <th>30710</th>\n",
       "      <td>bfbd0f9bdef84302105ad712db648a6c</td>\n",
       "      <td>86dc2ffce2dfff336de2f386a786e574</td>\n",
       "      <td>delivered</td>\n",
       "      <td>2016-09-15 12:16:38</td>\n",
       "      <td>2016-09-15 12:16:38</td>\n",
       "      <td>2016-11-07 17:11:53</td>\n",
       "      <td>2016-11-09 07:47:38</td>\n",
       "      <td>2016-10-04</td>\n",
       "      <td>18</td>\n",
       "    </tr>\n",
       "    <tr>\n",
       "      <th>83078</th>\n",
       "      <td>71303d7e93b399f5bcd537d124c0bcfa</td>\n",
       "      <td>b106b360fe2ef8849fbbd056f777b4d5</td>\n",
       "      <td>canceled</td>\n",
       "      <td>2016-10-02 22:07:52</td>\n",
       "      <td>2016-10-06 15:50:56</td>\n",
       "      <td>NaT</td>\n",
       "      <td>NaT</td>\n",
       "      <td>2016-10-25</td>\n",
       "      <td>22</td>\n",
       "    </tr>\n",
       "  </tbody>\n",
       "</table>\n",
       "</div>"
      ],
      "text/plain": [
       "                               order_id                       customer_id  \\\n",
       "4541   2e7a8482f6fb09756ca50c10d7bfc047  08c5351a6aca1c1589a38f244edeee9d   \n",
       "4396   e5fa5a7210941f7d56d0208e4e071d35  683c54fc24d40ee9f8a6fc179fd9856c   \n",
       "10071  809a282bbd5dbcabb6f2f724fca862ec  622e13439d6b5a0b486c435618b2679e   \n",
       "30710  bfbd0f9bdef84302105ad712db648a6c  86dc2ffce2dfff336de2f386a786e574   \n",
       "83078  71303d7e93b399f5bcd537d124c0bcfa  b106b360fe2ef8849fbbd056f777b4d5   \n",
       "\n",
       "      order_status order_purchase_timestamp   order_approved_at  \\\n",
       "4541       shipped      2016-09-04 21:15:19 2016-10-07 13:18:03   \n",
       "4396      canceled      2016-09-05 00:15:34 2016-10-07 13:17:15   \n",
       "10071     canceled      2016-09-13 15:24:19 2016-10-07 13:16:46   \n",
       "30710    delivered      2016-09-15 12:16:38 2016-09-15 12:16:38   \n",
       "83078     canceled      2016-10-02 22:07:52 2016-10-06 15:50:56   \n",
       "\n",
       "      order_delivered_carrier_date order_delivered_customer_date  \\\n",
       "4541           2016-10-18 13:14:51                           NaT   \n",
       "4396                           NaT                           NaT   \n",
       "10071                          NaT                           NaT   \n",
       "30710          2016-11-07 17:11:53           2016-11-09 07:47:38   \n",
       "83078                          NaT                           NaT   \n",
       "\n",
       "      order_estimated_delivery_date  estimated_date_diff  \n",
       "4541                     2016-10-20                   45  \n",
       "4396                     2016-10-28                   52  \n",
       "10071                    2016-09-30                   16  \n",
       "30710                    2016-10-04                   18  \n",
       "83078                    2016-10-25                   22  "
      ]
     },
     "execution_count": 43,
     "metadata": {},
     "output_type": "execute_result"
    }
   ],
   "source": [
    "orders.head()"
   ]
  },
  {
   "cell_type": "code",
   "execution_count": 44,
   "id": "0487579e",
   "metadata": {
    "scrolled": true
   },
   "outputs": [
    {
     "data": {
      "text/plain": [
       "order_id               0\n",
       "order_item_id          0\n",
       "product_id             0\n",
       "seller_id              0\n",
       "shipping_limit_date    0\n",
       "price                  0\n",
       "freight_value          0\n",
       "dtype: int64"
      ]
     },
     "execution_count": 44,
     "metadata": {},
     "output_type": "execute_result"
    }
   ],
   "source": [
    "order_items.isna().sum()"
   ]
  },
  {
   "cell_type": "markdown",
   "id": "b745162e",
   "metadata": {},
   "source": [
    "Поскольку есть числовые значения, то есть смысл взглянуть на нули"
   ]
  },
  {
   "cell_type": "code",
   "execution_count": 45,
   "id": "b9cb2357",
   "metadata": {
    "scrolled": true
   },
   "outputs": [
    {
     "data": {
      "text/plain": [
       "order_id                 0\n",
       "order_item_id            0\n",
       "product_id               0\n",
       "seller_id                0\n",
       "shipping_limit_date      0\n",
       "price                    0\n",
       "freight_value          383\n",
       "dtype: int64"
      ]
     },
     "execution_count": 45,
     "metadata": {},
     "output_type": "execute_result"
    }
   ],
   "source": [
    "order_items.eq(0).sum()"
   ]
  },
  {
   "cell_type": "markdown",
   "id": "5025d8df",
   "metadata": {},
   "source": [
    "Ок, нашли заказы с нулевыем весом. В уме держим, но пока не вижу применения этой информации"
   ]
  },
  {
   "cell_type": "code",
   "execution_count": 46,
   "id": "394234f6",
   "metadata": {
    "scrolled": true
   },
   "outputs": [
    {
     "data": {
      "text/html": [
       "<div>\n",
       "<style scoped>\n",
       "    .dataframe tbody tr th:only-of-type {\n",
       "        vertical-align: middle;\n",
       "    }\n",
       "\n",
       "    .dataframe tbody tr th {\n",
       "        vertical-align: top;\n",
       "    }\n",
       "\n",
       "    .dataframe thead th {\n",
       "        text-align: right;\n",
       "    }\n",
       "</style>\n",
       "<table border=\"1\" class=\"dataframe\">\n",
       "  <thead>\n",
       "    <tr style=\"text-align: right;\">\n",
       "      <th></th>\n",
       "      <th>order_id</th>\n",
       "      <th>order_item_id</th>\n",
       "      <th>product_id</th>\n",
       "      <th>seller_id</th>\n",
       "      <th>shipping_limit_date</th>\n",
       "      <th>price</th>\n",
       "      <th>freight_value</th>\n",
       "    </tr>\n",
       "  </thead>\n",
       "  <tbody>\n",
       "  </tbody>\n",
       "</table>\n",
       "</div>"
      ],
      "text/plain": [
       "Empty DataFrame\n",
       "Columns: [order_id, order_item_id, product_id, seller_id, shipping_limit_date, price, freight_value]\n",
       "Index: []"
      ]
     },
     "execution_count": 46,
     "metadata": {},
     "output_type": "execute_result"
    }
   ],
   "source": [
    "order_items.loc[order_items.duplicated()]"
   ]
  },
  {
   "cell_type": "markdown",
   "id": "88371c43",
   "metadata": {},
   "source": [
    "Дубликатов нет"
   ]
  },
  {
   "cell_type": "code",
   "execution_count": 47,
   "id": "11f58067",
   "metadata": {},
   "outputs": [
    {
     "data": {
      "text/plain": [
       "order_id               98666\n",
       "order_item_id             21\n",
       "product_id             32951\n",
       "seller_id               3095\n",
       "shipping_limit_date    93318\n",
       "price                   5968\n",
       "freight_value           6999\n",
       "dtype: int64"
      ]
     },
     "execution_count": 47,
     "metadata": {},
     "output_type": "execute_result"
    }
   ],
   "source": [
    "order_items.nunique()"
   ]
  },
  {
   "cell_type": "markdown",
   "id": "6eb15332",
   "metadata": {},
   "source": [
    "`order_id` = 98666, хотя в таблице `orders` у нас 99441 заказов"
   ]
  },
  {
   "cell_type": "code",
   "execution_count": 48,
   "id": "11180e65",
   "metadata": {
    "scrolled": true
   },
   "outputs": [
    {
     "data": {
      "text/html": [
       "<div>\n",
       "<style scoped>\n",
       "    .dataframe tbody tr th:only-of-type {\n",
       "        vertical-align: middle;\n",
       "    }\n",
       "\n",
       "    .dataframe tbody tr th {\n",
       "        vertical-align: top;\n",
       "    }\n",
       "\n",
       "    .dataframe thead th {\n",
       "        text-align: right;\n",
       "    }\n",
       "</style>\n",
       "<table border=\"1\" class=\"dataframe\">\n",
       "  <thead>\n",
       "    <tr style=\"text-align: right;\">\n",
       "      <th></th>\n",
       "      <th>order_item_id</th>\n",
       "      <th>shipping_limit_date</th>\n",
       "      <th>price</th>\n",
       "      <th>freight_value</th>\n",
       "    </tr>\n",
       "  </thead>\n",
       "  <tbody>\n",
       "    <tr>\n",
       "      <th>count</th>\n",
       "      <td>112650.000000</td>\n",
       "      <td>112650</td>\n",
       "      <td>112650.000000</td>\n",
       "      <td>112650.000000</td>\n",
       "    </tr>\n",
       "    <tr>\n",
       "      <th>mean</th>\n",
       "      <td>1.197834</td>\n",
       "      <td>2018-01-07 15:36:52.192685312</td>\n",
       "      <td>120.653739</td>\n",
       "      <td>19.990320</td>\n",
       "    </tr>\n",
       "    <tr>\n",
       "      <th>min</th>\n",
       "      <td>1.000000</td>\n",
       "      <td>2016-09-19 00:15:34</td>\n",
       "      <td>0.850000</td>\n",
       "      <td>0.000000</td>\n",
       "    </tr>\n",
       "    <tr>\n",
       "      <th>25%</th>\n",
       "      <td>1.000000</td>\n",
       "      <td>2017-09-20 20:57:27.500000</td>\n",
       "      <td>39.900000</td>\n",
       "      <td>13.080000</td>\n",
       "    </tr>\n",
       "    <tr>\n",
       "      <th>50%</th>\n",
       "      <td>1.000000</td>\n",
       "      <td>2018-01-26 13:59:35</td>\n",
       "      <td>74.990000</td>\n",
       "      <td>16.260000</td>\n",
       "    </tr>\n",
       "    <tr>\n",
       "      <th>75%</th>\n",
       "      <td>1.000000</td>\n",
       "      <td>2018-05-10 14:34:00.750000128</td>\n",
       "      <td>134.900000</td>\n",
       "      <td>21.150000</td>\n",
       "    </tr>\n",
       "    <tr>\n",
       "      <th>max</th>\n",
       "      <td>21.000000</td>\n",
       "      <td>2020-04-09 22:35:08</td>\n",
       "      <td>6735.000000</td>\n",
       "      <td>409.680000</td>\n",
       "    </tr>\n",
       "    <tr>\n",
       "      <th>std</th>\n",
       "      <td>0.705124</td>\n",
       "      <td>NaN</td>\n",
       "      <td>183.633928</td>\n",
       "      <td>15.806405</td>\n",
       "    </tr>\n",
       "  </tbody>\n",
       "</table>\n",
       "</div>"
      ],
      "text/plain": [
       "       order_item_id            shipping_limit_date          price  \\\n",
       "count  112650.000000                         112650  112650.000000   \n",
       "mean        1.197834  2018-01-07 15:36:52.192685312     120.653739   \n",
       "min         1.000000            2016-09-19 00:15:34       0.850000   \n",
       "25%         1.000000     2017-09-20 20:57:27.500000      39.900000   \n",
       "50%         1.000000            2018-01-26 13:59:35      74.990000   \n",
       "75%         1.000000  2018-05-10 14:34:00.750000128     134.900000   \n",
       "max        21.000000            2020-04-09 22:35:08    6735.000000   \n",
       "std         0.705124                            NaN     183.633928   \n",
       "\n",
       "       freight_value  \n",
       "count  112650.000000  \n",
       "mean       19.990320  \n",
       "min         0.000000  \n",
       "25%        13.080000  \n",
       "50%        16.260000  \n",
       "75%        21.150000  \n",
       "max       409.680000  \n",
       "std        15.806405  "
      ]
     },
     "execution_count": 48,
     "metadata": {},
     "output_type": "execute_result"
    }
   ],
   "source": [
    "order_items.describe()"
   ]
  },
  {
   "cell_type": "markdown",
   "id": "6fa1c911",
   "metadata": {},
   "source": [
    "Минимумы и максимумы проанализировал, чего-то необычного не вижу, кроме уже известного нам нулевого веса"
   ]
  },
  {
   "cell_type": "markdown",
   "id": "aedc5760",
   "metadata": {},
   "source": [
    "Посмотрим заказ с наибольшим количеством позиций, самый покупаемый товар и топ-продавца"
   ]
  },
  {
   "cell_type": "code",
   "execution_count": 49,
   "id": "6b341f39",
   "metadata": {
    "scrolled": true
   },
   "outputs": [
    {
     "data": {
      "text/html": [
       "<div>\n",
       "<style scoped>\n",
       "    .dataframe tbody tr th:only-of-type {\n",
       "        vertical-align: middle;\n",
       "    }\n",
       "\n",
       "    .dataframe tbody tr th {\n",
       "        vertical-align: top;\n",
       "    }\n",
       "\n",
       "    .dataframe thead th {\n",
       "        text-align: right;\n",
       "    }\n",
       "</style>\n",
       "<table border=\"1\" class=\"dataframe\">\n",
       "  <thead>\n",
       "    <tr style=\"text-align: right;\">\n",
       "      <th></th>\n",
       "      <th>order_id</th>\n",
       "      <th>product_id</th>\n",
       "      <th>seller_id</th>\n",
       "    </tr>\n",
       "  </thead>\n",
       "  <tbody>\n",
       "    <tr>\n",
       "      <th>count</th>\n",
       "      <td>112650</td>\n",
       "      <td>112650</td>\n",
       "      <td>112650</td>\n",
       "    </tr>\n",
       "    <tr>\n",
       "      <th>unique</th>\n",
       "      <td>98666</td>\n",
       "      <td>32951</td>\n",
       "      <td>3095</td>\n",
       "    </tr>\n",
       "    <tr>\n",
       "      <th>top</th>\n",
       "      <td>8272b63d03f5f79c56e9e4120aec44ef</td>\n",
       "      <td>aca2eb7d00ea1a7b8ebd4e68314663af</td>\n",
       "      <td>6560211a19b47992c3666cc44a7e94c0</td>\n",
       "    </tr>\n",
       "    <tr>\n",
       "      <th>freq</th>\n",
       "      <td>21</td>\n",
       "      <td>527</td>\n",
       "      <td>2033</td>\n",
       "    </tr>\n",
       "  </tbody>\n",
       "</table>\n",
       "</div>"
      ],
      "text/plain": [
       "                                order_id                        product_id  \\\n",
       "count                             112650                            112650   \n",
       "unique                             98666                             32951   \n",
       "top     8272b63d03f5f79c56e9e4120aec44ef  aca2eb7d00ea1a7b8ebd4e68314663af   \n",
       "freq                                  21                               527   \n",
       "\n",
       "                               seller_id  \n",
       "count                             112650  \n",
       "unique                              3095  \n",
       "top     6560211a19b47992c3666cc44a7e94c0  \n",
       "freq                                2033  "
      ]
     },
     "execution_count": 49,
     "metadata": {},
     "output_type": "execute_result"
    }
   ],
   "source": [
    "order_items.describe(include=['object'])"
   ]
  },
  {
   "cell_type": "markdown",
   "id": "6817c3d0",
   "metadata": {},
   "source": [
    "#### Вывод\n",
    "- Дубликатов нет\n",
    "- 383 товара с нулевым весом\n",
    "- Количеcтво уникальных `order_id` = 98666, хотя в таблице `orders` у нас 99441 заказов. Разница — **775**. Это самое главное наблюдение для этой таблицы, которое мы исследуем в процессе мёрджа"
   ]
  },
  {
   "cell_type": "markdown",
   "id": "35e9b27f",
   "metadata": {},
   "source": [
    "### Мёрдж *orders* и *order_items*"
   ]
  },
  {
   "cell_type": "markdown",
   "id": "a59b9f4a",
   "metadata": {},
   "source": [
    "Пока используем левую связь, чтобы детальнее посмотреть на пропуски"
   ]
  },
  {
   "cell_type": "code",
   "execution_count": 50,
   "id": "0b001737",
   "metadata": {
    "scrolled": true
   },
   "outputs": [],
   "source": [
    "orders_with_items = orders.merge(order_items, how='left', on='order_id')"
   ]
  },
  {
   "cell_type": "code",
   "execution_count": 51,
   "id": "492411fa",
   "metadata": {},
   "outputs": [
    {
     "data": {
      "text/html": [
       "<div>\n",
       "<style scoped>\n",
       "    .dataframe tbody tr th:only-of-type {\n",
       "        vertical-align: middle;\n",
       "    }\n",
       "\n",
       "    .dataframe tbody tr th {\n",
       "        vertical-align: top;\n",
       "    }\n",
       "\n",
       "    .dataframe thead th {\n",
       "        text-align: right;\n",
       "    }\n",
       "</style>\n",
       "<table border=\"1\" class=\"dataframe\">\n",
       "  <thead>\n",
       "    <tr style=\"text-align: right;\">\n",
       "      <th></th>\n",
       "      <th>order_id</th>\n",
       "      <th>customer_id</th>\n",
       "      <th>order_status</th>\n",
       "      <th>order_purchase_timestamp</th>\n",
       "      <th>order_approved_at</th>\n",
       "      <th>order_delivered_carrier_date</th>\n",
       "      <th>order_delivered_customer_date</th>\n",
       "      <th>order_estimated_delivery_date</th>\n",
       "      <th>estimated_date_diff</th>\n",
       "      <th>order_item_id</th>\n",
       "      <th>product_id</th>\n",
       "      <th>seller_id</th>\n",
       "      <th>shipping_limit_date</th>\n",
       "      <th>price</th>\n",
       "      <th>freight_value</th>\n",
       "    </tr>\n",
       "  </thead>\n",
       "  <tbody>\n",
       "    <tr>\n",
       "      <th>0</th>\n",
       "      <td>2e7a8482f6fb09756ca50c10d7bfc047</td>\n",
       "      <td>08c5351a6aca1c1589a38f244edeee9d</td>\n",
       "      <td>shipped</td>\n",
       "      <td>2016-09-04 21:15:19</td>\n",
       "      <td>2016-10-07 13:18:03</td>\n",
       "      <td>2016-10-18 13:14:51</td>\n",
       "      <td>NaT</td>\n",
       "      <td>2016-10-20</td>\n",
       "      <td>45</td>\n",
       "      <td>1.0</td>\n",
       "      <td>c1488892604e4ba5cff5b4eb4d595400</td>\n",
       "      <td>1554a68530182680ad5c8b042c3ab563</td>\n",
       "      <td>2016-10-26 18:25:19</td>\n",
       "      <td>39.99</td>\n",
       "      <td>31.67</td>\n",
       "    </tr>\n",
       "    <tr>\n",
       "      <th>1</th>\n",
       "      <td>2e7a8482f6fb09756ca50c10d7bfc047</td>\n",
       "      <td>08c5351a6aca1c1589a38f244edeee9d</td>\n",
       "      <td>shipped</td>\n",
       "      <td>2016-09-04 21:15:19</td>\n",
       "      <td>2016-10-07 13:18:03</td>\n",
       "      <td>2016-10-18 13:14:51</td>\n",
       "      <td>NaT</td>\n",
       "      <td>2016-10-20</td>\n",
       "      <td>45</td>\n",
       "      <td>2.0</td>\n",
       "      <td>f293394c72c9b5fafd7023301fc21fc2</td>\n",
       "      <td>1554a68530182680ad5c8b042c3ab563</td>\n",
       "      <td>2016-10-26 18:25:19</td>\n",
       "      <td>32.90</td>\n",
       "      <td>31.67</td>\n",
       "    </tr>\n",
       "    <tr>\n",
       "      <th>2</th>\n",
       "      <td>e5fa5a7210941f7d56d0208e4e071d35</td>\n",
       "      <td>683c54fc24d40ee9f8a6fc179fd9856c</td>\n",
       "      <td>canceled</td>\n",
       "      <td>2016-09-05 00:15:34</td>\n",
       "      <td>2016-10-07 13:17:15</td>\n",
       "      <td>NaT</td>\n",
       "      <td>NaT</td>\n",
       "      <td>2016-10-28</td>\n",
       "      <td>52</td>\n",
       "      <td>1.0</td>\n",
       "      <td>f3c2d01a84c947b078e32bbef0718962</td>\n",
       "      <td>a425f92c199eb576938df686728acd20</td>\n",
       "      <td>2016-09-19 00:15:34</td>\n",
       "      <td>59.50</td>\n",
       "      <td>15.56</td>\n",
       "    </tr>\n",
       "    <tr>\n",
       "      <th>3</th>\n",
       "      <td>809a282bbd5dbcabb6f2f724fca862ec</td>\n",
       "      <td>622e13439d6b5a0b486c435618b2679e</td>\n",
       "      <td>canceled</td>\n",
       "      <td>2016-09-13 15:24:19</td>\n",
       "      <td>2016-10-07 13:16:46</td>\n",
       "      <td>NaT</td>\n",
       "      <td>NaT</td>\n",
       "      <td>2016-09-30</td>\n",
       "      <td>16</td>\n",
       "      <td>NaN</td>\n",
       "      <td>NaN</td>\n",
       "      <td>NaN</td>\n",
       "      <td>NaT</td>\n",
       "      <td>NaN</td>\n",
       "      <td>NaN</td>\n",
       "    </tr>\n",
       "    <tr>\n",
       "      <th>4</th>\n",
       "      <td>bfbd0f9bdef84302105ad712db648a6c</td>\n",
       "      <td>86dc2ffce2dfff336de2f386a786e574</td>\n",
       "      <td>delivered</td>\n",
       "      <td>2016-09-15 12:16:38</td>\n",
       "      <td>2016-09-15 12:16:38</td>\n",
       "      <td>2016-11-07 17:11:53</td>\n",
       "      <td>2016-11-09 07:47:38</td>\n",
       "      <td>2016-10-04</td>\n",
       "      <td>18</td>\n",
       "      <td>1.0</td>\n",
       "      <td>5a6b04657a4c5ee34285d1e4619a96b4</td>\n",
       "      <td>ecccfa2bb93b34a3bf033cc5d1dcdc69</td>\n",
       "      <td>2016-09-19 23:11:33</td>\n",
       "      <td>44.99</td>\n",
       "      <td>2.83</td>\n",
       "    </tr>\n",
       "  </tbody>\n",
       "</table>\n",
       "</div>"
      ],
      "text/plain": [
       "                           order_id                       customer_id  \\\n",
       "0  2e7a8482f6fb09756ca50c10d7bfc047  08c5351a6aca1c1589a38f244edeee9d   \n",
       "1  2e7a8482f6fb09756ca50c10d7bfc047  08c5351a6aca1c1589a38f244edeee9d   \n",
       "2  e5fa5a7210941f7d56d0208e4e071d35  683c54fc24d40ee9f8a6fc179fd9856c   \n",
       "3  809a282bbd5dbcabb6f2f724fca862ec  622e13439d6b5a0b486c435618b2679e   \n",
       "4  bfbd0f9bdef84302105ad712db648a6c  86dc2ffce2dfff336de2f386a786e574   \n",
       "\n",
       "  order_status order_purchase_timestamp   order_approved_at  \\\n",
       "0      shipped      2016-09-04 21:15:19 2016-10-07 13:18:03   \n",
       "1      shipped      2016-09-04 21:15:19 2016-10-07 13:18:03   \n",
       "2     canceled      2016-09-05 00:15:34 2016-10-07 13:17:15   \n",
       "3     canceled      2016-09-13 15:24:19 2016-10-07 13:16:46   \n",
       "4    delivered      2016-09-15 12:16:38 2016-09-15 12:16:38   \n",
       "\n",
       "  order_delivered_carrier_date order_delivered_customer_date  \\\n",
       "0          2016-10-18 13:14:51                           NaT   \n",
       "1          2016-10-18 13:14:51                           NaT   \n",
       "2                          NaT                           NaT   \n",
       "3                          NaT                           NaT   \n",
       "4          2016-11-07 17:11:53           2016-11-09 07:47:38   \n",
       "\n",
       "  order_estimated_delivery_date  estimated_date_diff  order_item_id  \\\n",
       "0                    2016-10-20                   45            1.0   \n",
       "1                    2016-10-20                   45            2.0   \n",
       "2                    2016-10-28                   52            1.0   \n",
       "3                    2016-09-30                   16            NaN   \n",
       "4                    2016-10-04                   18            1.0   \n",
       "\n",
       "                         product_id                         seller_id  \\\n",
       "0  c1488892604e4ba5cff5b4eb4d595400  1554a68530182680ad5c8b042c3ab563   \n",
       "1  f293394c72c9b5fafd7023301fc21fc2  1554a68530182680ad5c8b042c3ab563   \n",
       "2  f3c2d01a84c947b078e32bbef0718962  a425f92c199eb576938df686728acd20   \n",
       "3                               NaN                               NaN   \n",
       "4  5a6b04657a4c5ee34285d1e4619a96b4  ecccfa2bb93b34a3bf033cc5d1dcdc69   \n",
       "\n",
       "  shipping_limit_date  price  freight_value  \n",
       "0 2016-10-26 18:25:19  39.99          31.67  \n",
       "1 2016-10-26 18:25:19  32.90          31.67  \n",
       "2 2016-09-19 00:15:34  59.50          15.56  \n",
       "3                 NaT    NaN            NaN  \n",
       "4 2016-09-19 23:11:33  44.99           2.83  "
      ]
     },
     "execution_count": 51,
     "metadata": {},
     "output_type": "execute_result"
    }
   ],
   "source": [
    "orders_with_items.head()"
   ]
  },
  {
   "cell_type": "code",
   "execution_count": 52,
   "id": "63b66e5c",
   "metadata": {},
   "outputs": [
    {
     "data": {
      "text/plain": [
       "order_id                         99441\n",
       "customer_id                      99441\n",
       "order_status                         8\n",
       "order_purchase_timestamp         98875\n",
       "order_approved_at                90733\n",
       "order_delivered_carrier_date     81018\n",
       "order_delivered_customer_date    95664\n",
       "order_estimated_delivery_date      459\n",
       "estimated_date_diff                104\n",
       "order_item_id                       21\n",
       "product_id                       32951\n",
       "seller_id                         3095\n",
       "shipping_limit_date              93318\n",
       "price                             5968\n",
       "freight_value                     6999\n",
       "dtype: int64"
      ]
     },
     "execution_count": 52,
     "metadata": {},
     "output_type": "execute_result"
    }
   ],
   "source": [
    "orders_with_items.nunique()"
   ]
  },
  {
   "cell_type": "markdown",
   "id": "1aab9c37",
   "metadata": {},
   "source": [
    "Сравним размеры датафреймов"
   ]
  },
  {
   "cell_type": "code",
   "execution_count": 53,
   "id": "2342d471",
   "metadata": {
    "scrolled": true
   },
   "outputs": [
    {
     "data": {
      "text/plain": [
       "(113425, 15)"
      ]
     },
     "execution_count": 53,
     "metadata": {},
     "output_type": "execute_result"
    }
   ],
   "source": [
    "orders_with_items.shape"
   ]
  },
  {
   "cell_type": "code",
   "execution_count": 54,
   "id": "cda0ed81",
   "metadata": {},
   "outputs": [
    {
     "data": {
      "text/plain": [
       "(112650, 7)"
      ]
     },
     "execution_count": 54,
     "metadata": {},
     "output_type": "execute_result"
    }
   ],
   "source": [
    "order_items.shape"
   ]
  },
  {
   "cell_type": "code",
   "execution_count": 55,
   "id": "3dc0462e",
   "metadata": {},
   "outputs": [
    {
     "data": {
      "text/plain": [
       "775"
      ]
     },
     "execution_count": 55,
     "metadata": {},
     "output_type": "execute_result"
    }
   ],
   "source": [
    "113425 - 112650"
   ]
  },
  {
   "cell_type": "markdown",
   "id": "8861b7b6",
   "metadata": {},
   "source": [
    "Вот и вылезли эти 775 заказов. Смотрим пропуски"
   ]
  },
  {
   "cell_type": "code",
   "execution_count": 56,
   "id": "53514980",
   "metadata": {},
   "outputs": [
    {
     "data": {
      "text/plain": [
       "order_id                            0\n",
       "customer_id                         0\n",
       "order_status                        0\n",
       "order_purchase_timestamp            0\n",
       "order_approved_at                 161\n",
       "order_delivered_carrier_date     1968\n",
       "order_delivered_customer_date    3229\n",
       "order_estimated_delivery_date       0\n",
       "estimated_date_diff                 0\n",
       "order_item_id                     775\n",
       "product_id                        775\n",
       "seller_id                         775\n",
       "shipping_limit_date               775\n",
       "price                             775\n",
       "freight_value                     775\n",
       "dtype: int64"
      ]
     },
     "execution_count": 56,
     "metadata": {},
     "output_type": "execute_result"
    }
   ],
   "source": [
    "orders_with_items.isna().sum()"
   ]
  },
  {
   "cell_type": "markdown",
   "id": "a372c429",
   "metadata": {},
   "source": [
    "Ещё раз в этом убедились. Детально посмотрим на статусы потеряшек"
   ]
  },
  {
   "cell_type": "code",
   "execution_count": 57,
   "id": "b77167d0",
   "metadata": {},
   "outputs": [
    {
     "data": {
      "text/html": [
       "<div>\n",
       "<style scoped>\n",
       "    .dataframe tbody tr th:only-of-type {\n",
       "        vertical-align: middle;\n",
       "    }\n",
       "\n",
       "    .dataframe tbody tr th {\n",
       "        vertical-align: top;\n",
       "    }\n",
       "\n",
       "    .dataframe thead th {\n",
       "        text-align: right;\n",
       "    }\n",
       "</style>\n",
       "<table border=\"1\" class=\"dataframe\">\n",
       "  <thead>\n",
       "    <tr style=\"text-align: right;\">\n",
       "      <th></th>\n",
       "      <th>customer_id</th>\n",
       "    </tr>\n",
       "    <tr>\n",
       "      <th>order_status</th>\n",
       "      <th></th>\n",
       "    </tr>\n",
       "  </thead>\n",
       "  <tbody>\n",
       "    <tr>\n",
       "      <th>canceled</th>\n",
       "      <td>164</td>\n",
       "    </tr>\n",
       "    <tr>\n",
       "      <th>created</th>\n",
       "      <td>5</td>\n",
       "    </tr>\n",
       "    <tr>\n",
       "      <th>invoiced</th>\n",
       "      <td>2</td>\n",
       "    </tr>\n",
       "    <tr>\n",
       "      <th>shipped</th>\n",
       "      <td>1</td>\n",
       "    </tr>\n",
       "    <tr>\n",
       "      <th>unavailable</th>\n",
       "      <td>603</td>\n",
       "    </tr>\n",
       "  </tbody>\n",
       "</table>\n",
       "</div>"
      ],
      "text/plain": [
       "              customer_id\n",
       "order_status             \n",
       "canceled              164\n",
       "created                 5\n",
       "invoiced                2\n",
       "shipped                 1\n",
       "unavailable           603"
      ]
     },
     "execution_count": 57,
     "metadata": {},
     "output_type": "execute_result"
    }
   ],
   "source": [
    "orders_with_items.query(\"product_id.isna()\").groupby('order_status').agg({'customer_id': 'count'})"
   ]
  },
  {
   "cell_type": "code",
   "execution_count": 58,
   "id": "c6335a34",
   "metadata": {},
   "outputs": [
    {
     "data": {
      "text/html": [
       "<div>\n",
       "<style scoped>\n",
       "    .dataframe tbody tr th:only-of-type {\n",
       "        vertical-align: middle;\n",
       "    }\n",
       "\n",
       "    .dataframe tbody tr th {\n",
       "        vertical-align: top;\n",
       "    }\n",
       "\n",
       "    .dataframe thead th {\n",
       "        text-align: right;\n",
       "    }\n",
       "</style>\n",
       "<table border=\"1\" class=\"dataframe\">\n",
       "  <thead>\n",
       "    <tr style=\"text-align: right;\">\n",
       "      <th></th>\n",
       "      <th>order_id</th>\n",
       "      <th>customer_id</th>\n",
       "      <th>order_status</th>\n",
       "      <th>order_purchase_timestamp</th>\n",
       "      <th>order_approved_at</th>\n",
       "      <th>order_delivered_carrier_date</th>\n",
       "      <th>order_delivered_customer_date</th>\n",
       "      <th>order_estimated_delivery_date</th>\n",
       "      <th>estimated_date_diff</th>\n",
       "      <th>order_item_id</th>\n",
       "      <th>product_id</th>\n",
       "      <th>seller_id</th>\n",
       "      <th>shipping_limit_date</th>\n",
       "      <th>price</th>\n",
       "      <th>freight_value</th>\n",
       "    </tr>\n",
       "  </thead>\n",
       "  <tbody>\n",
       "    <tr>\n",
       "      <th>114</th>\n",
       "      <td>e04f1da1f48bf2bbffcf57b9824f76e1</td>\n",
       "      <td>0d00d77134cae4c58695086ad8d85100</td>\n",
       "      <td>invoiced</td>\n",
       "      <td>2016-10-05 13:22:20</td>\n",
       "      <td>2016-10-06 15:51:38</td>\n",
       "      <td>NaT</td>\n",
       "      <td>NaT</td>\n",
       "      <td>2016-11-29</td>\n",
       "      <td>54</td>\n",
       "      <td>NaN</td>\n",
       "      <td>NaN</td>\n",
       "      <td>NaN</td>\n",
       "      <td>NaT</td>\n",
       "      <td>NaN</td>\n",
       "      <td>NaN</td>\n",
       "    </tr>\n",
       "    <tr>\n",
       "      <th>141</th>\n",
       "      <td>2ce9683175cdab7d1c95bcbb3e36f478</td>\n",
       "      <td>b2d7ae0415dbbca535b5f7b38056dd1f</td>\n",
       "      <td>invoiced</td>\n",
       "      <td>2016-10-05 21:03:33</td>\n",
       "      <td>2016-10-06 07:46:39</td>\n",
       "      <td>NaT</td>\n",
       "      <td>NaT</td>\n",
       "      <td>2016-11-25</td>\n",
       "      <td>50</td>\n",
       "      <td>NaN</td>\n",
       "      <td>NaN</td>\n",
       "      <td>NaN</td>\n",
       "      <td>NaT</td>\n",
       "      <td>NaN</td>\n",
       "      <td>NaN</td>\n",
       "    </tr>\n",
       "  </tbody>\n",
       "</table>\n",
       "</div>"
      ],
      "text/plain": [
       "                             order_id                       customer_id  \\\n",
       "114  e04f1da1f48bf2bbffcf57b9824f76e1  0d00d77134cae4c58695086ad8d85100   \n",
       "141  2ce9683175cdab7d1c95bcbb3e36f478  b2d7ae0415dbbca535b5f7b38056dd1f   \n",
       "\n",
       "    order_status order_purchase_timestamp   order_approved_at  \\\n",
       "114     invoiced      2016-10-05 13:22:20 2016-10-06 15:51:38   \n",
       "141     invoiced      2016-10-05 21:03:33 2016-10-06 07:46:39   \n",
       "\n",
       "    order_delivered_carrier_date order_delivered_customer_date  \\\n",
       "114                          NaT                           NaT   \n",
       "141                          NaT                           NaT   \n",
       "\n",
       "    order_estimated_delivery_date  estimated_date_diff  order_item_id  \\\n",
       "114                    2016-11-29                   54            NaN   \n",
       "141                    2016-11-25                   50            NaN   \n",
       "\n",
       "    product_id seller_id shipping_limit_date  price  freight_value  \n",
       "114        NaN       NaN                 NaT    NaN            NaN  \n",
       "141        NaN       NaN                 NaT    NaN            NaN  "
      ]
     },
     "execution_count": 58,
     "metadata": {},
     "output_type": "execute_result"
    }
   ],
   "source": [
    "orders_with_items.query(\"product_id.isna() & order_status == 'invoiced'\")"
   ]
  },
  {
   "cell_type": "code",
   "execution_count": 59,
   "id": "c0ab7253",
   "metadata": {
    "scrolled": true
   },
   "outputs": [
    {
     "data": {
      "text/html": [
       "<div>\n",
       "<style scoped>\n",
       "    .dataframe tbody tr th:only-of-type {\n",
       "        vertical-align: middle;\n",
       "    }\n",
       "\n",
       "    .dataframe tbody tr th {\n",
       "        vertical-align: top;\n",
       "    }\n",
       "\n",
       "    .dataframe thead th {\n",
       "        text-align: right;\n",
       "    }\n",
       "</style>\n",
       "<table border=\"1\" class=\"dataframe\">\n",
       "  <thead>\n",
       "    <tr style=\"text-align: right;\">\n",
       "      <th></th>\n",
       "      <th>order_id</th>\n",
       "      <th>customer_id</th>\n",
       "      <th>order_status</th>\n",
       "      <th>order_purchase_timestamp</th>\n",
       "      <th>order_approved_at</th>\n",
       "      <th>order_delivered_carrier_date</th>\n",
       "      <th>order_delivered_customer_date</th>\n",
       "      <th>order_estimated_delivery_date</th>\n",
       "      <th>estimated_date_diff</th>\n",
       "    </tr>\n",
       "  </thead>\n",
       "  <tbody>\n",
       "    <tr>\n",
       "      <th>23254</th>\n",
       "      <td>a68ce1686d536ca72bd2dadc4b8671e5</td>\n",
       "      <td>d7bed5fac093a4136216072abaf599d5</td>\n",
       "      <td>shipped</td>\n",
       "      <td>2016-10-05 01:47:40</td>\n",
       "      <td>2016-10-07 03:11:22</td>\n",
       "      <td>2016-11-07 16:37:37</td>\n",
       "      <td>NaT</td>\n",
       "      <td>2016-12-01</td>\n",
       "      <td>56</td>\n",
       "    </tr>\n",
       "  </tbody>\n",
       "</table>\n",
       "</div>"
      ],
      "text/plain": [
       "                               order_id                       customer_id  \\\n",
       "23254  a68ce1686d536ca72bd2dadc4b8671e5  d7bed5fac093a4136216072abaf599d5   \n",
       "\n",
       "      order_status order_purchase_timestamp   order_approved_at  \\\n",
       "23254      shipped      2016-10-05 01:47:40 2016-10-07 03:11:22   \n",
       "\n",
       "      order_delivered_carrier_date order_delivered_customer_date  \\\n",
       "23254          2016-11-07 16:37:37                           NaT   \n",
       "\n",
       "      order_estimated_delivery_date  estimated_date_diff  \n",
       "23254                    2016-12-01                   56  "
      ]
     },
     "execution_count": 59,
     "metadata": {},
     "output_type": "execute_result"
    }
   ],
   "source": [
    "orders.query(\"order_id == 'a68ce1686d536ca72bd2dadc4b8671e5'\")"
   ]
  },
  {
   "cell_type": "markdown",
   "id": "2f59423b",
   "metadata": {},
   "source": [
    "Перепроверю, действительно ли нет такого заказа в таблице до мёрджа"
   ]
  },
  {
   "cell_type": "code",
   "execution_count": 60,
   "id": "7f1915c4",
   "metadata": {
    "scrolled": true
   },
   "outputs": [
    {
     "data": {
      "text/html": [
       "<div>\n",
       "<style scoped>\n",
       "    .dataframe tbody tr th:only-of-type {\n",
       "        vertical-align: middle;\n",
       "    }\n",
       "\n",
       "    .dataframe tbody tr th {\n",
       "        vertical-align: top;\n",
       "    }\n",
       "\n",
       "    .dataframe thead th {\n",
       "        text-align: right;\n",
       "    }\n",
       "</style>\n",
       "<table border=\"1\" class=\"dataframe\">\n",
       "  <thead>\n",
       "    <tr style=\"text-align: right;\">\n",
       "      <th></th>\n",
       "      <th>order_id</th>\n",
       "      <th>order_item_id</th>\n",
       "      <th>product_id</th>\n",
       "      <th>seller_id</th>\n",
       "      <th>shipping_limit_date</th>\n",
       "      <th>price</th>\n",
       "      <th>freight_value</th>\n",
       "    </tr>\n",
       "  </thead>\n",
       "  <tbody>\n",
       "  </tbody>\n",
       "</table>\n",
       "</div>"
      ],
      "text/plain": [
       "Empty DataFrame\n",
       "Columns: [order_id, order_item_id, product_id, seller_id, shipping_limit_date, price, freight_value]\n",
       "Index: []"
      ]
     },
     "execution_count": 60,
     "metadata": {},
     "output_type": "execute_result"
    }
   ],
   "source": [
    "order_items.query(\"order_id == 'a68ce1686d536ca72bd2dadc4b8671e5'\")"
   ]
  },
  {
   "cell_type": "markdown",
   "id": "e2adbb19",
   "metadata": {},
   "source": [
    "Смотрим, все ли такие заказы недоставлены"
   ]
  },
  {
   "cell_type": "code",
   "execution_count": 61,
   "id": "9fe127e1",
   "metadata": {
    "scrolled": true
   },
   "outputs": [
    {
     "data": {
      "text/plain": [
       "(775, 15)"
      ]
     },
     "execution_count": 61,
     "metadata": {},
     "output_type": "execute_result"
    }
   ],
   "source": [
    "orders_with_items.query(\"product_id.isna() & order_delivered_customer_date.isna()\").shape"
   ]
  },
  {
   "cell_type": "markdown",
   "id": "b7e98d4b",
   "metadata": {},
   "source": [
    "Получается, у нас были фантомные заказы в *orders*. Все они сбреются после мёрджа по внутренней связи"
   ]
  },
  {
   "cell_type": "code",
   "execution_count": 62,
   "id": "a9a4ae4a",
   "metadata": {},
   "outputs": [],
   "source": [
    "orders_with_items = orders.merge(order_items, how='inner', on='order_id')"
   ]
  },
  {
   "cell_type": "code",
   "execution_count": 63,
   "id": "9848b400",
   "metadata": {},
   "outputs": [
    {
     "data": {
      "text/plain": [
       "order_id                         98666\n",
       "customer_id                      98666\n",
       "order_status                         7\n",
       "order_purchase_timestamp         98112\n",
       "order_approved_at                90174\n",
       "order_delivered_carrier_date     81017\n",
       "order_delivered_customer_date    95664\n",
       "order_estimated_delivery_date      450\n",
       "estimated_date_diff                103\n",
       "order_item_id                       21\n",
       "product_id                       32951\n",
       "seller_id                         3095\n",
       "shipping_limit_date              93318\n",
       "price                             5968\n",
       "freight_value                     6999\n",
       "dtype: int64"
      ]
     },
     "execution_count": 63,
     "metadata": {},
     "output_type": "execute_result"
    }
   ],
   "source": [
    "orders_with_items.nunique()"
   ]
  },
  {
   "cell_type": "markdown",
   "id": "92017f59",
   "metadata": {},
   "source": [
    "Количество без фантомных заказов = 98666"
   ]
  },
  {
   "cell_type": "code",
   "execution_count": 64,
   "id": "a629725a",
   "metadata": {},
   "outputs": [
    {
     "data": {
      "text/plain": [
       "order_id                            0\n",
       "customer_id                         0\n",
       "order_status                        0\n",
       "order_purchase_timestamp            0\n",
       "order_approved_at                  15\n",
       "order_delivered_carrier_date     1194\n",
       "order_delivered_customer_date    2454\n",
       "order_estimated_delivery_date       0\n",
       "estimated_date_diff                 0\n",
       "order_item_id                       0\n",
       "product_id                          0\n",
       "seller_id                           0\n",
       "shipping_limit_date                 0\n",
       "price                               0\n",
       "freight_value                       0\n",
       "dtype: int64"
      ]
     },
     "execution_count": 64,
     "metadata": {},
     "output_type": "execute_result"
    }
   ],
   "source": [
    "orders_with_items.isna().sum()"
   ]
  },
  {
   "cell_type": "markdown",
   "id": "55694203",
   "metadata": {},
   "source": [
    "### Объединим все три таблицы"
   ]
  },
  {
   "cell_type": "code",
   "execution_count": 65,
   "id": "f74d8fd3",
   "metadata": {},
   "outputs": [],
   "source": [
    "all_data = orders_with_items.merge(customers, how='inner', on='customer_id')"
   ]
  },
  {
   "cell_type": "code",
   "execution_count": 66,
   "id": "39a00667",
   "metadata": {},
   "outputs": [
    {
     "data": {
      "text/html": [
       "<div>\n",
       "<style scoped>\n",
       "    .dataframe tbody tr th:only-of-type {\n",
       "        vertical-align: middle;\n",
       "    }\n",
       "\n",
       "    .dataframe tbody tr th {\n",
       "        vertical-align: top;\n",
       "    }\n",
       "\n",
       "    .dataframe thead th {\n",
       "        text-align: right;\n",
       "    }\n",
       "</style>\n",
       "<table border=\"1\" class=\"dataframe\">\n",
       "  <thead>\n",
       "    <tr style=\"text-align: right;\">\n",
       "      <th></th>\n",
       "      <th>order_id</th>\n",
       "      <th>customer_id</th>\n",
       "      <th>order_status</th>\n",
       "      <th>order_purchase_timestamp</th>\n",
       "      <th>order_approved_at</th>\n",
       "      <th>order_delivered_carrier_date</th>\n",
       "      <th>order_delivered_customer_date</th>\n",
       "      <th>order_estimated_delivery_date</th>\n",
       "      <th>estimated_date_diff</th>\n",
       "      <th>order_item_id</th>\n",
       "      <th>product_id</th>\n",
       "      <th>seller_id</th>\n",
       "      <th>shipping_limit_date</th>\n",
       "      <th>price</th>\n",
       "      <th>freight_value</th>\n",
       "      <th>customer_unique_id</th>\n",
       "      <th>customer_zip_code_prefix</th>\n",
       "      <th>customer_city</th>\n",
       "      <th>customer_state</th>\n",
       "    </tr>\n",
       "  </thead>\n",
       "  <tbody>\n",
       "    <tr>\n",
       "      <th>0</th>\n",
       "      <td>2e7a8482f6fb09756ca50c10d7bfc047</td>\n",
       "      <td>08c5351a6aca1c1589a38f244edeee9d</td>\n",
       "      <td>shipped</td>\n",
       "      <td>2016-09-04 21:15:19</td>\n",
       "      <td>2016-10-07 13:18:03</td>\n",
       "      <td>2016-10-18 13:14:51</td>\n",
       "      <td>NaT</td>\n",
       "      <td>2016-10-20</td>\n",
       "      <td>45</td>\n",
       "      <td>1</td>\n",
       "      <td>c1488892604e4ba5cff5b4eb4d595400</td>\n",
       "      <td>1554a68530182680ad5c8b042c3ab563</td>\n",
       "      <td>2016-10-26 18:25:19</td>\n",
       "      <td>39.99</td>\n",
       "      <td>31.67</td>\n",
       "      <td>b7d76e111c89f7ebf14761390f0f7d17</td>\n",
       "      <td>69309</td>\n",
       "      <td>boa vista</td>\n",
       "      <td>RR</td>\n",
       "    </tr>\n",
       "    <tr>\n",
       "      <th>1</th>\n",
       "      <td>2e7a8482f6fb09756ca50c10d7bfc047</td>\n",
       "      <td>08c5351a6aca1c1589a38f244edeee9d</td>\n",
       "      <td>shipped</td>\n",
       "      <td>2016-09-04 21:15:19</td>\n",
       "      <td>2016-10-07 13:18:03</td>\n",
       "      <td>2016-10-18 13:14:51</td>\n",
       "      <td>NaT</td>\n",
       "      <td>2016-10-20</td>\n",
       "      <td>45</td>\n",
       "      <td>2</td>\n",
       "      <td>f293394c72c9b5fafd7023301fc21fc2</td>\n",
       "      <td>1554a68530182680ad5c8b042c3ab563</td>\n",
       "      <td>2016-10-26 18:25:19</td>\n",
       "      <td>32.90</td>\n",
       "      <td>31.67</td>\n",
       "      <td>b7d76e111c89f7ebf14761390f0f7d17</td>\n",
       "      <td>69309</td>\n",
       "      <td>boa vista</td>\n",
       "      <td>RR</td>\n",
       "    </tr>\n",
       "    <tr>\n",
       "      <th>2</th>\n",
       "      <td>e5fa5a7210941f7d56d0208e4e071d35</td>\n",
       "      <td>683c54fc24d40ee9f8a6fc179fd9856c</td>\n",
       "      <td>canceled</td>\n",
       "      <td>2016-09-05 00:15:34</td>\n",
       "      <td>2016-10-07 13:17:15</td>\n",
       "      <td>NaT</td>\n",
       "      <td>NaT</td>\n",
       "      <td>2016-10-28</td>\n",
       "      <td>52</td>\n",
       "      <td>1</td>\n",
       "      <td>f3c2d01a84c947b078e32bbef0718962</td>\n",
       "      <td>a425f92c199eb576938df686728acd20</td>\n",
       "      <td>2016-09-19 00:15:34</td>\n",
       "      <td>59.50</td>\n",
       "      <td>15.56</td>\n",
       "      <td>4854e9b3feff728c13ee5fc7d1547e92</td>\n",
       "      <td>99025</td>\n",
       "      <td>passo fundo</td>\n",
       "      <td>RS</td>\n",
       "    </tr>\n",
       "    <tr>\n",
       "      <th>3</th>\n",
       "      <td>bfbd0f9bdef84302105ad712db648a6c</td>\n",
       "      <td>86dc2ffce2dfff336de2f386a786e574</td>\n",
       "      <td>delivered</td>\n",
       "      <td>2016-09-15 12:16:38</td>\n",
       "      <td>2016-09-15 12:16:38</td>\n",
       "      <td>2016-11-07 17:11:53</td>\n",
       "      <td>2016-11-09 07:47:38</td>\n",
       "      <td>2016-10-04</td>\n",
       "      <td>18</td>\n",
       "      <td>1</td>\n",
       "      <td>5a6b04657a4c5ee34285d1e4619a96b4</td>\n",
       "      <td>ecccfa2bb93b34a3bf033cc5d1dcdc69</td>\n",
       "      <td>2016-09-19 23:11:33</td>\n",
       "      <td>44.99</td>\n",
       "      <td>2.83</td>\n",
       "      <td>830d5b7aaa3b6f1e9ad63703bec97d23</td>\n",
       "      <td>14600</td>\n",
       "      <td>sao joaquim da barra</td>\n",
       "      <td>SP</td>\n",
       "    </tr>\n",
       "    <tr>\n",
       "      <th>4</th>\n",
       "      <td>bfbd0f9bdef84302105ad712db648a6c</td>\n",
       "      <td>86dc2ffce2dfff336de2f386a786e574</td>\n",
       "      <td>delivered</td>\n",
       "      <td>2016-09-15 12:16:38</td>\n",
       "      <td>2016-09-15 12:16:38</td>\n",
       "      <td>2016-11-07 17:11:53</td>\n",
       "      <td>2016-11-09 07:47:38</td>\n",
       "      <td>2016-10-04</td>\n",
       "      <td>18</td>\n",
       "      <td>2</td>\n",
       "      <td>5a6b04657a4c5ee34285d1e4619a96b4</td>\n",
       "      <td>ecccfa2bb93b34a3bf033cc5d1dcdc69</td>\n",
       "      <td>2016-09-19 23:11:33</td>\n",
       "      <td>44.99</td>\n",
       "      <td>2.83</td>\n",
       "      <td>830d5b7aaa3b6f1e9ad63703bec97d23</td>\n",
       "      <td>14600</td>\n",
       "      <td>sao joaquim da barra</td>\n",
       "      <td>SP</td>\n",
       "    </tr>\n",
       "  </tbody>\n",
       "</table>\n",
       "</div>"
      ],
      "text/plain": [
       "                           order_id                       customer_id  \\\n",
       "0  2e7a8482f6fb09756ca50c10d7bfc047  08c5351a6aca1c1589a38f244edeee9d   \n",
       "1  2e7a8482f6fb09756ca50c10d7bfc047  08c5351a6aca1c1589a38f244edeee9d   \n",
       "2  e5fa5a7210941f7d56d0208e4e071d35  683c54fc24d40ee9f8a6fc179fd9856c   \n",
       "3  bfbd0f9bdef84302105ad712db648a6c  86dc2ffce2dfff336de2f386a786e574   \n",
       "4  bfbd0f9bdef84302105ad712db648a6c  86dc2ffce2dfff336de2f386a786e574   \n",
       "\n",
       "  order_status order_purchase_timestamp   order_approved_at  \\\n",
       "0      shipped      2016-09-04 21:15:19 2016-10-07 13:18:03   \n",
       "1      shipped      2016-09-04 21:15:19 2016-10-07 13:18:03   \n",
       "2     canceled      2016-09-05 00:15:34 2016-10-07 13:17:15   \n",
       "3    delivered      2016-09-15 12:16:38 2016-09-15 12:16:38   \n",
       "4    delivered      2016-09-15 12:16:38 2016-09-15 12:16:38   \n",
       "\n",
       "  order_delivered_carrier_date order_delivered_customer_date  \\\n",
       "0          2016-10-18 13:14:51                           NaT   \n",
       "1          2016-10-18 13:14:51                           NaT   \n",
       "2                          NaT                           NaT   \n",
       "3          2016-11-07 17:11:53           2016-11-09 07:47:38   \n",
       "4          2016-11-07 17:11:53           2016-11-09 07:47:38   \n",
       "\n",
       "  order_estimated_delivery_date  estimated_date_diff  order_item_id  \\\n",
       "0                    2016-10-20                   45              1   \n",
       "1                    2016-10-20                   45              2   \n",
       "2                    2016-10-28                   52              1   \n",
       "3                    2016-10-04                   18              1   \n",
       "4                    2016-10-04                   18              2   \n",
       "\n",
       "                         product_id                         seller_id  \\\n",
       "0  c1488892604e4ba5cff5b4eb4d595400  1554a68530182680ad5c8b042c3ab563   \n",
       "1  f293394c72c9b5fafd7023301fc21fc2  1554a68530182680ad5c8b042c3ab563   \n",
       "2  f3c2d01a84c947b078e32bbef0718962  a425f92c199eb576938df686728acd20   \n",
       "3  5a6b04657a4c5ee34285d1e4619a96b4  ecccfa2bb93b34a3bf033cc5d1dcdc69   \n",
       "4  5a6b04657a4c5ee34285d1e4619a96b4  ecccfa2bb93b34a3bf033cc5d1dcdc69   \n",
       "\n",
       "  shipping_limit_date  price  freight_value                customer_unique_id  \\\n",
       "0 2016-10-26 18:25:19  39.99          31.67  b7d76e111c89f7ebf14761390f0f7d17   \n",
       "1 2016-10-26 18:25:19  32.90          31.67  b7d76e111c89f7ebf14761390f0f7d17   \n",
       "2 2016-09-19 00:15:34  59.50          15.56  4854e9b3feff728c13ee5fc7d1547e92   \n",
       "3 2016-09-19 23:11:33  44.99           2.83  830d5b7aaa3b6f1e9ad63703bec97d23   \n",
       "4 2016-09-19 23:11:33  44.99           2.83  830d5b7aaa3b6f1e9ad63703bec97d23   \n",
       "\n",
       "   customer_zip_code_prefix         customer_city customer_state  \n",
       "0                     69309             boa vista             RR  \n",
       "1                     69309             boa vista             RR  \n",
       "2                     99025           passo fundo             RS  \n",
       "3                     14600  sao joaquim da barra             SP  \n",
       "4                     14600  sao joaquim da barra             SP  "
      ]
     },
     "execution_count": 66,
     "metadata": {},
     "output_type": "execute_result"
    }
   ],
   "source": [
    "all_data.head()"
   ]
  },
  {
   "cell_type": "code",
   "execution_count": 67,
   "id": "cbe4ceac",
   "metadata": {},
   "outputs": [
    {
     "data": {
      "text/plain": [
       "(112650, 19)"
      ]
     },
     "execution_count": 67,
     "metadata": {},
     "output_type": "execute_result"
    }
   ],
   "source": [
    "all_data.shape"
   ]
  },
  {
   "cell_type": "code",
   "execution_count": 68,
   "id": "50c65da0",
   "metadata": {
    "scrolled": true
   },
   "outputs": [
    {
     "data": {
      "text/plain": [
       "(112650, 15)"
      ]
     },
     "execution_count": 68,
     "metadata": {},
     "output_type": "execute_result"
    }
   ],
   "source": [
    "orders_with_items.shape"
   ]
  },
  {
   "cell_type": "code",
   "execution_count": 69,
   "id": "d923b07d",
   "metadata": {},
   "outputs": [
    {
     "data": {
      "text/plain": [
       "order_id                            0\n",
       "customer_id                         0\n",
       "order_status                        0\n",
       "order_purchase_timestamp            0\n",
       "order_approved_at                  15\n",
       "order_delivered_carrier_date     1194\n",
       "order_delivered_customer_date    2454\n",
       "order_estimated_delivery_date       0\n",
       "estimated_date_diff                 0\n",
       "order_item_id                       0\n",
       "product_id                          0\n",
       "seller_id                           0\n",
       "shipping_limit_date                 0\n",
       "price                               0\n",
       "freight_value                       0\n",
       "customer_unique_id                  0\n",
       "customer_zip_code_prefix            0\n",
       "customer_city                       0\n",
       "customer_state                      0\n",
       "dtype: int64"
      ]
     },
     "execution_count": 69,
     "metadata": {},
     "output_type": "execute_result"
    }
   ],
   "source": [
    "all_data.isna().sum()"
   ]
  },
  {
   "cell_type": "markdown",
   "id": "317c2b56",
   "metadata": {},
   "source": [
    "Ничего не потеряли"
   ]
  },
  {
   "cell_type": "markdown",
   "id": "9a86434f",
   "metadata": {},
   "source": [
    "Подготовим датафрейм, чтобы проверить наши `unavailable` — вдруг дело в адресе"
   ]
  },
  {
   "cell_type": "code",
   "execution_count": 70,
   "id": "8ef53c8d",
   "metadata": {},
   "outputs": [
    {
     "data": {
      "text/plain": [
       "(98666, 10)"
      ]
     },
     "execution_count": 70,
     "metadata": {},
     "output_type": "execute_result"
    }
   ],
   "source": [
    "unique_orders = all_data[['order_id', 'customer_id', 'customer_unique_id',\n",
    "                           'order_status', 'order_purchase_timestamp', 'order_approved_at', \n",
    "                           'order_delivered_carrier_date', 'order_delivered_customer_date', \n",
    "                           'customer_city', 'customer_state']].drop_duplicates()\n",
    "\n",
    "unique_orders.shape"
   ]
  },
  {
   "cell_type": "markdown",
   "id": "769ba6b4",
   "metadata": {},
   "source": [
    "Посмотрим, как изменилась разбивка по статусам"
   ]
  },
  {
   "cell_type": "code",
   "execution_count": 71,
   "id": "43dbba06",
   "metadata": {},
   "outputs": [
    {
     "data": {
      "text/plain": [
       "order_status\n",
       "delivered      96478\n",
       "shipped         1106\n",
       "canceled         461\n",
       "invoiced         312\n",
       "processing       301\n",
       "unavailable        6\n",
       "approved           2\n",
       "Name: count, dtype: int64"
      ]
     },
     "execution_count": 71,
     "metadata": {},
     "output_type": "execute_result"
    }
   ],
   "source": [
    "unique_orders.order_status.value_counts()"
   ]
  },
  {
   "cell_type": "code",
   "execution_count": 72,
   "id": "fdae8b2d",
   "metadata": {},
   "outputs": [
    {
     "data": {
      "text/plain": [
       "order_status\n",
       "delivered      96478\n",
       "shipped         1107\n",
       "canceled         625\n",
       "unavailable      609\n",
       "invoiced         314\n",
       "processing       301\n",
       "created            5\n",
       "approved           2\n",
       "Name: count, dtype: int64"
      ]
     },
     "execution_count": 72,
     "metadata": {},
     "output_type": "execute_result"
    }
   ],
   "source": [
    "orders.order_status.value_counts()"
   ]
  },
  {
   "cell_type": "markdown",
   "id": "a0183c3e",
   "metadata": {},
   "source": [
    "После мёрджа у нас схлопнулись практически все заказы в статусе `unavailable`. Получается, что в норме такие заказы отсекаются и у них не должно быть товарных позиций. Тем не менее посмотрим оставшиеся 6 заказов, которые всё-таки оформились"
   ]
  },
  {
   "cell_type": "code",
   "execution_count": 73,
   "id": "6a0c3680",
   "metadata": {},
   "outputs": [
    {
     "data": {
      "text/html": [
       "<div>\n",
       "<style scoped>\n",
       "    .dataframe tbody tr th:only-of-type {\n",
       "        vertical-align: middle;\n",
       "    }\n",
       "\n",
       "    .dataframe tbody tr th {\n",
       "        vertical-align: top;\n",
       "    }\n",
       "\n",
       "    .dataframe thead th {\n",
       "        text-align: right;\n",
       "    }\n",
       "</style>\n",
       "<table border=\"1\" class=\"dataframe\">\n",
       "  <thead>\n",
       "    <tr style=\"text-align: right;\">\n",
       "      <th></th>\n",
       "      <th>order_id</th>\n",
       "      <th>customer_id</th>\n",
       "      <th>customer_unique_id</th>\n",
       "      <th>order_status</th>\n",
       "      <th>order_purchase_timestamp</th>\n",
       "      <th>order_approved_at</th>\n",
       "      <th>order_delivered_carrier_date</th>\n",
       "      <th>order_delivered_customer_date</th>\n",
       "      <th>customer_city</th>\n",
       "      <th>customer_state</th>\n",
       "    </tr>\n",
       "  </thead>\n",
       "  <tbody>\n",
       "    <tr>\n",
       "      <th>108</th>\n",
       "      <td>dc18a044b56ed174037ca164cdf2e921</td>\n",
       "      <td>4a06381959b6670756de02e07b83815f</td>\n",
       "      <td>b92a2e5e8a6eabcc80882c7d68b2c70b</td>\n",
       "      <td>unavailable</td>\n",
       "      <td>2016-10-05 14:16:28</td>\n",
       "      <td>2016-10-06 15:56:49</td>\n",
       "      <td>NaT</td>\n",
       "      <td>NaT</td>\n",
       "      <td>vargem grande paulista</td>\n",
       "      <td>SP</td>\n",
       "    </tr>\n",
       "    <tr>\n",
       "      <th>122</th>\n",
       "      <td>2fd1c83dd4714cf3cf796fffb6c8de62</td>\n",
       "      <td>7f51c513004ef3f35e834c142f286778</td>\n",
       "      <td>30fceee7cb0dbe6926f2b1128f2b3648</td>\n",
       "      <td>unavailable</td>\n",
       "      <td>2016-10-05 17:21:29</td>\n",
       "      <td>2016-10-06 15:55:40</td>\n",
       "      <td>NaT</td>\n",
       "      <td>NaT</td>\n",
       "      <td>belo horizonte</td>\n",
       "      <td>MG</td>\n",
       "    </tr>\n",
       "    <tr>\n",
       "      <th>169</th>\n",
       "      <td>54bb06e1ca86bd99ee2a8d6288bf4ede</td>\n",
       "      <td>98bfbf477ed9f40a0264f5e527a446be</td>\n",
       "      <td>8aa802da0f525a68e7fae5e67929ebdd</td>\n",
       "      <td>unavailable</td>\n",
       "      <td>2016-10-06 13:38:39</td>\n",
       "      <td>2016-10-06 14:22:19</td>\n",
       "      <td>NaT</td>\n",
       "      <td>NaT</td>\n",
       "      <td>aracariguama</td>\n",
       "      <td>SP</td>\n",
       "    </tr>\n",
       "    <tr>\n",
       "      <th>197</th>\n",
       "      <td>4dd47e84e6b8ff4a63d0b8425e6d788e</td>\n",
       "      <td>96bbcbc8372c86da857d842dfda6bd72</td>\n",
       "      <td>e347a8d0bfec0255258cc913ed28d3a9</td>\n",
       "      <td>unavailable</td>\n",
       "      <td>2016-10-06 23:49:18</td>\n",
       "      <td>2016-10-07 01:09:08</td>\n",
       "      <td>NaT</td>\n",
       "      <td>NaT</td>\n",
       "      <td>campos dos goytacazes</td>\n",
       "      <td>RJ</td>\n",
       "    </tr>\n",
       "    <tr>\n",
       "      <th>237</th>\n",
       "      <td>1a47da1d66c70489c8e35fe2b5433ab7</td>\n",
       "      <td>3d8e326c3cef3a9bba7ca121baac5fc3</td>\n",
       "      <td>b18b6d40c3c5510727e0f22b568d3e1f</td>\n",
       "      <td>unavailable</td>\n",
       "      <td>2016-10-07 18:16:31</td>\n",
       "      <td>2016-10-07 18:53:48</td>\n",
       "      <td>NaT</td>\n",
       "      <td>NaT</td>\n",
       "      <td>porto alegre</td>\n",
       "      <td>RS</td>\n",
       "    </tr>\n",
       "    <tr>\n",
       "      <th>267</th>\n",
       "      <td>3c3ca08854ca922fe8e9cedfd6841c8a</td>\n",
       "      <td>88c36fbd3df96094f90f0315e1d2dd90</td>\n",
       "      <td>e629cd3ff381ad0a234016fa7dd76f46</td>\n",
       "      <td>unavailable</td>\n",
       "      <td>2016-10-08 12:13:38</td>\n",
       "      <td>2016-10-08 13:21:35</td>\n",
       "      <td>NaT</td>\n",
       "      <td>NaT</td>\n",
       "      <td>suzano</td>\n",
       "      <td>SP</td>\n",
       "    </tr>\n",
       "  </tbody>\n",
       "</table>\n",
       "</div>"
      ],
      "text/plain": [
       "                             order_id                       customer_id  \\\n",
       "108  dc18a044b56ed174037ca164cdf2e921  4a06381959b6670756de02e07b83815f   \n",
       "122  2fd1c83dd4714cf3cf796fffb6c8de62  7f51c513004ef3f35e834c142f286778   \n",
       "169  54bb06e1ca86bd99ee2a8d6288bf4ede  98bfbf477ed9f40a0264f5e527a446be   \n",
       "197  4dd47e84e6b8ff4a63d0b8425e6d788e  96bbcbc8372c86da857d842dfda6bd72   \n",
       "237  1a47da1d66c70489c8e35fe2b5433ab7  3d8e326c3cef3a9bba7ca121baac5fc3   \n",
       "267  3c3ca08854ca922fe8e9cedfd6841c8a  88c36fbd3df96094f90f0315e1d2dd90   \n",
       "\n",
       "                   customer_unique_id order_status order_purchase_timestamp  \\\n",
       "108  b92a2e5e8a6eabcc80882c7d68b2c70b  unavailable      2016-10-05 14:16:28   \n",
       "122  30fceee7cb0dbe6926f2b1128f2b3648  unavailable      2016-10-05 17:21:29   \n",
       "169  8aa802da0f525a68e7fae5e67929ebdd  unavailable      2016-10-06 13:38:39   \n",
       "197  e347a8d0bfec0255258cc913ed28d3a9  unavailable      2016-10-06 23:49:18   \n",
       "237  b18b6d40c3c5510727e0f22b568d3e1f  unavailable      2016-10-07 18:16:31   \n",
       "267  e629cd3ff381ad0a234016fa7dd76f46  unavailable      2016-10-08 12:13:38   \n",
       "\n",
       "      order_approved_at order_delivered_carrier_date  \\\n",
       "108 2016-10-06 15:56:49                          NaT   \n",
       "122 2016-10-06 15:55:40                          NaT   \n",
       "169 2016-10-06 14:22:19                          NaT   \n",
       "197 2016-10-07 01:09:08                          NaT   \n",
       "237 2016-10-07 18:53:48                          NaT   \n",
       "267 2016-10-08 13:21:35                          NaT   \n",
       "\n",
       "    order_delivered_customer_date           customer_city customer_state  \n",
       "108                           NaT  vargem grande paulista             SP  \n",
       "122                           NaT          belo horizonte             MG  \n",
       "169                           NaT            aracariguama             SP  \n",
       "197                           NaT   campos dos goytacazes             RJ  \n",
       "237                           NaT            porto alegre             RS  \n",
       "267                           NaT                  suzano             SP  "
      ]
     },
     "execution_count": 73,
     "metadata": {},
     "output_type": "execute_result"
    }
   ],
   "source": [
    "unique_orders.query(\"order_status == 'unavailable'\")"
   ]
  },
  {
   "cell_type": "markdown",
   "id": "6847c8ce",
   "metadata": {},
   "source": [
    "Города абсолютно разные, так что причина статуса скорее всего не в адресе"
   ]
  },
  {
   "cell_type": "markdown",
   "id": "381c4e4c",
   "metadata": {},
   "source": [
    "При анализе `orders` мы уже начали исследовать сроки доставки — пришла пора продолжить. Только сейчас мы будем смотреть уже фактические сроки — за сколько дней заказы действительно доставляются. Опираться мы будем на наличие таймстемпа в поле `order_delivered_customer_date`, потому что не все заказы в статусе `delivered` действильно доставлены"
   ]
  },
  {
   "cell_type": "code",
   "execution_count": 74,
   "id": "947b99ec",
   "metadata": {},
   "outputs": [
    {
     "data": {
      "text/plain": [
       "count                         96476\n",
       "mean     12 days 13:24:31.879068369\n",
       "std       9 days 13:07:00.181125305\n",
       "min                 0 days 12:48:07\n",
       "25%          6 days 18:23:37.250000\n",
       "50%                10 days 05:13:34\n",
       "75%         15 days 17:17:16.250000\n",
       "max               209 days 15:05:12\n",
       "Name: time_to_delivery, dtype: object"
      ]
     },
     "execution_count": 74,
     "metadata": {},
     "output_type": "execute_result"
    }
   ],
   "source": [
    "df_temp = unique_orders.query(\"order_delivered_customer_date.notna()\").copy()\n",
    "df_temp.loc[:, 'time_to_delivery'] = df_temp.order_delivered_customer_date - df_temp.order_purchase_timestamp\n",
    "df_temp.time_to_delivery.describe()"
   ]
  },
  {
   "cell_type": "code",
   "execution_count": 75,
   "id": "cd2486a0",
   "metadata": {
    "scrolled": true
   },
   "outputs": [
    {
     "data": {
      "text/plain": [
       "2843    209 days 15:05:12\n",
       "65475   208 days 08:26:32\n",
       "3924    195 days 15:12:59\n",
       "3985    194 days 20:24:15\n",
       "4007    194 days 15:12:24\n",
       "Name: time_to_delivery, dtype: timedelta64[ns]"
      ]
     },
     "execution_count": 75,
     "metadata": {},
     "output_type": "execute_result"
    }
   ],
   "source": [
    "df_temp.time_to_delivery.nlargest(5)"
   ]
  },
  {
   "cell_type": "markdown",
   "id": "54ea75d1",
   "metadata": {},
   "source": [
    "7 месяцев до доставки это так себе — возможно нужно будет подумать над фильтрацией таких заказов"
   ]
  },
  {
   "cell_type": "code",
   "execution_count": 76,
   "id": "514d4ba6",
   "metadata": {
    "scrolled": true
   },
   "outputs": [
    {
     "data": {
      "text/plain": [
       "15376   0 days 12:48:07\n",
       "12716   0 days 18:45:10\n",
       "17056   0 days 20:31:39\n",
       "97393   0 days 20:43:20\n",
       "12981   0 days 21:22:41\n",
       "Name: time_to_delivery, dtype: timedelta64[ns]"
      ]
     },
     "execution_count": 76,
     "metadata": {},
     "output_type": "execute_result"
    }
   ],
   "source": [
    "df_temp.time_to_delivery.nsmallest(5)"
   ]
  },
  {
   "cell_type": "code",
   "execution_count": 77,
   "id": "73ef2497",
   "metadata": {},
   "outputs": [
    {
     "data": {
      "text/plain": [
       "order_id                                  object\n",
       "customer_id                               object\n",
       "customer_unique_id                        object\n",
       "order_status                              object\n",
       "order_purchase_timestamp          datetime64[ns]\n",
       "order_approved_at                 datetime64[ns]\n",
       "order_delivered_carrier_date      datetime64[ns]\n",
       "order_delivered_customer_date     datetime64[ns]\n",
       "customer_city                             object\n",
       "customer_state                            object\n",
       "time_to_delivery                 timedelta64[ns]\n",
       "dtype: object"
      ]
     },
     "execution_count": 77,
     "metadata": {},
     "output_type": "execute_result"
    }
   ],
   "source": [
    "df_temp.dtypes"
   ]
  },
  {
   "cell_type": "markdown",
   "id": "3662847f",
   "metadata": {},
   "source": [
    "График тоже построим и сравним его с распределением ожидаемых сроков доставки"
   ]
  },
  {
   "cell_type": "code",
   "execution_count": 78,
   "id": "0621be82",
   "metadata": {
    "scrolled": true
   },
   "outputs": [
    {
     "name": "stderr",
     "output_type": "stream",
     "text": [
      "/var/folders/4t/xy71k9fx5k314zh65xrhbqr40000gn/T/ipykernel_40613/667957945.py:1: FutureWarning: Setting an item of incompatible dtype is deprecated and will raise in a future error of pandas. Value '[54 23 24 ...  1  1  1]' has dtype incompatible with timedelta64[ns], please explicitly cast to a compatible dtype first.\n",
      "  df_temp.loc[:, 'time_to_delivery'] = df_temp.time_to_delivery.dt.days\n"
     ]
    }
   ],
   "source": [
    "df_temp.loc[:, 'time_to_delivery'] = df_temp.time_to_delivery.dt.days"
   ]
  },
  {
   "cell_type": "code",
   "execution_count": 79,
   "id": "ba701445",
   "metadata": {
    "scrolled": false
   },
   "outputs": [
    {
     "data": {
      "text/plain": [
       "<Axes: xlabel='time_to_delivery', ylabel='Count'>"
      ]
     },
     "execution_count": 79,
     "metadata": {},
     "output_type": "execute_result"
    },
    {
     "data": {
      "image/png": "[encoded data removed]",
      "text/plain": [
       "<Figure size 1600x800 with 1 Axes>"
      ]
     },
     "metadata": {},
     "output_type": "display_data"
    }
   ],
   "source": [
    "sns.histplot(data=df_temp, x='time_to_delivery')\n",
    "sns.histplot(data=orders, x='estimated_date_diff')"
   ]
  },
  {
   "cell_type": "markdown",
   "id": "f67eaca8",
   "metadata": {},
   "source": [
    "В целом выглядит неплохо — в общей массе доставляем быстрее, чем выходят обещанные сроки. Но хвост в 200 дней всё равно смущает"
   ]
  },
  {
   "cell_type": "markdown",
   "id": "3618540e",
   "metadata": {},
   "source": [
    "Завершаем наш предварительный анализ — **посравниваем таймстемпы между собой на предмет аномалий.** Все наблюдения я консолидирую уже в выводе — он будет сразу после нескольких строчек кода"
   ]
  },
  {
   "cell_type": "code",
   "execution_count": 80,
   "id": "e6fab755",
   "metadata": {},
   "outputs": [
    {
     "data": {
      "text/plain": [
       "14"
      ]
     },
     "execution_count": 80,
     "metadata": {},
     "output_type": "execute_result"
    }
   ],
   "source": [
    "unique_orders.query(\"order_approved_at.isna()\").shape[0]"
   ]
  },
  {
   "cell_type": "code",
   "execution_count": 81,
   "id": "359730b4",
   "metadata": {},
   "outputs": [
    {
     "data": {
      "text/plain": [
       "1"
      ]
     },
     "execution_count": 81,
     "metadata": {},
     "output_type": "execute_result"
    }
   ],
   "source": [
    "unique_orders.query(\"order_delivered_carrier_date.isna() & order_delivered_customer_date.notna()\").shape[0]"
   ]
  },
  {
   "cell_type": "code",
   "execution_count": 82,
   "id": "9d6c1b16",
   "metadata": {},
   "outputs": [
    {
     "data": {
      "text/plain": [
       "0"
      ]
     },
     "execution_count": 82,
     "metadata": {},
     "output_type": "execute_result"
    }
   ],
   "source": [
    "unique_orders.query(\"order_purchase_timestamp > order_approved_at\").shape[0]"
   ]
  },
  {
   "cell_type": "code",
   "execution_count": 83,
   "id": "af8ab4b4",
   "metadata": {},
   "outputs": [
    {
     "data": {
      "text/plain": [
       "166"
      ]
     },
     "execution_count": 83,
     "metadata": {},
     "output_type": "execute_result"
    }
   ],
   "source": [
    "unique_orders.query(\"order_purchase_timestamp >= order_delivered_carrier_date\").shape[0]"
   ]
  },
  {
   "cell_type": "code",
   "execution_count": 84,
   "id": "59078953",
   "metadata": {},
   "outputs": [
    {
     "data": {
      "text/plain": [
       "0"
      ]
     },
     "execution_count": 84,
     "metadata": {},
     "output_type": "execute_result"
    }
   ],
   "source": [
    "unique_orders.query(\"order_purchase_timestamp >= order_delivered_customer_date\").shape[0]"
   ]
  },
  {
   "cell_type": "code",
   "execution_count": 85,
   "id": "f558f796",
   "metadata": {},
   "outputs": [
    {
     "data": {
      "text/plain": [
       "1359"
      ]
     },
     "execution_count": 85,
     "metadata": {},
     "output_type": "execute_result"
    }
   ],
   "source": [
    "unique_orders.query(\"order_approved_at > order_delivered_carrier_date\").shape[0]"
   ]
  },
  {
   "cell_type": "code",
   "execution_count": 86,
   "id": "8f9362c9",
   "metadata": {},
   "outputs": [
    {
     "data": {
      "text/plain": [
       "61"
      ]
     },
     "execution_count": 86,
     "metadata": {},
     "output_type": "execute_result"
    }
   ],
   "source": [
    "unique_orders.query(\"order_approved_at >= order_delivered_customer_date\").shape[0]"
   ]
  },
  {
   "cell_type": "code",
   "execution_count": 87,
   "id": "c3f892d6",
   "metadata": {},
   "outputs": [
    {
     "data": {
      "text/plain": [
       "32"
      ]
     },
     "execution_count": 87,
     "metadata": {},
     "output_type": "execute_result"
    }
   ],
   "source": [
    "unique_orders.query(\"order_delivered_carrier_date >= order_delivered_customer_date\").shape[0]"
   ]
  },
  {
   "cell_type": "markdown",
   "id": "076544c2",
   "metadata": {},
   "source": [
    "#### Вывод\n",
    "- `unavailable` никак не связан с недоступостью конкретных адресов\n",
    "- 775 заказов (та разница, которую мы нашли при анализе `order_items`) у нас условно «фантомные» и мы не будем учитвать их при подсчёте покупок\n",
    "- `order_approved_at`:\n",
    "    - ни одного заказа, где дата подтверждения оплаты позже, чем дата оформления\n",
    "    - 14 доставленных заказов без даты подтверждения\n",
    "    - 1359 заказов, где заказ передали логистам, но подтвердили оплату позже\n",
    "    - 61 заказ, где заказ доставили, но подтвердили оплату позже уже после\n",
    "    - Итог: полагаться на `order_approved_at` как на точку отчёта для сроков доставки или маркер покупки **нельзя**\n",
    "- `order_delivered_carrier_date`:\n",
    "    - 1 заказ без даты передачи логистам, но с датой доставки\n",
    "    - 166 заказов, у которых заказ «передали» логистам раньше, чем оформили\n",
    "    - 32 заказа, которые «передали» логистам уже после доставки\n",
    "- нет ни одного заказа, у которого бы дата доставки была позже даты оформления. Похоже на что-то стабильное, на что можно опереться в дальнейшем\n",
    "- средний срок доставки с момента создания заказа — 12 дней, медиана — 10 дней. Конечно логичнее было бы взять срок доставки с момента подтверждения оплаты, но `order_approved_at` мы не доверяем\n",
    "    - есть заказы, которые были доставлены гораздо позже обычных сроков. Есть даже доехавшие через 200 дней после оформления. Возможно стоит задуматься об их фильтрации, когда будем считать недоставки\n",
    "    \n",
    "На этом остановимся и перейдём к вопросам от Василия"
   ]
  },
  {
   "cell_type": "markdown",
   "id": "bf3c72cb",
   "metadata": {},
   "source": [
    "## 1. Сколько у нас пользователей, которые совершили покупку только один раз?"
   ]
  },
  {
   "cell_type": "markdown",
   "id": "a66a656e",
   "metadata": {},
   "source": [
    "### Что будем считать покупкой\n",
    "Вот определение с точки зрения [налогового кодекса](https://www.consultant.ru/document/cons_doc_LAW_373622/e4ca7557c9ce6273af99d42c900e8579841fe652/#:~:text=%D0%94%D0%BE%D0%B3%D0%BE%D0%B2%D0%BE%D1%80%20%D1%80%D0%BE%D0%B7%D0%BD%D0%B8%D1%87%D0%BD%D0%BE%D0%B9%20%D0%BA%D1%83%D0%BF%D0%BB%D0%B8%2D%D0%BF%D1%80%D0%BE%D0%B4%D0%B0%D0%B6%D0%B8%20%D1%81%D1%87%D0%B8%D1%82%D0%B0%D0%B5%D1%82%D1%81%D1%8F%20%D0%B7%D0%B0%D0%BA%D0%BB%D1%8E%D1%87%D0%B5%D0%BD%D0%BD%D1%8B%D0%BC%20%D1%81%20%D0%BC%D0%BE%D0%BC%D0%B5%D0%BD%D1%82%D0%B0%20%D0%B2%D1%8B%D0%B4%D0%B0%D1%87%D0%B8%20%D0%BF%D1%80%D0%BE%D0%B4%D0%B0%D0%B2%D1%86%D0%BE%D0%BC%20%D0%BF%D0%BE%D1%82%D1%80%D0%B5%D0%B1%D0%B8%D1%82%D0%B5%D0%BB%D1%8E%20%D0%BA%D0%B0%D1%81%D1%81%D0%BE%D0%B2%D0%BE%D0%B3%D0%BE%20%D0%B8%D0%BB%D0%B8%20%D1%82%D0%BE%D0%B2%D0%B0%D1%80%D0%BD%D0%BE%D0%B3%D0%BE%20%D1%87%D0%B5%D0%BA%D0%B0%20%D0%BB%D0%B8%D0%B1%D0%BE%20%D0%B8%D0%BD%D0%BE%D0%B3%D0%BE%20%D0%B4%D0%BE%D0%BA%D1%83%D0%BC%D0%B5%D0%BD%D1%82%D0%B0%2C%20%D0%BF%D0%BE%D0%B4%D1%82%D0%B2%D0%B5%D1%80%D0%B6%D0%B4%D0%B0%D1%8E%D1%89%D0%B5%D0%B3%D0%BE%20%D0%BE%D0%BF%D0%BB%D0%B0%D1%82%D1%83%20%D1%82%D0%BE%D0%B2%D0%B0%D1%80%D0%B0%2C%20%D0%B8%D0%BB%D0%B8%20%D1%81%20%D0%BC%D0%BE%D0%BC%D0%B5%D0%BD%D1%82%D0%B0%20%D0%BF%D0%BE%D0%BB%D1%83%D1%87%D0%B5%D0%BD%D0%B8%D1%8F%20%D0%BF%D1%80%D0%BE%D0%B4%D0%B0%D0%B2%D1%86%D0%BE%D0%BC%20%D1%81%D0%BE%D0%BE%D0%B1%D1%89%D0%B5%D0%BD%D0%B8%D1%8F%20%D0%BF%D0%BE%D1%82%D1%80%D0%B5%D0%B1%D0%B8%D1%82%D0%B5%D0%BB%D1%8F%20%D0%BE%20%D0%BD%D0%B0%D0%BC%D0%B5%D1%80%D0%B5%D0%BD%D0%B8%D0%B8%20%D0%B7%D0%B0%D0%BA%D0%BB%D1%8E%D1%87%D0%B8%D1%82%D1%8C%20%D0%B4%D0%BE%D0%B3%D0%BE%D0%B2%D0%BE%D1%80%20%D1%80%D0%BE%D0%B7%D0%BD%D0%B8%D1%87%D0%BD%D0%BE%D0%B9%20%D0%BA%D1%83%D0%BF%D0%BB%D0%B8%2D%D0%BF%D1%80%D0%BE%D0%B4%D0%B0%D0%B6%D0%B8.):\n",
    "\n",
    "> Договор розничной купли-продажи считается заключенным с момента выдачи продавцом потребителю кассового или товарного чека либо иного документа, подтверждающего оплату товара, или с момента получения продавцом сообщения потребителя о намерении заключить договор розничной купли-продажи.\n",
    "\n",
    "Пусть это будет нашим фундаментом, от него мы уже можем отталкиваться при принятии решения. Снала разберёмся с чисто техническими моментами:\n",
    "\n",
    "- Очевидно, что покупка начинается с оформления заказа. Заказать можно как один товар, так и несколько, но считать мы будем по уникальным значениям в поле `order_id`\n",
    "- Обязательное наличие товарных позиций в заказе. В объединённом датафрейме у всех строк ненулевые значения в `order_item_id`, `product_id` и т. д. 775 заказов у нас отсеялись, потому что для них не нашлось значений `order_id` в таблице `order_list` = это «фантомные» заказы без товаров, которые мы не можем считать покупкой\n",
    "- Заказ, у которого есть только дата создания заказа и ничего больше, не может считаться купленным вне зависимости от статуса. У нас всего 14 заказов без `order_approved_at`, но у них есть даты передачи логистам и доставки, поэтому все заказы проходят по этому условию\n",
    "\n",
    "Дальше самое сложное: нужно выбрать с чьей точки зрения мы будем рассматривать процесс покупки. Рассмотрим самые очевидные:\n",
    "\n",
    "1. С точки зрения **юзера** процесс покупки не завершён до тех пор, пока он не получит товар. То есть можно назвать эту ветку рассуждений *«покупка = подтверждённая доставка»*. Применительно к нашим данным, заказ обязательно должен иметь какую-то дату в `order_delivered_customer_date`, чтобы мы считатли его доставленным. Точка зрения вполне логичная, однако для нас есть ряд неудобств при дальнейшем анализе:\n",
    "- доставка = покупка, мы смешиваем эти понятия в одно и теряем много промежуточной информации\n",
    "- доставка занимает определённое количество времени, а это значит, что у нас снижается чувствительность к изменениям поведения юзера и мы не сможем увидеть их в рамках небольших промежутков времени\n",
    "\n",
    "\n",
    "Итог: я решил не принимать эту версию, потому что она логична для потребителя, но не для бизнеса\n",
    "\n",
    "\n",
    "2. С точки зрения **продавца**, покупка — это деньги, которые он получил от юзера при оформлении заказа. Как только заказ перешёл в статус `approved`, можно считать, что пользователь совершил покупку. В этом контексте нам абсолютно не интересен факт доставки — это уже будет вопрос из другой плоскости бизнеса. Но при этом, если заказ будет отменён, то и факт покупки отменяется, потому что продавец в итоге не получит никаких денег. На практике рефанд может случиться по любой причине: юзер передумал, заказ не доехал, юзера не устроило качество и т. д. Тем не менее для наших данных **отменёнными** мы будем считать только те заказы, которые имеют статус `canceled`. Можно назвать эту ветку рассуждений *«покупка = подтверждённая оплата, заказ не отменён»*\n",
    "3. Точка зрения **маркетолога/маркетинга** очень похожа на точку зрения продавца. Для него конечным итогом воронки привлечения является *принятие пользователем решения о покупке*, то есть заключение того самого договора купли-продажи. Отличие состоит в том, что маркетологу не важен факт отмены или недоставки заказа, потому что он своё дело сделал — привлёк покупателя на платформу, где тот оформил заказ и перевёл за него деньги. Возможно это не совпадает с определениями из учебников, но вот так у меня будет работать маркетинг в этом конкретном проекте. Можно назвать эту ветку рассуждений *«покупка = любая подтверждённая оплата»*\n",
    "\n",
    "#### Финализируем\n",
    "Долго выбирал между 2 и 3 вариантами, но в итоге решеил остановиться на последнем. То есть, я буду считать, что *«покупка = любая подтверждённая оплата»*. Покупками будем считать данные, которые удовлетворяют следующим условиям:\n",
    " - уникальный `order_id`\n",
    " - количество товаров в заказе ≠ 0\n",
    " - есть дата хотя бы в одном из полей `order_approved_at`, `order_delivered_carrier_date` или `order_delivered_customer_date`\n",
    " - любой `order_status`, кроме `created`"
   ]
  },
  {
   "cell_type": "markdown",
   "id": "b73cb153",
   "metadata": {},
   "source": [
    "### Кого будем считать пользователями\n",
    "\n",
    "Тут выбор гораздо проще: либо считаем созданные профили, либо реальных людей. Последнее выглядит гораздо логичнее, по этому буду считать пользователей по `customer_unique_id`\n",
    "\n",
    "В `all_data` у нас для всех заказов есть товары, статус `created` отсутствует, условия по наличию дат в нужных колонках тоже выполняется. Так что сгруппируем данные по нужным полям и, наконец-то, можем начать считать"
   ]
  },
  {
   "cell_type": "code",
   "execution_count": 88,
   "id": "6eff3ca9",
   "metadata": {
    "scrolled": true
   },
   "outputs": [
    {
     "data": {
      "text/html": [
       "<div>\n",
       "<style scoped>\n",
       "    .dataframe tbody tr th:only-of-type {\n",
       "        vertical-align: middle;\n",
       "    }\n",
       "\n",
       "    .dataframe tbody tr th {\n",
       "        vertical-align: top;\n",
       "    }\n",
       "\n",
       "    .dataframe thead th {\n",
       "        text-align: right;\n",
       "    }\n",
       "</style>\n",
       "<table border=\"1\" class=\"dataframe\">\n",
       "  <thead>\n",
       "    <tr style=\"text-align: right;\">\n",
       "      <th></th>\n",
       "      <th>order_id</th>\n",
       "      <th>customer_id</th>\n",
       "      <th>order_status</th>\n",
       "      <th>order_purchase_timestamp</th>\n",
       "      <th>order_approved_at</th>\n",
       "      <th>order_delivered_carrier_date</th>\n",
       "      <th>order_delivered_customer_date</th>\n",
       "      <th>order_estimated_delivery_date</th>\n",
       "      <th>estimated_date_diff</th>\n",
       "      <th>order_item_id</th>\n",
       "      <th>product_id</th>\n",
       "      <th>seller_id</th>\n",
       "      <th>shipping_limit_date</th>\n",
       "      <th>price</th>\n",
       "      <th>freight_value</th>\n",
       "      <th>customer_unique_id</th>\n",
       "      <th>customer_zip_code_prefix</th>\n",
       "      <th>customer_city</th>\n",
       "      <th>customer_state</th>\n",
       "    </tr>\n",
       "  </thead>\n",
       "  <tbody>\n",
       "    <tr>\n",
       "      <th>0</th>\n",
       "      <td>2e7a8482f6fb09756ca50c10d7bfc047</td>\n",
       "      <td>08c5351a6aca1c1589a38f244edeee9d</td>\n",
       "      <td>shipped</td>\n",
       "      <td>2016-09-04 21:15:19</td>\n",
       "      <td>2016-10-07 13:18:03</td>\n",
       "      <td>2016-10-18 13:14:51</td>\n",
       "      <td>NaT</td>\n",
       "      <td>2016-10-20</td>\n",
       "      <td>45</td>\n",
       "      <td>1</td>\n",
       "      <td>c1488892604e4ba5cff5b4eb4d595400</td>\n",
       "      <td>1554a68530182680ad5c8b042c3ab563</td>\n",
       "      <td>2016-10-26 18:25:19</td>\n",
       "      <td>39.99</td>\n",
       "      <td>31.67</td>\n",
       "      <td>b7d76e111c89f7ebf14761390f0f7d17</td>\n",
       "      <td>69309</td>\n",
       "      <td>boa vista</td>\n",
       "      <td>RR</td>\n",
       "    </tr>\n",
       "    <tr>\n",
       "      <th>1</th>\n",
       "      <td>2e7a8482f6fb09756ca50c10d7bfc047</td>\n",
       "      <td>08c5351a6aca1c1589a38f244edeee9d</td>\n",
       "      <td>shipped</td>\n",
       "      <td>2016-09-04 21:15:19</td>\n",
       "      <td>2016-10-07 13:18:03</td>\n",
       "      <td>2016-10-18 13:14:51</td>\n",
       "      <td>NaT</td>\n",
       "      <td>2016-10-20</td>\n",
       "      <td>45</td>\n",
       "      <td>2</td>\n",
       "      <td>f293394c72c9b5fafd7023301fc21fc2</td>\n",
       "      <td>1554a68530182680ad5c8b042c3ab563</td>\n",
       "      <td>2016-10-26 18:25:19</td>\n",
       "      <td>32.90</td>\n",
       "      <td>31.67</td>\n",
       "      <td>b7d76e111c89f7ebf14761390f0f7d17</td>\n",
       "      <td>69309</td>\n",
       "      <td>boa vista</td>\n",
       "      <td>RR</td>\n",
       "    </tr>\n",
       "    <tr>\n",
       "      <th>2</th>\n",
       "      <td>e5fa5a7210941f7d56d0208e4e071d35</td>\n",
       "      <td>683c54fc24d40ee9f8a6fc179fd9856c</td>\n",
       "      <td>canceled</td>\n",
       "      <td>2016-09-05 00:15:34</td>\n",
       "      <td>2016-10-07 13:17:15</td>\n",
       "      <td>NaT</td>\n",
       "      <td>NaT</td>\n",
       "      <td>2016-10-28</td>\n",
       "      <td>52</td>\n",
       "      <td>1</td>\n",
       "      <td>f3c2d01a84c947b078e32bbef0718962</td>\n",
       "      <td>a425f92c199eb576938df686728acd20</td>\n",
       "      <td>2016-09-19 00:15:34</td>\n",
       "      <td>59.50</td>\n",
       "      <td>15.56</td>\n",
       "      <td>4854e9b3feff728c13ee5fc7d1547e92</td>\n",
       "      <td>99025</td>\n",
       "      <td>passo fundo</td>\n",
       "      <td>RS</td>\n",
       "    </tr>\n",
       "    <tr>\n",
       "      <th>3</th>\n",
       "      <td>bfbd0f9bdef84302105ad712db648a6c</td>\n",
       "      <td>86dc2ffce2dfff336de2f386a786e574</td>\n",
       "      <td>delivered</td>\n",
       "      <td>2016-09-15 12:16:38</td>\n",
       "      <td>2016-09-15 12:16:38</td>\n",
       "      <td>2016-11-07 17:11:53</td>\n",
       "      <td>2016-11-09 07:47:38</td>\n",
       "      <td>2016-10-04</td>\n",
       "      <td>18</td>\n",
       "      <td>1</td>\n",
       "      <td>5a6b04657a4c5ee34285d1e4619a96b4</td>\n",
       "      <td>ecccfa2bb93b34a3bf033cc5d1dcdc69</td>\n",
       "      <td>2016-09-19 23:11:33</td>\n",
       "      <td>44.99</td>\n",
       "      <td>2.83</td>\n",
       "      <td>830d5b7aaa3b6f1e9ad63703bec97d23</td>\n",
       "      <td>14600</td>\n",
       "      <td>sao joaquim da barra</td>\n",
       "      <td>SP</td>\n",
       "    </tr>\n",
       "    <tr>\n",
       "      <th>4</th>\n",
       "      <td>bfbd0f9bdef84302105ad712db648a6c</td>\n",
       "      <td>86dc2ffce2dfff336de2f386a786e574</td>\n",
       "      <td>delivered</td>\n",
       "      <td>2016-09-15 12:16:38</td>\n",
       "      <td>2016-09-15 12:16:38</td>\n",
       "      <td>2016-11-07 17:11:53</td>\n",
       "      <td>2016-11-09 07:47:38</td>\n",
       "      <td>2016-10-04</td>\n",
       "      <td>18</td>\n",
       "      <td>2</td>\n",
       "      <td>5a6b04657a4c5ee34285d1e4619a96b4</td>\n",
       "      <td>ecccfa2bb93b34a3bf033cc5d1dcdc69</td>\n",
       "      <td>2016-09-19 23:11:33</td>\n",
       "      <td>44.99</td>\n",
       "      <td>2.83</td>\n",
       "      <td>830d5b7aaa3b6f1e9ad63703bec97d23</td>\n",
       "      <td>14600</td>\n",
       "      <td>sao joaquim da barra</td>\n",
       "      <td>SP</td>\n",
       "    </tr>\n",
       "  </tbody>\n",
       "</table>\n",
       "</div>"
      ],
      "text/plain": [
       "                           order_id                       customer_id  \\\n",
       "0  2e7a8482f6fb09756ca50c10d7bfc047  08c5351a6aca1c1589a38f244edeee9d   \n",
       "1  2e7a8482f6fb09756ca50c10d7bfc047  08c5351a6aca1c1589a38f244edeee9d   \n",
       "2  e5fa5a7210941f7d56d0208e4e071d35  683c54fc24d40ee9f8a6fc179fd9856c   \n",
       "3  bfbd0f9bdef84302105ad712db648a6c  86dc2ffce2dfff336de2f386a786e574   \n",
       "4  bfbd0f9bdef84302105ad712db648a6c  86dc2ffce2dfff336de2f386a786e574   \n",
       "\n",
       "  order_status order_purchase_timestamp   order_approved_at  \\\n",
       "0      shipped      2016-09-04 21:15:19 2016-10-07 13:18:03   \n",
       "1      shipped      2016-09-04 21:15:19 2016-10-07 13:18:03   \n",
       "2     canceled      2016-09-05 00:15:34 2016-10-07 13:17:15   \n",
       "3    delivered      2016-09-15 12:16:38 2016-09-15 12:16:38   \n",
       "4    delivered      2016-09-15 12:16:38 2016-09-15 12:16:38   \n",
       "\n",
       "  order_delivered_carrier_date order_delivered_customer_date  \\\n",
       "0          2016-10-18 13:14:51                           NaT   \n",
       "1          2016-10-18 13:14:51                           NaT   \n",
       "2                          NaT                           NaT   \n",
       "3          2016-11-07 17:11:53           2016-11-09 07:47:38   \n",
       "4          2016-11-07 17:11:53           2016-11-09 07:47:38   \n",
       "\n",
       "  order_estimated_delivery_date  estimated_date_diff  order_item_id  \\\n",
       "0                    2016-10-20                   45              1   \n",
       "1                    2016-10-20                   45              2   \n",
       "2                    2016-10-28                   52              1   \n",
       "3                    2016-10-04                   18              1   \n",
       "4                    2016-10-04                   18              2   \n",
       "\n",
       "                         product_id                         seller_id  \\\n",
       "0  c1488892604e4ba5cff5b4eb4d595400  1554a68530182680ad5c8b042c3ab563   \n",
       "1  f293394c72c9b5fafd7023301fc21fc2  1554a68530182680ad5c8b042c3ab563   \n",
       "2  f3c2d01a84c947b078e32bbef0718962  a425f92c199eb576938df686728acd20   \n",
       "3  5a6b04657a4c5ee34285d1e4619a96b4  ecccfa2bb93b34a3bf033cc5d1dcdc69   \n",
       "4  5a6b04657a4c5ee34285d1e4619a96b4  ecccfa2bb93b34a3bf033cc5d1dcdc69   \n",
       "\n",
       "  shipping_limit_date  price  freight_value                customer_unique_id  \\\n",
       "0 2016-10-26 18:25:19  39.99          31.67  b7d76e111c89f7ebf14761390f0f7d17   \n",
       "1 2016-10-26 18:25:19  32.90          31.67  b7d76e111c89f7ebf14761390f0f7d17   \n",
       "2 2016-09-19 00:15:34  59.50          15.56  4854e9b3feff728c13ee5fc7d1547e92   \n",
       "3 2016-09-19 23:11:33  44.99           2.83  830d5b7aaa3b6f1e9ad63703bec97d23   \n",
       "4 2016-09-19 23:11:33  44.99           2.83  830d5b7aaa3b6f1e9ad63703bec97d23   \n",
       "\n",
       "   customer_zip_code_prefix         customer_city customer_state  \n",
       "0                     69309             boa vista             RR  \n",
       "1                     69309             boa vista             RR  \n",
       "2                     99025           passo fundo             RS  \n",
       "3                     14600  sao joaquim da barra             SP  \n",
       "4                     14600  sao joaquim da barra             SP  "
      ]
     },
     "execution_count": 88,
     "metadata": {},
     "output_type": "execute_result"
    }
   ],
   "source": [
    "all_data.head()"
   ]
  },
  {
   "cell_type": "code",
   "execution_count": 89,
   "id": "0043d7bd",
   "metadata": {
    "scrolled": true
   },
   "outputs": [
    {
     "data": {
      "text/plain": [
       "92507"
      ]
     },
     "execution_count": 89,
     "metadata": {},
     "output_type": "execute_result"
    }
   ],
   "source": [
    "purshases_real_customers = all_data[['order_purchase_timestamp', 'customer_unique_id', 'order_id']].drop_duplicates()\n",
    "\n",
    "purshases_real_customers \\\n",
    "    .groupby('customer_unique_id', as_index=False) \\\n",
    "    .agg({'order_id': 'count'}) \\\n",
    "    .sort_values(by='order_id', ascending=False) \\\n",
    "    .query(\"order_id == 1\").shape[0]"
   ]
  },
  {
   "cell_type": "markdown",
   "id": "40c4d0cf",
   "metadata": {},
   "source": [
    "### Ответ\n",
    "92507 пользователя совершили на площадке только одну покупку"
   ]
  },
  {
   "cell_type": "markdown",
   "id": "6769494b",
   "metadata": {},
   "source": [
    "## 2. Сколько заказов в месяц в среднем не доставляется по разным причинам? Вывести детализацию по причинам"
   ]
  },
  {
   "cell_type": "markdown",
   "id": "92e0ccff",
   "metadata": {},
   "source": [
    "### Что будем считать недоставкой\n",
    "При анализе таблицы `orders` мы определились, что считаем недоставленными все заказы **без даты в `order_delivered_customer_date`**  \n",
    "Краткие дополнения к этому условию:\n",
    " - мы не привязываемся к статусу `delivered`, потому что нашли заказы без даты даты доставки\n",
    " - заказы в статусе `canceled`, но с датой доставки недоставкой не считаем\n",
    " \n",
    "Однако это не всё. Обычно у магазинов/маркетплейсов есть конкретные SLO, то есть дедлайны для разных этапов доставки. В наших данных есть 2 колонки, которые похожи на дедлайны:\n",
    " - `shipping_limit_date` — максимальная дата доставки продавцом для передачи заказа партнеру по логистике. Как увидим ниже, она практически ни на что не влияет, поэтому эту колонку не будем брать в расчёт\n",
    " - `order_estimated_delivery_date` — «обещанная» дата доставки. Кавычки не просто так, потому что сначала нужно определиться с трактовкой этой колонки. Варианта по сути два:\n",
    "     - мы строго трактуем слово «обещанная» и считаем все заказы, которые доставили после этой даты, недоставкой. Таким образом, мы устанавливаем SLO и юзер имеет полное право вернуть деньги за нарушение обещанных (уже не в кавычках) сроков доставки\n",
    "     - «estimated» может трактоваться не как SLO, а как ориентировочная дата, в которую **скорее всего** придёт посылка. В этом случае мы юзеру ничего не обещаем, а просто информируем. В магазинах и маркетплейсах часто разделяют *ожидаемый срок доставки*, который считается по логистическим алгоритмам, и *гарантийный срок*, после которого площадка обязана вернуть деньги\n",
    "     \n",
    "Первый вариант проще, у нас уже есть готовые сроки и нам не нужно будет плодить сущности. Второй же вариант придётся дорабатывать. Как мы уже выяснили при предварительном аналазе, средний срок доставки — 12 дней. Однако у нас есть заказы, которые доставляли гораздо дольше (190 дней и выше), что явно не тянет на хороший сервис. Получается, что всё равно необходимо устанавить какие-то пороги и отсекать часть заказов, которые вышли за его пределы. Особых проблем с этим нет, я даже могу из собственного опыта взять реальные процентили по недоставке, но в рамка учебного проекта считаю, что это уже немного перебор :)  \n",
    "Итог: я буду трактовать сроки в `order_estimated_delivery_date` как *действительно* обещанные и считать все заказы, которые доставят после, **недоставкой**\n",
    "\n",
    "#### Финализируем\n",
    "Недоставкой будем считать данные, которые удовлетворяют следующим условиям:\n",
    "- уникальный `order_id`\n",
    "- нет даты в `order_delivered_customer_date`, либо дата `order_delivered_customer_date` старше `order_estimated_delivery_date` не меньше, чем **на день**"
   ]
  },
  {
   "cell_type": "markdown",
   "id": "ea87ceb5",
   "metadata": {},
   "source": [
    "По-быстрому прикинем, влияет ли на что-то статус `shipping_limit_date`"
   ]
  },
  {
   "cell_type": "code",
   "execution_count": 90,
   "id": "4cc159a5",
   "metadata": {
    "scrolled": true
   },
   "outputs": [
    {
     "data": {
      "text/plain": [
       "order_status\n",
       "delivered    10270\n",
       "shipped        143\n",
       "canceled        10\n",
       "Name: count, dtype: int64"
      ]
     },
     "execution_count": 90,
     "metadata": {},
     "output_type": "execute_result"
    }
   ],
   "source": [
    "all_data.query(\"shipping_limit_date < order_delivered_carrier_date\").order_status.value_counts()"
   ]
  },
  {
   "cell_type": "markdown",
   "id": "3b67e947",
   "metadata": {},
   "source": [
    "Подавляющее большинство товаров доставили, несмотря на выход за максимальный срок отгрузки. Это значит, что нам нет особого смысла привязываться к этой колонке при определении причин недоставки"
   ]
  },
  {
   "cell_type": "markdown",
   "id": "c1243dd0",
   "metadata": {},
   "source": [
    "Теперь подготовим датафрейм к анализу — отберём только небходимые строки, удалим дубикаты и отфильтруем таблицу по нашим условиям недоставки"
   ]
  },
  {
   "cell_type": "code",
   "execution_count": 91,
   "id": "9c63b179",
   "metadata": {
    "scrolled": false
   },
   "outputs": [
    {
     "data": {
      "text/html": [
       "<div>\n",
       "<style scoped>\n",
       "    .dataframe tbody tr th:only-of-type {\n",
       "        vertical-align: middle;\n",
       "    }\n",
       "\n",
       "    .dataframe tbody tr th {\n",
       "        vertical-align: top;\n",
       "    }\n",
       "\n",
       "    .dataframe thead th {\n",
       "        text-align: right;\n",
       "    }\n",
       "</style>\n",
       "<table border=\"1\" class=\"dataframe\">\n",
       "  <thead>\n",
       "    <tr style=\"text-align: right;\">\n",
       "      <th></th>\n",
       "      <th>order_id</th>\n",
       "      <th>order_status</th>\n",
       "      <th>order_purchase_timestamp</th>\n",
       "      <th>order_approved_at</th>\n",
       "      <th>order_delivered_carrier_date</th>\n",
       "      <th>order_delivered_customer_date</th>\n",
       "      <th>order_estimated_delivery_date</th>\n",
       "    </tr>\n",
       "  </thead>\n",
       "  <tbody>\n",
       "    <tr>\n",
       "      <th>0</th>\n",
       "      <td>2e7a8482f6fb09756ca50c10d7bfc047</td>\n",
       "      <td>shipped</td>\n",
       "      <td>2016-09-04 21:15:19</td>\n",
       "      <td>2016-10-07 13:18:03</td>\n",
       "      <td>2016-10-18 13:14:51</td>\n",
       "      <td>NaT</td>\n",
       "      <td>2016-10-20</td>\n",
       "    </tr>\n",
       "    <tr>\n",
       "      <th>2</th>\n",
       "      <td>e5fa5a7210941f7d56d0208e4e071d35</td>\n",
       "      <td>canceled</td>\n",
       "      <td>2016-09-05 00:15:34</td>\n",
       "      <td>2016-10-07 13:17:15</td>\n",
       "      <td>NaT</td>\n",
       "      <td>NaT</td>\n",
       "      <td>2016-10-28</td>\n",
       "    </tr>\n",
       "    <tr>\n",
       "      <th>3</th>\n",
       "      <td>bfbd0f9bdef84302105ad712db648a6c</td>\n",
       "      <td>delivered</td>\n",
       "      <td>2016-09-15 12:16:38</td>\n",
       "      <td>2016-09-15 12:16:38</td>\n",
       "      <td>2016-11-07 17:11:53</td>\n",
       "      <td>2016-11-09 07:47:38</td>\n",
       "      <td>2016-10-04</td>\n",
       "    </tr>\n",
       "    <tr>\n",
       "      <th>6</th>\n",
       "      <td>71303d7e93b399f5bcd537d124c0bcfa</td>\n",
       "      <td>canceled</td>\n",
       "      <td>2016-10-02 22:07:52</td>\n",
       "      <td>2016-10-06 15:50:56</td>\n",
       "      <td>NaT</td>\n",
       "      <td>NaT</td>\n",
       "      <td>2016-10-25</td>\n",
       "    </tr>\n",
       "    <tr>\n",
       "      <th>23</th>\n",
       "      <td>dd359d3c294458c6d642b2eea9212bf5</td>\n",
       "      <td>invoiced</td>\n",
       "      <td>2016-10-04 13:02:10</td>\n",
       "      <td>2016-10-05 03:08:27</td>\n",
       "      <td>NaT</td>\n",
       "      <td>NaT</td>\n",
       "      <td>2016-11-24</td>\n",
       "    </tr>\n",
       "  </tbody>\n",
       "</table>\n",
       "</div>"
      ],
      "text/plain": [
       "                            order_id order_status order_purchase_timestamp  \\\n",
       "0   2e7a8482f6fb09756ca50c10d7bfc047      shipped      2016-09-04 21:15:19   \n",
       "2   e5fa5a7210941f7d56d0208e4e071d35     canceled      2016-09-05 00:15:34   \n",
       "3   bfbd0f9bdef84302105ad712db648a6c    delivered      2016-09-15 12:16:38   \n",
       "6   71303d7e93b399f5bcd537d124c0bcfa     canceled      2016-10-02 22:07:52   \n",
       "23  dd359d3c294458c6d642b2eea9212bf5     invoiced      2016-10-04 13:02:10   \n",
       "\n",
       "     order_approved_at order_delivered_carrier_date  \\\n",
       "0  2016-10-07 13:18:03          2016-10-18 13:14:51   \n",
       "2  2016-10-07 13:17:15                          NaT   \n",
       "3  2016-09-15 12:16:38          2016-11-07 17:11:53   \n",
       "6  2016-10-06 15:50:56                          NaT   \n",
       "23 2016-10-05 03:08:27                          NaT   \n",
       "\n",
       "   order_delivered_customer_date order_estimated_delivery_date  \n",
       "0                            NaT                    2016-10-20  \n",
       "2                            NaT                    2016-10-28  \n",
       "3            2016-11-09 07:47:38                    2016-10-04  \n",
       "6                            NaT                    2016-10-25  \n",
       "23                           NaT                    2016-11-24  "
      ]
     },
     "execution_count": 91,
     "metadata": {},
     "output_type": "execute_result"
    }
   ],
   "source": [
    "non_delivery = all_data[['order_id', 'order_status', 'order_purchase_timestamp',\n",
    "          'order_approved_at', 'order_delivered_carrier_date',\n",
    "          'order_delivered_customer_date', 'order_estimated_delivery_date']].drop_duplicates()\n",
    "\n",
    "order_delivered_customer_date_only = non_delivery.order_delivered_customer_date.dt.date\n",
    "non_delivery = non_delivery.query(\"order_delivered_customer_date.isna() \\\n",
    "                                  | @order_delivered_customer_date_only > order_estimated_delivery_date\")\n",
    "non_delivery.head()"
   ]
  },
  {
   "cell_type": "markdown",
   "id": "a14f1028",
   "metadata": {},
   "source": [
    "### Определим причины недоставки\n",
    "\n",
    "В первую очередь я буду опираться на сам статус, а потом на наличие или отсутствие значений в колонках с датами. Но перед этим для удобства я разделю причины недоставки на 2 большие группы:\n",
    "- не доставили вовремя\n",
    "- не доставили вообще\n",
    "\n",
    "Внутри этих групп уже будем выделять этапы, где что-то пошло не так"
   ]
  },
  {
   "cell_type": "code",
   "execution_count": 92,
   "id": "88586729",
   "metadata": {},
   "outputs": [
    {
     "data": {
      "text/plain": [
       "(8725, 7)"
      ]
     },
     "execution_count": 92,
     "metadata": {},
     "output_type": "execute_result"
    }
   ],
   "source": [
    "non_delivery.shape"
   ]
  },
  {
   "cell_type": "markdown",
   "id": "913cd786",
   "metadata": {},
   "source": [
    "#### Не доставили вообще"
   ]
  },
  {
   "cell_type": "code",
   "execution_count": 93,
   "id": "86552615",
   "metadata": {},
   "outputs": [
    {
     "data": {
      "text/plain": [
       "(2190, 7)"
      ]
     },
     "execution_count": 93,
     "metadata": {},
     "output_type": "execute_result"
    }
   ],
   "source": [
    "non_delivery_nan = non_delivery.query(\"order_delivered_customer_date.isna()\")\n",
    "non_delivery_nan.shape"
   ]
  },
  {
   "cell_type": "code",
   "execution_count": 94,
   "id": "b1ed775e",
   "metadata": {
    "scrolled": true
   },
   "outputs": [
    {
     "data": {
      "text/plain": [
       "order_status\n",
       "shipped        1106\n",
       "canceled        455\n",
       "invoiced        312\n",
       "processing      301\n",
       "delivered         8\n",
       "unavailable       6\n",
       "approved          2\n",
       "Name: count, dtype: int64"
      ]
     },
     "execution_count": 94,
     "metadata": {},
     "output_type": "execute_result"
    }
   ],
   "source": [
    "non_delivery_nan.order_status.value_counts()"
   ]
  },
  {
   "cell_type": "code",
   "execution_count": 95,
   "id": "04caccef",
   "metadata": {},
   "outputs": [
    {
     "data": {
      "text/plain": [
       "2"
      ]
     },
     "execution_count": 95,
     "metadata": {},
     "output_type": "execute_result"
    }
   ],
   "source": [
    "non_delivery_nan.query(\"order_status == 'approved'& order_delivered_carrier_date.isna()\").shape[0]"
   ]
  },
  {
   "cell_type": "markdown",
   "id": "b892d1df",
   "metadata": {},
   "source": [
    "Информация не дошла до склада. Попали все заказы в статусе `approved`"
   ]
  },
  {
   "cell_type": "code",
   "execution_count": 96,
   "id": "1e6fea39",
   "metadata": {
    "scrolled": true
   },
   "outputs": [
    {
     "data": {
      "text/plain": [
       "312"
      ]
     },
     "execution_count": 96,
     "metadata": {},
     "output_type": "execute_result"
    }
   ],
   "source": [
    "non_delivery_nan.query(\"order_status == 'invoiced' & order_delivered_carrier_date.isna()\").shape[0]"
   ]
  },
  {
   "cell_type": "markdown",
   "id": "ad1e76f3",
   "metadata": {},
   "source": [
    "Заявку не обработали на складе или не приступили к сборке — проблемы на складе. Попали все заказы в статусе в статусе `invoiced`"
   ]
  },
  {
   "cell_type": "code",
   "execution_count": 97,
   "id": "88bd246a",
   "metadata": {
    "scrolled": true
   },
   "outputs": [
    {
     "data": {
      "text/plain": [
       "301"
      ]
     },
     "execution_count": 97,
     "metadata": {},
     "output_type": "execute_result"
    }
   ],
   "source": [
    "non_delivery_nan.query(\"order_status == 'processing' & order_delivered_carrier_date.isna()\").shape[0]"
   ]
  },
  {
   "cell_type": "markdown",
   "id": "93da100d",
   "metadata": {},
   "source": [
    "Потеряли уже на складе или не передали заказ на доставку — снова проблемы на складе. Можно объединить с предыдущим статусом. Попали все заказы в статусе в статусе `processing`"
   ]
  },
  {
   "cell_type": "code",
   "execution_count": 98,
   "id": "9ee68955",
   "metadata": {
    "scrolled": true
   },
   "outputs": [
    {
     "data": {
      "text/plain": [
       "1106"
      ]
     },
     "execution_count": 98,
     "metadata": {},
     "output_type": "execute_result"
    }
   ],
   "source": [
    "non_delivery_nan.query(\"order_status == 'shipped' & order_delivered_carrier_date.notna()\").shape[0]"
   ]
  },
  {
   "cell_type": "markdown",
   "id": "18a771af",
   "metadata": {},
   "source": [
    "Логист потерял или не смог доставить заказ — проблемы со стороны перевозчика. Попали все заказы в статусе в статусе в статусе `shipped`"
   ]
  },
  {
   "cell_type": "code",
   "execution_count": 99,
   "id": "1297de1a",
   "metadata": {},
   "outputs": [
    {
     "data": {
      "text/plain": [
       "1"
      ]
     },
     "execution_count": 99,
     "metadata": {},
     "output_type": "execute_result"
    }
   ],
   "source": [
    "non_delivery_nan.query(\"order_status == 'delivered' & order_delivered_carrier_date.isna()\").shape[0]"
   ]
  },
  {
   "cell_type": "markdown",
   "id": "67fd1945",
   "metadata": {},
   "source": [
    "Может быть несколько причин, к какой-то одно отнести затруднительно, поэтому стоит отнести такое к прочим причинам"
   ]
  },
  {
   "cell_type": "code",
   "execution_count": 100,
   "id": "0fc2995b",
   "metadata": {
    "scrolled": true
   },
   "outputs": [
    {
     "data": {
      "text/plain": [
       "7"
      ]
     },
     "execution_count": 100,
     "metadata": {},
     "output_type": "execute_result"
    }
   ],
   "source": [
    "non_delivery_nan.query(\"order_status == 'delivered' & order_delivered_carrier_date.notna()\").shape[0]"
   ]
  },
  {
   "cell_type": "markdown",
   "id": "a706e89f",
   "metadata": {},
   "source": [
    "Проблемы со стороны перевозчика"
   ]
  },
  {
   "cell_type": "code",
   "execution_count": 101,
   "id": "4de190ee",
   "metadata": {},
   "outputs": [
    {
     "data": {
      "text/plain": [
       "455"
      ]
     },
     "execution_count": 101,
     "metadata": {},
     "output_type": "execute_result"
    }
   ],
   "source": [
    "non_delivery_nan.query(\"order_status == 'canceled'\").shape[0]"
   ]
  },
  {
   "cell_type": "markdown",
   "id": "5edf8219",
   "metadata": {},
   "source": [
    "Выяснить, на каком именно этапе отменили заказ, не получится, но мы знаем, что это точно было уже *после оплаты*. Здесь нет ни одного доставленного заказа"
   ]
  },
  {
   "cell_type": "code",
   "execution_count": 102,
   "id": "5d5c1e46",
   "metadata": {},
   "outputs": [
    {
     "data": {
      "text/plain": [
       "6"
      ]
     },
     "execution_count": 102,
     "metadata": {},
     "output_type": "execute_result"
    }
   ],
   "source": [
    "non_delivery_nan.query(\"order_status == 'unavailable'\").shape[0]"
   ]
  },
  {
   "cell_type": "markdown",
   "id": "f318a913",
   "metadata": {},
   "source": [
    "Прочие причины"
   ]
  },
  {
   "cell_type": "code",
   "execution_count": 103,
   "id": "5ea33b77",
   "metadata": {},
   "outputs": [
    {
     "data": {
      "text/plain": [
       "2190"
      ]
     },
     "execution_count": 103,
     "metadata": {},
     "output_type": "execute_result"
    }
   ],
   "source": [
    "# Контрольная сумма\n",
    "2 + 312 + 301 + 1106 + 1 + 7 + 455 + 6"
   ]
  },
  {
   "cell_type": "markdown",
   "id": "e5d8af1b",
   "metadata": {},
   "source": [
    "Перебрали все заказы, которые вообще не были доставлены"
   ]
  },
  {
   "cell_type": "markdown",
   "id": "f03892f8",
   "metadata": {},
   "source": [
    "#### Не доставили вовремя\n",
    "Здесь мы будем проверять согласованность таймстемпов между собой. В норме должно быть так: `order_purchase_timestamp` < `order_approved_at` < `order_delivered_carrier_date` < `order_delivered_customer_date`"
   ]
  },
  {
   "cell_type": "code",
   "execution_count": 104,
   "id": "44dcbd57",
   "metadata": {},
   "outputs": [
    {
     "data": {
      "text/plain": [
       "(6535, 7)"
      ]
     },
     "execution_count": 104,
     "metadata": {},
     "output_type": "execute_result"
    }
   ],
   "source": [
    "non_delivery_expired = non_delivery.query(\"order_delivered_customer_date > order_estimated_delivery_date\")\n",
    "non_delivery_expired.shape"
   ]
  },
  {
   "cell_type": "markdown",
   "id": "a1056669",
   "metadata": {},
   "source": [
    "Проверим, есть ли `NaN`"
   ]
  },
  {
   "cell_type": "code",
   "execution_count": 105,
   "id": "89077219",
   "metadata": {
    "scrolled": true
   },
   "outputs": [
    {
     "data": {
      "text/plain": [
       "order_id                         0\n",
       "order_status                     0\n",
       "order_purchase_timestamp         0\n",
       "order_approved_at                0\n",
       "order_delivered_carrier_date     1\n",
       "order_delivered_customer_date    0\n",
       "order_estimated_delivery_date    0\n",
       "dtype: int64"
      ]
     },
     "execution_count": 105,
     "metadata": {},
     "output_type": "execute_result"
    }
   ],
   "source": [
    "non_delivery_expired.isna().sum()"
   ]
  },
  {
   "cell_type": "code",
   "execution_count": 106,
   "id": "7cfc1420",
   "metadata": {
    "scrolled": true
   },
   "outputs": [
    {
     "data": {
      "text/html": [
       "<div>\n",
       "<style scoped>\n",
       "    .dataframe tbody tr th:only-of-type {\n",
       "        vertical-align: middle;\n",
       "    }\n",
       "\n",
       "    .dataframe tbody tr th {\n",
       "        vertical-align: top;\n",
       "    }\n",
       "\n",
       "    .dataframe thead th {\n",
       "        text-align: right;\n",
       "    }\n",
       "</style>\n",
       "<table border=\"1\" class=\"dataframe\">\n",
       "  <thead>\n",
       "    <tr style=\"text-align: right;\">\n",
       "      <th></th>\n",
       "      <th>order_id</th>\n",
       "      <th>order_status</th>\n",
       "      <th>order_purchase_timestamp</th>\n",
       "      <th>order_approved_at</th>\n",
       "      <th>order_delivered_carrier_date</th>\n",
       "      <th>order_delivered_customer_date</th>\n",
       "      <th>order_estimated_delivery_date</th>\n",
       "    </tr>\n",
       "  </thead>\n",
       "  <tbody>\n",
       "    <tr>\n",
       "      <th>30700</th>\n",
       "      <td>2aa91108853cecb43c84a5dc5b277475</td>\n",
       "      <td>delivered</td>\n",
       "      <td>2017-09-29 08:52:58</td>\n",
       "      <td>2017-09-29 09:07:16</td>\n",
       "      <td>NaT</td>\n",
       "      <td>2017-11-20 19:44:47</td>\n",
       "      <td>2017-11-14</td>\n",
       "    </tr>\n",
       "  </tbody>\n",
       "</table>\n",
       "</div>"
      ],
      "text/plain": [
       "                               order_id order_status order_purchase_timestamp  \\\n",
       "30700  2aa91108853cecb43c84a5dc5b277475    delivered      2017-09-29 08:52:58   \n",
       "\n",
       "        order_approved_at order_delivered_carrier_date  \\\n",
       "30700 2017-09-29 09:07:16                          NaT   \n",
       "\n",
       "      order_delivered_customer_date order_estimated_delivery_date  \n",
       "30700           2017-11-20 19:44:47                    2017-11-14  "
      ]
     },
     "execution_count": 106,
     "metadata": {},
     "output_type": "execute_result"
    }
   ],
   "source": [
    "non_delivery_expired.query(\"order_delivered_carrier_date.isna()\")"
   ]
  },
  {
   "cell_type": "code",
   "execution_count": 107,
   "id": "5468f4ee",
   "metadata": {},
   "outputs": [
    {
     "data": {
      "text/html": [
       "<div>\n",
       "<style scoped>\n",
       "    .dataframe tbody tr th:only-of-type {\n",
       "        vertical-align: middle;\n",
       "    }\n",
       "\n",
       "    .dataframe tbody tr th {\n",
       "        vertical-align: top;\n",
       "    }\n",
       "\n",
       "    .dataframe thead th {\n",
       "        text-align: right;\n",
       "    }\n",
       "</style>\n",
       "<table border=\"1\" class=\"dataframe\">\n",
       "  <thead>\n",
       "    <tr style=\"text-align: right;\">\n",
       "      <th></th>\n",
       "      <th>order_id</th>\n",
       "      <th>order_status</th>\n",
       "      <th>order_purchase_timestamp</th>\n",
       "      <th>order_approved_at</th>\n",
       "      <th>order_delivered_carrier_date</th>\n",
       "      <th>order_delivered_customer_date</th>\n",
       "      <th>order_estimated_delivery_date</th>\n",
       "    </tr>\n",
       "  </thead>\n",
       "  <tbody>\n",
       "    <tr>\n",
       "      <th>93956</th>\n",
       "      <td>6c5d1e03493316b72304f07834a03325</td>\n",
       "      <td>delivered</td>\n",
       "      <td>2018-06-12 13:56:41</td>\n",
       "      <td>2018-06-12 14:27:00</td>\n",
       "      <td>2018-06-12 13:06:00</td>\n",
       "      <td>2018-07-17 16:32:20</td>\n",
       "      <td>2018-07-11</td>\n",
       "    </tr>\n",
       "    <tr>\n",
       "      <th>102150</th>\n",
       "      <td>972976cb62fb977bfbc253219799e486</td>\n",
       "      <td>delivered</td>\n",
       "      <td>2018-07-20 11:15:51</td>\n",
       "      <td>2018-07-20 11:25:13</td>\n",
       "      <td>2018-07-20 10:27:00</td>\n",
       "      <td>2018-08-08 20:46:24</td>\n",
       "      <td>2018-08-07</td>\n",
       "    </tr>\n",
       "  </tbody>\n",
       "</table>\n",
       "</div>"
      ],
      "text/plain": [
       "                                order_id order_status  \\\n",
       "93956   6c5d1e03493316b72304f07834a03325    delivered   \n",
       "102150  972976cb62fb977bfbc253219799e486    delivered   \n",
       "\n",
       "       order_purchase_timestamp   order_approved_at  \\\n",
       "93956       2018-06-12 13:56:41 2018-06-12 14:27:00   \n",
       "102150      2018-07-20 11:15:51 2018-07-20 11:25:13   \n",
       "\n",
       "       order_delivered_carrier_date order_delivered_customer_date  \\\n",
       "93956           2018-06-12 13:06:00           2018-07-17 16:32:20   \n",
       "102150          2018-07-20 10:27:00           2018-08-08 20:46:24   \n",
       "\n",
       "       order_estimated_delivery_date  \n",
       "93956                     2018-07-11  \n",
       "102150                    2018-08-07  "
      ]
     },
     "execution_count": 107,
     "metadata": {},
     "output_type": "execute_result"
    }
   ],
   "source": [
    "non_delivery_expired.query('order_purchase_timestamp > order_delivered_carrier_date')"
   ]
  },
  {
   "cell_type": "markdown",
   "id": "5182a83c",
   "metadata": {},
   "source": [
    "Сбои в дате отгрузки ничего нам не дают — нельзя точно сказать, из-за чего произошла задержка. Но это тоже можно отнести к прочим причинам недоставки"
   ]
  },
  {
   "cell_type": "code",
   "execution_count": 108,
   "id": "5e3f6b7c",
   "metadata": {},
   "outputs": [
    {
     "data": {
      "text/html": [
       "<div>\n",
       "<style scoped>\n",
       "    .dataframe tbody tr th:only-of-type {\n",
       "        vertical-align: middle;\n",
       "    }\n",
       "\n",
       "    .dataframe tbody tr th {\n",
       "        vertical-align: top;\n",
       "    }\n",
       "\n",
       "    .dataframe thead th {\n",
       "        text-align: right;\n",
       "    }\n",
       "</style>\n",
       "<table border=\"1\" class=\"dataframe\">\n",
       "  <thead>\n",
       "    <tr style=\"text-align: right;\">\n",
       "      <th></th>\n",
       "      <th>order_id</th>\n",
       "      <th>order_status</th>\n",
       "      <th>order_purchase_timestamp</th>\n",
       "      <th>order_approved_at</th>\n",
       "      <th>order_delivered_carrier_date</th>\n",
       "      <th>order_delivered_customer_date</th>\n",
       "      <th>order_estimated_delivery_date</th>\n",
       "    </tr>\n",
       "  </thead>\n",
       "  <tbody>\n",
       "    <tr>\n",
       "      <th>108521</th>\n",
       "      <td>4387477eec4b3c89b39f3f454940d059</td>\n",
       "      <td>delivered</td>\n",
       "      <td>2018-08-09 20:45:10</td>\n",
       "      <td>2018-08-20 15:56:29</td>\n",
       "      <td>2018-08-14 12:35:00</td>\n",
       "      <td>2018-08-15 14:56:43</td>\n",
       "      <td>2018-08-14</td>\n",
       "    </tr>\n",
       "    <tr>\n",
       "      <th>111094</th>\n",
       "      <td>9675440ebf61a1a3482cc6308e3ebd28</td>\n",
       "      <td>delivered</td>\n",
       "      <td>2018-08-18 23:35:23</td>\n",
       "      <td>2018-08-24 22:05:08</td>\n",
       "      <td>2018-08-27 16:14:00</td>\n",
       "      <td>2018-08-28 17:37:30</td>\n",
       "      <td>2018-08-23</td>\n",
       "    </tr>\n",
       "  </tbody>\n",
       "</table>\n",
       "</div>"
      ],
      "text/plain": [
       "                                order_id order_status  \\\n",
       "108521  4387477eec4b3c89b39f3f454940d059    delivered   \n",
       "111094  9675440ebf61a1a3482cc6308e3ebd28    delivered   \n",
       "\n",
       "       order_purchase_timestamp   order_approved_at  \\\n",
       "108521      2018-08-09 20:45:10 2018-08-20 15:56:29   \n",
       "111094      2018-08-18 23:35:23 2018-08-24 22:05:08   \n",
       "\n",
       "       order_delivered_carrier_date order_delivered_customer_date  \\\n",
       "108521          2018-08-14 12:35:00           2018-08-15 14:56:43   \n",
       "111094          2018-08-27 16:14:00           2018-08-28 17:37:30   \n",
       "\n",
       "       order_estimated_delivery_date  \n",
       "108521                    2018-08-14  \n",
       "111094                    2018-08-23  "
      ]
     },
     "execution_count": 108,
     "metadata": {},
     "output_type": "execute_result"
    }
   ],
   "source": [
    "non_delivery_expired.query('order_approved_at >= order_estimated_delivery_date')"
   ]
  },
  {
   "cell_type": "markdown",
   "id": "16c04af3",
   "metadata": {},
   "source": [
    "Сбои в дате подтверждения платежа куда-то отнести не получится, поэтому проигнорируем эту информацию"
   ]
  },
  {
   "cell_type": "code",
   "execution_count": 109,
   "id": "bf9d0586",
   "metadata": {
    "scrolled": true
   },
   "outputs": [
    {
     "data": {
      "text/plain": [
       "461"
      ]
     },
     "execution_count": 109,
     "metadata": {},
     "output_type": "execute_result"
    }
   ],
   "source": [
    "non_delivery_expired.query('order_delivered_carrier_date >= order_estimated_delivery_date').shape[0]"
   ]
  },
  {
   "cell_type": "markdown",
   "id": "10c5d9cc",
   "metadata": {},
   "source": [
    "Поздно отгрузили со склада"
   ]
  },
  {
   "cell_type": "code",
   "execution_count": 110,
   "id": "51187972",
   "metadata": {},
   "outputs": [
    {
     "data": {
      "text/plain": [
       "6071"
      ]
     },
     "execution_count": 110,
     "metadata": {},
     "output_type": "execute_result"
    }
   ],
   "source": [
    "non_delivery_expired.query('order_delivered_carrier_date < order_estimated_delivery_date \\\n",
    "                          & order_purchase_timestamp < order_delivered_carrier_date \\\n",
    "                          & order_delivered_carrier_date.notna()').shape[0]"
   ]
  },
  {
   "cell_type": "markdown",
   "id": "786455ab",
   "metadata": {},
   "source": [
    "Перевозчик не уложился в срок. Здесь у нас будет всё, что вовремя передали в доставку и не попало в прочие причины"
   ]
  },
  {
   "cell_type": "code",
   "execution_count": 111,
   "id": "acc1c82c",
   "metadata": {},
   "outputs": [
    {
     "data": {
      "text/plain": [
       "6535"
      ]
     },
     "execution_count": 111,
     "metadata": {},
     "output_type": "execute_result"
    }
   ],
   "source": [
    "# Контрольная сумма\n",
    "1 + 2 + 461 + 6071"
   ]
  },
  {
   "cell_type": "markdown",
   "id": "b54deb47",
   "metadata": {},
   "source": [
    "Перебрали все заказы, которые не доставили вовремя"
   ]
  },
  {
   "cell_type": "markdown",
   "id": "d686f868",
   "metadata": {},
   "source": [
    "#### Итоговый список причин\n",
    " - *Информация не дошла до склада* — заказ завис в статусе `approved`, особо добавить нечего\n",
    " - *Отменён после оплаты* — все заказы в статусе `canceled`, потому что мы не знаем точную дату отмены\n",
    " - *Проблемы на складе* — заказ завис в статусе `invoiced` или `processing`, то есть по каким-то причинам не смог покинуть склад\n",
    " - *Поздно отгрузили со склада* — дата передачи заказа логистам позже, чем обещанная дата доставки\n",
    " - *Проблемы со стороны перевозчика* — заказ завис в статусе `shipped`, либо не имеет даты доставки в статусе `delivered`, то есть не доехал по вине логиста\n",
    " - *Перевозчик не уложился в срок* — заказ вовремя попал к логисту, но фактическая дата доставки позже наших обещанных сроков\n",
    " - *Прочие причины* — всё, что мы не можем однозначно отнести к предыдущим причинам"
   ]
  },
  {
   "cell_type": "markdown",
   "id": "0066e40f",
   "metadata": {},
   "source": [
    "### Разметим недоставленные заказы\n",
    "Причины сформулировали — теперь добавим их в отдельную колонку к каждому недоставленному заказу. Для этого создадим функцию, которая возвращает соответствующее значение в зависимости от условий"
   ]
  },
  {
   "cell_type": "code",
   "execution_count": 112,
   "id": "117b9ae0",
   "metadata": {},
   "outputs": [],
   "source": [
    "def get_non_delivery_reason(row):\n",
    "    order_status = row['order_status']\n",
    "    carrier_date = row['order_delivered_carrier_date']\n",
    "    customer_date = row['order_delivered_customer_date']\n",
    "    estimated_date = row['order_estimated_delivery_date']\n",
    "    purchase_timestamp = row['order_purchase_timestamp']\n",
    "    \n",
    "    if order_status == 'approved' and pd.isna(carrier_date) and pd.isna(customer_date):\n",
    "        return 'Информация не дошла до склада'\n",
    "\n",
    "    if order_status in ['invoiced', 'processing'] and pd.isna(carrier_date) and pd.isna(customer_date):\n",
    "        return 'Проблемы на складе'\n",
    "\n",
    "    if order_status == 'shipped' and not pd.isna(carrier_date) and pd.isna(customer_date):\n",
    "        return 'Проблемы со стороны перевозчика'\n",
    "\n",
    "    if order_status == 'delivered':\n",
    "        if pd.isna(carrier_date):\n",
    "            return 'Прочие причины'\n",
    "        if not pd.isna(carrier_date) and pd.isna(customer_date):\n",
    "            return 'Проблемы со стороны перевозчика'\n",
    "\n",
    "    if order_status == 'canceled' and pd.isna(customer_date):\n",
    "        return 'Отменён после оплаты'\n",
    "\n",
    "    if order_status == 'unavailable' and pd.isna(customer_date):\n",
    "        return 'Прочие причины'  # Тут закончились заказы, которые вообще не были доставлены\n",
    "\n",
    "    if pd.isna(carrier_date) and customer_date > estimated_date:\n",
    "        return 'Прочие причины'\n",
    "\n",
    "    if purchase_timestamp > carrier_date and customer_date > estimated_date:\n",
    "        return 'Прочие причины'\n",
    "\n",
    "    if carrier_date > estimated_date and customer_date > estimated_date:\n",
    "        return 'Поздно отгрузили со склада'\n",
    "\n",
    "    if not (\n",
    "        (pd.isna(carrier_date) and customer_date > estimated_date) or\n",
    "        (purchase_timestamp > carrier_date and customer_date > estimated_date) or\n",
    "        (carrier_date > estimated_date and customer_date > estimated_date)\n",
    "    ):\n",
    "        return 'Перевозчик не уложился в срок'\n",
    "\n",
    "    return None  # Возвращаем None для строк, не удовлетворяющих условиям"
   ]
  },
  {
   "cell_type": "markdown",
   "id": "c8ddc890",
   "metadata": {},
   "source": [
    "Применяем функцию"
   ]
  },
  {
   "cell_type": "code",
   "execution_count": 113,
   "id": "a38fd0c3",
   "metadata": {},
   "outputs": [],
   "source": [
    "non_delivery['non_delivery_reason'] = non_delivery.apply(get_non_delivery_reason, axis=1)"
   ]
  },
  {
   "cell_type": "code",
   "execution_count": 114,
   "id": "082d51d3",
   "metadata": {
    "scrolled": true
   },
   "outputs": [
    {
     "data": {
      "text/html": [
       "<div>\n",
       "<style scoped>\n",
       "    .dataframe tbody tr th:only-of-type {\n",
       "        vertical-align: middle;\n",
       "    }\n",
       "\n",
       "    .dataframe tbody tr th {\n",
       "        vertical-align: top;\n",
       "    }\n",
       "\n",
       "    .dataframe thead th {\n",
       "        text-align: right;\n",
       "    }\n",
       "</style>\n",
       "<table border=\"1\" class=\"dataframe\">\n",
       "  <thead>\n",
       "    <tr style=\"text-align: right;\">\n",
       "      <th></th>\n",
       "      <th>order_id</th>\n",
       "      <th>order_status</th>\n",
       "      <th>order_purchase_timestamp</th>\n",
       "      <th>order_approved_at</th>\n",
       "      <th>order_delivered_carrier_date</th>\n",
       "      <th>order_delivered_customer_date</th>\n",
       "      <th>order_estimated_delivery_date</th>\n",
       "      <th>non_delivery_reason</th>\n",
       "    </tr>\n",
       "  </thead>\n",
       "  <tbody>\n",
       "    <tr>\n",
       "      <th>0</th>\n",
       "      <td>2e7a8482f6fb09756ca50c10d7bfc047</td>\n",
       "      <td>shipped</td>\n",
       "      <td>2016-09-04 21:15:19</td>\n",
       "      <td>2016-10-07 13:18:03</td>\n",
       "      <td>2016-10-18 13:14:51</td>\n",
       "      <td>NaT</td>\n",
       "      <td>2016-10-20</td>\n",
       "      <td>Проблемы со стороны перевозчика</td>\n",
       "    </tr>\n",
       "    <tr>\n",
       "      <th>2</th>\n",
       "      <td>e5fa5a7210941f7d56d0208e4e071d35</td>\n",
       "      <td>canceled</td>\n",
       "      <td>2016-09-05 00:15:34</td>\n",
       "      <td>2016-10-07 13:17:15</td>\n",
       "      <td>NaT</td>\n",
       "      <td>NaT</td>\n",
       "      <td>2016-10-28</td>\n",
       "      <td>Отменён после оплаты</td>\n",
       "    </tr>\n",
       "    <tr>\n",
       "      <th>3</th>\n",
       "      <td>bfbd0f9bdef84302105ad712db648a6c</td>\n",
       "      <td>delivered</td>\n",
       "      <td>2016-09-15 12:16:38</td>\n",
       "      <td>2016-09-15 12:16:38</td>\n",
       "      <td>2016-11-07 17:11:53</td>\n",
       "      <td>2016-11-09 07:47:38</td>\n",
       "      <td>2016-10-04</td>\n",
       "      <td>Поздно отгрузили со склада</td>\n",
       "    </tr>\n",
       "    <tr>\n",
       "      <th>6</th>\n",
       "      <td>71303d7e93b399f5bcd537d124c0bcfa</td>\n",
       "      <td>canceled</td>\n",
       "      <td>2016-10-02 22:07:52</td>\n",
       "      <td>2016-10-06 15:50:56</td>\n",
       "      <td>NaT</td>\n",
       "      <td>NaT</td>\n",
       "      <td>2016-10-25</td>\n",
       "      <td>Отменён после оплаты</td>\n",
       "    </tr>\n",
       "    <tr>\n",
       "      <th>23</th>\n",
       "      <td>dd359d3c294458c6d642b2eea9212bf5</td>\n",
       "      <td>invoiced</td>\n",
       "      <td>2016-10-04 13:02:10</td>\n",
       "      <td>2016-10-05 03:08:27</td>\n",
       "      <td>NaT</td>\n",
       "      <td>NaT</td>\n",
       "      <td>2016-11-24</td>\n",
       "      <td>Проблемы на складе</td>\n",
       "    </tr>\n",
       "  </tbody>\n",
       "</table>\n",
       "</div>"
      ],
      "text/plain": [
       "                            order_id order_status order_purchase_timestamp  \\\n",
       "0   2e7a8482f6fb09756ca50c10d7bfc047      shipped      2016-09-04 21:15:19   \n",
       "2   e5fa5a7210941f7d56d0208e4e071d35     canceled      2016-09-05 00:15:34   \n",
       "3   bfbd0f9bdef84302105ad712db648a6c    delivered      2016-09-15 12:16:38   \n",
       "6   71303d7e93b399f5bcd537d124c0bcfa     canceled      2016-10-02 22:07:52   \n",
       "23  dd359d3c294458c6d642b2eea9212bf5     invoiced      2016-10-04 13:02:10   \n",
       "\n",
       "     order_approved_at order_delivered_carrier_date  \\\n",
       "0  2016-10-07 13:18:03          2016-10-18 13:14:51   \n",
       "2  2016-10-07 13:17:15                          NaT   \n",
       "3  2016-09-15 12:16:38          2016-11-07 17:11:53   \n",
       "6  2016-10-06 15:50:56                          NaT   \n",
       "23 2016-10-05 03:08:27                          NaT   \n",
       "\n",
       "   order_delivered_customer_date order_estimated_delivery_date  \\\n",
       "0                            NaT                    2016-10-20   \n",
       "2                            NaT                    2016-10-28   \n",
       "3            2016-11-09 07:47:38                    2016-10-04   \n",
       "6                            NaT                    2016-10-25   \n",
       "23                           NaT                    2016-11-24   \n",
       "\n",
       "                non_delivery_reason  \n",
       "0   Проблемы со стороны перевозчика  \n",
       "2              Отменён после оплаты  \n",
       "3        Поздно отгрузили со склада  \n",
       "6              Отменён после оплаты  \n",
       "23               Проблемы на складе  "
      ]
     },
     "execution_count": 114,
     "metadata": {},
     "output_type": "execute_result"
    }
   ],
   "source": [
    "non_delivery.head()"
   ]
  },
  {
   "cell_type": "markdown",
   "id": "dffb7fbf",
   "metadata": {},
   "source": [
    "Проверяем, всё ли записалось как надо и нет ли пропусков"
   ]
  },
  {
   "cell_type": "code",
   "execution_count": 115,
   "id": "45d317e9",
   "metadata": {},
   "outputs": [
    {
     "data": {
      "text/plain": [
       "non_delivery_reason\n",
       "Перевозчик не уложился в срок      6071\n",
       "Проблемы со стороны перевозчика    1113\n",
       "Проблемы на складе                  613\n",
       "Поздно отгрузили со склада          461\n",
       "Отменён после оплаты                455\n",
       "Прочие причины                       10\n",
       "Информация не дошла до склада         2\n",
       "Name: count, dtype: int64"
      ]
     },
     "execution_count": 115,
     "metadata": {},
     "output_type": "execute_result"
    }
   ],
   "source": [
    "non_delivery.non_delivery_reason.value_counts(dropna=False)"
   ]
  },
  {
   "cell_type": "markdown",
   "id": "363abc4d",
   "metadata": {},
   "source": [
    "### Приступаем к расчётам\n",
    "Разбивку будем делать по дате создания заказа, потому что с `order_approved_at` не всё гладко, как мы уже выяснили выше. Оставим только год и месяц, чтобы можно было по ним сгруппировать данные"
   ]
  },
  {
   "cell_type": "code",
   "execution_count": 116,
   "id": "b9b3da1f",
   "metadata": {
    "scrolled": true
   },
   "outputs": [
    {
     "data": {
      "text/html": [
       "<div>\n",
       "<style scoped>\n",
       "    .dataframe tbody tr th:only-of-type {\n",
       "        vertical-align: middle;\n",
       "    }\n",
       "\n",
       "    .dataframe tbody tr th {\n",
       "        vertical-align: top;\n",
       "    }\n",
       "\n",
       "    .dataframe thead th {\n",
       "        text-align: right;\n",
       "    }\n",
       "</style>\n",
       "<table border=\"1\" class=\"dataframe\">\n",
       "  <thead>\n",
       "    <tr style=\"text-align: right;\">\n",
       "      <th></th>\n",
       "      <th>order_id</th>\n",
       "      <th>order_status</th>\n",
       "      <th>order_purchase_timestamp</th>\n",
       "      <th>order_approved_at</th>\n",
       "      <th>order_delivered_carrier_date</th>\n",
       "      <th>order_delivered_customer_date</th>\n",
       "      <th>order_estimated_delivery_date</th>\n",
       "      <th>non_delivery_reason</th>\n",
       "    </tr>\n",
       "  </thead>\n",
       "  <tbody>\n",
       "    <tr>\n",
       "      <th>0</th>\n",
       "      <td>2e7a8482f6fb09756ca50c10d7bfc047</td>\n",
       "      <td>shipped</td>\n",
       "      <td>2016-09</td>\n",
       "      <td>2016-10-07 13:18:03</td>\n",
       "      <td>2016-10-18 13:14:51</td>\n",
       "      <td>NaT</td>\n",
       "      <td>2016-10-20</td>\n",
       "      <td>Проблемы со стороны перевозчика</td>\n",
       "    </tr>\n",
       "    <tr>\n",
       "      <th>2</th>\n",
       "      <td>e5fa5a7210941f7d56d0208e4e071d35</td>\n",
       "      <td>canceled</td>\n",
       "      <td>2016-09</td>\n",
       "      <td>2016-10-07 13:17:15</td>\n",
       "      <td>NaT</td>\n",
       "      <td>NaT</td>\n",
       "      <td>2016-10-28</td>\n",
       "      <td>Отменён после оплаты</td>\n",
       "    </tr>\n",
       "    <tr>\n",
       "      <th>3</th>\n",
       "      <td>bfbd0f9bdef84302105ad712db648a6c</td>\n",
       "      <td>delivered</td>\n",
       "      <td>2016-09</td>\n",
       "      <td>2016-09-15 12:16:38</td>\n",
       "      <td>2016-11-07 17:11:53</td>\n",
       "      <td>2016-11-09 07:47:38</td>\n",
       "      <td>2016-10-04</td>\n",
       "      <td>Поздно отгрузили со склада</td>\n",
       "    </tr>\n",
       "    <tr>\n",
       "      <th>6</th>\n",
       "      <td>71303d7e93b399f5bcd537d124c0bcfa</td>\n",
       "      <td>canceled</td>\n",
       "      <td>2016-10</td>\n",
       "      <td>2016-10-06 15:50:56</td>\n",
       "      <td>NaT</td>\n",
       "      <td>NaT</td>\n",
       "      <td>2016-10-25</td>\n",
       "      <td>Отменён после оплаты</td>\n",
       "    </tr>\n",
       "    <tr>\n",
       "      <th>23</th>\n",
       "      <td>dd359d3c294458c6d642b2eea9212bf5</td>\n",
       "      <td>invoiced</td>\n",
       "      <td>2016-10</td>\n",
       "      <td>2016-10-05 03:08:27</td>\n",
       "      <td>NaT</td>\n",
       "      <td>NaT</td>\n",
       "      <td>2016-11-24</td>\n",
       "      <td>Проблемы на складе</td>\n",
       "    </tr>\n",
       "  </tbody>\n",
       "</table>\n",
       "</div>"
      ],
      "text/plain": [
       "                            order_id order_status order_purchase_timestamp  \\\n",
       "0   2e7a8482f6fb09756ca50c10d7bfc047      shipped                  2016-09   \n",
       "2   e5fa5a7210941f7d56d0208e4e071d35     canceled                  2016-09   \n",
       "3   bfbd0f9bdef84302105ad712db648a6c    delivered                  2016-09   \n",
       "6   71303d7e93b399f5bcd537d124c0bcfa     canceled                  2016-10   \n",
       "23  dd359d3c294458c6d642b2eea9212bf5     invoiced                  2016-10   \n",
       "\n",
       "     order_approved_at order_delivered_carrier_date  \\\n",
       "0  2016-10-07 13:18:03          2016-10-18 13:14:51   \n",
       "2  2016-10-07 13:17:15                          NaT   \n",
       "3  2016-09-15 12:16:38          2016-11-07 17:11:53   \n",
       "6  2016-10-06 15:50:56                          NaT   \n",
       "23 2016-10-05 03:08:27                          NaT   \n",
       "\n",
       "   order_delivered_customer_date order_estimated_delivery_date  \\\n",
       "0                            NaT                    2016-10-20   \n",
       "2                            NaT                    2016-10-28   \n",
       "3            2016-11-09 07:47:38                    2016-10-04   \n",
       "6                            NaT                    2016-10-25   \n",
       "23                           NaT                    2016-11-24   \n",
       "\n",
       "                non_delivery_reason  \n",
       "0   Проблемы со стороны перевозчика  \n",
       "2              Отменён после оплаты  \n",
       "3        Поздно отгрузили со склада  \n",
       "6              Отменён после оплаты  \n",
       "23               Проблемы на складе  "
      ]
     },
     "execution_count": 116,
     "metadata": {},
     "output_type": "execute_result"
    }
   ],
   "source": [
    "non_delivery_month = non_delivery.copy()\n",
    "non_delivery_month['order_purchase_timestamp'] = non_delivery_month['order_purchase_timestamp'].dt.to_period('M')\n",
    "non_delivery_month.head()"
   ]
  },
  {
   "cell_type": "markdown",
   "id": "a890c581",
   "metadata": {},
   "source": [
    "Соберём наши причины в сводную и посчитаем их количество за каждый месяц"
   ]
  },
  {
   "cell_type": "code",
   "execution_count": 117,
   "id": "f7a6a42e",
   "metadata": {},
   "outputs": [
    {
     "data": {
      "text/html": [
       "<div>\n",
       "<style scoped>\n",
       "    .dataframe tbody tr th:only-of-type {\n",
       "        vertical-align: middle;\n",
       "    }\n",
       "\n",
       "    .dataframe tbody tr th {\n",
       "        vertical-align: top;\n",
       "    }\n",
       "\n",
       "    .dataframe thead th {\n",
       "        text-align: right;\n",
       "    }\n",
       "</style>\n",
       "<table border=\"1\" class=\"dataframe\">\n",
       "  <thead>\n",
       "    <tr style=\"text-align: right;\">\n",
       "      <th>non_delivery_reason</th>\n",
       "      <th>Информация не дошла до склада</th>\n",
       "      <th>Отменён после оплаты</th>\n",
       "      <th>Перевозчик не уложился в срок</th>\n",
       "      <th>Поздно отгрузили со склада</th>\n",
       "      <th>Проблемы на складе</th>\n",
       "      <th>Проблемы со стороны перевозчика</th>\n",
       "      <th>Прочие причины</th>\n",
       "    </tr>\n",
       "    <tr>\n",
       "      <th>order_purchase_timestamp</th>\n",
       "      <th></th>\n",
       "      <th></th>\n",
       "      <th></th>\n",
       "      <th></th>\n",
       "      <th></th>\n",
       "      <th></th>\n",
       "      <th></th>\n",
       "    </tr>\n",
       "  </thead>\n",
       "  <tbody>\n",
       "    <tr>\n",
       "      <th>2016-09</th>\n",
       "      <td>0</td>\n",
       "      <td>1</td>\n",
       "      <td>0</td>\n",
       "      <td>1</td>\n",
       "      <td>0</td>\n",
       "      <td>1</td>\n",
       "      <td>0</td>\n",
       "    </tr>\n",
       "    <tr>\n",
       "      <th>2016-10</th>\n",
       "      <td>0</td>\n",
       "      <td>7</td>\n",
       "      <td>1</td>\n",
       "      <td>1</td>\n",
       "      <td>18</td>\n",
       "      <td>7</td>\n",
       "      <td>6</td>\n",
       "    </tr>\n",
       "    <tr>\n",
       "      <th>2017-01</th>\n",
       "      <td>0</td>\n",
       "      <td>2</td>\n",
       "      <td>19</td>\n",
       "      <td>3</td>\n",
       "      <td>21</td>\n",
       "      <td>16</td>\n",
       "      <td>0</td>\n",
       "    </tr>\n",
       "    <tr>\n",
       "      <th>2017-02</th>\n",
       "      <td>1</td>\n",
       "      <td>15</td>\n",
       "      <td>35</td>\n",
       "      <td>14</td>\n",
       "      <td>43</td>\n",
       "      <td>21</td>\n",
       "      <td>0</td>\n",
       "    </tr>\n",
       "    <tr>\n",
       "      <th>2017-03</th>\n",
       "      <td>0</td>\n",
       "      <td>24</td>\n",
       "      <td>110</td>\n",
       "      <td>6</td>\n",
       "      <td>26</td>\n",
       "      <td>45</td>\n",
       "      <td>0</td>\n",
       "    </tr>\n",
       "    <tr>\n",
       "      <th>2017-04</th>\n",
       "      <td>1</td>\n",
       "      <td>14</td>\n",
       "      <td>146</td>\n",
       "      <td>5</td>\n",
       "      <td>24</td>\n",
       "      <td>49</td>\n",
       "      <td>0</td>\n",
       "    </tr>\n",
       "    <tr>\n",
       "      <th>2017-05</th>\n",
       "      <td>0</td>\n",
       "      <td>20</td>\n",
       "      <td>97</td>\n",
       "      <td>9</td>\n",
       "      <td>39</td>\n",
       "      <td>55</td>\n",
       "      <td>1</td>\n",
       "    </tr>\n",
       "    <tr>\n",
       "      <th>2017-06</th>\n",
       "      <td>0</td>\n",
       "      <td>12</td>\n",
       "      <td>88</td>\n",
       "      <td>7</td>\n",
       "      <td>23</td>\n",
       "      <td>47</td>\n",
       "      <td>0</td>\n",
       "    </tr>\n",
       "    <tr>\n",
       "      <th>2017-07</th>\n",
       "      <td>0</td>\n",
       "      <td>23</td>\n",
       "      <td>104</td>\n",
       "      <td>4</td>\n",
       "      <td>18</td>\n",
       "      <td>56</td>\n",
       "      <td>0</td>\n",
       "    </tr>\n",
       "    <tr>\n",
       "      <th>2017-08</th>\n",
       "      <td>0</td>\n",
       "      <td>21</td>\n",
       "      <td>114</td>\n",
       "      <td>8</td>\n",
       "      <td>38</td>\n",
       "      <td>41</td>\n",
       "      <td>0</td>\n",
       "    </tr>\n",
       "    <tr>\n",
       "      <th>2017-09</th>\n",
       "      <td>0</td>\n",
       "      <td>16</td>\n",
       "      <td>173</td>\n",
       "      <td>8</td>\n",
       "      <td>39</td>\n",
       "      <td>38</td>\n",
       "      <td>1</td>\n",
       "    </tr>\n",
       "    <tr>\n",
       "      <th>2017-10</th>\n",
       "      <td>0</td>\n",
       "      <td>21</td>\n",
       "      <td>163</td>\n",
       "      <td>24</td>\n",
       "      <td>36</td>\n",
       "      <td>33</td>\n",
       "      <td>0</td>\n",
       "    </tr>\n",
       "    <tr>\n",
       "      <th>2017-11</th>\n",
       "      <td>0</td>\n",
       "      <td>30</td>\n",
       "      <td>842</td>\n",
       "      <td>62</td>\n",
       "      <td>60</td>\n",
       "      <td>73</td>\n",
       "      <td>0</td>\n",
       "    </tr>\n",
       "    <tr>\n",
       "      <th>2017-12</th>\n",
       "      <td>0</td>\n",
       "      <td>6</td>\n",
       "      <td>395</td>\n",
       "      <td>16</td>\n",
       "      <td>48</td>\n",
       "      <td>57</td>\n",
       "      <td>0</td>\n",
       "    </tr>\n",
       "    <tr>\n",
       "      <th>2018-01</th>\n",
       "      <td>0</td>\n",
       "      <td>33</td>\n",
       "      <td>373</td>\n",
       "      <td>30</td>\n",
       "      <td>44</td>\n",
       "      <td>74</td>\n",
       "      <td>0</td>\n",
       "    </tr>\n",
       "    <tr>\n",
       "      <th>2018-02</th>\n",
       "      <td>0</td>\n",
       "      <td>69</td>\n",
       "      <td>911</td>\n",
       "      <td>16</td>\n",
       "      <td>12</td>\n",
       "      <td>57</td>\n",
       "      <td>0</td>\n",
       "    </tr>\n",
       "    <tr>\n",
       "      <th>2018-03</th>\n",
       "      <td>0</td>\n",
       "      <td>20</td>\n",
       "      <td>1307</td>\n",
       "      <td>21</td>\n",
       "      <td>32</td>\n",
       "      <td>133</td>\n",
       "      <td>0</td>\n",
       "    </tr>\n",
       "    <tr>\n",
       "      <th>2018-04</th>\n",
       "      <td>0</td>\n",
       "      <td>15</td>\n",
       "      <td>292</td>\n",
       "      <td>14</td>\n",
       "      <td>22</td>\n",
       "      <td>99</td>\n",
       "      <td>0</td>\n",
       "    </tr>\n",
       "    <tr>\n",
       "      <th>2018-05</th>\n",
       "      <td>0</td>\n",
       "      <td>20</td>\n",
       "      <td>429</td>\n",
       "      <td>14</td>\n",
       "      <td>30</td>\n",
       "      <td>54</td>\n",
       "      <td>0</td>\n",
       "    </tr>\n",
       "    <tr>\n",
       "      <th>2018-06</th>\n",
       "      <td>0</td>\n",
       "      <td>15</td>\n",
       "      <td>67</td>\n",
       "      <td>3</td>\n",
       "      <td>3</td>\n",
       "      <td>46</td>\n",
       "      <td>1</td>\n",
       "    </tr>\n",
       "    <tr>\n",
       "      <th>2018-07</th>\n",
       "      <td>0</td>\n",
       "      <td>40</td>\n",
       "      <td>167</td>\n",
       "      <td>40</td>\n",
       "      <td>14</td>\n",
       "      <td>63</td>\n",
       "      <td>1</td>\n",
       "    </tr>\n",
       "    <tr>\n",
       "      <th>2018-08</th>\n",
       "      <td>0</td>\n",
       "      <td>31</td>\n",
       "      <td>238</td>\n",
       "      <td>155</td>\n",
       "      <td>23</td>\n",
       "      <td>47</td>\n",
       "      <td>0</td>\n",
       "    </tr>\n",
       "    <tr>\n",
       "      <th>2018-09</th>\n",
       "      <td>0</td>\n",
       "      <td>0</td>\n",
       "      <td>0</td>\n",
       "      <td>0</td>\n",
       "      <td>0</td>\n",
       "      <td>1</td>\n",
       "      <td>0</td>\n",
       "    </tr>\n",
       "  </tbody>\n",
       "</table>\n",
       "</div>"
      ],
      "text/plain": [
       "non_delivery_reason       Информация не дошла до склада  Отменён после оплаты  \\\n",
       "order_purchase_timestamp                                                        \n",
       "2016-09                                               0                     1   \n",
       "2016-10                                               0                     7   \n",
       "2017-01                                               0                     2   \n",
       "2017-02                                               1                    15   \n",
       "2017-03                                               0                    24   \n",
       "2017-04                                               1                    14   \n",
       "2017-05                                               0                    20   \n",
       "2017-06                                               0                    12   \n",
       "2017-07                                               0                    23   \n",
       "2017-08                                               0                    21   \n",
       "2017-09                                               0                    16   \n",
       "2017-10                                               0                    21   \n",
       "2017-11                                               0                    30   \n",
       "2017-12                                               0                     6   \n",
       "2018-01                                               0                    33   \n",
       "2018-02                                               0                    69   \n",
       "2018-03                                               0                    20   \n",
       "2018-04                                               0                    15   \n",
       "2018-05                                               0                    20   \n",
       "2018-06                                               0                    15   \n",
       "2018-07                                               0                    40   \n",
       "2018-08                                               0                    31   \n",
       "2018-09                                               0                     0   \n",
       "\n",
       "non_delivery_reason       Перевозчик не уложился в срок  \\\n",
       "order_purchase_timestamp                                  \n",
       "2016-09                                               0   \n",
       "2016-10                                               1   \n",
       "2017-01                                              19   \n",
       "2017-02                                              35   \n",
       "2017-03                                             110   \n",
       "2017-04                                             146   \n",
       "2017-05                                              97   \n",
       "2017-06                                              88   \n",
       "2017-07                                             104   \n",
       "2017-08                                             114   \n",
       "2017-09                                             173   \n",
       "2017-10                                             163   \n",
       "2017-11                                             842   \n",
       "2017-12                                             395   \n",
       "2018-01                                             373   \n",
       "2018-02                                             911   \n",
       "2018-03                                            1307   \n",
       "2018-04                                             292   \n",
       "2018-05                                             429   \n",
       "2018-06                                              67   \n",
       "2018-07                                             167   \n",
       "2018-08                                             238   \n",
       "2018-09                                               0   \n",
       "\n",
       "non_delivery_reason       Поздно отгрузили со склада  Проблемы на складе  \\\n",
       "order_purchase_timestamp                                                   \n",
       "2016-09                                            1                   0   \n",
       "2016-10                                            1                  18   \n",
       "2017-01                                            3                  21   \n",
       "2017-02                                           14                  43   \n",
       "2017-03                                            6                  26   \n",
       "2017-04                                            5                  24   \n",
       "2017-05                                            9                  39   \n",
       "2017-06                                            7                  23   \n",
       "2017-07                                            4                  18   \n",
       "2017-08                                            8                  38   \n",
       "2017-09                                            8                  39   \n",
       "2017-10                                           24                  36   \n",
       "2017-11                                           62                  60   \n",
       "2017-12                                           16                  48   \n",
       "2018-01                                           30                  44   \n",
       "2018-02                                           16                  12   \n",
       "2018-03                                           21                  32   \n",
       "2018-04                                           14                  22   \n",
       "2018-05                                           14                  30   \n",
       "2018-06                                            3                   3   \n",
       "2018-07                                           40                  14   \n",
       "2018-08                                          155                  23   \n",
       "2018-09                                            0                   0   \n",
       "\n",
       "non_delivery_reason       Проблемы со стороны перевозчика  Прочие причины  \n",
       "order_purchase_timestamp                                                   \n",
       "2016-09                                                 1               0  \n",
       "2016-10                                                 7               6  \n",
       "2017-01                                                16               0  \n",
       "2017-02                                                21               0  \n",
       "2017-03                                                45               0  \n",
       "2017-04                                                49               0  \n",
       "2017-05                                                55               1  \n",
       "2017-06                                                47               0  \n",
       "2017-07                                                56               0  \n",
       "2017-08                                                41               0  \n",
       "2017-09                                                38               1  \n",
       "2017-10                                                33               0  \n",
       "2017-11                                                73               0  \n",
       "2017-12                                                57               0  \n",
       "2018-01                                                74               0  \n",
       "2018-02                                                57               0  \n",
       "2018-03                                               133               0  \n",
       "2018-04                                                99               0  \n",
       "2018-05                                                54               0  \n",
       "2018-06                                                46               1  \n",
       "2018-07                                                63               1  \n",
       "2018-08                                                47               0  \n",
       "2018-09                                                 1               0  "
      ]
     },
     "execution_count": 117,
     "metadata": {},
     "output_type": "execute_result"
    }
   ],
   "source": [
    "non_delivery_pivot = non_delivery_month.pivot_table('order_id', index='order_purchase_timestamp', \n",
    "                                                    columns='non_delivery_reason', aggfunc=len, fill_value=0)\n",
    "non_delivery_pivot"
   ]
  },
  {
   "cell_type": "markdown",
   "id": "bf9c1a96",
   "metadata": {},
   "source": [
    "### Ответ\n",
    "Посчитаем сколько заказов в месяц в среднем не доставляется по разным причинам и визуализируем на графике"
   ]
  },
  {
   "cell_type": "code",
   "execution_count": 118,
   "id": "951d9bee",
   "metadata": {},
   "outputs": [
    {
     "data": {
      "text/html": [
       "<div>\n",
       "<style scoped>\n",
       "    .dataframe tbody tr th:only-of-type {\n",
       "        vertical-align: middle;\n",
       "    }\n",
       "\n",
       "    .dataframe tbody tr th {\n",
       "        vertical-align: top;\n",
       "    }\n",
       "\n",
       "    .dataframe thead th {\n",
       "        text-align: right;\n",
       "    }\n",
       "</style>\n",
       "<table border=\"1\" class=\"dataframe\">\n",
       "  <thead>\n",
       "    <tr style=\"text-align: right;\">\n",
       "      <th></th>\n",
       "      <th>non_delivery_reason</th>\n",
       "      <th>monthly_mean</th>\n",
       "    </tr>\n",
       "  </thead>\n",
       "  <tbody>\n",
       "    <tr>\n",
       "      <th>2</th>\n",
       "      <td>Перевозчик не уложился в срок</td>\n",
       "      <td>263.96</td>\n",
       "    </tr>\n",
       "    <tr>\n",
       "      <th>5</th>\n",
       "      <td>Проблемы со стороны перевозчика</td>\n",
       "      <td>48.39</td>\n",
       "    </tr>\n",
       "    <tr>\n",
       "      <th>4</th>\n",
       "      <td>Проблемы на складе</td>\n",
       "      <td>26.65</td>\n",
       "    </tr>\n",
       "    <tr>\n",
       "      <th>3</th>\n",
       "      <td>Поздно отгрузили со склада</td>\n",
       "      <td>20.04</td>\n",
       "    </tr>\n",
       "    <tr>\n",
       "      <th>1</th>\n",
       "      <td>Отменён после оплаты</td>\n",
       "      <td>19.78</td>\n",
       "    </tr>\n",
       "    <tr>\n",
       "      <th>6</th>\n",
       "      <td>Прочие причины</td>\n",
       "      <td>0.43</td>\n",
       "    </tr>\n",
       "    <tr>\n",
       "      <th>0</th>\n",
       "      <td>Информация не дошла до склада</td>\n",
       "      <td>0.09</td>\n",
       "    </tr>\n",
       "  </tbody>\n",
       "</table>\n",
       "</div>"
      ],
      "text/plain": [
       "               non_delivery_reason  monthly_mean\n",
       "2    Перевозчик не уложился в срок        263.96\n",
       "5  Проблемы со стороны перевозчика         48.39\n",
       "4               Проблемы на складе         26.65\n",
       "3       Поздно отгрузили со склада         20.04\n",
       "1             Отменён после оплаты         19.78\n",
       "6                   Прочие причины          0.43\n",
       "0    Информация не дошла до склада          0.09"
      ]
     },
     "execution_count": 118,
     "metadata": {},
     "output_type": "execute_result"
    }
   ],
   "source": [
    "non_delivery_chart = non_delivery_pivot.mean().round(2) \\\n",
    "    .to_frame().reset_index() \\\n",
    "    .rename(columns={0: 'monthly_mean'}) \\\n",
    "    .sort_values(by='monthly_mean', ascending=False)\n",
    "\n",
    "non_delivery_chart"
   ]
  },
  {
   "cell_type": "code",
   "execution_count": 119,
   "id": "67d90ee4",
   "metadata": {},
   "outputs": [
    {
     "data": {
      "image/png": "[encoded data removed]",
      "text/plain": [
       "<Figure size 1600x800 with 1 Axes>"
      ]
     },
     "metadata": {},
     "output_type": "display_data"
    }
   ],
   "source": [
    "# sns.barplot возвращает объект axes\n",
    "ax = sns.barplot(data=non_delivery_chart, x='monthly_mean', y='non_delivery_reason', hue='non_delivery_reason')\n",
    "\n",
    "# Подпись значений баров\n",
    "for p in ax.patches:\n",
    "    ax.annotate(format(p.get_width(), '.2f'), \n",
    "                (p.get_width(), p.get_y() + p.get_height() / 2), \n",
    "                xytext=(5, 0), \n",
    "                textcoords='offset points', \n",
    "                ha='left', va='center')\n",
    "\n",
    "plt.title('Детализация причин недоставки', fontsize=14)\n",
    "plt.xlabel('Среднее количество в месяц', fontsize=12)\n",
    "plt.ylabel('Причины отмен', fontsize=12)\n",
    "\n",
    "# Показать график без верхней и правой границ\n",
    "sns.despine()"
   ]
  },
  {
   "cell_type": "markdown",
   "id": "fb1080b5",
   "metadata": {},
   "source": [
    "## 3. По каждому товару определить, в какой день недели товар чаще всего покупается"
   ]
  },
  {
   "cell_type": "markdown",
   "id": "51c19fea",
   "metadata": {},
   "source": [
    "В датафрейме нам встретятся заказы с равным числом покупок во все дни. Это значит, что максимальным днём может быть вообще любой день недели. Поэтому всё будет зависеть от функции, с помощью которой будем отбирать наиболее частные значения"
   ]
  },
  {
   "cell_type": "markdown",
   "id": "f6eab530",
   "metadata": {},
   "source": [
    "Подготовим таблицу — возьмём только необходимые колонки для рачётов"
   ]
  },
  {
   "cell_type": "code",
   "execution_count": 120,
   "id": "4f853d21",
   "metadata": {
    "scrolled": true
   },
   "outputs": [
    {
     "data": {
      "text/html": [
       "<div>\n",
       "<style scoped>\n",
       "    .dataframe tbody tr th:only-of-type {\n",
       "        vertical-align: middle;\n",
       "    }\n",
       "\n",
       "    .dataframe tbody tr th {\n",
       "        vertical-align: top;\n",
       "    }\n",
       "\n",
       "    .dataframe thead th {\n",
       "        text-align: right;\n",
       "    }\n",
       "</style>\n",
       "<table border=\"1\" class=\"dataframe\">\n",
       "  <thead>\n",
       "    <tr style=\"text-align: right;\">\n",
       "      <th></th>\n",
       "      <th>order_purchase_timestamp</th>\n",
       "      <th>product_id</th>\n",
       "      <th>seller_id</th>\n",
       "    </tr>\n",
       "  </thead>\n",
       "  <tbody>\n",
       "    <tr>\n",
       "      <th>0</th>\n",
       "      <td>2016-09-04 21:15:19</td>\n",
       "      <td>c1488892604e4ba5cff5b4eb4d595400</td>\n",
       "      <td>1554a68530182680ad5c8b042c3ab563</td>\n",
       "    </tr>\n",
       "    <tr>\n",
       "      <th>1</th>\n",
       "      <td>2016-09-04 21:15:19</td>\n",
       "      <td>f293394c72c9b5fafd7023301fc21fc2</td>\n",
       "      <td>1554a68530182680ad5c8b042c3ab563</td>\n",
       "    </tr>\n",
       "    <tr>\n",
       "      <th>2</th>\n",
       "      <td>2016-09-05 00:15:34</td>\n",
       "      <td>f3c2d01a84c947b078e32bbef0718962</td>\n",
       "      <td>a425f92c199eb576938df686728acd20</td>\n",
       "    </tr>\n",
       "    <tr>\n",
       "      <th>3</th>\n",
       "      <td>2016-09-15 12:16:38</td>\n",
       "      <td>5a6b04657a4c5ee34285d1e4619a96b4</td>\n",
       "      <td>ecccfa2bb93b34a3bf033cc5d1dcdc69</td>\n",
       "    </tr>\n",
       "    <tr>\n",
       "      <th>4</th>\n",
       "      <td>2016-09-15 12:16:38</td>\n",
       "      <td>5a6b04657a4c5ee34285d1e4619a96b4</td>\n",
       "      <td>ecccfa2bb93b34a3bf033cc5d1dcdc69</td>\n",
       "    </tr>\n",
       "  </tbody>\n",
       "</table>\n",
       "</div>"
      ],
      "text/plain": [
       "  order_purchase_timestamp                        product_id  \\\n",
       "0      2016-09-04 21:15:19  c1488892604e4ba5cff5b4eb4d595400   \n",
       "1      2016-09-04 21:15:19  f293394c72c9b5fafd7023301fc21fc2   \n",
       "2      2016-09-05 00:15:34  f3c2d01a84c947b078e32bbef0718962   \n",
       "3      2016-09-15 12:16:38  5a6b04657a4c5ee34285d1e4619a96b4   \n",
       "4      2016-09-15 12:16:38  5a6b04657a4c5ee34285d1e4619a96b4   \n",
       "\n",
       "                          seller_id  \n",
       "0  1554a68530182680ad5c8b042c3ab563  \n",
       "1  1554a68530182680ad5c8b042c3ab563  \n",
       "2  a425f92c199eb576938df686728acd20  \n",
       "3  ecccfa2bb93b34a3bf033cc5d1dcdc69  \n",
       "4  ecccfa2bb93b34a3bf033cc5d1dcdc69  "
      ]
     },
     "execution_count": 120,
     "metadata": {},
     "output_type": "execute_result"
    }
   ],
   "source": [
    "day_max_goods_purchases = all_data[['order_purchase_timestamp', 'product_id', 'seller_id']]\n",
    "day_max_goods_purchases.head()"
   ]
  },
  {
   "cell_type": "markdown",
   "id": "e03e733d",
   "metadata": {},
   "source": [
    "Преобразуем дату в названия дней недели"
   ]
  },
  {
   "cell_type": "code",
   "execution_count": 121,
   "id": "edf8db45",
   "metadata": {
    "scrolled": true
   },
   "outputs": [
    {
     "name": "stderr",
     "output_type": "stream",
     "text": [
      "/var/folders/4t/xy71k9fx5k314zh65xrhbqr40000gn/T/ipykernel_40613/2517845712.py:2: FutureWarning: Setting an item of incompatible dtype is deprecated and will raise in a future error of pandas. Value '['Sunday' 'Sunday' 'Monday' ... 'Wednesday' 'Wednesday' 'Monday']' has dtype incompatible with datetime64[ns], please explicitly cast to a compatible dtype first.\n",
      "  day_max_goods_purchases.loc[:, 'order_purchase_timestamp'] = day_max_goods_purchases.order_purchase_timestamp.dt.day_name()\n"
     ]
    }
   ],
   "source": [
    "day_max_goods_purchases.loc[:, 'order_purchase_timestamp'] = pd.to_datetime(day_max_goods_purchases['order_purchase_timestamp'])\n",
    "day_max_goods_purchases.loc[:, 'order_purchase_timestamp'] = day_max_goods_purchases.order_purchase_timestamp.dt.day_name()"
   ]
  },
  {
   "cell_type": "code",
   "execution_count": 122,
   "id": "5422f9b4",
   "metadata": {},
   "outputs": [
    {
     "data": {
      "text/html": [
       "<div>\n",
       "<style scoped>\n",
       "    .dataframe tbody tr th:only-of-type {\n",
       "        vertical-align: middle;\n",
       "    }\n",
       "\n",
       "    .dataframe tbody tr th {\n",
       "        vertical-align: top;\n",
       "    }\n",
       "\n",
       "    .dataframe thead th {\n",
       "        text-align: right;\n",
       "    }\n",
       "</style>\n",
       "<table border=\"1\" class=\"dataframe\">\n",
       "  <thead>\n",
       "    <tr style=\"text-align: right;\">\n",
       "      <th></th>\n",
       "      <th>order_purchase_timestamp</th>\n",
       "      <th>product_id</th>\n",
       "      <th>seller_id</th>\n",
       "    </tr>\n",
       "  </thead>\n",
       "  <tbody>\n",
       "    <tr>\n",
       "      <th>0</th>\n",
       "      <td>Sunday</td>\n",
       "      <td>c1488892604e4ba5cff5b4eb4d595400</td>\n",
       "      <td>1554a68530182680ad5c8b042c3ab563</td>\n",
       "    </tr>\n",
       "    <tr>\n",
       "      <th>1</th>\n",
       "      <td>Sunday</td>\n",
       "      <td>f293394c72c9b5fafd7023301fc21fc2</td>\n",
       "      <td>1554a68530182680ad5c8b042c3ab563</td>\n",
       "    </tr>\n",
       "    <tr>\n",
       "      <th>2</th>\n",
       "      <td>Monday</td>\n",
       "      <td>f3c2d01a84c947b078e32bbef0718962</td>\n",
       "      <td>a425f92c199eb576938df686728acd20</td>\n",
       "    </tr>\n",
       "    <tr>\n",
       "      <th>3</th>\n",
       "      <td>Thursday</td>\n",
       "      <td>5a6b04657a4c5ee34285d1e4619a96b4</td>\n",
       "      <td>ecccfa2bb93b34a3bf033cc5d1dcdc69</td>\n",
       "    </tr>\n",
       "    <tr>\n",
       "      <th>4</th>\n",
       "      <td>Thursday</td>\n",
       "      <td>5a6b04657a4c5ee34285d1e4619a96b4</td>\n",
       "      <td>ecccfa2bb93b34a3bf033cc5d1dcdc69</td>\n",
       "    </tr>\n",
       "  </tbody>\n",
       "</table>\n",
       "</div>"
      ],
      "text/plain": [
       "  order_purchase_timestamp                        product_id  \\\n",
       "0                   Sunday  c1488892604e4ba5cff5b4eb4d595400   \n",
       "1                   Sunday  f293394c72c9b5fafd7023301fc21fc2   \n",
       "2                   Monday  f3c2d01a84c947b078e32bbef0718962   \n",
       "3                 Thursday  5a6b04657a4c5ee34285d1e4619a96b4   \n",
       "4                 Thursday  5a6b04657a4c5ee34285d1e4619a96b4   \n",
       "\n",
       "                          seller_id  \n",
       "0  1554a68530182680ad5c8b042c3ab563  \n",
       "1  1554a68530182680ad5c8b042c3ab563  \n",
       "2  a425f92c199eb576938df686728acd20  \n",
       "3  ecccfa2bb93b34a3bf033cc5d1dcdc69  \n",
       "4  ecccfa2bb93b34a3bf033cc5d1dcdc69  "
      ]
     },
     "execution_count": 122,
     "metadata": {},
     "output_type": "execute_result"
    }
   ],
   "source": [
    "day_max_goods_purchases.head()"
   ]
  },
  {
   "cell_type": "markdown",
   "id": "285a648e",
   "metadata": {},
   "source": [
    "Сделаем колонку с числом покупок товаров в конкретный день"
   ]
  },
  {
   "cell_type": "code",
   "execution_count": 123,
   "id": "d1536d10",
   "metadata": {
    "scrolled": true
   },
   "outputs": [
    {
     "data": {
      "text/html": [
       "<div>\n",
       "<style scoped>\n",
       "    .dataframe tbody tr th:only-of-type {\n",
       "        vertical-align: middle;\n",
       "    }\n",
       "\n",
       "    .dataframe tbody tr th {\n",
       "        vertical-align: top;\n",
       "    }\n",
       "\n",
       "    .dataframe thead th {\n",
       "        text-align: right;\n",
       "    }\n",
       "</style>\n",
       "<table border=\"1\" class=\"dataframe\">\n",
       "  <thead>\n",
       "    <tr style=\"text-align: right;\">\n",
       "      <th></th>\n",
       "      <th>product_id</th>\n",
       "      <th>day</th>\n",
       "      <th>purchases</th>\n",
       "    </tr>\n",
       "  </thead>\n",
       "  <tbody>\n",
       "    <tr>\n",
       "      <th>0</th>\n",
       "      <td>00066f42aeeb9f3007548bb9d3f33c38</td>\n",
       "      <td>Sunday</td>\n",
       "      <td>1</td>\n",
       "    </tr>\n",
       "    <tr>\n",
       "      <th>1</th>\n",
       "      <td>00088930e925c41fd95ebfe695fd2655</td>\n",
       "      <td>Tuesday</td>\n",
       "      <td>1</td>\n",
       "    </tr>\n",
       "    <tr>\n",
       "      <th>2</th>\n",
       "      <td>0009406fd7479715e4bef61dd91f2462</td>\n",
       "      <td>Thursday</td>\n",
       "      <td>1</td>\n",
       "    </tr>\n",
       "    <tr>\n",
       "      <th>3</th>\n",
       "      <td>000b8f95fcb9e0096488278317764d19</td>\n",
       "      <td>Friday</td>\n",
       "      <td>1</td>\n",
       "    </tr>\n",
       "    <tr>\n",
       "      <th>4</th>\n",
       "      <td>000b8f95fcb9e0096488278317764d19</td>\n",
       "      <td>Wednesday</td>\n",
       "      <td>1</td>\n",
       "    </tr>\n",
       "  </tbody>\n",
       "</table>\n",
       "</div>"
      ],
      "text/plain": [
       "                         product_id        day  purchases\n",
       "0  00066f42aeeb9f3007548bb9d3f33c38     Sunday          1\n",
       "1  00088930e925c41fd95ebfe695fd2655    Tuesday          1\n",
       "2  0009406fd7479715e4bef61dd91f2462   Thursday          1\n",
       "3  000b8f95fcb9e0096488278317764d19     Friday          1\n",
       "4  000b8f95fcb9e0096488278317764d19  Wednesday          1"
      ]
     },
     "execution_count": 123,
     "metadata": {},
     "output_type": "execute_result"
    }
   ],
   "source": [
    "dmgp_renamed = day_max_goods_purchases \\\n",
    "    .groupby(['product_id', 'order_purchase_timestamp'], as_index=False) \\\n",
    "    .agg({'seller_id': 'count'}) \\\n",
    "    .rename(columns={'seller_id': 'purchases', 'order_purchase_timestamp': 'day'})\n",
    "\n",
    "dmgp_renamed.head()"
   ]
  },
  {
   "cell_type": "markdown",
   "id": "a7038709",
   "metadata": {},
   "source": [
    "По каждому товару определим, в какой день недели его чаще всего покупают"
   ]
  },
  {
   "cell_type": "code",
   "execution_count": 124,
   "id": "169cf18c",
   "metadata": {},
   "outputs": [],
   "source": [
    "# Находим индексы с максимальным количеством покупок\n",
    "max_purchases_index = dmgp_renamed.groupby('product_id')['purchases'].idxmax()\n",
    "# Отбираем нужные строки\n",
    "dmgp_final = dmgp_renamed.loc[max_purchases_index].rename(columns={'day': 'max_day'})"
   ]
  },
  {
   "cell_type": "markdown",
   "id": "8b3c2742",
   "metadata": {},
   "source": [
    "### Ответ\n",
    "Итоговый датафрейм и описательная статистика"
   ]
  },
  {
   "cell_type": "code",
   "execution_count": 125,
   "id": "e800e4c1",
   "metadata": {
    "scrolled": true
   },
   "outputs": [
    {
     "data": {
      "text/html": [
       "<div>\n",
       "<style scoped>\n",
       "    .dataframe tbody tr th:only-of-type {\n",
       "        vertical-align: middle;\n",
       "    }\n",
       "\n",
       "    .dataframe tbody tr th {\n",
       "        vertical-align: top;\n",
       "    }\n",
       "\n",
       "    .dataframe thead th {\n",
       "        text-align: right;\n",
       "    }\n",
       "</style>\n",
       "<table border=\"1\" class=\"dataframe\">\n",
       "  <thead>\n",
       "    <tr style=\"text-align: right;\">\n",
       "      <th></th>\n",
       "      <th>product_id</th>\n",
       "      <th>max_day</th>\n",
       "      <th>purchases</th>\n",
       "    </tr>\n",
       "  </thead>\n",
       "  <tbody>\n",
       "    <tr>\n",
       "      <th>0</th>\n",
       "      <td>00066f42aeeb9f3007548bb9d3f33c38</td>\n",
       "      <td>Sunday</td>\n",
       "      <td>1</td>\n",
       "    </tr>\n",
       "    <tr>\n",
       "      <th>1</th>\n",
       "      <td>00088930e925c41fd95ebfe695fd2655</td>\n",
       "      <td>Tuesday</td>\n",
       "      <td>1</td>\n",
       "    </tr>\n",
       "    <tr>\n",
       "      <th>2</th>\n",
       "      <td>0009406fd7479715e4bef61dd91f2462</td>\n",
       "      <td>Thursday</td>\n",
       "      <td>1</td>\n",
       "    </tr>\n",
       "    <tr>\n",
       "      <th>3</th>\n",
       "      <td>000b8f95fcb9e0096488278317764d19</td>\n",
       "      <td>Friday</td>\n",
       "      <td>1</td>\n",
       "    </tr>\n",
       "    <tr>\n",
       "      <th>5</th>\n",
       "      <td>000d9be29b5207b54e86aa1b1ac54872</td>\n",
       "      <td>Tuesday</td>\n",
       "      <td>1</td>\n",
       "    </tr>\n",
       "    <tr>\n",
       "      <th>...</th>\n",
       "      <td>...</td>\n",
       "      <td>...</td>\n",
       "      <td>...</td>\n",
       "    </tr>\n",
       "    <tr>\n",
       "      <th>61221</th>\n",
       "      <td>fff6177642830a9a94a0f2cba5e476d1</td>\n",
       "      <td>Saturday</td>\n",
       "      <td>1</td>\n",
       "    </tr>\n",
       "    <tr>\n",
       "      <th>61223</th>\n",
       "      <td>fff81cc3158d2725c0655ab9ba0f712c</td>\n",
       "      <td>Monday</td>\n",
       "      <td>1</td>\n",
       "    </tr>\n",
       "    <tr>\n",
       "      <th>61224</th>\n",
       "      <td>fff9553ac224cec9d15d49f5a263411f</td>\n",
       "      <td>Friday</td>\n",
       "      <td>1</td>\n",
       "    </tr>\n",
       "    <tr>\n",
       "      <th>61228</th>\n",
       "      <td>fffdb2d0ec8d6a61f0a0a0db3f25b441</td>\n",
       "      <td>Tuesday</td>\n",
       "      <td>2</td>\n",
       "    </tr>\n",
       "    <tr>\n",
       "      <th>61229</th>\n",
       "      <td>fffe9eeff12fcbd74a2f2b007dde0c58</td>\n",
       "      <td>Wednesday</td>\n",
       "      <td>1</td>\n",
       "    </tr>\n",
       "  </tbody>\n",
       "</table>\n",
       "<p>32951 rows × 3 columns</p>\n",
       "</div>"
      ],
      "text/plain": [
       "                             product_id    max_day  purchases\n",
       "0      00066f42aeeb9f3007548bb9d3f33c38     Sunday          1\n",
       "1      00088930e925c41fd95ebfe695fd2655    Tuesday          1\n",
       "2      0009406fd7479715e4bef61dd91f2462   Thursday          1\n",
       "3      000b8f95fcb9e0096488278317764d19     Friday          1\n",
       "5      000d9be29b5207b54e86aa1b1ac54872    Tuesday          1\n",
       "...                                 ...        ...        ...\n",
       "61221  fff6177642830a9a94a0f2cba5e476d1   Saturday          1\n",
       "61223  fff81cc3158d2725c0655ab9ba0f712c     Monday          1\n",
       "61224  fff9553ac224cec9d15d49f5a263411f     Friday          1\n",
       "61228  fffdb2d0ec8d6a61f0a0a0db3f25b441    Tuesday          2\n",
       "61229  fffe9eeff12fcbd74a2f2b007dde0c58  Wednesday          1\n",
       "\n",
       "[32951 rows x 3 columns]"
      ]
     },
     "execution_count": 125,
     "metadata": {},
     "output_type": "execute_result"
    }
   ],
   "source": [
    "dmgp_final"
   ]
  },
  {
   "cell_type": "code",
   "execution_count": 126,
   "id": "478dfd16",
   "metadata": {
    "scrolled": true
   },
   "outputs": [
    {
     "data": {
      "text/html": [
       "<div>\n",
       "<style scoped>\n",
       "    .dataframe tbody tr th:only-of-type {\n",
       "        vertical-align: middle;\n",
       "    }\n",
       "\n",
       "    .dataframe tbody tr th {\n",
       "        vertical-align: top;\n",
       "    }\n",
       "\n",
       "    .dataframe thead th {\n",
       "        text-align: right;\n",
       "    }\n",
       "</style>\n",
       "<table border=\"1\" class=\"dataframe\">\n",
       "  <thead>\n",
       "    <tr style=\"text-align: right;\">\n",
       "      <th></th>\n",
       "      <th>product_id</th>\n",
       "      <th>max_day</th>\n",
       "      <th>purchases</th>\n",
       "    </tr>\n",
       "  </thead>\n",
       "  <tbody>\n",
       "    <tr>\n",
       "      <th>count</th>\n",
       "      <td>32951</td>\n",
       "      <td>32951</td>\n",
       "      <td>32951.000000</td>\n",
       "    </tr>\n",
       "    <tr>\n",
       "      <th>unique</th>\n",
       "      <td>32951</td>\n",
       "      <td>7</td>\n",
       "      <td>NaN</td>\n",
       "    </tr>\n",
       "    <tr>\n",
       "      <th>top</th>\n",
       "      <td>00066f42aeeb9f3007548bb9d3f33c38</td>\n",
       "      <td>Monday</td>\n",
       "      <td>NaN</td>\n",
       "    </tr>\n",
       "    <tr>\n",
       "      <th>freq</th>\n",
       "      <td>1</td>\n",
       "      <td>6295</td>\n",
       "      <td>NaN</td>\n",
       "    </tr>\n",
       "    <tr>\n",
       "      <th>mean</th>\n",
       "      <td>NaN</td>\n",
       "      <td>NaN</td>\n",
       "      <td>1.673242</td>\n",
       "    </tr>\n",
       "    <tr>\n",
       "      <th>std</th>\n",
       "      <td>NaN</td>\n",
       "      <td>NaN</td>\n",
       "      <td>2.281261</td>\n",
       "    </tr>\n",
       "    <tr>\n",
       "      <th>min</th>\n",
       "      <td>NaN</td>\n",
       "      <td>NaN</td>\n",
       "      <td>1.000000</td>\n",
       "    </tr>\n",
       "    <tr>\n",
       "      <th>25%</th>\n",
       "      <td>NaN</td>\n",
       "      <td>NaN</td>\n",
       "      <td>1.000000</td>\n",
       "    </tr>\n",
       "    <tr>\n",
       "      <th>50%</th>\n",
       "      <td>NaN</td>\n",
       "      <td>NaN</td>\n",
       "      <td>1.000000</td>\n",
       "    </tr>\n",
       "    <tr>\n",
       "      <th>75%</th>\n",
       "      <td>NaN</td>\n",
       "      <td>NaN</td>\n",
       "      <td>2.000000</td>\n",
       "    </tr>\n",
       "    <tr>\n",
       "      <th>max</th>\n",
       "      <td>NaN</td>\n",
       "      <td>NaN</td>\n",
       "      <td>93.000000</td>\n",
       "    </tr>\n",
       "  </tbody>\n",
       "</table>\n",
       "</div>"
      ],
      "text/plain": [
       "                              product_id max_day     purchases\n",
       "count                              32951   32951  32951.000000\n",
       "unique                             32951       7           NaN\n",
       "top     00066f42aeeb9f3007548bb9d3f33c38  Monday           NaN\n",
       "freq                                   1    6295           NaN\n",
       "mean                                 NaN     NaN      1.673242\n",
       "std                                  NaN     NaN      2.281261\n",
       "min                                  NaN     NaN      1.000000\n",
       "25%                                  NaN     NaN      1.000000\n",
       "50%                                  NaN     NaN      1.000000\n",
       "75%                                  NaN     NaN      2.000000\n",
       "max                                  NaN     NaN     93.000000"
      ]
     },
     "execution_count": 126,
     "metadata": {},
     "output_type": "execute_result"
    }
   ],
   "source": [
    "dmgp_final.describe(include='all')"
   ]
  },
  {
   "cell_type": "markdown",
   "id": "2f37aafd",
   "metadata": {},
   "source": [
    "В качестве бонуса построю график покупок товаров по дням недели. В него я включу вообще все дни покупок, а не только максимальные, так что будем использовать датафрейм `dmgp_renamed` — в нём у нас ещё не случилось отбора по условию задания"
   ]
  },
  {
   "cell_type": "code",
   "execution_count": 127,
   "id": "540cf115",
   "metadata": {},
   "outputs": [
    {
     "data": {
      "image/png": "[encoded data removed]",
      "text/plain": [
       "<Figure size 1600x800 with 1 Axes>"
      ]
     },
     "metadata": {},
     "output_type": "display_data"
    }
   ],
   "source": [
    "day_order = {'Monday': 0, 'Tuesday': 1, 'Wednesday': 2, 'Thursday': 3, 'Friday': 4, 'Saturday': 5, 'Sunday': 6}\n",
    "\n",
    "# Присвоение числовых значений дням недели для сортировки\n",
    "dmgp_renamed['day_order'] = dmgp_renamed['day'].map(day_order)\n",
    "dmgp_renamed = dmgp_renamed.sort_values(by='day_order')\n",
    "\n",
    "sns.countplot(data=dmgp_renamed, x='day', hue='day')\n",
    "\n",
    "plt.title('Распределение покупок товаров по дням недели', fontsize=14)\n",
    "plt.xlabel('День недели', fontsize=12)\n",
    "plt.ylabel('Количество покупок', fontsize=12);"
   ]
  },
  {
   "cell_type": "markdown",
   "id": "36305218",
   "metadata": {},
   "source": [
    "## 4. Сколько покупок у каждого из пользователей в среднем в неделю (по месяцам)? Нужно учесть, что внутри месяца может быть нецелое количество недель"
   ]
  },
  {
   "cell_type": "markdown",
   "id": "563e4116",
   "metadata": {},
   "source": [
    "Снова будем брать `customer_unique_id`, а не `customer_id`, потому что считаем реальных пользователей. Воспользуюсь датафреймом из первого задания, в нём уже есть все необходимые колонки"
   ]
  },
  {
   "cell_type": "code",
   "execution_count": 128,
   "id": "47a5b102",
   "metadata": {
    "scrolled": true
   },
   "outputs": [],
   "source": [
    "weekly_purch = purshases_real_customers.copy()"
   ]
  },
  {
   "cell_type": "markdown",
   "id": "ce6dd736",
   "metadata": {},
   "source": [
    "Переводим значения в `order_id` в единицы. То же самое можно было бы сделать через группировку и агрегацию с помощью count"
   ]
  },
  {
   "cell_type": "code",
   "execution_count": 129,
   "id": "73456073",
   "metadata": {},
   "outputs": [],
   "source": [
    "weekly_purch['order_id'] = weekly_purch.order_id.notna().astype(int)"
   ]
  },
  {
   "cell_type": "markdown",
   "id": "865ea5e3",
   "metadata": {},
   "source": [
    "Получаем те самые дробные недели"
   ]
  },
  {
   "cell_type": "code",
   "execution_count": 130,
   "id": "b03749bc",
   "metadata": {
    "scrolled": true
   },
   "outputs": [],
   "source": [
    "weekly_purch['weeks'] = weekly_purch.order_purchase_timestamp.dt.days_in_month / 7"
   ]
  },
  {
   "cell_type": "markdown",
   "id": "ebbabb2d",
   "metadata": {},
   "source": [
    "Выделяем из даты заказа месяц и год"
   ]
  },
  {
   "cell_type": "code",
   "execution_count": 131,
   "id": "cb3b244b",
   "metadata": {},
   "outputs": [],
   "source": [
    "weekly_purch['order_purchase_timestamp'] = weekly_purch.order_purchase_timestamp.dt.to_period('M')"
   ]
  },
  {
   "cell_type": "markdown",
   "id": "3c5c8dcf",
   "metadata": {},
   "source": [
    "Среднее через `mean` получить сразу не получится — нужно будет поделить колонку с кол-вом заказов на дробные недели. Так что сначала просто сгруппируем по месяцам и просуммируем заказы, а потом уже разделим"
   ]
  },
  {
   "cell_type": "code",
   "execution_count": 132,
   "id": "032029cd",
   "metadata": {
    "scrolled": true
   },
   "outputs": [
    {
     "data": {
      "text/html": [
       "<div>\n",
       "<style scoped>\n",
       "    .dataframe tbody tr th:only-of-type {\n",
       "        vertical-align: middle;\n",
       "    }\n",
       "\n",
       "    .dataframe tbody tr th {\n",
       "        vertical-align: top;\n",
       "    }\n",
       "\n",
       "    .dataframe thead th {\n",
       "        text-align: right;\n",
       "    }\n",
       "</style>\n",
       "<table border=\"1\" class=\"dataframe\">\n",
       "  <thead>\n",
       "    <tr style=\"text-align: right;\">\n",
       "      <th></th>\n",
       "      <th>customer_unique_id</th>\n",
       "      <th>month</th>\n",
       "      <th>weeks</th>\n",
       "      <th>order_count</th>\n",
       "    </tr>\n",
       "  </thead>\n",
       "  <tbody>\n",
       "    <tr>\n",
       "      <th>0</th>\n",
       "      <td>0000366f3b9a7992bf8c76cfdf3221e2</td>\n",
       "      <td>2018-05</td>\n",
       "      <td>4.428571</td>\n",
       "      <td>1</td>\n",
       "    </tr>\n",
       "    <tr>\n",
       "      <th>1</th>\n",
       "      <td>0000b849f77a49e4a4ce2b2a4ca5be3f</td>\n",
       "      <td>2018-05</td>\n",
       "      <td>4.428571</td>\n",
       "      <td>1</td>\n",
       "    </tr>\n",
       "    <tr>\n",
       "      <th>2</th>\n",
       "      <td>0000f46a3911fa3c0805444483337064</td>\n",
       "      <td>2017-03</td>\n",
       "      <td>4.428571</td>\n",
       "      <td>1</td>\n",
       "    </tr>\n",
       "    <tr>\n",
       "      <th>3</th>\n",
       "      <td>0000f6ccb0745a6a4b88665a16c9f078</td>\n",
       "      <td>2017-10</td>\n",
       "      <td>4.428571</td>\n",
       "      <td>1</td>\n",
       "    </tr>\n",
       "    <tr>\n",
       "      <th>4</th>\n",
       "      <td>0004aac84e0df4da2b147fca70cf8255</td>\n",
       "      <td>2017-11</td>\n",
       "      <td>4.285714</td>\n",
       "      <td>1</td>\n",
       "    </tr>\n",
       "  </tbody>\n",
       "</table>\n",
       "</div>"
      ],
      "text/plain": [
       "                 customer_unique_id    month     weeks  order_count\n",
       "0  0000366f3b9a7992bf8c76cfdf3221e2  2018-05  4.428571            1\n",
       "1  0000b849f77a49e4a4ce2b2a4ca5be3f  2018-05  4.428571            1\n",
       "2  0000f46a3911fa3c0805444483337064  2017-03  4.428571            1\n",
       "3  0000f6ccb0745a6a4b88665a16c9f078  2017-10  4.428571            1\n",
       "4  0004aac84e0df4da2b147fca70cf8255  2017-11  4.285714            1"
      ]
     },
     "execution_count": 132,
     "metadata": {},
     "output_type": "execute_result"
    }
   ],
   "source": [
    "weekly_purch_upd = weekly_purch \\\n",
    "    .groupby(['customer_unique_id', 'order_purchase_timestamp', 'weeks']) \\\n",
    "    .agg({'order_id': 'sum'}).reset_index() \\\n",
    "    .rename(columns={'order_purchase_timestamp': 'month', 'order_id': 'order_count'})\n",
    "\n",
    "weekly_purch_upd.head()"
   ]
  },
  {
   "cell_type": "markdown",
   "id": "0f89a385",
   "metadata": {},
   "source": [
    "Для разнообразия решил поделить с помощью именной функции"
   ]
  },
  {
   "cell_type": "code",
   "execution_count": 133,
   "id": "a1256062",
   "metadata": {},
   "outputs": [],
   "source": [
    "weekly_purch_upd['avg_purchases'] = weekly_purch_upd.order_count.div(weekly_purch_upd.weeks)"
   ]
  },
  {
   "cell_type": "markdown",
   "id": "d3194217",
   "metadata": {},
   "source": [
    "Проверим не потеряли ли что-то"
   ]
  },
  {
   "cell_type": "code",
   "execution_count": 134,
   "id": "f13b2db4",
   "metadata": {},
   "outputs": [
    {
     "data": {
      "text/plain": [
       "98666"
      ]
     },
     "execution_count": 134,
     "metadata": {},
     "output_type": "execute_result"
    }
   ],
   "source": [
    "weekly_purch_upd.order_count.sum()"
   ]
  },
  {
   "cell_type": "markdown",
   "id": "93d0f252",
   "metadata": {},
   "source": [
    "### Ответ\n",
    "Итоговый датафрейм и описательная статистика"
   ]
  },
  {
   "cell_type": "code",
   "execution_count": 135,
   "id": "c2e32e19",
   "metadata": {},
   "outputs": [
    {
     "data": {
      "text/html": [
       "<div>\n",
       "<style scoped>\n",
       "    .dataframe tbody tr th:only-of-type {\n",
       "        vertical-align: middle;\n",
       "    }\n",
       "\n",
       "    .dataframe tbody tr th {\n",
       "        vertical-align: top;\n",
       "    }\n",
       "\n",
       "    .dataframe thead th {\n",
       "        text-align: right;\n",
       "    }\n",
       "</style>\n",
       "<table border=\"1\" class=\"dataframe\">\n",
       "  <thead>\n",
       "    <tr style=\"text-align: right;\">\n",
       "      <th></th>\n",
       "      <th>customer_unique_id</th>\n",
       "      <th>month</th>\n",
       "      <th>weeks</th>\n",
       "      <th>order_count</th>\n",
       "      <th>avg_purchases</th>\n",
       "    </tr>\n",
       "  </thead>\n",
       "  <tbody>\n",
       "    <tr>\n",
       "      <th>0</th>\n",
       "      <td>0000366f3b9a7992bf8c76cfdf3221e2</td>\n",
       "      <td>2018-05</td>\n",
       "      <td>4.428571</td>\n",
       "      <td>1</td>\n",
       "      <td>0.225806</td>\n",
       "    </tr>\n",
       "    <tr>\n",
       "      <th>1</th>\n",
       "      <td>0000b849f77a49e4a4ce2b2a4ca5be3f</td>\n",
       "      <td>2018-05</td>\n",
       "      <td>4.428571</td>\n",
       "      <td>1</td>\n",
       "      <td>0.225806</td>\n",
       "    </tr>\n",
       "    <tr>\n",
       "      <th>2</th>\n",
       "      <td>0000f46a3911fa3c0805444483337064</td>\n",
       "      <td>2017-03</td>\n",
       "      <td>4.428571</td>\n",
       "      <td>1</td>\n",
       "      <td>0.225806</td>\n",
       "    </tr>\n",
       "    <tr>\n",
       "      <th>3</th>\n",
       "      <td>0000f6ccb0745a6a4b88665a16c9f078</td>\n",
       "      <td>2017-10</td>\n",
       "      <td>4.428571</td>\n",
       "      <td>1</td>\n",
       "      <td>0.225806</td>\n",
       "    </tr>\n",
       "    <tr>\n",
       "      <th>4</th>\n",
       "      <td>0004aac84e0df4da2b147fca70cf8255</td>\n",
       "      <td>2017-11</td>\n",
       "      <td>4.285714</td>\n",
       "      <td>1</td>\n",
       "      <td>0.233333</td>\n",
       "    </tr>\n",
       "    <tr>\n",
       "      <th>...</th>\n",
       "      <td>...</td>\n",
       "      <td>...</td>\n",
       "      <td>...</td>\n",
       "      <td>...</td>\n",
       "      <td>...</td>\n",
       "    </tr>\n",
       "    <tr>\n",
       "      <th>97314</th>\n",
       "      <td>fffcf5a5ff07b0908bd4e2dbc735a684</td>\n",
       "      <td>2017-06</td>\n",
       "      <td>4.285714</td>\n",
       "      <td>1</td>\n",
       "      <td>0.233333</td>\n",
       "    </tr>\n",
       "    <tr>\n",
       "      <th>97315</th>\n",
       "      <td>fffea47cd6d3cc0a88bd621562a9d061</td>\n",
       "      <td>2017-12</td>\n",
       "      <td>4.428571</td>\n",
       "      <td>1</td>\n",
       "      <td>0.225806</td>\n",
       "    </tr>\n",
       "    <tr>\n",
       "      <th>97316</th>\n",
       "      <td>ffff371b4d645b6ecea244b27531430a</td>\n",
       "      <td>2017-02</td>\n",
       "      <td>4.000000</td>\n",
       "      <td>1</td>\n",
       "      <td>0.250000</td>\n",
       "    </tr>\n",
       "    <tr>\n",
       "      <th>97317</th>\n",
       "      <td>ffff5962728ec6157033ef9805bacc48</td>\n",
       "      <td>2018-05</td>\n",
       "      <td>4.428571</td>\n",
       "      <td>1</td>\n",
       "      <td>0.225806</td>\n",
       "    </tr>\n",
       "    <tr>\n",
       "      <th>97318</th>\n",
       "      <td>ffffd2657e2aad2907e67c3e9daecbeb</td>\n",
       "      <td>2017-05</td>\n",
       "      <td>4.428571</td>\n",
       "      <td>1</td>\n",
       "      <td>0.225806</td>\n",
       "    </tr>\n",
       "  </tbody>\n",
       "</table>\n",
       "<p>97319 rows × 5 columns</p>\n",
       "</div>"
      ],
      "text/plain": [
       "                     customer_unique_id    month     weeks  order_count  \\\n",
       "0      0000366f3b9a7992bf8c76cfdf3221e2  2018-05  4.428571            1   \n",
       "1      0000b849f77a49e4a4ce2b2a4ca5be3f  2018-05  4.428571            1   \n",
       "2      0000f46a3911fa3c0805444483337064  2017-03  4.428571            1   \n",
       "3      0000f6ccb0745a6a4b88665a16c9f078  2017-10  4.428571            1   \n",
       "4      0004aac84e0df4da2b147fca70cf8255  2017-11  4.285714            1   \n",
       "...                                 ...      ...       ...          ...   \n",
       "97314  fffcf5a5ff07b0908bd4e2dbc735a684  2017-06  4.285714            1   \n",
       "97315  fffea47cd6d3cc0a88bd621562a9d061  2017-12  4.428571            1   \n",
       "97316  ffff371b4d645b6ecea244b27531430a  2017-02  4.000000            1   \n",
       "97317  ffff5962728ec6157033ef9805bacc48  2018-05  4.428571            1   \n",
       "97318  ffffd2657e2aad2907e67c3e9daecbeb  2017-05  4.428571            1   \n",
       "\n",
       "       avg_purchases  \n",
       "0           0.225806  \n",
       "1           0.225806  \n",
       "2           0.225806  \n",
       "3           0.225806  \n",
       "4           0.233333  \n",
       "...              ...  \n",
       "97314       0.233333  \n",
       "97315       0.225806  \n",
       "97316       0.250000  \n",
       "97317       0.225806  \n",
       "97318       0.225806  \n",
       "\n",
       "[97319 rows x 5 columns]"
      ]
     },
     "execution_count": 135,
     "metadata": {},
     "output_type": "execute_result"
    }
   ],
   "source": [
    "weekly_purch_upd"
   ]
  },
  {
   "cell_type": "code",
   "execution_count": 136,
   "id": "a05035cf",
   "metadata": {},
   "outputs": [
    {
     "data": {
      "text/html": [
       "<div>\n",
       "<style scoped>\n",
       "    .dataframe tbody tr th:only-of-type {\n",
       "        vertical-align: middle;\n",
       "    }\n",
       "\n",
       "    .dataframe tbody tr th {\n",
       "        vertical-align: top;\n",
       "    }\n",
       "\n",
       "    .dataframe thead th {\n",
       "        text-align: right;\n",
       "    }\n",
       "</style>\n",
       "<table border=\"1\" class=\"dataframe\">\n",
       "  <thead>\n",
       "    <tr style=\"text-align: right;\">\n",
       "      <th></th>\n",
       "      <th>weeks</th>\n",
       "      <th>order_count</th>\n",
       "      <th>avg_purchases</th>\n",
       "    </tr>\n",
       "  </thead>\n",
       "  <tbody>\n",
       "    <tr>\n",
       "      <th>count</th>\n",
       "      <td>97319.000000</td>\n",
       "      <td>97319.000000</td>\n",
       "      <td>97319.000000</td>\n",
       "    </tr>\n",
       "    <tr>\n",
       "      <th>mean</th>\n",
       "      <td>4.348183</td>\n",
       "      <td>1.013841</td>\n",
       "      <td>0.233378</td>\n",
       "    </tr>\n",
       "    <tr>\n",
       "      <th>std</th>\n",
       "      <td>0.124081</td>\n",
       "      <td>0.123418</td>\n",
       "      <td>0.029527</td>\n",
       "    </tr>\n",
       "    <tr>\n",
       "      <th>min</th>\n",
       "      <td>4.000000</td>\n",
       "      <td>1.000000</td>\n",
       "      <td>0.225806</td>\n",
       "    </tr>\n",
       "    <tr>\n",
       "      <th>25%</th>\n",
       "      <td>4.285714</td>\n",
       "      <td>1.000000</td>\n",
       "      <td>0.225806</td>\n",
       "    </tr>\n",
       "    <tr>\n",
       "      <th>50%</th>\n",
       "      <td>4.428571</td>\n",
       "      <td>1.000000</td>\n",
       "      <td>0.225806</td>\n",
       "    </tr>\n",
       "    <tr>\n",
       "      <th>75%</th>\n",
       "      <td>4.428571</td>\n",
       "      <td>1.000000</td>\n",
       "      <td>0.233333</td>\n",
       "    </tr>\n",
       "    <tr>\n",
       "      <th>max</th>\n",
       "      <td>4.428571</td>\n",
       "      <td>6.000000</td>\n",
       "      <td>1.354839</td>\n",
       "    </tr>\n",
       "  </tbody>\n",
       "</table>\n",
       "</div>"
      ],
      "text/plain": [
       "              weeks   order_count  avg_purchases\n",
       "count  97319.000000  97319.000000   97319.000000\n",
       "mean       4.348183      1.013841       0.233378\n",
       "std        0.124081      0.123418       0.029527\n",
       "min        4.000000      1.000000       0.225806\n",
       "25%        4.285714      1.000000       0.225806\n",
       "50%        4.428571      1.000000       0.225806\n",
       "75%        4.428571      1.000000       0.233333\n",
       "max        4.428571      6.000000       1.354839"
      ]
     },
     "execution_count": 136,
     "metadata": {},
     "output_type": "execute_result"
    }
   ],
   "source": [
    "weekly_purch_upd.describe()"
   ]
  },
  {
   "cell_type": "markdown",
   "id": "17cbed39",
   "metadata": {},
   "source": [
    "## 5. Провести [когортный анализ](https://vc.ru/productstar/134090-chto-takoe-kogortnyy-analiz) пользователей с помощью pandas. В период с января по декабрь нужно выявить когорту с самым высоким retention на *третий* месяц"
   ]
  },
  {
   "cell_type": "markdown",
   "id": "b7e8a07b",
   "metadata": {},
   "source": [
    "Прежде всего нужно вывести формулу:\n",
    "\n",
    "$ \\text{Retention Rate на N-й месяц} = \\frac{\\text{Число пользователей из когорты, остающихся активными на N-й месяц}}{\\text{Начальное количество пользователей в когорте}} \\times 100\\% $\n",
    "\n",
    "Активностью в нашем случае будем считать хотя бы 1 заказ в месяц"
   ]
  },
  {
   "cell_type": "markdown",
   "id": "45ad5127",
   "metadata": {},
   "source": [
    "Вспомним период, который охватывают наши данные"
   ]
  },
  {
   "cell_type": "code",
   "execution_count": 137,
   "id": "4b7342bb",
   "metadata": {
    "scrolled": true
   },
   "outputs": [
    {
     "data": {
      "text/plain": [
       "min   2016-09-04 21:15:19\n",
       "max   2018-09-03 09:06:57\n",
       "Name: order_purchase_timestamp, dtype: datetime64[ns]"
      ]
     },
     "execution_count": 137,
     "metadata": {},
     "output_type": "execute_result"
    }
   ],
   "source": [
    "all_data.order_purchase_timestamp.agg(['min', 'max'])"
   ]
  },
  {
   "cell_type": "markdown",
   "id": "62a89b95",
   "metadata": {},
   "source": [
    "Полные данные с января по декабрь у нас есть только за 2017 год, так что смотреть будем только его"
   ]
  },
  {
   "cell_type": "markdown",
   "id": "2282133b",
   "metadata": {},
   "source": [
    "\n",
    "#### Что нам нужно для когортного анализа\n",
    "1. Признак формирования когорты. У нас это будет дата первого заказа для уникального пользователя\n",
    "2. Размер когорты. Поскольку будем считать Retention помесячно, то и размер когорты у нас будет равен **календарном месяцу**\n",
    "3. Отчетный период. С января по декабрь 2017 года, то есть 12 месяцев. Здесь я трактую буквально, поэтому не буду брать + 3 месяца к этому сроку, чтобы, например, посмотреть 3-месячный Retention для декабрьской когорты\n",
    "4. Анализируемый ключевой показатель. Здесь всё очевидно — это Retention, формулу расчёта выше вывели"
   ]
  },
  {
   "cell_type": "markdown",
   "id": "ddaa9a76",
   "metadata": {},
   "source": [
    "Снова возьмём датафрейм из первого задания"
   ]
  },
  {
   "cell_type": "code",
   "execution_count": 138,
   "id": "6f6712bc",
   "metadata": {},
   "outputs": [],
   "source": [
    "retention = purshases_real_customers.copy()"
   ]
  },
  {
   "cell_type": "code",
   "execution_count": 139,
   "id": "0b0e4a37",
   "metadata": {},
   "outputs": [
    {
     "data": {
      "text/plain": [
       "(98666, 3)"
      ]
     },
     "execution_count": 139,
     "metadata": {},
     "output_type": "execute_result"
    }
   ],
   "source": [
    "retention.shape"
   ]
  },
  {
   "cell_type": "markdown",
   "id": "46a03dca",
   "metadata": {},
   "source": [
    "Оставим только месяц совершения заказов"
   ]
  },
  {
   "cell_type": "code",
   "execution_count": 140,
   "id": "1b996f7f",
   "metadata": {},
   "outputs": [],
   "source": [
    "retention['order_purchase_timestamp'] = retention.order_purchase_timestamp.dt.to_period('M')"
   ]
  },
  {
   "cell_type": "markdown",
   "id": "eb27a5f2",
   "metadata": {},
   "source": [
    "Найдём месяц совершения первого заказа"
   ]
  },
  {
   "cell_type": "code",
   "execution_count": 141,
   "id": "0eba10b9",
   "metadata": {},
   "outputs": [],
   "source": [
    "ret_min = retention.groupby('customer_unique_id') \\\n",
    "    .agg({'order_purchase_timestamp': 'min'}) \\\n",
    "    .rename(columns={'order_purchase_timestamp': 'first_order_month'}) \\\n",
    "    .reset_index()"
   ]
  },
  {
   "cell_type": "markdown",
   "id": "410151a0",
   "metadata": {},
   "source": [
    "Добавляем дату первого заказа для каждого уникального юзера. Это нам понадобится, что определить через сколько месяцев от прихода на площадку юзер совершил тот или иной заказ"
   ]
  },
  {
   "cell_type": "code",
   "execution_count": 142,
   "id": "3a085dfa",
   "metadata": {},
   "outputs": [],
   "source": [
    "retention = retention.merge(ret_min, how='inner', on='customer_unique_id')"
   ]
  },
  {
   "cell_type": "code",
   "execution_count": 143,
   "id": "e28dc96f",
   "metadata": {
    "scrolled": true
   },
   "outputs": [
    {
     "data": {
      "text/html": [
       "<div>\n",
       "<style scoped>\n",
       "    .dataframe tbody tr th:only-of-type {\n",
       "        vertical-align: middle;\n",
       "    }\n",
       "\n",
       "    .dataframe tbody tr th {\n",
       "        vertical-align: top;\n",
       "    }\n",
       "\n",
       "    .dataframe thead th {\n",
       "        text-align: right;\n",
       "    }\n",
       "</style>\n",
       "<table border=\"1\" class=\"dataframe\">\n",
       "  <thead>\n",
       "    <tr style=\"text-align: right;\">\n",
       "      <th></th>\n",
       "      <th>order_purchase_timestamp</th>\n",
       "      <th>customer_unique_id</th>\n",
       "      <th>order_id</th>\n",
       "      <th>first_order_month</th>\n",
       "    </tr>\n",
       "  </thead>\n",
       "  <tbody>\n",
       "    <tr>\n",
       "      <th>0</th>\n",
       "      <td>2016-09</td>\n",
       "      <td>b7d76e111c89f7ebf14761390f0f7d17</td>\n",
       "      <td>2e7a8482f6fb09756ca50c10d7bfc047</td>\n",
       "      <td>2016-09</td>\n",
       "    </tr>\n",
       "    <tr>\n",
       "      <th>1</th>\n",
       "      <td>2016-09</td>\n",
       "      <td>4854e9b3feff728c13ee5fc7d1547e92</td>\n",
       "      <td>e5fa5a7210941f7d56d0208e4e071d35</td>\n",
       "      <td>2016-09</td>\n",
       "    </tr>\n",
       "    <tr>\n",
       "      <th>2</th>\n",
       "      <td>2016-09</td>\n",
       "      <td>830d5b7aaa3b6f1e9ad63703bec97d23</td>\n",
       "      <td>bfbd0f9bdef84302105ad712db648a6c</td>\n",
       "      <td>2016-09</td>\n",
       "    </tr>\n",
       "    <tr>\n",
       "      <th>3</th>\n",
       "      <td>2016-10</td>\n",
       "      <td>0eb1ee9dba87f5b36b4613a65074337c</td>\n",
       "      <td>71303d7e93b399f5bcd537d124c0bcfa</td>\n",
       "      <td>2016-10</td>\n",
       "    </tr>\n",
       "    <tr>\n",
       "      <th>4</th>\n",
       "      <td>2016-10</td>\n",
       "      <td>32ea3bdedab835c3aa6cb68ce66565ef</td>\n",
       "      <td>3b697a20d9e427646d92567910af6d57</td>\n",
       "      <td>2016-10</td>\n",
       "    </tr>\n",
       "  </tbody>\n",
       "</table>\n",
       "</div>"
      ],
      "text/plain": [
       "  order_purchase_timestamp                customer_unique_id  \\\n",
       "0                  2016-09  b7d76e111c89f7ebf14761390f0f7d17   \n",
       "1                  2016-09  4854e9b3feff728c13ee5fc7d1547e92   \n",
       "2                  2016-09  830d5b7aaa3b6f1e9ad63703bec97d23   \n",
       "3                  2016-10  0eb1ee9dba87f5b36b4613a65074337c   \n",
       "4                  2016-10  32ea3bdedab835c3aa6cb68ce66565ef   \n",
       "\n",
       "                           order_id first_order_month  \n",
       "0  2e7a8482f6fb09756ca50c10d7bfc047           2016-09  \n",
       "1  e5fa5a7210941f7d56d0208e4e071d35           2016-09  \n",
       "2  bfbd0f9bdef84302105ad712db648a6c           2016-09  \n",
       "3  71303d7e93b399f5bcd537d124c0bcfa           2016-10  \n",
       "4  3b697a20d9e427646d92567910af6d57           2016-10  "
      ]
     },
     "execution_count": 143,
     "metadata": {},
     "output_type": "execute_result"
    }
   ],
   "source": [
    "retention.head()"
   ]
  },
  {
   "cell_type": "markdown",
   "id": "26033ae1",
   "metadata": {},
   "source": [
    "Отберём данные только за 2017 год. Не стали этого делать раньше, чтобы исключить пользователей, у которых первый заказ был сделан раньше 2017"
   ]
  },
  {
   "cell_type": "code",
   "execution_count": 144,
   "id": "9d8f78c3",
   "metadata": {},
   "outputs": [],
   "source": [
    "retention = retention.query(\"'2017-01' <= first_order_month <= '2017-12' & order_purchase_timestamp <= '2017-12'\")"
   ]
  },
  {
   "cell_type": "code",
   "execution_count": 145,
   "id": "054bd45e",
   "metadata": {
    "scrolled": true
   },
   "outputs": [
    {
     "data": {
      "text/plain": [
       "(44574, 4)"
      ]
     },
     "execution_count": 145,
     "metadata": {},
     "output_type": "execute_result"
    }
   ],
   "source": [
    "retention.shape"
   ]
  },
  {
   "cell_type": "markdown",
   "id": "5fcf11d4",
   "metadata": {},
   "source": [
    "С разностью между датой любого заказа и датой первого заказа придётся немного повозиться. У нас тип данных `period[M]`, поэтому после вычитания получатся специфические объекты `pd.offsets.MonthEnd`. Чтобы получить разницу в целых числах, нужно будет использовать атрибут `n`"
   ]
  },
  {
   "cell_type": "code",
   "execution_count": 146,
   "id": "0d6f7c7b",
   "metadata": {},
   "outputs": [],
   "source": [
    "retention['month'] = (retention.order_purchase_timestamp \n",
    "                       - retention.first_order_month).apply(lambda x: x.n)"
   ]
  },
  {
   "cell_type": "markdown",
   "id": "dfb29669",
   "metadata": {},
   "source": [
    "Проверим на юзере, у которого точно есть несколько заказов"
   ]
  },
  {
   "cell_type": "code",
   "execution_count": 147,
   "id": "af193423",
   "metadata": {},
   "outputs": [
    {
     "data": {
      "text/html": [
       "<div>\n",
       "<style scoped>\n",
       "    .dataframe tbody tr th:only-of-type {\n",
       "        vertical-align: middle;\n",
       "    }\n",
       "\n",
       "    .dataframe tbody tr th {\n",
       "        vertical-align: top;\n",
       "    }\n",
       "\n",
       "    .dataframe thead th {\n",
       "        text-align: right;\n",
       "    }\n",
       "</style>\n",
       "<table border=\"1\" class=\"dataframe\">\n",
       "  <thead>\n",
       "    <tr style=\"text-align: right;\">\n",
       "      <th></th>\n",
       "      <th>order_purchase_timestamp</th>\n",
       "      <th>customer_unique_id</th>\n",
       "      <th>order_id</th>\n",
       "      <th>first_order_month</th>\n",
       "      <th>month</th>\n",
       "    </tr>\n",
       "  </thead>\n",
       "  <tbody>\n",
       "    <tr>\n",
       "      <th>9579</th>\n",
       "      <td>2017-05</td>\n",
       "      <td>8d50f5eadf50201ccdcedfb9e2ac8455</td>\n",
       "      <td>5d848f3d93a493c1c8955e018240e7ca</td>\n",
       "      <td>2017-05</td>\n",
       "      <td>0</td>\n",
       "    </tr>\n",
       "    <tr>\n",
       "      <th>13540</th>\n",
       "      <td>2017-06</td>\n",
       "      <td>8d50f5eadf50201ccdcedfb9e2ac8455</td>\n",
       "      <td>369634708db140c5d2c4e365882c443a</td>\n",
       "      <td>2017-05</td>\n",
       "      <td>1</td>\n",
       "    </tr>\n",
       "    <tr>\n",
       "      <th>17039</th>\n",
       "      <td>2017-07</td>\n",
       "      <td>8d50f5eadf50201ccdcedfb9e2ac8455</td>\n",
       "      <td>4f62d593acae92cea3c5662c76122478</td>\n",
       "      <td>2017-05</td>\n",
       "      <td>2</td>\n",
       "    </tr>\n",
       "    <tr>\n",
       "      <th>17780</th>\n",
       "      <td>2017-07</td>\n",
       "      <td>8d50f5eadf50201ccdcedfb9e2ac8455</td>\n",
       "      <td>bf92c69b7cc70f7fc2c37de43e366173</td>\n",
       "      <td>2017-05</td>\n",
       "      <td>2</td>\n",
       "    </tr>\n",
       "    <tr>\n",
       "      <th>19329</th>\n",
       "      <td>2017-08</td>\n",
       "      <td>8d50f5eadf50201ccdcedfb9e2ac8455</td>\n",
       "      <td>519203404f6116d406a970763ee75799</td>\n",
       "      <td>2017-05</td>\n",
       "      <td>3</td>\n",
       "    </tr>\n",
       "    <tr>\n",
       "      <th>23680</th>\n",
       "      <td>2017-09</td>\n",
       "      <td>8d50f5eadf50201ccdcedfb9e2ac8455</td>\n",
       "      <td>e3071b7624445af6e4f3a1b23718667d</td>\n",
       "      <td>2017-05</td>\n",
       "      <td>4</td>\n",
       "    </tr>\n",
       "    <tr>\n",
       "      <th>29980</th>\n",
       "      <td>2017-10</td>\n",
       "      <td>8d50f5eadf50201ccdcedfb9e2ac8455</td>\n",
       "      <td>cd4b336a02aacabd0ef22f6db711f95e</td>\n",
       "      <td>2017-05</td>\n",
       "      <td>5</td>\n",
       "    </tr>\n",
       "    <tr>\n",
       "      <th>31452</th>\n",
       "      <td>2017-10</td>\n",
       "      <td>8d50f5eadf50201ccdcedfb9e2ac8455</td>\n",
       "      <td>89d9b111d2b990deb5f5f9769f92800b</td>\n",
       "      <td>2017-05</td>\n",
       "      <td>5</td>\n",
       "    </tr>\n",
       "    <tr>\n",
       "      <th>35529</th>\n",
       "      <td>2017-11</td>\n",
       "      <td>8d50f5eadf50201ccdcedfb9e2ac8455</td>\n",
       "      <td>b850a16d8faf65a74c51287ef34379ce</td>\n",
       "      <td>2017-05</td>\n",
       "      <td>6</td>\n",
       "    </tr>\n",
       "  </tbody>\n",
       "</table>\n",
       "</div>"
      ],
      "text/plain": [
       "      order_purchase_timestamp                customer_unique_id  \\\n",
       "9579                   2017-05  8d50f5eadf50201ccdcedfb9e2ac8455   \n",
       "13540                  2017-06  8d50f5eadf50201ccdcedfb9e2ac8455   \n",
       "17039                  2017-07  8d50f5eadf50201ccdcedfb9e2ac8455   \n",
       "17780                  2017-07  8d50f5eadf50201ccdcedfb9e2ac8455   \n",
       "19329                  2017-08  8d50f5eadf50201ccdcedfb9e2ac8455   \n",
       "23680                  2017-09  8d50f5eadf50201ccdcedfb9e2ac8455   \n",
       "29980                  2017-10  8d50f5eadf50201ccdcedfb9e2ac8455   \n",
       "31452                  2017-10  8d50f5eadf50201ccdcedfb9e2ac8455   \n",
       "35529                  2017-11  8d50f5eadf50201ccdcedfb9e2ac8455   \n",
       "\n",
       "                               order_id first_order_month  month  \n",
       "9579   5d848f3d93a493c1c8955e018240e7ca           2017-05      0  \n",
       "13540  369634708db140c5d2c4e365882c443a           2017-05      1  \n",
       "17039  4f62d593acae92cea3c5662c76122478           2017-05      2  \n",
       "17780  bf92c69b7cc70f7fc2c37de43e366173           2017-05      2  \n",
       "19329  519203404f6116d406a970763ee75799           2017-05      3  \n",
       "23680  e3071b7624445af6e4f3a1b23718667d           2017-05      4  \n",
       "29980  cd4b336a02aacabd0ef22f6db711f95e           2017-05      5  \n",
       "31452  89d9b111d2b990deb5f5f9769f92800b           2017-05      5  \n",
       "35529  b850a16d8faf65a74c51287ef34379ce           2017-05      6  "
      ]
     },
     "execution_count": 147,
     "metadata": {},
     "output_type": "execute_result"
    }
   ],
   "source": [
    "retention.query(\"customer_unique_id =='8d50f5eadf50201ccdcedfb9e2ac8455'\")"
   ]
  },
  {
   "cell_type": "markdown",
   "id": "f1428c7d",
   "metadata": {},
   "source": [
    "Сначала сделаем сводную по когортам в разрезе уникальных юзеров, а потом вычислим retention в процентах"
   ]
  },
  {
   "cell_type": "code",
   "execution_count": 148,
   "id": "ea8c5a89",
   "metadata": {
    "scrolled": true
   },
   "outputs": [],
   "source": [
    "retention_pivot = retention \\\n",
    "    .pivot_table(index='first_order_month', columns = 'month', values='customer_unique_id', aggfunc='nunique')"
   ]
  },
  {
   "cell_type": "markdown",
   "id": "ad64c36d",
   "metadata": {},
   "source": [
    "Делим всю сводную на стоблец с первым месяцем (0). Для этого в операции деления обязательно нужно указать ось по строкам. Потом умножаем на 100, чтобы получить метрику в процентах и округлим до 3 знаков, чтобы было удобнее смотреть таблицу"
   ]
  },
  {
   "cell_type": "code",
   "execution_count": 149,
   "id": "fe9f0bc3",
   "metadata": {},
   "outputs": [],
   "source": [
    "retention_pivot = retention_pivot.div(retention_pivot[0], axis='index').mul(100).round(3)"
   ]
  },
  {
   "cell_type": "code",
   "execution_count": 150,
   "id": "d3d57ea3",
   "metadata": {
    "scrolled": false
   },
   "outputs": [
    {
     "data": {
      "text/html": [
       "<div>\n",
       "<style scoped>\n",
       "    .dataframe tbody tr th:only-of-type {\n",
       "        vertical-align: middle;\n",
       "    }\n",
       "\n",
       "    .dataframe tbody tr th {\n",
       "        vertical-align: top;\n",
       "    }\n",
       "\n",
       "    .dataframe thead th {\n",
       "        text-align: right;\n",
       "    }\n",
       "</style>\n",
       "<table border=\"1\" class=\"dataframe\">\n",
       "  <thead>\n",
       "    <tr style=\"text-align: right;\">\n",
       "      <th>month</th>\n",
       "      <th>0</th>\n",
       "      <th>1</th>\n",
       "      <th>2</th>\n",
       "      <th>3</th>\n",
       "      <th>4</th>\n",
       "      <th>5</th>\n",
       "      <th>6</th>\n",
       "      <th>7</th>\n",
       "      <th>8</th>\n",
       "      <th>9</th>\n",
       "      <th>10</th>\n",
       "      <th>11</th>\n",
       "    </tr>\n",
       "    <tr>\n",
       "      <th>first_order_month</th>\n",
       "      <th></th>\n",
       "      <th></th>\n",
       "      <th></th>\n",
       "      <th></th>\n",
       "      <th></th>\n",
       "      <th></th>\n",
       "      <th></th>\n",
       "      <th></th>\n",
       "      <th></th>\n",
       "      <th></th>\n",
       "      <th></th>\n",
       "      <th></th>\n",
       "    </tr>\n",
       "  </thead>\n",
       "  <tbody>\n",
       "    <tr>\n",
       "      <th>2017-01</th>\n",
       "      <td>100.0</td>\n",
       "      <td>0.398</td>\n",
       "      <td>0.265</td>\n",
       "      <td>0.133</td>\n",
       "      <td>0.398</td>\n",
       "      <td>0.133</td>\n",
       "      <td>0.398</td>\n",
       "      <td>0.133</td>\n",
       "      <td>0.133</td>\n",
       "      <td>NaN</td>\n",
       "      <td>0.398</td>\n",
       "      <td>0.133</td>\n",
       "    </tr>\n",
       "    <tr>\n",
       "      <th>2017-02</th>\n",
       "      <td>100.0</td>\n",
       "      <td>0.235</td>\n",
       "      <td>0.293</td>\n",
       "      <td>0.117</td>\n",
       "      <td>0.411</td>\n",
       "      <td>0.117</td>\n",
       "      <td>0.235</td>\n",
       "      <td>0.176</td>\n",
       "      <td>0.117</td>\n",
       "      <td>0.176</td>\n",
       "      <td>0.117</td>\n",
       "      <td>NaN</td>\n",
       "    </tr>\n",
       "    <tr>\n",
       "      <th>2017-03</th>\n",
       "      <td>100.0</td>\n",
       "      <td>0.501</td>\n",
       "      <td>0.347</td>\n",
       "      <td>0.385</td>\n",
       "      <td>0.347</td>\n",
       "      <td>0.154</td>\n",
       "      <td>0.154</td>\n",
       "      <td>0.308</td>\n",
       "      <td>0.347</td>\n",
       "      <td>0.077</td>\n",
       "      <td>NaN</td>\n",
       "      <td>NaN</td>\n",
       "    </tr>\n",
       "    <tr>\n",
       "      <th>2017-04</th>\n",
       "      <td>100.0</td>\n",
       "      <td>0.599</td>\n",
       "      <td>0.214</td>\n",
       "      <td>0.171</td>\n",
       "      <td>0.342</td>\n",
       "      <td>0.257</td>\n",
       "      <td>0.342</td>\n",
       "      <td>0.299</td>\n",
       "      <td>0.299</td>\n",
       "      <td>NaN</td>\n",
       "      <td>NaN</td>\n",
       "      <td>NaN</td>\n",
       "    </tr>\n",
       "    <tr>\n",
       "      <th>2017-05</th>\n",
       "      <td>100.0</td>\n",
       "      <td>0.478</td>\n",
       "      <td>0.478</td>\n",
       "      <td>0.393</td>\n",
       "      <td>0.309</td>\n",
       "      <td>0.337</td>\n",
       "      <td>0.421</td>\n",
       "      <td>0.140</td>\n",
       "      <td>NaN</td>\n",
       "      <td>NaN</td>\n",
       "      <td>NaN</td>\n",
       "      <td>NaN</td>\n",
       "    </tr>\n",
       "    <tr>\n",
       "      <th>2017-06</th>\n",
       "      <td>100.0</td>\n",
       "      <td>0.482</td>\n",
       "      <td>0.353</td>\n",
       "      <td>0.385</td>\n",
       "      <td>0.257</td>\n",
       "      <td>0.385</td>\n",
       "      <td>0.385</td>\n",
       "      <td>NaN</td>\n",
       "      <td>NaN</td>\n",
       "      <td>NaN</td>\n",
       "      <td>NaN</td>\n",
       "      <td>NaN</td>\n",
       "    </tr>\n",
       "    <tr>\n",
       "      <th>2017-07</th>\n",
       "      <td>100.0</td>\n",
       "      <td>0.520</td>\n",
       "      <td>0.364</td>\n",
       "      <td>0.234</td>\n",
       "      <td>0.286</td>\n",
       "      <td>0.208</td>\n",
       "      <td>NaN</td>\n",
       "      <td>NaN</td>\n",
       "      <td>NaN</td>\n",
       "      <td>NaN</td>\n",
       "      <td>NaN</td>\n",
       "      <td>NaN</td>\n",
       "    </tr>\n",
       "    <tr>\n",
       "      <th>2017-08</th>\n",
       "      <td>100.0</td>\n",
       "      <td>0.675</td>\n",
       "      <td>0.337</td>\n",
       "      <td>0.265</td>\n",
       "      <td>0.362</td>\n",
       "      <td>NaN</td>\n",
       "      <td>NaN</td>\n",
       "      <td>NaN</td>\n",
       "      <td>NaN</td>\n",
       "      <td>NaN</td>\n",
       "      <td>NaN</td>\n",
       "      <td>NaN</td>\n",
       "    </tr>\n",
       "    <tr>\n",
       "      <th>2017-09</th>\n",
       "      <td>100.0</td>\n",
       "      <td>0.685</td>\n",
       "      <td>0.538</td>\n",
       "      <td>0.293</td>\n",
       "      <td>NaN</td>\n",
       "      <td>NaN</td>\n",
       "      <td>NaN</td>\n",
       "      <td>NaN</td>\n",
       "      <td>NaN</td>\n",
       "      <td>NaN</td>\n",
       "      <td>NaN</td>\n",
       "      <td>NaN</td>\n",
       "    </tr>\n",
       "    <tr>\n",
       "      <th>2017-10</th>\n",
       "      <td>100.0</td>\n",
       "      <td>0.703</td>\n",
       "      <td>0.249</td>\n",
       "      <td>NaN</td>\n",
       "      <td>NaN</td>\n",
       "      <td>NaN</td>\n",
       "      <td>NaN</td>\n",
       "      <td>NaN</td>\n",
       "      <td>NaN</td>\n",
       "      <td>NaN</td>\n",
       "      <td>NaN</td>\n",
       "      <td>NaN</td>\n",
       "    </tr>\n",
       "    <tr>\n",
       "      <th>2017-11</th>\n",
       "      <td>100.0</td>\n",
       "      <td>0.554</td>\n",
       "      <td>NaN</td>\n",
       "      <td>NaN</td>\n",
       "      <td>NaN</td>\n",
       "      <td>NaN</td>\n",
       "      <td>NaN</td>\n",
       "      <td>NaN</td>\n",
       "      <td>NaN</td>\n",
       "      <td>NaN</td>\n",
       "      <td>NaN</td>\n",
       "      <td>NaN</td>\n",
       "    </tr>\n",
       "    <tr>\n",
       "      <th>2017-12</th>\n",
       "      <td>100.0</td>\n",
       "      <td>NaN</td>\n",
       "      <td>NaN</td>\n",
       "      <td>NaN</td>\n",
       "      <td>NaN</td>\n",
       "      <td>NaN</td>\n",
       "      <td>NaN</td>\n",
       "      <td>NaN</td>\n",
       "      <td>NaN</td>\n",
       "      <td>NaN</td>\n",
       "      <td>NaN</td>\n",
       "      <td>NaN</td>\n",
       "    </tr>\n",
       "  </tbody>\n",
       "</table>\n",
       "</div>"
      ],
      "text/plain": [
       "month                 0      1      2      3      4      5      6      7   \\\n",
       "first_order_month                                                           \n",
       "2017-01            100.0  0.398  0.265  0.133  0.398  0.133  0.398  0.133   \n",
       "2017-02            100.0  0.235  0.293  0.117  0.411  0.117  0.235  0.176   \n",
       "2017-03            100.0  0.501  0.347  0.385  0.347  0.154  0.154  0.308   \n",
       "2017-04            100.0  0.599  0.214  0.171  0.342  0.257  0.342  0.299   \n",
       "2017-05            100.0  0.478  0.478  0.393  0.309  0.337  0.421  0.140   \n",
       "2017-06            100.0  0.482  0.353  0.385  0.257  0.385  0.385    NaN   \n",
       "2017-07            100.0  0.520  0.364  0.234  0.286  0.208    NaN    NaN   \n",
       "2017-08            100.0  0.675  0.337  0.265  0.362    NaN    NaN    NaN   \n",
       "2017-09            100.0  0.685  0.538  0.293    NaN    NaN    NaN    NaN   \n",
       "2017-10            100.0  0.703  0.249    NaN    NaN    NaN    NaN    NaN   \n",
       "2017-11            100.0  0.554    NaN    NaN    NaN    NaN    NaN    NaN   \n",
       "2017-12            100.0    NaN    NaN    NaN    NaN    NaN    NaN    NaN   \n",
       "\n",
       "month                 8      9      10     11  \n",
       "first_order_month                              \n",
       "2017-01            0.133    NaN  0.398  0.133  \n",
       "2017-02            0.117  0.176  0.117    NaN  \n",
       "2017-03            0.347  0.077    NaN    NaN  \n",
       "2017-04            0.299    NaN    NaN    NaN  \n",
       "2017-05              NaN    NaN    NaN    NaN  \n",
       "2017-06              NaN    NaN    NaN    NaN  \n",
       "2017-07              NaN    NaN    NaN    NaN  \n",
       "2017-08              NaN    NaN    NaN    NaN  \n",
       "2017-09              NaN    NaN    NaN    NaN  \n",
       "2017-10              NaN    NaN    NaN    NaN  \n",
       "2017-11              NaN    NaN    NaN    NaN  \n",
       "2017-12              NaN    NaN    NaN    NaN  "
      ]
     },
     "execution_count": 150,
     "metadata": {},
     "output_type": "execute_result"
    }
   ],
   "source": [
    "retention_pivot"
   ]
  },
  {
   "cell_type": "markdown",
   "id": "f104060c",
   "metadata": {},
   "source": [
    "Для наглядности посторим Heatmap на основе нашей «косынки»"
   ]
  },
  {
   "cell_type": "code",
   "execution_count": 151,
   "id": "2cfc013d",
   "metadata": {
    "scrolled": false
   },
   "outputs": [
    {
     "data": {
      "image/png": "[encoded data removed]",
      "text/plain": [
       "<Figure size 1600x800 with 2 Axes>"
      ]
     },
     "metadata": {},
     "output_type": "display_data"
    }
   ],
   "source": [
    "# Прологарифмируем цвета, иначе мы не заметим отличий для значений, которые меньше 1%\n",
    "ax = sns.heatmap(retention_pivot, annot=True, fmt=\".3g\", norm=LogNorm(), cmap=\"icefire\")\n",
    "\n",
    "plt.title('Retention Heatmap', fontsize=14)\n",
    "plt.xlabel('Месяц')\n",
    "\n",
    "# Изменение местоположения оси x\n",
    "ax.xaxis.set_ticks_position('top')\n",
    "ax.xaxis.set_label_position('top')\n",
    "\n",
    "plt.ylabel('Когорты')\n",
    "plt.show()"
   ]
  },
  {
   "cell_type": "markdown",
   "id": "beb70ddf",
   "metadata": {},
   "source": [
    "Чтобы найти когороту с самым высоким retention *на третий месяц*, cмотрим на колонку 2 — первый месяц активности юзера у нас в нулевой. Вроде бы всё очевидно, но перепроверим себя с помощью формулы"
   ]
  },
  {
   "cell_type": "code",
   "execution_count": 152,
   "id": "6b576294",
   "metadata": {},
   "outputs": [
    {
     "data": {
      "text/plain": [
       "Period('2017-09', 'M')"
      ]
     },
     "execution_count": 152,
     "metadata": {},
     "output_type": "execute_result"
    }
   ],
   "source": [
    "retention_pivot[2].idxmax()"
   ]
  },
  {
   "cell_type": "markdown",
   "id": "1fd537ef",
   "metadata": {},
   "source": [
    "### Ответ\n",
    "Самый высокий Retention у **сентябрьской когорты (2017-09)**"
   ]
  },
  {
   "cell_type": "markdown",
   "id": "4c66960d",
   "metadata": {},
   "source": [
    "## 6. Построить [RFM-сегментацию](https://guillaume-martin.github.io/rfm-segmentation-with-python.html) пользователей, чтобы качественно оценить свою аудиторию. Для каждого RFM-сегмента нужно вывести границы метрик recency, frequency и monetary для интерпретации этих кластеров"
   ]
  },
  {
   "cell_type": "markdown",
   "id": "3b9f2a25",
   "metadata": {},
   "source": [
    "### Подготовка данных к сегментации"
   ]
  },
  {
   "cell_type": "markdown",
   "id": "060cd965",
   "metadata": {},
   "source": [
    "Отберём только нужные колонки"
   ]
  },
  {
   "cell_type": "code",
   "execution_count": 153,
   "id": "cc58672d",
   "metadata": {
    "scrolled": true
   },
   "outputs": [
    {
     "data": {
      "text/html": [
       "<div>\n",
       "<style scoped>\n",
       "    .dataframe tbody tr th:only-of-type {\n",
       "        vertical-align: middle;\n",
       "    }\n",
       "\n",
       "    .dataframe tbody tr th {\n",
       "        vertical-align: top;\n",
       "    }\n",
       "\n",
       "    .dataframe thead th {\n",
       "        text-align: right;\n",
       "    }\n",
       "</style>\n",
       "<table border=\"1\" class=\"dataframe\">\n",
       "  <thead>\n",
       "    <tr style=\"text-align: right;\">\n",
       "      <th></th>\n",
       "      <th>order_purchase_timestamp</th>\n",
       "      <th>customer_unique_id</th>\n",
       "      <th>order_id</th>\n",
       "      <th>price</th>\n",
       "    </tr>\n",
       "  </thead>\n",
       "  <tbody>\n",
       "    <tr>\n",
       "      <th>0</th>\n",
       "      <td>2016-09-04 21:15:19</td>\n",
       "      <td>b7d76e111c89f7ebf14761390f0f7d17</td>\n",
       "      <td>2e7a8482f6fb09756ca50c10d7bfc047</td>\n",
       "      <td>39.99</td>\n",
       "    </tr>\n",
       "    <tr>\n",
       "      <th>1</th>\n",
       "      <td>2016-09-04 21:15:19</td>\n",
       "      <td>b7d76e111c89f7ebf14761390f0f7d17</td>\n",
       "      <td>2e7a8482f6fb09756ca50c10d7bfc047</td>\n",
       "      <td>32.90</td>\n",
       "    </tr>\n",
       "    <tr>\n",
       "      <th>2</th>\n",
       "      <td>2016-09-05 00:15:34</td>\n",
       "      <td>4854e9b3feff728c13ee5fc7d1547e92</td>\n",
       "      <td>e5fa5a7210941f7d56d0208e4e071d35</td>\n",
       "      <td>59.50</td>\n",
       "    </tr>\n",
       "    <tr>\n",
       "      <th>3</th>\n",
       "      <td>2016-09-15 12:16:38</td>\n",
       "      <td>830d5b7aaa3b6f1e9ad63703bec97d23</td>\n",
       "      <td>bfbd0f9bdef84302105ad712db648a6c</td>\n",
       "      <td>44.99</td>\n",
       "    </tr>\n",
       "    <tr>\n",
       "      <th>4</th>\n",
       "      <td>2016-09-15 12:16:38</td>\n",
       "      <td>830d5b7aaa3b6f1e9ad63703bec97d23</td>\n",
       "      <td>bfbd0f9bdef84302105ad712db648a6c</td>\n",
       "      <td>44.99</td>\n",
       "    </tr>\n",
       "  </tbody>\n",
       "</table>\n",
       "</div>"
      ],
      "text/plain": [
       "  order_purchase_timestamp                customer_unique_id  \\\n",
       "0      2016-09-04 21:15:19  b7d76e111c89f7ebf14761390f0f7d17   \n",
       "1      2016-09-04 21:15:19  b7d76e111c89f7ebf14761390f0f7d17   \n",
       "2      2016-09-05 00:15:34  4854e9b3feff728c13ee5fc7d1547e92   \n",
       "3      2016-09-15 12:16:38  830d5b7aaa3b6f1e9ad63703bec97d23   \n",
       "4      2016-09-15 12:16:38  830d5b7aaa3b6f1e9ad63703bec97d23   \n",
       "\n",
       "                           order_id  price  \n",
       "0  2e7a8482f6fb09756ca50c10d7bfc047  39.99  \n",
       "1  2e7a8482f6fb09756ca50c10d7bfc047  32.90  \n",
       "2  e5fa5a7210941f7d56d0208e4e071d35  59.50  \n",
       "3  bfbd0f9bdef84302105ad712db648a6c  44.99  \n",
       "4  bfbd0f9bdef84302105ad712db648a6c  44.99  "
      ]
     },
     "execution_count": 153,
     "metadata": {},
     "output_type": "execute_result"
    }
   ],
   "source": [
    "df_RFM = all_data[['order_purchase_timestamp', 'customer_unique_id', 'order_id', 'price']]\n",
    "df_RFM.head()"
   ]
  },
  {
   "cell_type": "code",
   "execution_count": 154,
   "id": "55fbf5e6",
   "metadata": {
    "scrolled": true
   },
   "outputs": [
    {
     "data": {
      "text/plain": [
       "(112650, 4)"
      ]
     },
     "execution_count": 154,
     "metadata": {},
     "output_type": "execute_result"
    }
   ],
   "source": [
    "df_RFM.shape"
   ]
  },
  {
   "cell_type": "markdown",
   "id": "56afbb44",
   "metadata": {},
   "source": [
    "Изначально у нас в таблице цена каждого товара. Покупка = заказ, поэтому нам нужно вычислить сумму каждого из них. "
   ]
  },
  {
   "cell_type": "code",
   "execution_count": 155,
   "id": "4dba7c57",
   "metadata": {},
   "outputs": [
    {
     "data": {
      "text/html": [
       "<div>\n",
       "<style scoped>\n",
       "    .dataframe tbody tr th:only-of-type {\n",
       "        vertical-align: middle;\n",
       "    }\n",
       "\n",
       "    .dataframe tbody tr th {\n",
       "        vertical-align: top;\n",
       "    }\n",
       "\n",
       "    .dataframe thead th {\n",
       "        text-align: right;\n",
       "    }\n",
       "</style>\n",
       "<table border=\"1\" class=\"dataframe\">\n",
       "  <thead>\n",
       "    <tr style=\"text-align: right;\">\n",
       "      <th></th>\n",
       "      <th>order_purchase_timestamp</th>\n",
       "      <th>customer_unique_id</th>\n",
       "      <th>order_id</th>\n",
       "      <th>order_cost</th>\n",
       "    </tr>\n",
       "  </thead>\n",
       "  <tbody>\n",
       "    <tr>\n",
       "      <th>0</th>\n",
       "      <td>2016-09-04 21:15:19</td>\n",
       "      <td>b7d76e111c89f7ebf14761390f0f7d17</td>\n",
       "      <td>2e7a8482f6fb09756ca50c10d7bfc047</td>\n",
       "      <td>72.89</td>\n",
       "    </tr>\n",
       "    <tr>\n",
       "      <th>1</th>\n",
       "      <td>2016-09-05 00:15:34</td>\n",
       "      <td>4854e9b3feff728c13ee5fc7d1547e92</td>\n",
       "      <td>e5fa5a7210941f7d56d0208e4e071d35</td>\n",
       "      <td>59.50</td>\n",
       "    </tr>\n",
       "    <tr>\n",
       "      <th>2</th>\n",
       "      <td>2016-09-15 12:16:38</td>\n",
       "      <td>830d5b7aaa3b6f1e9ad63703bec97d23</td>\n",
       "      <td>bfbd0f9bdef84302105ad712db648a6c</td>\n",
       "      <td>134.97</td>\n",
       "    </tr>\n",
       "    <tr>\n",
       "      <th>3</th>\n",
       "      <td>2016-10-02 22:07:52</td>\n",
       "      <td>0eb1ee9dba87f5b36b4613a65074337c</td>\n",
       "      <td>71303d7e93b399f5bcd537d124c0bcfa</td>\n",
       "      <td>100.00</td>\n",
       "    </tr>\n",
       "    <tr>\n",
       "      <th>4</th>\n",
       "      <td>2016-10-03 09:44:50</td>\n",
       "      <td>32ea3bdedab835c3aa6cb68ce66565ef</td>\n",
       "      <td>3b697a20d9e427646d92567910af6d57</td>\n",
       "      <td>29.90</td>\n",
       "    </tr>\n",
       "    <tr>\n",
       "      <th>...</th>\n",
       "      <td>...</td>\n",
       "      <td>...</td>\n",
       "      <td>...</td>\n",
       "      <td>...</td>\n",
       "    </tr>\n",
       "    <tr>\n",
       "      <th>98661</th>\n",
       "      <td>2018-08-29 14:18:23</td>\n",
       "      <td>5c58de6fb80e93396e2f35642666b693</td>\n",
       "      <td>0b223d92c27432930dfe407c6aea3041</td>\n",
       "      <td>418.00</td>\n",
       "    </tr>\n",
       "    <tr>\n",
       "      <th>98662</th>\n",
       "      <td>2018-08-29 14:18:28</td>\n",
       "      <td>7febafa06d9d8f232a900a2937f04338</td>\n",
       "      <td>168626408cb32af0ffaf76711caae1dc</td>\n",
       "      <td>45.90</td>\n",
       "    </tr>\n",
       "    <tr>\n",
       "      <th>98663</th>\n",
       "      <td>2018-08-29 14:52:00</td>\n",
       "      <td>b701bebbdf478f5500348f03aff62121</td>\n",
       "      <td>03ef5dedbe7492bdae72eec50764c43f</td>\n",
       "      <td>24.90</td>\n",
       "    </tr>\n",
       "    <tr>\n",
       "      <th>98664</th>\n",
       "      <td>2018-08-29 15:00:37</td>\n",
       "      <td>24ac2b4327e25baf39f2119e4228976a</td>\n",
       "      <td>35a972d7f8436f405b56e36add1a7140</td>\n",
       "      <td>84.99</td>\n",
       "    </tr>\n",
       "    <tr>\n",
       "      <th>98665</th>\n",
       "      <td>2018-09-03 09:06:57</td>\n",
       "      <td>ff22e30958c13ffe219db7d711e8f564</td>\n",
       "      <td>54282e97f61c23b78330c15b154c867d</td>\n",
       "      <td>145.00</td>\n",
       "    </tr>\n",
       "  </tbody>\n",
       "</table>\n",
       "<p>98666 rows × 4 columns</p>\n",
       "</div>"
      ],
      "text/plain": [
       "      order_purchase_timestamp                customer_unique_id  \\\n",
       "0          2016-09-04 21:15:19  b7d76e111c89f7ebf14761390f0f7d17   \n",
       "1          2016-09-05 00:15:34  4854e9b3feff728c13ee5fc7d1547e92   \n",
       "2          2016-09-15 12:16:38  830d5b7aaa3b6f1e9ad63703bec97d23   \n",
       "3          2016-10-02 22:07:52  0eb1ee9dba87f5b36b4613a65074337c   \n",
       "4          2016-10-03 09:44:50  32ea3bdedab835c3aa6cb68ce66565ef   \n",
       "...                        ...                               ...   \n",
       "98661      2018-08-29 14:18:23  5c58de6fb80e93396e2f35642666b693   \n",
       "98662      2018-08-29 14:18:28  7febafa06d9d8f232a900a2937f04338   \n",
       "98663      2018-08-29 14:52:00  b701bebbdf478f5500348f03aff62121   \n",
       "98664      2018-08-29 15:00:37  24ac2b4327e25baf39f2119e4228976a   \n",
       "98665      2018-09-03 09:06:57  ff22e30958c13ffe219db7d711e8f564   \n",
       "\n",
       "                               order_id  order_cost  \n",
       "0      2e7a8482f6fb09756ca50c10d7bfc047       72.89  \n",
       "1      e5fa5a7210941f7d56d0208e4e071d35       59.50  \n",
       "2      bfbd0f9bdef84302105ad712db648a6c      134.97  \n",
       "3      71303d7e93b399f5bcd537d124c0bcfa      100.00  \n",
       "4      3b697a20d9e427646d92567910af6d57       29.90  \n",
       "...                                 ...         ...  \n",
       "98661  0b223d92c27432930dfe407c6aea3041      418.00  \n",
       "98662  168626408cb32af0ffaf76711caae1dc       45.90  \n",
       "98663  03ef5dedbe7492bdae72eec50764c43f       24.90  \n",
       "98664  35a972d7f8436f405b56e36add1a7140       84.99  \n",
       "98665  54282e97f61c23b78330c15b154c867d      145.00  \n",
       "\n",
       "[98666 rows x 4 columns]"
      ]
     },
     "execution_count": 155,
     "metadata": {},
     "output_type": "execute_result"
    }
   ],
   "source": [
    "df_RFM = df_RFM \\\n",
    "    .groupby(['order_purchase_timestamp', 'customer_unique_id', 'order_id'], as_index=False) \\\n",
    "    .agg({'price': 'sum'}) \\\n",
    "    .rename(columns={'price': 'order_cost'})\n",
    "\n",
    "df_RFM"
   ]
  },
  {
   "cell_type": "markdown",
   "id": "84db13be",
   "metadata": {},
   "source": [
    "Теперь определимся с «текущей» датой. Данные старые, поэтому брать реальную сегодняшнюю дату будет странно. Я буду считатать «текущей» **7 дней спустя после даты оформления последнего заказа**"
   ]
  },
  {
   "cell_type": "code",
   "execution_count": 156,
   "id": "594cf84c",
   "metadata": {},
   "outputs": [
    {
     "data": {
      "text/plain": [
       "Timestamp('2018-09-10 09:06:57')"
      ]
     },
     "execution_count": 156,
     "metadata": {},
     "output_type": "execute_result"
    }
   ],
   "source": [
    "current_date = df_RFM.order_purchase_timestamp.max() + pd.Timedelta(7, 'D')\n",
    "current_date"
   ]
  },
  {
   "cell_type": "markdown",
   "id": "abba7e46",
   "metadata": {},
   "source": [
    "Начинаем подготовку к сегементации. Определим для кажого юзера последнюю дату заказа, общее их количество и общую сумму, которую пользователь потратил:"
   ]
  },
  {
   "cell_type": "code",
   "execution_count": 157,
   "id": "50fc4d86",
   "metadata": {},
   "outputs": [],
   "source": [
    "df_RFM = df_RFM \\\n",
    "    .groupby('customer_unique_id', as_index=False) \\\n",
    "    .agg({'order_purchase_timestamp': 'max', 'order_id': 'count', 'order_cost': 'sum'}) \\\n",
    "    .rename(columns={'order_purchase_timestamp': 'last_order_date',\n",
    "                     'order_id': 'total_purchases',\n",
    "                     'order_cost': 'total_orders_cost'})"
   ]
  },
  {
   "cell_type": "markdown",
   "id": "64b10ba9",
   "metadata": {},
   "source": [
    "Для R-сегмента нам портебуется колонка с разницей между последней покупкой и текущим днём. Суперточность нам тут не нужна, поэтому округлю разницу до целых дней"
   ]
  },
  {
   "cell_type": "code",
   "execution_count": 158,
   "id": "a2ece07b",
   "metadata": {},
   "outputs": [],
   "source": [
    "df_RFM['days_until_now'] = (current_date - df_RFM.last_order_date).dt.days"
   ]
  },
  {
   "cell_type": "markdown",
   "id": "20daba7f",
   "metadata": {},
   "source": [
    "Скомпануем колонки так, чтобы они соответствовали recency, frequency, monetary"
   ]
  },
  {
   "cell_type": "code",
   "execution_count": 159,
   "id": "ce1305b5",
   "metadata": {},
   "outputs": [
    {
     "data": {
      "text/html": [
       "<div>\n",
       "<style scoped>\n",
       "    .dataframe tbody tr th:only-of-type {\n",
       "        vertical-align: middle;\n",
       "    }\n",
       "\n",
       "    .dataframe tbody tr th {\n",
       "        vertical-align: top;\n",
       "    }\n",
       "\n",
       "    .dataframe thead th {\n",
       "        text-align: right;\n",
       "    }\n",
       "</style>\n",
       "<table border=\"1\" class=\"dataframe\">\n",
       "  <thead>\n",
       "    <tr style=\"text-align: right;\">\n",
       "      <th></th>\n",
       "      <th>customer_unique_id</th>\n",
       "      <th>days_until_now</th>\n",
       "      <th>total_purchases</th>\n",
       "      <th>total_orders_cost</th>\n",
       "    </tr>\n",
       "  </thead>\n",
       "  <tbody>\n",
       "    <tr>\n",
       "      <th>0</th>\n",
       "      <td>0000366f3b9a7992bf8c76cfdf3221e2</td>\n",
       "      <td>122</td>\n",
       "      <td>1</td>\n",
       "      <td>129.90</td>\n",
       "    </tr>\n",
       "    <tr>\n",
       "      <th>1</th>\n",
       "      <td>0000b849f77a49e4a4ce2b2a4ca5be3f</td>\n",
       "      <td>125</td>\n",
       "      <td>1</td>\n",
       "      <td>18.90</td>\n",
       "    </tr>\n",
       "    <tr>\n",
       "      <th>2</th>\n",
       "      <td>0000f46a3911fa3c0805444483337064</td>\n",
       "      <td>548</td>\n",
       "      <td>1</td>\n",
       "      <td>69.00</td>\n",
       "    </tr>\n",
       "    <tr>\n",
       "      <th>3</th>\n",
       "      <td>0000f6ccb0745a6a4b88665a16c9f078</td>\n",
       "      <td>332</td>\n",
       "      <td>1</td>\n",
       "      <td>25.99</td>\n",
       "    </tr>\n",
       "    <tr>\n",
       "      <th>4</th>\n",
       "      <td>0004aac84e0df4da2b147fca70cf8255</td>\n",
       "      <td>299</td>\n",
       "      <td>1</td>\n",
       "      <td>180.00</td>\n",
       "    </tr>\n",
       "  </tbody>\n",
       "</table>\n",
       "</div>"
      ],
      "text/plain": [
       "                 customer_unique_id  days_until_now  total_purchases  \\\n",
       "0  0000366f3b9a7992bf8c76cfdf3221e2             122                1   \n",
       "1  0000b849f77a49e4a4ce2b2a4ca5be3f             125                1   \n",
       "2  0000f46a3911fa3c0805444483337064             548                1   \n",
       "3  0000f6ccb0745a6a4b88665a16c9f078             332                1   \n",
       "4  0004aac84e0df4da2b147fca70cf8255             299                1   \n",
       "\n",
       "   total_orders_cost  \n",
       "0             129.90  \n",
       "1              18.90  \n",
       "2              69.00  \n",
       "3              25.99  \n",
       "4             180.00  "
      ]
     },
     "execution_count": 159,
     "metadata": {},
     "output_type": "execute_result"
    }
   ],
   "source": [
    "df_RFM = df_RFM[['customer_unique_id', 'days_until_now', 'total_purchases', 'total_orders_cost']]\n",
    "df_RFM.head()"
   ]
  },
  {
   "cell_type": "markdown",
   "id": "6cf66743",
   "metadata": {},
   "source": [
    "### RFM-сегментация"
   ]
  },
  {
   "cell_type": "markdown",
   "id": "491d5ccb",
   "metadata": {},
   "source": [
    "Сначала посмотрим, что у нас с распределениями. Для дней и сумм пострим графики, а для количества покупок просто посмотрим количество значений"
   ]
  },
  {
   "cell_type": "code",
   "execution_count": 160,
   "id": "32e440cc",
   "metadata": {},
   "outputs": [
    {
     "data": {
      "text/plain": [
       "<Axes: xlabel='days_until_now', ylabel='Count'>"
      ]
     },
     "execution_count": 160,
     "metadata": {},
     "output_type": "execute_result"
    },
    {
     "data": {
      "image/png": "[encoded data removed]",
      "text/plain": [
       "<Figure size 1600x800 with 1 Axes>"
      ]
     },
     "metadata": {},
     "output_type": "display_data"
    }
   ],
   "source": [
    "sns.histplot(data=df_RFM, x='days_until_now')"
   ]
  },
  {
   "cell_type": "code",
   "execution_count": 161,
   "id": "1688641f",
   "metadata": {},
   "outputs": [
    {
     "data": {
      "text/plain": [
       "<Axes: xlabel='total_orders_cost', ylabel='Count'>"
      ]
     },
     "execution_count": 161,
     "metadata": {},
     "output_type": "execute_result"
    },
    {
     "data": {
      "image/png": "[encoded data removed]",
      "text/plain": [
       "<Figure size 1600x800 with 1 Axes>"
      ]
     },
     "metadata": {},
     "output_type": "display_data"
    }
   ],
   "source": [
    "sns.histplot(data=df_RFM, x='total_orders_cost')"
   ]
  },
  {
   "cell_type": "markdown",
   "id": "44902248",
   "metadata": {},
   "source": [
    "Посмотрим левую часть графика в большем разрешении"
   ]
  },
  {
   "cell_type": "code",
   "execution_count": 162,
   "id": "e031ffe5",
   "metadata": {},
   "outputs": [
    {
     "data": {
      "text/plain": [
       "<Axes: xlabel='total_orders_cost', ylabel='Count'>"
      ]
     },
     "execution_count": 162,
     "metadata": {},
     "output_type": "execute_result"
    },
    {
     "data": {
      "image/png": "[encoded data removed]",
      "text/plain": [
       "<Figure size 1600x800 with 1 Axes>"
      ]
     },
     "metadata": {},
     "output_type": "display_data"
    }
   ],
   "source": [
    "sns.histplot(data=df_RFM[df_RFM.total_orders_cost < 1000], x='total_orders_cost')"
   ]
  },
  {
   "cell_type": "code",
   "execution_count": 163,
   "id": "3e887a01",
   "metadata": {},
   "outputs": [
    {
     "data": {
      "text/plain": [
       "total_purchases\n",
       "1     92507\n",
       "2      2673\n",
       "3       192\n",
       "4        29\n",
       "5         9\n",
       "6         5\n",
       "7         3\n",
       "9         1\n",
       "16        1\n",
       "Name: count, dtype: int64"
      ]
     },
     "execution_count": 163,
     "metadata": {},
     "output_type": "execute_result"
    }
   ],
   "source": [
    "df_RFM.total_purchases.value_counts()"
   ]
  },
  {
   "cell_type": "markdown",
   "id": "182137d0",
   "metadata": {},
   "source": [
    "#### Предварительные выводы\n",
    "- Подавляющее число людей заказали у нас только один раз\n",
    "- Очень сильное смещение влево по сумме заказов\n",
    "- Очень много людей, которые не заказывали у нас 100 дней и более"
   ]
  },
  {
   "cell_type": "markdown",
   "id": "d63b3139",
   "metadata": {},
   "source": [
    "Я принял решение ранжировать сегменты от **1 до 4**. Чтобы определиться с их границами, сначала посмотрим на квантили"
   ]
  },
  {
   "cell_type": "code",
   "execution_count": 164,
   "id": "bf190e3e",
   "metadata": {
    "scrolled": true
   },
   "outputs": [
    {
     "data": {
      "text/html": [
       "<div>\n",
       "<style scoped>\n",
       "    .dataframe tbody tr th:only-of-type {\n",
       "        vertical-align: middle;\n",
       "    }\n",
       "\n",
       "    .dataframe tbody tr th {\n",
       "        vertical-align: top;\n",
       "    }\n",
       "\n",
       "    .dataframe thead th {\n",
       "        text-align: right;\n",
       "    }\n",
       "</style>\n",
       "<table border=\"1\" class=\"dataframe\">\n",
       "  <thead>\n",
       "    <tr style=\"text-align: right;\">\n",
       "      <th></th>\n",
       "      <th>days_until_now</th>\n",
       "      <th>total_purchases</th>\n",
       "      <th>total_orders_cost</th>\n",
       "    </tr>\n",
       "  </thead>\n",
       "  <tbody>\n",
       "    <tr>\n",
       "      <th>count</th>\n",
       "      <td>95420.000000</td>\n",
       "      <td>95420.000000</td>\n",
       "      <td>95420.000000</td>\n",
       "    </tr>\n",
       "    <tr>\n",
       "      <th>mean</th>\n",
       "      <td>249.600377</td>\n",
       "      <td>1.034018</td>\n",
       "      <td>142.440198</td>\n",
       "    </tr>\n",
       "    <tr>\n",
       "      <th>std</th>\n",
       "      <td>153.160320</td>\n",
       "      <td>0.211234</td>\n",
       "      <td>217.656355</td>\n",
       "    </tr>\n",
       "    <tr>\n",
       "      <th>min</th>\n",
       "      <td>7.000000</td>\n",
       "      <td>1.000000</td>\n",
       "      <td>0.850000</td>\n",
       "    </tr>\n",
       "    <tr>\n",
       "      <th>25%</th>\n",
       "      <td>125.000000</td>\n",
       "      <td>1.000000</td>\n",
       "      <td>47.900000</td>\n",
       "    </tr>\n",
       "    <tr>\n",
       "      <th>50%</th>\n",
       "      <td>230.000000</td>\n",
       "      <td>1.000000</td>\n",
       "      <td>89.900000</td>\n",
       "    </tr>\n",
       "    <tr>\n",
       "      <th>75%</th>\n",
       "      <td>359.000000</td>\n",
       "      <td>1.000000</td>\n",
       "      <td>155.000000</td>\n",
       "    </tr>\n",
       "    <tr>\n",
       "      <th>90%</th>\n",
       "      <td>478.000000</td>\n",
       "      <td>1.000000</td>\n",
       "      <td>284.000000</td>\n",
       "    </tr>\n",
       "    <tr>\n",
       "      <th>95%</th>\n",
       "      <td>532.000000</td>\n",
       "      <td>1.000000</td>\n",
       "      <td>422.000000</td>\n",
       "    </tr>\n",
       "    <tr>\n",
       "      <th>max</th>\n",
       "      <td>735.000000</td>\n",
       "      <td>16.000000</td>\n",
       "      <td>13440.000000</td>\n",
       "    </tr>\n",
       "  </tbody>\n",
       "</table>\n",
       "</div>"
      ],
      "text/plain": [
       "       days_until_now  total_purchases  total_orders_cost\n",
       "count    95420.000000     95420.000000       95420.000000\n",
       "mean       249.600377         1.034018         142.440198\n",
       "std        153.160320         0.211234         217.656355\n",
       "min          7.000000         1.000000           0.850000\n",
       "25%        125.000000         1.000000          47.900000\n",
       "50%        230.000000         1.000000          89.900000\n",
       "75%        359.000000         1.000000         155.000000\n",
       "90%        478.000000         1.000000         284.000000\n",
       "95%        532.000000         1.000000         422.000000\n",
       "max        735.000000        16.000000       13440.000000"
      ]
     },
     "execution_count": 164,
     "metadata": {},
     "output_type": "execute_result"
    }
   ],
   "source": [
    "df_RFM.describe(percentiles=[.25, .5, .75, .9, .95])"
   ]
  },
  {
   "cell_type": "markdown",
   "id": "976caa55",
   "metadata": {},
   "source": [
    "Увы, но просто разделить сегменты на эти процентили будет не самой лучшее идеей — все наши данные сильно смещены. Поэтому я буду  задавать границы вручную, частично опираясь на квантили, частично — на здравый смысл"
   ]
  },
  {
   "cell_type": "markdown",
   "id": "d2785e7a",
   "metadata": {},
   "source": [
    "#### Recency\n",
    "Чем меньше дней, тем выше оценка. Здесь я буду ранжировать юзеров по степени «теплоты». Медиана у нас 230 дней и я считаю, что это очень большой срок. Поэтому пользователей, которые не заказывали ничего позже это срока, можно смело считать «холодными». Остальных будем считать в разной степени активными.\n",
    "- **1** или *холодные* — позже 230 дня\n",
    "- **2** или *остывшие* — 128-230 дней\n",
    "- **3** или *тёплые* — 38-127 дней\n",
    "- **4** или *горячие* — 7-37 день\n",
    "#### Frequency\n",
    "У нас очень мало людей, которые заказали больше 4 заказов, поэтому имеет смысл объединить их всех в один сегмент — постоянные. Ситуация настолько плачевная, что для нашей площадки юзер с 3 заказами уже считается частым покупателем. Итого:\n",
    "- **1** или *разовые* — 1 заказ\n",
    "- **2** или *редкие* — 2 заказа\n",
    "- **3** или *частые* — 3 заказа\n",
    "- **4** или *постоянные* — 4 и более заказов\n",
    "#### Monetary\n",
    "Здесь я полностью доверюсь перцентилям и все границы буду строить по ним. У нас очень сильная разница между медианой и максимальным значением, поэтому я включу в самый топ только 5% юзеров. Остальных разделим по 25 и 75 перцентилям\n",
    "- **1** или *эконом* — 25 перцентиль и ниже\n",
    "- **2** или *средние* — между 25 и 75 перцентилями\n",
    "- **3** или *прибыльные* — между 75 и 95 перцентилями\n",
    "- **4** или *топ* — выше 95 перцентиля"
   ]
  },
  {
   "cell_type": "code",
   "execution_count": 165,
   "id": "b97a862c",
   "metadata": {},
   "outputs": [],
   "source": [
    "r_bins_borders = [7, 37, 127, 230, 735]\n",
    "r_range_names = [4, 3, 2, 1]\n",
    "\n",
    "df_RFM['R'] = pd.cut(df_RFM.days_until_now, bins=r_bins_borders, labels=r_range_names, include_lowest=True)"
   ]
  },
  {
   "cell_type": "code",
   "execution_count": 166,
   "id": "7861b182",
   "metadata": {},
   "outputs": [],
   "source": [
    "f_bins_borders = [0, 1, 2, 3, 16]\n",
    "f_range_names = [1, 2, 3, 4]\n",
    "\n",
    "df_RFM['F'] = pd.cut(df_RFM.total_purchases, bins=f_bins_borders, labels=f_range_names)"
   ]
  },
  {
   "cell_type": "code",
   "execution_count": 167,
   "id": "d2fc57f1",
   "metadata": {},
   "outputs": [],
   "source": [
    "m_bins_borders = [0, .25, .75, .95, 1.]\n",
    "m_range_names = [1, 2, 3, 4]\n",
    "\n",
    "df_RFM['M'] = pd.qcut(df_RFM.total_orders_cost, q=m_bins_borders, labels=m_range_names)"
   ]
  },
  {
   "cell_type": "markdown",
   "id": "3bfdf52a",
   "metadata": {},
   "source": [
    "Теперь склеим эти 3 колонки в единый столбец RFM"
   ]
  },
  {
   "cell_type": "code",
   "execution_count": 168,
   "id": "17e1b83e",
   "metadata": {
    "scrolled": true
   },
   "outputs": [
    {
     "data": {
      "text/html": [
       "<div>\n",
       "<style scoped>\n",
       "    .dataframe tbody tr th:only-of-type {\n",
       "        vertical-align: middle;\n",
       "    }\n",
       "\n",
       "    .dataframe tbody tr th {\n",
       "        vertical-align: top;\n",
       "    }\n",
       "\n",
       "    .dataframe thead th {\n",
       "        text-align: right;\n",
       "    }\n",
       "</style>\n",
       "<table border=\"1\" class=\"dataframe\">\n",
       "  <thead>\n",
       "    <tr style=\"text-align: right;\">\n",
       "      <th></th>\n",
       "      <th>customer_unique_id</th>\n",
       "      <th>days_until_now</th>\n",
       "      <th>total_purchases</th>\n",
       "      <th>total_orders_cost</th>\n",
       "      <th>R</th>\n",
       "      <th>F</th>\n",
       "      <th>M</th>\n",
       "      <th>RFM</th>\n",
       "    </tr>\n",
       "  </thead>\n",
       "  <tbody>\n",
       "    <tr>\n",
       "      <th>64971</th>\n",
       "      <td>ae0b2ed66af9ee82a19ef3b6a3cf4e7c</td>\n",
       "      <td>535</td>\n",
       "      <td>1</td>\n",
       "      <td>34.90</td>\n",
       "      <td>1</td>\n",
       "      <td>1</td>\n",
       "      <td>1</td>\n",
       "      <td>111</td>\n",
       "    </tr>\n",
       "    <tr>\n",
       "      <th>82155</th>\n",
       "      <td>dc1bf16a84985a395cee96f5b0f5e8cb</td>\n",
       "      <td>468</td>\n",
       "      <td>1</td>\n",
       "      <td>28.90</td>\n",
       "      <td>1</td>\n",
       "      <td>1</td>\n",
       "      <td>1</td>\n",
       "      <td>111</td>\n",
       "    </tr>\n",
       "    <tr>\n",
       "      <th>82153</th>\n",
       "      <td>dc1b629b3f763ed6e6dab8750e9fe36c</td>\n",
       "      <td>249</td>\n",
       "      <td>1</td>\n",
       "      <td>12.90</td>\n",
       "      <td>1</td>\n",
       "      <td>1</td>\n",
       "      <td>1</td>\n",
       "      <td>111</td>\n",
       "    </tr>\n",
       "    <tr>\n",
       "      <th>32591</th>\n",
       "      <td>573605dc73227f843b291cd789a45d03</td>\n",
       "      <td>405</td>\n",
       "      <td>1</td>\n",
       "      <td>25.90</td>\n",
       "      <td>1</td>\n",
       "      <td>1</td>\n",
       "      <td>1</td>\n",
       "      <td>111</td>\n",
       "    </tr>\n",
       "    <tr>\n",
       "      <th>60203</th>\n",
       "      <td>a164f7d409a620e8c44001fae19c527e</td>\n",
       "      <td>342</td>\n",
       "      <td>1</td>\n",
       "      <td>45.00</td>\n",
       "      <td>1</td>\n",
       "      <td>1</td>\n",
       "      <td>1</td>\n",
       "      <td>111</td>\n",
       "    </tr>\n",
       "    <tr>\n",
       "      <th>...</th>\n",
       "      <td>...</td>\n",
       "      <td>...</td>\n",
       "      <td>...</td>\n",
       "      <td>...</td>\n",
       "      <td>...</td>\n",
       "      <td>...</td>\n",
       "      <td>...</td>\n",
       "      <td>...</td>\n",
       "    </tr>\n",
       "    <tr>\n",
       "      <th>52597</th>\n",
       "      <td>8d50f5eadf50201ccdcedfb9e2ac8455</td>\n",
       "      <td>20</td>\n",
       "      <td>16</td>\n",
       "      <td>729.62</td>\n",
       "      <td>4</td>\n",
       "      <td>4</td>\n",
       "      <td>4</td>\n",
       "      <td>444</td>\n",
       "    </tr>\n",
       "    <tr>\n",
       "      <th>74752</th>\n",
       "      <td>c8460e4251689ba205045f3ea17884a1</td>\n",
       "      <td>32</td>\n",
       "      <td>4</td>\n",
       "      <td>4080.00</td>\n",
       "      <td>4</td>\n",
       "      <td>4</td>\n",
       "      <td>4</td>\n",
       "      <td>444</td>\n",
       "    </tr>\n",
       "    <tr>\n",
       "      <th>21432</th>\n",
       "      <td>394ac4de8f3acb14253c177f0e15bc58</td>\n",
       "      <td>25</td>\n",
       "      <td>5</td>\n",
       "      <td>633.16</td>\n",
       "      <td>4</td>\n",
       "      <td>4</td>\n",
       "      <td>4</td>\n",
       "      <td>444</td>\n",
       "    </tr>\n",
       "    <tr>\n",
       "      <th>82305</th>\n",
       "      <td>dc813062e0fc23409cd255f7f53c7074</td>\n",
       "      <td>18</td>\n",
       "      <td>6</td>\n",
       "      <td>687.76</td>\n",
       "      <td>4</td>\n",
       "      <td>4</td>\n",
       "      <td>4</td>\n",
       "      <td>444</td>\n",
       "    </tr>\n",
       "    <tr>\n",
       "      <th>29774</th>\n",
       "      <td>4facc2e6fbc2bffab2fea92d2b4aa7e4</td>\n",
       "      <td>27</td>\n",
       "      <td>4</td>\n",
       "      <td>1686.90</td>\n",
       "      <td>4</td>\n",
       "      <td>4</td>\n",
       "      <td>4</td>\n",
       "      <td>444</td>\n",
       "    </tr>\n",
       "  </tbody>\n",
       "</table>\n",
       "<p>95420 rows × 8 columns</p>\n",
       "</div>"
      ],
      "text/plain": [
       "                     customer_unique_id  days_until_now  total_purchases  \\\n",
       "64971  ae0b2ed66af9ee82a19ef3b6a3cf4e7c             535                1   \n",
       "82155  dc1bf16a84985a395cee96f5b0f5e8cb             468                1   \n",
       "82153  dc1b629b3f763ed6e6dab8750e9fe36c             249                1   \n",
       "32591  573605dc73227f843b291cd789a45d03             405                1   \n",
       "60203  a164f7d409a620e8c44001fae19c527e             342                1   \n",
       "...                                 ...             ...              ...   \n",
       "52597  8d50f5eadf50201ccdcedfb9e2ac8455              20               16   \n",
       "74752  c8460e4251689ba205045f3ea17884a1              32                4   \n",
       "21432  394ac4de8f3acb14253c177f0e15bc58              25                5   \n",
       "82305  dc813062e0fc23409cd255f7f53c7074              18                6   \n",
       "29774  4facc2e6fbc2bffab2fea92d2b4aa7e4              27                4   \n",
       "\n",
       "       total_orders_cost  R  F  M  RFM  \n",
       "64971              34.90  1  1  1  111  \n",
       "82155              28.90  1  1  1  111  \n",
       "82153              12.90  1  1  1  111  \n",
       "32591              25.90  1  1  1  111  \n",
       "60203              45.00  1  1  1  111  \n",
       "...                  ... .. .. ..  ...  \n",
       "52597             729.62  4  4  4  444  \n",
       "74752            4080.00  4  4  4  444  \n",
       "21432             633.16  4  4  4  444  \n",
       "82305             687.76  4  4  4  444  \n",
       "29774            1686.90  4  4  4  444  \n",
       "\n",
       "[95420 rows x 8 columns]"
      ]
     },
     "execution_count": 168,
     "metadata": {},
     "output_type": "execute_result"
    }
   ],
   "source": [
    "df_RFM['RFM'] = df_RFM['R'].astype(str) + df_RFM['F'].astype(str) + df_RFM['M'].astype(str)\n",
    "df_RFM.sort_values(by='RFM')"
   ]
  },
  {
   "cell_type": "code",
   "execution_count": 169,
   "id": "eef0f30f",
   "metadata": {},
   "outputs": [
    {
     "data": {
      "text/plain": [
       "55"
      ]
     },
     "execution_count": 169,
     "metadata": {},
     "output_type": "execute_result"
    }
   ],
   "source": [
    "df_RFM.RFM.nunique()"
   ]
  },
  {
   "cell_type": "markdown",
   "id": "b1dd2e63",
   "metadata": {},
   "source": [
    "### RM-анализ\n",
    "У нас вышло 55 сегментов. поэтому нужно упростить себе жизнь и уменьшить количество категорий. Я сделаю это с помощью RM-анализа. Как мы выяснили в 5 задании, Retention у нас очень низкий + у нас подавляющее большинство юзеров сделали всего 1 заказ, поэтому с F-сегментом нам ловить особо нечего. Однако мы можем посмотреть на наших пользователей и понять, кто из них приносит нам больше всего денег\n",
    "#### Сегменты\n",
    "Уменьшаем до 6. Меры, которые я предлагаю, носят исключительно иллюстративный характер и вполне могут отличаться от реальных решений маркетологов\n",
    "- 44, 43, 34, 34 — *Лучшие покупатели*. Удерживать любой ценой, одаривать акциями, персональными скидками и прочими плюшками\n",
    "- 24, 14 — *Вернуть любой ценой*. Пользователи, которые когда-то очень много тратили, поэтому стоит регуляно бомбить их рассылками с персональными предложениями или даже прозванивать\n",
    "- 23, 13, 22 — *Напомнить о себе*. Нужны рассылки со стандартными акциями и скидками\n",
    "- 42, 32 — *Поднять Retention*. Пока ребята тёплые, нужны механики, которые будут стимулировать систематические заказы\n",
    "- 41, 31 — *Увеличить средний чек*. Не особо денежные юзеры, которых неплохо бы обработать акциями в стиле 1+1=3\n",
    "- 12, 21, 11 — *Нет потенциала*. Нет смысла тратить какие-то ресурсы, чтобы вернуть этих пользователей"
   ]
  },
  {
   "cell_type": "markdown",
   "id": "4773edc6",
   "metadata": {},
   "source": [
    "Теперь нужно раскидать по юзерам эти сегменты. Для лаконичности записи используем регулярные выражения"
   ]
  },
  {
   "cell_type": "code",
   "execution_count": 170,
   "id": "63c1aebc",
   "metadata": {},
   "outputs": [
    {
     "data": {
      "text/html": [
       "<div>\n",
       "<style scoped>\n",
       "    .dataframe tbody tr th:only-of-type {\n",
       "        vertical-align: middle;\n",
       "    }\n",
       "\n",
       "    .dataframe tbody tr th {\n",
       "        vertical-align: top;\n",
       "    }\n",
       "\n",
       "    .dataframe thead th {\n",
       "        text-align: right;\n",
       "    }\n",
       "</style>\n",
       "<table border=\"1\" class=\"dataframe\">\n",
       "  <thead>\n",
       "    <tr style=\"text-align: right;\">\n",
       "      <th></th>\n",
       "      <th>customer_unique_id</th>\n",
       "      <th>days_until_now</th>\n",
       "      <th>total_purchases</th>\n",
       "      <th>total_orders_cost</th>\n",
       "      <th>R</th>\n",
       "      <th>F</th>\n",
       "      <th>M</th>\n",
       "      <th>RFM</th>\n",
       "      <th>RM_segment</th>\n",
       "    </tr>\n",
       "  </thead>\n",
       "  <tbody>\n",
       "    <tr>\n",
       "      <th>0</th>\n",
       "      <td>0000366f3b9a7992bf8c76cfdf3221e2</td>\n",
       "      <td>122</td>\n",
       "      <td>1</td>\n",
       "      <td>129.90</td>\n",
       "      <td>3</td>\n",
       "      <td>1</td>\n",
       "      <td>2</td>\n",
       "      <td>312</td>\n",
       "      <td>Поднять Retention</td>\n",
       "    </tr>\n",
       "    <tr>\n",
       "      <th>1</th>\n",
       "      <td>0000b849f77a49e4a4ce2b2a4ca5be3f</td>\n",
       "      <td>125</td>\n",
       "      <td>1</td>\n",
       "      <td>18.90</td>\n",
       "      <td>3</td>\n",
       "      <td>1</td>\n",
       "      <td>1</td>\n",
       "      <td>311</td>\n",
       "      <td>Увеличить средний чек</td>\n",
       "    </tr>\n",
       "    <tr>\n",
       "      <th>2</th>\n",
       "      <td>0000f46a3911fa3c0805444483337064</td>\n",
       "      <td>548</td>\n",
       "      <td>1</td>\n",
       "      <td>69.00</td>\n",
       "      <td>1</td>\n",
       "      <td>1</td>\n",
       "      <td>2</td>\n",
       "      <td>112</td>\n",
       "      <td>Нет потенциала</td>\n",
       "    </tr>\n",
       "    <tr>\n",
       "      <th>3</th>\n",
       "      <td>0000f6ccb0745a6a4b88665a16c9f078</td>\n",
       "      <td>332</td>\n",
       "      <td>1</td>\n",
       "      <td>25.99</td>\n",
       "      <td>1</td>\n",
       "      <td>1</td>\n",
       "      <td>1</td>\n",
       "      <td>111</td>\n",
       "      <td>Нет потенциала</td>\n",
       "    </tr>\n",
       "    <tr>\n",
       "      <th>4</th>\n",
       "      <td>0004aac84e0df4da2b147fca70cf8255</td>\n",
       "      <td>299</td>\n",
       "      <td>1</td>\n",
       "      <td>180.00</td>\n",
       "      <td>1</td>\n",
       "      <td>1</td>\n",
       "      <td>3</td>\n",
       "      <td>113</td>\n",
       "      <td>Напомнить о себе</td>\n",
       "    </tr>\n",
       "  </tbody>\n",
       "</table>\n",
       "</div>"
      ],
      "text/plain": [
       "                 customer_unique_id  days_until_now  total_purchases  \\\n",
       "0  0000366f3b9a7992bf8c76cfdf3221e2             122                1   \n",
       "1  0000b849f77a49e4a4ce2b2a4ca5be3f             125                1   \n",
       "2  0000f46a3911fa3c0805444483337064             548                1   \n",
       "3  0000f6ccb0745a6a4b88665a16c9f078             332                1   \n",
       "4  0004aac84e0df4da2b147fca70cf8255             299                1   \n",
       "\n",
       "   total_orders_cost  R  F  M  RFM             RM_segment  \n",
       "0             129.90  3  1  2  312      Поднять Retention  \n",
       "1              18.90  3  1  1  311  Увеличить средний чек  \n",
       "2              69.00  1  1  2  112         Нет потенциала  \n",
       "3              25.99  1  1  1  111         Нет потенциала  \n",
       "4             180.00  1  1  3  113       Напомнить о себе  "
      ]
     },
     "execution_count": 170,
     "metadata": {},
     "output_type": "execute_result"
    }
   ],
   "source": [
    "segments = {\n",
    "    r'[3-4]\\d[3-4]': 'Лучшие покупатели',\n",
    "    r'[1-2]\\d4': 'Вернуть любой ценой',\n",
    "    r'[1-2]\\d3': 'Напомнить о себе',\n",
    "    r'2\\d2': 'Напомнить о себе',\n",
    "    r'[3-4]\\d2': 'Поднять Retention',\n",
    "    r'[3-4]\\d1': 'Увеличить средний чек',\n",
    "    r'[1-2]\\d1': 'Нет потенциала',\n",
    "    r'1\\d2': 'Нет потенциала'\n",
    "}\n",
    "\n",
    "df_RFM['RM_segment'] = df_RFM['RFM'].replace(segments, regex=True)\n",
    "df_RFM.head()"
   ]
  },
  {
   "cell_type": "markdown",
   "id": "7f6f107a",
   "metadata": {},
   "source": [
    "Визуализируем наши сегменты с помощью древовидной диаграммы. Цвет будет зависеть от среднего значения сегмента по `total_orders_cost`"
   ]
  },
  {
   "cell_type": "code",
   "execution_count": 171,
   "id": "bcc0bf71",
   "metadata": {
    "scrolled": false
   },
   "outputs": [
    {
     "data": {
      "image/svg+xml": [
       "<svg class=\"main-svg\" xmlns=\"http://www.w3.org/2000/svg\" xmlns:xlink=\"http://www.w3.org/1999/xlink\" width=\"900\" height=\"600\" style=\"\" viewBox=\"0 0 900 600\"><rect x=\"0\" y=\"0\" width=\"900\" height=\"600\" style=\"fill: rgb(255, 255, 255); fill-opacity: 1;\"/><defs id=\"defs-a4659d\"><g class=\"clips\"/><g class=\"gradients\"><linearGradient x1=\"0\" y1=\"1\" x2=\"0\" y2=\"0\" gradientUnits=\"objectBoundingBox\" id=\"ga4659d-cbcoloraxis\"><stop offset=\"0%\" stop-color=\"rgb(94, 79, 162)\" stop-opacity=\"1\"/><stop offset=\"10%\" stop-color=\"rgb(50, 136, 189)\" stop-opacity=\"1\"/><stop offset=\"20%\" stop-color=\"rgb(102, 194, 165)\" stop-opacity=\"1\"/><stop offset=\"30%\" stop-color=\"rgb(171, 221, 164)\" stop-opacity=\"1\"/><stop offset=\"40%\" stop-color=\"rgb(230, 245, 152)\" stop-opacity=\"1\"/><stop offset=\"50%\" stop-color=\"rgb(255, 255, 191)\" stop-opacity=\"1\"/><stop offset=\"60%\" stop-color=\"rgb(254, 224, 139)\" stop-opacity=\"1\"/><stop offset=\"70%\" stop-color=\"rgb(253, 174, 97)\" stop-opacity=\"1\"/><stop offset=\"80%\" stop-color=\"rgb(244, 109, 67)\" stop-opacity=\"1\"/><stop offset=\"90%\" stop-color=\"rgb(213, 62, 79)\" stop-opacity=\"1\"/><stop offset=\"100%\" stop-color=\"rgb(158, 1, 66)\" stop-opacity=\"1\"/></linearGradient></g><g class=\"patterns\"/></defs><g class=\"bglayer\"/><g class=\"layer-below\"><g class=\"imagelayer\"/><g class=\"shapelayer\"/></g><g class=\"cartesianlayer\"/><g class=\"polarlayer\"/><g class=\"smithlayer\"/><g class=\"ternarylayer\"/><g class=\"geolayer\"/><g class=\"funnelarealayer\"/><g class=\"pielayer\"/><g class=\"iciclelayer\"/><g class=\"treemaplayer\"><g class=\"trace treemap\" style=\"opacity: 1;\"><g class=\"slice cursor-pointer\"><path class=\"surface\" d=\"M80,60L732,60L732,520L80,520Z\" style=\"pointer-events: none; stroke-width: 1; fill: rgb(88, 178, 172); fill-opacity: 1; stroke: rgb(255, 255, 255); stroke-opacity: 1; opacity: 1;\"/><g class=\"slicetext\"><text data-notex=\"1\" class=\"slicetext\" text-anchor=\"start\" x=\"0\" y=\"0\" style=\"font-family: 'Open Sans', verdana, arial, sans-serif; font-size: 12px; fill: rgb(68, 68, 68); fill-opacity: 1; white-space: pre;\" transform=\"translate(86,75)\">RM_segment</text></g></g><g class=\"slice cursor-pointer\"><path class=\"surface\" d=\"M86,84L364.1423496122406,84L364.1423496122406,514L86,514Z\" style=\"pointer-events: none; stroke-width: 1; fill: rgb(60, 123, 183); fill-opacity: 1; stroke: rgb(255, 255, 255); stroke-opacity: 1; opacity: 1;\"/><g class=\"slicetext\"><text data-notex=\"1\" class=\"slicetext\" text-anchor=\"start\" x=\"0\" y=\"0\" style=\"font-family: 'Open Sans', verdana, arial, sans-serif; font-size: 12px; fill: rgb(255, 255, 255); fill-opacity: 1; white-space: pre;\" transform=\"translate(89,99)\"><tspan class=\"line\" dy=\"0em\" x=\"0\" y=\"0\">Нет потенциала</tspan><tspan class=\"line\" dy=\"1.3em\" x=\"0\" y=\"0\">44%</tspan></text></g></g><g class=\"slice cursor-pointer\"><path class=\"surface\" d=\"M367.1423496122406,84L726,84L726,290.06145365835494L367.1423496122406,290.06145365835494Z\" style=\"pointer-events: none; stroke-width: 1; fill: rgb(109, 197, 165); fill-opacity: 1; stroke: rgb(255, 255, 255); stroke-opacity: 1; opacity: 1;\"/><g class=\"slicetext\"><text data-notex=\"1\" class=\"slicetext\" text-anchor=\"start\" x=\"0\" y=\"0\" style=\"font-family: 'Open Sans', verdana, arial, sans-serif; font-size: 12px; fill: rgb(68, 68, 68); fill-opacity: 1; white-space: pre;\" transform=\"translate(370.1423496122406,99)\"><tspan class=\"line\" dy=\"0em\" x=\"0\" y=\"0\">Напомнить о себе</tspan><tspan class=\"line\" dy=\"1.3em\" x=\"0\" y=\"0\">27%</tspan></text></g></g><g class=\"slice cursor-pointer\"><path class=\"surface\" d=\"M367.1423496122406,293.06145365835494L521.8654829099443,293.06145365835494L521.8654829099443,514L367.1423496122406,514Z\" style=\"pointer-events: none; stroke-width: 1; fill: rgb(57, 143, 186); fill-opacity: 1; stroke: rgb(255, 255, 255); stroke-opacity: 1; opacity: 1;\"/><g class=\"slicetext\"><text data-notex=\"1\" class=\"slicetext\" text-anchor=\"start\" x=\"0\" y=\"0\" style=\"font-family: 'Open Sans', verdana, arial, sans-serif; font-size: 12px; fill: rgb(255, 255, 255); fill-opacity: 1; white-space: pre;\" transform=\"translate(370.1423496122406,308.06145365835494)\"><tspan class=\"line\" dy=\"0em\" x=\"0\" y=\"0\">Поднять Retention</tspan><tspan class=\"line\" dy=\"1.3em\" x=\"0\" y=\"0\">13%</tspan></text></g></g><g class=\"slice cursor-pointer\"><path class=\"surface\" d=\"M524.8654829099443,293.06145365835494L624.1003671053992,293.06145365835494L624.1003671053992,464.12947033982255L524.8654829099443,464.12947033982255Z\" style=\"pointer-events: none; stroke-width: 1; fill: rgb(78, 99, 172); fill-opacity: 1; stroke: rgb(255, 255, 255); stroke-opacity: 1; opacity: 1;\"/><g class=\"slicetext\"><text data-notex=\"1\" class=\"slicetext\" text-anchor=\"start\" x=\"0\" y=\"0\" style=\"font-family: 'Open Sans', verdana, arial, sans-serif; font-size: 12px; fill: rgb(255, 255, 255); fill-opacity: 1; white-space: pre;\" transform=\"translate(527.8654829099443,303.72377479929764)scale(0.6385267617452237)\"><tspan class=\"line\" dy=\"0em\" x=\"0\" y=\"0\">Увеличить средний чек</tspan><tspan class=\"line\" dy=\"1.3em\" x=\"0\" y=\"0\">6%</tspan></text></g></g><g class=\"slice cursor-pointer\"><path class=\"surface\" d=\"M627.1003671053992,293.06145365835494L726,293.06145365835494L726,464.12947033982255L627.1003671053992,464.12947033982255Z\" style=\"pointer-events: none; stroke-width: 1; fill: rgb(241, 249, 169); fill-opacity: 1; stroke: rgb(255, 255, 255); stroke-opacity: 1; opacity: 1;\"/><g class=\"slicetext\"><text data-notex=\"1\" class=\"slicetext\" text-anchor=\"start\" x=\"0\" y=\"0\" style=\"font-family: 'Open Sans', verdana, arial, sans-serif; font-size: 12px; fill: rgb(68, 68, 68); fill-opacity: 1; white-space: pre;\" transform=\"translate(630.1003671053992,304.9820485649633)scale(0.7433829088840275)\"><tspan class=\"line\" dy=\"0em\" x=\"0\" y=\"0\">Лучшие покупатели</tspan><tspan class=\"line\" dy=\"1.3em\" x=\"0\" y=\"0\">6%</tspan></text></g></g><g class=\"slice cursor-pointer\"><path class=\"surface\" d=\"M524.8654829099443,467.12947033982255L726,467.12947033982255L726,514L524.8654829099443,514Z\" style=\"pointer-events: none; stroke-width: 1; fill: rgb(158, 1, 66); fill-opacity: 1; stroke: rgb(255, 255, 255); stroke-opacity: 1; opacity: 1;\"/><g class=\"slicetext\"><text data-notex=\"1\" class=\"slicetext\" text-anchor=\"start\" x=\"0\" y=\"0\" style=\"font-family: 'Open Sans', verdana, arial, sans-serif; font-size: 12px; fill: rgb(255, 255, 255); fill-opacity: 1; white-space: pre;\" transform=\"translate(527.8654829099443,482.12947033982255)\"><tspan class=\"line\" dy=\"0em\" x=\"0\" y=\"0\">Вернуть любой ценой</tspan><tspan class=\"line\" dy=\"1.3em\" x=\"0\" y=\"0\">4%</tspan></text></g></g></g></g><g class=\"sunburstlayer\"/><g class=\"glimages\"/><defs id=\"topdefs-a4659d\"><g class=\"clips\"/></defs><g class=\"layer-above\"><g class=\"imagelayer\"/><g class=\"shapelayer\"/></g><g class=\"infolayer\"><g class=\"cbcoloraxis colorbar\" transform=\"translate(80,60)\"><rect class=\"cbbg\" x=\"665\" y=\"0\" width=\"143.03125\" height=\"460\" style=\"fill: rgb(0, 0, 0); fill-opacity: 0; stroke: rgb(68, 68, 68); stroke-opacity: 1; stroke-width: 0;\"/><g class=\"cbfills\" transform=\"translate(0,32)\"><rect class=\"cbfill gradient_filled\" style=\"fill: url('#ga4659d-cbcoloraxis');\" x=\"675\" y=\"0\" width=\"30\" height=\"418\"/></g><g class=\"cblines\" transform=\"translate(0,32)\"/><g class=\"cbaxis crisp\" transform=\"translate(0,-60)\"><g class=\"ycbcoloraxistick\"><text text-anchor=\"start\" x=\"707.9\" y=\"4.199999999999999\" transform=\"translate(0,510)\" style=\"font-family: 'Open Sans', verdana, arial, sans-serif; font-size: 12px; fill: rgb(42, 63, 95); fill-opacity: 1; white-space: pre; opacity: 1;\">0</text></g><g class=\"ycbcoloraxistick\"><text text-anchor=\"start\" x=\"707.9\" y=\"4.199999999999999\" style=\"font-family: 'Open Sans', verdana, arial, sans-serif; font-size: 12px; fill: rgb(42, 63, 95); fill-opacity: 1; white-space: pre; opacity: 1;\" transform=\"translate(0,459.31000000000006)\">100</text></g><g class=\"ycbcoloraxistick\"><text text-anchor=\"start\" x=\"707.9\" y=\"4.199999999999999\" style=\"font-family: 'Open Sans', verdana, arial, sans-serif; font-size: 12px; fill: rgb(42, 63, 95); fill-opacity: 1; white-space: pre; opacity: 1;\" transform=\"translate(0,408.62)\">200</text></g><g class=\"ycbcoloraxistick\"><text text-anchor=\"start\" x=\"707.9\" y=\"4.199999999999999\" style=\"font-family: 'Open Sans', verdana, arial, sans-serif; font-size: 12px; fill: rgb(42, 63, 95); fill-opacity: 1; white-space: pre; opacity: 1;\" transform=\"translate(0,357.93000000000006)\">300</text></g><g class=\"ycbcoloraxistick\"><text text-anchor=\"start\" x=\"707.9\" y=\"4.199999999999999\" style=\"font-family: 'Open Sans', verdana, arial, sans-serif; font-size: 12px; fill: rgb(42, 63, 95); fill-opacity: 1; white-space: pre; opacity: 1;\" transform=\"translate(0,307.24)\">400</text></g><g class=\"ycbcoloraxistick\"><text text-anchor=\"start\" x=\"707.9\" y=\"4.199999999999999\" style=\"font-family: 'Open Sans', verdana, arial, sans-serif; font-size: 12px; fill: rgb(42, 63, 95); fill-opacity: 1; white-space: pre; opacity: 1;\" transform=\"translate(0,256.55000000000007)\">500</text></g><g class=\"ycbcoloraxistick\"><text text-anchor=\"start\" x=\"707.9\" y=\"4.199999999999999\" style=\"font-family: 'Open Sans', verdana, arial, sans-serif; font-size: 12px; fill: rgb(42, 63, 95); fill-opacity: 1; white-space: pre; opacity: 1;\" transform=\"translate(0,205.86)\">600</text></g><g class=\"ycbcoloraxistick\"><text text-anchor=\"start\" x=\"707.9\" y=\"4.199999999999999\" style=\"font-family: 'Open Sans', verdana, arial, sans-serif; font-size: 12px; fill: rgb(42, 63, 95); fill-opacity: 1; white-space: pre; opacity: 1;\" transform=\"translate(0,155.17000000000002)\">700</text></g><g class=\"ycbcoloraxistick\"><text text-anchor=\"start\" x=\"707.9\" y=\"4.199999999999999\" style=\"font-family: 'Open Sans', verdana, arial, sans-serif; font-size: 12px; fill: rgb(42, 63, 95); fill-opacity: 1; white-space: pre; opacity: 1;\" transform=\"translate(0,104.48000000000003)\">800</text></g></g><g class=\"cbtitleunshift\" transform=\"translate(-80,-60)\"><g class=\"cbtitle\" transform=\"\"><text class=\"ycbcoloraxistitle\" x=\"755.04\" y=\"83.5\" text-anchor=\"start\" style=\"font-family: 'Open Sans', verdana, arial, sans-serif; font-size: 14px; fill: rgb(42, 63, 95); opacity: 1; white-space: pre;\">total_orders_cost</text></g></g><rect class=\"cboutline\" x=\"675\" y=\"32\" width=\"30\" height=\"418\" style=\"stroke: rgb(68, 68, 68); stroke-opacity: 1; fill: none; stroke-width: 0;\"/></g><g class=\"g-gtitle\"/></g></svg>"
      ]
     },
     "metadata": {},
     "output_type": "display_data"
    }
   ],
   "source": [
    "max_range_color = df_RFM.groupby('RM_segment')['total_orders_cost'].mean().max()\n",
    "\n",
    "# Создание столбца с процентами\n",
    "df_RFM['percentages'] = (df_RFM.groupby('RM_segment')['total_orders_cost']\n",
    "                         .transform(lambda x: (x - x.min()) / (x.max() - x.min()) * 100))\n",
    "\n",
    "# Использование custom_data для отображения процентов в названиях прямоугольников\n",
    "fig = px.treemap(df_RFM, path=[px.Constant('RM_segment'), 'RM_segment'], \n",
    "                 color='total_orders_cost', custom_data=['percentages'],\n",
    "                 color_continuous_scale='Spectral_r', \n",
    "                 color_continuous_midpoint=df_RFM.total_orders_cost.mean(),\n",
    "                 range_color=[0, max_range_color])\n",
    "\n",
    "fig.update_traces(textinfo=\"label+percent entry\")\n",
    "\n",
    "# Чтобы график отображался на GitHub\n",
    "fig.update_layout(\n",
    "    width=900,\n",
    "    height=600\n",
    ")\n",
    "\n",
    "fig.show('svg')"
   ]
  },
  {
   "cell_type": "markdown",
   "id": "09a64fd3",
   "metadata": {},
   "source": [
    "В заключении посмотрим сколько денег в процентах принёс нам каждый из сегментов"
   ]
  },
  {
   "cell_type": "code",
   "execution_count": 172,
   "id": "50d23a20",
   "metadata": {
    "scrolled": true
   },
   "outputs": [],
   "source": [
    "RM_percent_cost = df_RFM.groupby('RM_segment').agg({'total_orders_cost' :'sum'}).reset_index()\n",
    "RM_percent_cost['total_orders_cost'] = RM_percent_cost \\\n",
    "    .total_orders_cost.div(RM_percent_cost.total_orders_cost.sum()).mul(100).round(2)\n",
    "RM_percent_cost = RM_percent_cost.rename(columns={'total_orders_cost': 'orders_cost_percent'})"
   ]
  },
  {
   "cell_type": "code",
   "execution_count": 173,
   "id": "2642dbef",
   "metadata": {},
   "outputs": [
    {
     "data": {
      "image/svg+xml": [
       "<svg class=\"main-svg\" xmlns=\"http://www.w3.org/2000/svg\" xmlns:xlink=\"http://www.w3.org/1999/xlink\" width=\"900\" height=\"600\" style=\"\" viewBox=\"0 0 900 600\"><rect x=\"0\" y=\"0\" width=\"900\" height=\"600\" style=\"fill: rgb(255, 255, 255); fill-opacity: 1;\"/><defs id=\"defs-def4d4\"><g class=\"clips\"><clipPath id=\"clipdef4d4xyplot\" class=\"plotclip\"><rect width=\"740\" height=\"387\"/></clipPath><clipPath class=\"axesclip\" id=\"clipdef4d4x\"><rect x=\"80\" y=\"0\" width=\"740\" height=\"600\"/></clipPath><clipPath class=\"axesclip\" id=\"clipdef4d4y\"><rect x=\"0\" y=\"60\" width=\"900\" height=\"387\"/></clipPath><clipPath class=\"axesclip\" id=\"clipdef4d4xy\"><rect x=\"80\" y=\"60\" width=\"740\" height=\"387\"/></clipPath></g><g class=\"gradients\"/><g class=\"patterns\"/></defs><g class=\"bglayer\"><rect class=\"bg\" x=\"80\" y=\"60\" width=\"740\" height=\"387\" style=\"fill: rgb(229, 236, 246); fill-opacity: 1; stroke-width: 0;\"/></g><g class=\"layer-below\"><g class=\"imagelayer\"/><g class=\"shapelayer\"/></g><g class=\"cartesianlayer\"><g class=\"subplot xy\"><g class=\"layer-subplot\"><g class=\"shapelayer\"/><g class=\"imagelayer\"/></g><g class=\"minor-gridlayer\"><g class=\"x\"/><g class=\"y\"/></g><g class=\"gridlayer\"><g class=\"x\"/><g class=\"y\"><path class=\"ygrid crisp\" transform=\"translate(0,391.46)\" d=\"M80,0h740\" style=\"stroke: rgb(255, 255, 255); stroke-opacity: 1; stroke-width: 1px;\"/><path class=\"ygrid crisp\" transform=\"translate(0,335.93)\" d=\"M80,0h740\" style=\"stroke: rgb(255, 255, 255); stroke-opacity: 1; stroke-width: 1px;\"/><path class=\"ygrid crisp\" transform=\"translate(0,280.39)\" d=\"M80,0h740\" style=\"stroke: rgb(255, 255, 255); stroke-opacity: 1; stroke-width: 1px;\"/><path class=\"ygrid crisp\" transform=\"translate(0,224.85)\" d=\"M80,0h740\" style=\"stroke: rgb(255, 255, 255); stroke-opacity: 1; stroke-width: 1px;\"/><path class=\"ygrid crisp\" transform=\"translate(0,169.32)\" d=\"M80,0h740\" style=\"stroke: rgb(255, 255, 255); stroke-opacity: 1; stroke-width: 1px;\"/><path class=\"ygrid crisp\" transform=\"translate(0,113.78)\" d=\"M80,0h740\" style=\"stroke: rgb(255, 255, 255); stroke-opacity: 1; stroke-width: 1px;\"/></g></g><g class=\"zerolinelayer\"><path class=\"yzl zl crisp\" transform=\"translate(0,447)\" d=\"M80,0h740\" style=\"stroke: rgb(255, 255, 255); stroke-opacity: 1; stroke-width: 2px;\"/></g><g class=\"layer-between\"><g class=\"shapelayer\"/><g class=\"imagelayer\"/></g><path class=\"xlines-below\"/><path class=\"ylines-below\"/><g class=\"overlines-below\"/><g class=\"xaxislayer-below\"/><g class=\"yaxislayer-below\"/><g class=\"overaxes-below\"/><g class=\"plot\" transform=\"translate(80,60)\" clip-path=\"url(#clipdef4d4xyplot)\"><g class=\"barlayer mlayer\"><g class=\"trace bars\" style=\"opacity: 1;\"><g class=\"points\"><g class=\"point\"><path d=\"M12.33,387V151.86H111V387Z\" style=\"vector-effect: none; opacity: 1; stroke-width: 0.5px; fill: rgb(99, 110, 250); fill-opacity: 1; stroke: rgb(229, 236, 246); stroke-opacity: 1;\"/></g></g></g><g class=\"trace bars\" style=\"opacity: 1;\"><g class=\"points\"><g class=\"point\"><path d=\"M135.67,387V204.84H234.33V387Z\" style=\"vector-effect: none; opacity: 1; stroke-width: 0.5px; fill: rgb(239, 85, 59); fill-opacity: 1; stroke: rgb(229, 236, 246); stroke-opacity: 1;\"/></g></g></g><g class=\"trace bars\" style=\"opacity: 1;\"><g class=\"points\"><g class=\"point\"><path d=\"M259,387V19.35H357.67V387Z\" style=\"vector-effect: none; opacity: 1; stroke-width: 0.5px; fill: rgb(0, 204, 150); fill-opacity: 1; stroke: rgb(229, 236, 246); stroke-opacity: 1;\"/></g></g></g><g class=\"trace bars\" style=\"opacity: 1;\"><g class=\"points\"><g class=\"point\"><path d=\"M382.33,387V167.74H481V387Z\" style=\"vector-effect: none; opacity: 1; stroke-width: 0.5px; fill: rgb(171, 99, 250); fill-opacity: 1; stroke: rgb(229, 236, 246); stroke-opacity: 1;\"/></g></g></g><g class=\"trace bars\" style=\"opacity: 1;\"><g class=\"points\"><g class=\"point\"><path d=\"M505.67,387V295.14H604.33V387Z\" style=\"vector-effect: none; opacity: 1; stroke-width: 0.5px; fill: rgb(255, 161, 90); fill-opacity: 1; stroke: rgb(229, 236, 246); stroke-opacity: 1;\"/></g></g></g><g class=\"trace bars\" style=\"opacity: 1;\"><g class=\"points\"><g class=\"point\"><path d=\"M629,387V372.34H727.67V387Z\" style=\"vector-effect: none; opacity: 1; stroke-width: 0.5px; fill: rgb(25, 211, 243); fill-opacity: 1; stroke: rgb(229, 236, 246); stroke-opacity: 1;\"/></g></g></g></g></g><g class=\"overplot\"/><path class=\"xlines-above crisp\" d=\"M0,0\" style=\"fill: none;\"/><path class=\"ylines-above crisp\" d=\"M0,0\" style=\"fill: none;\"/><g class=\"overlines-above\"/><g class=\"xaxislayer-above\"><g class=\"xtick\"><text text-anchor=\"end\" x=\"0\" y=\"460\" transform=\"translate(141.67000000000002,0) rotate(-45,0,454)\" style=\"font-family: 'Open Sans', verdana, arial, sans-serif; font-size: 12px; fill: rgb(42, 63, 95); fill-opacity: 1; white-space: pre; opacity: 1;\">Вернуть любой ценой</text></g><g class=\"xtick\"><text text-anchor=\"end\" x=\"0\" y=\"460\" transform=\"translate(265,0) rotate(-45,0,454)\" style=\"font-family: 'Open Sans', verdana, arial, sans-serif; font-size: 12px; fill: rgb(42, 63, 95); fill-opacity: 1; white-space: pre; opacity: 1;\">Лучшие покупатели</text></g><g class=\"xtick\"><text text-anchor=\"end\" x=\"0\" y=\"460\" transform=\"translate(388.33,0) rotate(-45,0,454)\" style=\"font-family: 'Open Sans', verdana, arial, sans-serif; font-size: 12px; fill: rgb(42, 63, 95); fill-opacity: 1; white-space: pre; opacity: 1;\">Напомнить о себе</text></g><g class=\"xtick\"><text text-anchor=\"end\" x=\"0\" y=\"460\" transform=\"translate(511.67,0) rotate(-45,0,454)\" style=\"font-family: 'Open Sans', verdana, arial, sans-serif; font-size: 12px; fill: rgb(42, 63, 95); fill-opacity: 1; white-space: pre; opacity: 1;\">Нет потенциала</text></g><g class=\"xtick\"><text text-anchor=\"end\" x=\"0\" y=\"460\" transform=\"translate(635,0) rotate(-45,0,454)\" style=\"font-family: 'Open Sans', verdana, arial, sans-serif; font-size: 12px; fill: rgb(42, 63, 95); fill-opacity: 1; white-space: pre; opacity: 1;\">Поднять Retention</text></g><g class=\"xtick\"><text text-anchor=\"end\" x=\"0\" y=\"460\" transform=\"translate(758.33,0) rotate(-45,0,454)\" style=\"font-family: 'Open Sans', verdana, arial, sans-serif; font-size: 12px; fill: rgb(42, 63, 95); fill-opacity: 1; white-space: pre; opacity: 1;\">Увеличить средний чек</text></g></g><g class=\"yaxislayer-above\"><g class=\"ytick\"><text text-anchor=\"end\" x=\"79\" y=\"4.199999999999999\" transform=\"translate(0,447)\" style=\"font-family: 'Open Sans', verdana, arial, sans-serif; font-size: 12px; fill: rgb(42, 63, 95); fill-opacity: 1; white-space: pre; opacity: 1;\">0</text></g><g class=\"ytick\"><text text-anchor=\"end\" x=\"79\" y=\"4.199999999999999\" style=\"font-family: 'Open Sans', verdana, arial, sans-serif; font-size: 12px; fill: rgb(42, 63, 95); fill-opacity: 1; white-space: pre; opacity: 1;\" transform=\"translate(0,391.46)\">5</text></g><g class=\"ytick\"><text text-anchor=\"end\" x=\"79\" y=\"4.199999999999999\" style=\"font-family: 'Open Sans', verdana, arial, sans-serif; font-size: 12px; fill: rgb(42, 63, 95); fill-opacity: 1; white-space: pre; opacity: 1;\" transform=\"translate(0,335.93)\">10</text></g><g class=\"ytick\"><text text-anchor=\"end\" x=\"79\" y=\"4.199999999999999\" style=\"font-family: 'Open Sans', verdana, arial, sans-serif; font-size: 12px; fill: rgb(42, 63, 95); fill-opacity: 1; white-space: pre; opacity: 1;\" transform=\"translate(0,280.39)\">15</text></g><g class=\"ytick\"><text text-anchor=\"end\" x=\"79\" y=\"4.199999999999999\" style=\"font-family: 'Open Sans', verdana, arial, sans-serif; font-size: 12px; fill: rgb(42, 63, 95); fill-opacity: 1; white-space: pre; opacity: 1;\" transform=\"translate(0,224.85)\">20</text></g><g class=\"ytick\"><text text-anchor=\"end\" x=\"79\" y=\"4.199999999999999\" style=\"font-family: 'Open Sans', verdana, arial, sans-serif; font-size: 12px; fill: rgb(42, 63, 95); fill-opacity: 1; white-space: pre; opacity: 1;\" transform=\"translate(0,169.32)\">25</text></g><g class=\"ytick\"><text text-anchor=\"end\" x=\"79\" y=\"4.199999999999999\" style=\"font-family: 'Open Sans', verdana, arial, sans-serif; font-size: 12px; fill: rgb(42, 63, 95); fill-opacity: 1; white-space: pre; opacity: 1;\" transform=\"translate(0,113.78)\">30</text></g></g><g class=\"overaxes-above\"/></g></g><g class=\"polarlayer\"/><g class=\"smithlayer\"/><g class=\"ternarylayer\"/><g class=\"geolayer\"/><g class=\"funnelarealayer\"/><g class=\"pielayer\"/><g class=\"iciclelayer\"/><g class=\"treemaplayer\"/><g class=\"sunburstlayer\"/><g class=\"glimages\"/><defs id=\"topdefs-def4d4\"><g class=\"clips\"/></defs><g class=\"layer-above\"><g class=\"imagelayer\"/><g class=\"shapelayer\"/></g><g class=\"infolayer\"><g class=\"g-gtitle\"/><g class=\"g-xtitle\"><text class=\"xtitle\" x=\"450\" y=\"587.5587890625\" text-anchor=\"middle\" style=\"font-family: 'Open Sans', verdana, arial, sans-serif; font-size: 14px; fill: rgb(42, 63, 95); opacity: 1; white-space: pre;\">Сегмент RM</text></g><g class=\"g-ytitle\"><text class=\"ytitle\" transform=\"rotate(-90,44.334375,253.5)\" x=\"44.334375\" y=\"253.5\" text-anchor=\"middle\" style=\"font-family: 'Open Sans', verdana, arial, sans-serif; font-size: 14px; fill: rgb(42, 63, 95); opacity: 1; white-space: pre;\">Процент от общей стоимости заказов</text></g></g></svg>"
      ]
     },
     "metadata": {},
     "output_type": "display_data"
    }
   ],
   "source": [
    "fig = px.bar(RM_percent_cost, x='RM_segment', y='orders_cost_percent', color='RM_segment')\n",
    "fig.update_traces(showlegend=False)\n",
    "fig.update_layout(xaxis_tickangle=-45, xaxis_title='Сегмент RM',\n",
    "                  yaxis_title='Процент от общей стоимости заказов')\n",
    "\n",
    "fig.update_layout(\n",
    "    width=900,\n",
    "    height=600\n",
    ")\n",
    "fig.show('svg')"
   ]
  },
  {
   "cell_type": "markdown",
   "id": "a94a31f5",
   "metadata": {},
   "source": [
    "### Вывод\n",
    "\n",
    "- У магазина очень низкий Retention — большинство наших юзеров отваливаются после 1 покупки\n",
    "- Ушли 4% «китов», которых нам бы очень хотелось вернуть\n",
    "- Более-менее активная аудитория у нас составляет 25% от числа всех пользователей. 13% из них уже активно остывают и только 6% пока сохраняют реальный интерес\n",
    "- Магазин живёт за счёт оптовых продаж — 37,5% выручки нам принесли сегменты *Вернуть любой ценой* и *Лучшие покупатели*, а это всего 10% юзеров\n",
    "- Сегмент *Напомнить о себе*, численностью 27%, принёс нам 1/3 всех денег — нужно обратить особое внимание на этих юзеров\n",
    "\n",
    "#### Action items\n",
    "- Для всей площадки в целом необходимо развить механики, которые будут стимулировать систематические заказы, чтобы увеличить Retention\n",
    "- Поскольку у нас много покупателей, которые покупают оптом, то можно предлагать им скидки, пропорциональные объёмам закупок\n",
    "- Нужно запусть мощную компанию по возврату пользователей, потому что у нас больше половины выручки принесли уже остывшие или остывающие юзеры\n"
   ]
  }
 ],
 "metadata": {
  "kernelspec": {
   "display_name": "Python 3 (ipykernel)",
   "language": "python",
   "name": "python3"
  },
  "language_info": {
   "codemirror_mode": {
    "name": "ipython",
    "version": 3
   },
   "file_extension": ".py",
   "mimetype": "text/x-python",
   "name": "python",
   "nbconvert_exporter": "python",
   "pygments_lexer": "ipython3",
   "version": "3.11.8"
  },
  "toc-showtags": false
 },
 "nbformat": 4,
 "nbformat_minor": 5
}
